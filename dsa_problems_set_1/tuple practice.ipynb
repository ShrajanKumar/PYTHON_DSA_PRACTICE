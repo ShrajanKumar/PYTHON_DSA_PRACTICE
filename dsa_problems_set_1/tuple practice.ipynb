{
 "cells": [
  {
   "cell_type": "markdown",
   "id": "4e4176f8",
   "metadata": {},
   "source": [
    "#### Find length of tuple."
   ]
  },
  {
   "cell_type": "code",
   "execution_count": 1,
   "id": "1b78548b",
   "metadata": {},
   "outputs": [],
   "source": [
    "Tuple1 = (\"A\", 1, \"B\", 2, \"C\", 3)"
   ]
  },
  {
   "cell_type": "code",
   "execution_count": 3,
   "id": "0777c248",
   "metadata": {},
   "outputs": [
    {
     "data": {
      "text/plain": [
       "6"
      ]
     },
     "execution_count": 3,
     "metadata": {},
     "output_type": "execute_result"
    }
   ],
   "source": [
    "len(Tuple1)"
   ]
  },
  {
   "cell_type": "code",
   "execution_count": 4,
   "id": "35831c2d",
   "metadata": {},
   "outputs": [
    {
     "data": {
      "text/plain": [
       "6"
      ]
     },
     "execution_count": 4,
     "metadata": {},
     "output_type": "execute_result"
    }
   ],
   "source": [
    "len_=0\n",
    "for i in Tuple1:\n",
    "    len_+=1\n",
    "    \n",
    "len_"
   ]
  },
  {
   "cell_type": "code",
   "execution_count": 7,
   "id": "f264e4b6",
   "metadata": {},
   "outputs": [
    {
     "data": {
      "text/plain": [
       "6"
      ]
     },
     "execution_count": 7,
     "metadata": {},
     "output_type": "execute_result"
    }
   ],
   "source": [
    "from functools import reduce\n",
    "reduce(lambda x,y:x+1,Tuple1,0)"
   ]
  },
  {
   "cell_type": "code",
   "execution_count": null,
   "id": "c584b3a4",
   "metadata": {},
   "outputs": [],
   "source": []
  },
  {
   "cell_type": "markdown",
   "id": "20bdef8b",
   "metadata": {},
   "source": [
    "#### Maximum and Minimum K elements in Tuple"
   ]
  },
  {
   "cell_type": "markdown",
   "id": "8237312e",
   "metadata": {},
   "source": [
    "except minimum k element and maximum k element remove other things."
   ]
  },
  {
   "cell_type": "code",
   "execution_count": 19,
   "id": "03dc0781",
   "metadata": {},
   "outputs": [],
   "source": [
    "test_tup = (3, 7, 1, 18, 9) \n",
    "#k = 2 \n",
    "#Output : (3, 1, 9, 18)\n",
    "\n",
    "test_tup1 = (3, 7, 1) \n",
    "#k=1 \n",
    "Output : (1, 7) "
   ]
  },
  {
   "cell_type": "code",
   "execution_count": null,
   "id": "d0c72bca",
   "metadata": {},
   "outputs": [],
   "source": []
  },
  {
   "cell_type": "code",
   "execution_count": 20,
   "id": "10a04905",
   "metadata": {},
   "outputs": [
    {
     "data": {
      "text/plain": [
       "(1, 3, 9, 18)"
      ]
     },
     "execution_count": 20,
     "metadata": {},
     "output_type": "execute_result"
    }
   ],
   "source": [
    "def min_max(inpt,k):\n",
    "    srtd=sorted(inpt)\n",
    "    out=[]\n",
    "    for i in range(k):\n",
    "        out.insert(i,srtd[i])\n",
    "        out.insert(i+1,srtd[-i-1])\n",
    "    return tuple(out)\n",
    "\n",
    "min_max(test_tup,2)"
   ]
  },
  {
   "cell_type": "code",
   "execution_count": 21,
   "id": "d111ff3f",
   "metadata": {},
   "outputs": [
    {
     "data": {
      "text/plain": [
       "(1, 7)"
      ]
     },
     "execution_count": 21,
     "metadata": {},
     "output_type": "execute_result"
    }
   ],
   "source": [
    "min_max(test_tup1,1)"
   ]
  },
  {
   "cell_type": "code",
   "execution_count": 22,
   "id": "9daf9a7c",
   "metadata": {},
   "outputs": [
    {
     "data": {
      "text/plain": [
       "(1, 3, 9, 18)"
      ]
     },
     "execution_count": 22,
     "metadata": {},
     "output_type": "execute_result"
    }
   ],
   "source": [
    "#using slicing technique\n",
    "\n",
    "def min_max_1(inpt,k):\n",
    "    srtd=sorted(inpt)\n",
    "    return tuple(srtd[:k]+srtd[-k:])\n",
    "min_max_1(test_tup,2)"
   ]
  },
  {
   "cell_type": "code",
   "execution_count": 23,
   "id": "fae13b1f",
   "metadata": {},
   "outputs": [
    {
     "data": {
      "text/plain": [
       "(1, 7)"
      ]
     },
     "execution_count": 23,
     "metadata": {},
     "output_type": "execute_result"
    }
   ],
   "source": [
    "min_max_1(test_tup1,1)"
   ]
  },
  {
   "cell_type": "code",
   "execution_count": null,
   "id": "e193a5e8",
   "metadata": {},
   "outputs": [],
   "source": []
  },
  {
   "cell_type": "code",
   "execution_count": 6,
   "id": "80b8bdb0",
   "metadata": {},
   "outputs": [
    {
     "data": {
      "text/plain": [
       "(1, 3, 18, 9)"
      ]
     },
     "execution_count": 6,
     "metadata": {},
     "output_type": "execute_result"
    }
   ],
   "source": [
    "import heapq\n",
    "\n",
    "def min_max2(inpt,k):\n",
    "    out=heapq.nsmallest(k,inpt)+heapq.nlargest(k,inpt)\n",
    "    return tuple(out)\n",
    "\n",
    "\n",
    "#input\n",
    "test_tup = (3, 7, 1, 18, 9) \n",
    "#k = 2 \n",
    "#Output : (1,3,9,18)\n",
    "\n",
    "\n",
    "min_max2(test_tup,2)"
   ]
  },
  {
   "cell_type": "code",
   "execution_count": null,
   "id": "692a90c5",
   "metadata": {},
   "outputs": [],
   "source": []
  },
  {
   "cell_type": "markdown",
   "id": "69776c54",
   "metadata": {},
   "source": [
    "#### Python program to create a list of tuples from given list having number and its cube in each tuple"
   ]
  },
  {
   "cell_type": "code",
   "execution_count": 7,
   "id": "384349c3",
   "metadata": {},
   "outputs": [],
   "source": [
    "inpt=[1,2,3,4]\n",
    "\n",
    "#output=[(1,1),(2,8),(3,27),(4,64)]"
   ]
  },
  {
   "cell_type": "code",
   "execution_count": 11,
   "id": "5f8c5e3a",
   "metadata": {},
   "outputs": [
    {
     "data": {
      "text/plain": [
       "[(1, 1), (2, 8), (3, 27), (4, 64)]"
      ]
     },
     "execution_count": 11,
     "metadata": {},
     "output_type": "execute_result"
    }
   ],
   "source": [
    "#using list comprehension\n",
    "\n",
    "[(i,i**3) for i in inpt]"
   ]
  },
  {
   "cell_type": "code",
   "execution_count": 12,
   "id": "ef8ae9ab",
   "metadata": {},
   "outputs": [
    {
     "data": {
      "text/plain": [
       "[(1, 1), (2, 8), (3, 27), (4, 64)]"
      ]
     },
     "execution_count": 12,
     "metadata": {},
     "output_type": "execute_result"
    }
   ],
   "source": [
    "out=[]\n",
    "for i in inpt:\n",
    "    out.append((i,i**3))    \n",
    "out    "
   ]
  },
  {
   "cell_type": "code",
   "execution_count": null,
   "id": "4ef337f1",
   "metadata": {},
   "outputs": [],
   "source": []
  },
  {
   "cell_type": "code",
   "execution_count": 14,
   "id": "3edbabaa",
   "metadata": {},
   "outputs": [
    {
     "data": {
      "text/plain": [
       "[(1, 1), (2, 8), (3, 27), (4, 64)]"
      ]
     },
     "execution_count": 14,
     "metadata": {},
     "output_type": "execute_result"
    }
   ],
   "source": [
    "#using map and lambda\n",
    "def cube(inpt):\n",
    "    out=list(map(lambda x:(x,x**3),inpt))\n",
    "    return out\n",
    "\n",
    "cube(inpt)"
   ]
  },
  {
   "cell_type": "code",
   "execution_count": 23,
   "id": "6ce6633d",
   "metadata": {},
   "outputs": [
    {
     "data": {
      "text/plain": [
       "[(1, 1), (2, 8), (3, 27), (4, 64)]"
      ]
     },
     "execution_count": 23,
     "metadata": {},
     "output_type": "execute_result"
    }
   ],
   "source": [
    "#using recursion\n",
    "\n",
    "def cube1(inpt):\n",
    "    if inpt:\n",
    "        return [(inpt[0],inpt[0]**3)]+cube1(inpt[1:])\n",
    "    else:\n",
    "        return []\n",
    "cube1(inpt)"
   ]
  },
  {
   "cell_type": "code",
   "execution_count": null,
   "id": "1e51fbb5",
   "metadata": {},
   "outputs": [],
   "source": []
  },
  {
   "cell_type": "markdown",
   "id": "dfbb0be3",
   "metadata": {},
   "source": [
    "#### Adding Tuple to List and vice – versa."
   ]
  },
  {
   "cell_type": "code",
   "execution_count": 35,
   "id": "6c8041e5",
   "metadata": {},
   "outputs": [],
   "source": [
    "lst=[5,6,7]\n",
    "tup=tuple((8,9))\n",
    "\n",
    "#add tuple to list and list to tuple"
   ]
  },
  {
   "cell_type": "code",
   "execution_count": 36,
   "id": "740e3c3c",
   "metadata": {},
   "outputs": [
    {
     "data": {
      "text/plain": [
       "[5, 6, 7, 8, 9]"
      ]
     },
     "execution_count": 36,
     "metadata": {},
     "output_type": "execute_result"
    }
   ],
   "source": [
    "#direct concatenation\n",
    "#adding tuple to list\n",
    "a=lst+list(tup)\n",
    "a"
   ]
  },
  {
   "cell_type": "code",
   "execution_count": 42,
   "id": "2667f67a",
   "metadata": {},
   "outputs": [
    {
     "data": {
      "text/plain": [
       "(8, 9, 5, 6, 7)"
      ]
     },
     "execution_count": 42,
     "metadata": {},
     "output_type": "execute_result"
    }
   ],
   "source": [
    "#ading list to tuple\n",
    "a=tup+(*lst,)\n",
    "a"
   ]
  },
  {
   "cell_type": "code",
   "execution_count": null,
   "id": "ef30667a",
   "metadata": {},
   "outputs": [],
   "source": []
  },
  {
   "cell_type": "code",
   "execution_count": 45,
   "id": "62083b70",
   "metadata": {},
   "outputs": [
    {
     "data": {
      "text/plain": [
       "[5, 6, 7, 8, 9]"
      ]
     },
     "execution_count": 45,
     "metadata": {},
     "output_type": "execute_result"
    }
   ],
   "source": [
    "#using itertools chain method\n",
    "\n",
    "import itertools\n",
    "\n",
    "list(itertools.chain(lst,tup))  #adding tuple to list"
   ]
  },
  {
   "cell_type": "code",
   "execution_count": 47,
   "id": "c81464fa",
   "metadata": {},
   "outputs": [
    {
     "data": {
      "text/plain": [
       "(8, 9, 5, 6, 7)"
      ]
     },
     "execution_count": 47,
     "metadata": {},
     "output_type": "execute_result"
    }
   ],
   "source": [
    "tuple(itertools.chain(tup,lst))"
   ]
  },
  {
   "cell_type": "code",
   "execution_count": null,
   "id": "7115cc26",
   "metadata": {},
   "outputs": [],
   "source": []
  },
  {
   "cell_type": "code",
   "execution_count": 63,
   "id": "abc05593",
   "metadata": {},
   "outputs": [
    {
     "data": {
      "text/plain": [
       "[5, 6, 7, 8, 9]"
      ]
     },
     "execution_count": 63,
     "metadata": {},
     "output_type": "execute_result"
    }
   ],
   "source": [
    "lst=[5,6,7]\n",
    "tup=tuple((8,9))\n",
    "\n",
    "#using extend\n",
    "lst.extend(list(tup))\n",
    "lst"
   ]
  },
  {
   "cell_type": "code",
   "execution_count": 67,
   "id": "eed27137",
   "metadata": {},
   "outputs": [
    {
     "data": {
      "text/plain": [
       "(8, 9, 5, 6, 7)"
      ]
     },
     "execution_count": 67,
     "metadata": {},
     "output_type": "execute_result"
    }
   ],
   "source": [
    "lst=[5,6,7]\n",
    "tup=tuple((8,9))\n",
    "b=list(tup)\n",
    "b.extend(lst)\n",
    "tuple(b)"
   ]
  },
  {
   "cell_type": "code",
   "execution_count": null,
   "id": "d176f27e",
   "metadata": {},
   "outputs": [],
   "source": []
  },
  {
   "cell_type": "markdown",
   "id": "d94cbee6",
   "metadata": {},
   "source": [
    "#### Closest Pair to Kth index element in Tuple."
   ]
  },
  {
   "cell_type": "code",
   "execution_count": 11,
   "id": "be69fd56",
   "metadata": {},
   "outputs": [],
   "source": [
    "test_list = [(3, 4), (78, 76), (2, 3), (9, 8), (19, 25)] \n",
    "tup = (17, 23)  #tuple for which we need to find closest\n",
    "k = 2   #position\n",
    "#Output : (19, 23) in tup 2nd postn is 23 in test_list tuple we want to find a element in second \n",
    "#position of tuples which is colest to one in tup"
   ]
  },
  {
   "cell_type": "code",
   "execution_count": 12,
   "id": "e1a42875",
   "metadata": {},
   "outputs": [
    {
     "data": {
      "text/plain": [
       "(19, 25)"
      ]
     },
     "execution_count": 12,
     "metadata": {},
     "output_type": "execute_result"
    }
   ],
   "source": [
    "def closest(test,tup,k):\n",
    "    tup_=tup[k-1]\n",
    "    dif,indx=abs(test[0][k-1]-tup_),0\n",
    "    for index,val in enumerate(test):\n",
    "        if abs(val[k-1]-tup_)<=dif:\n",
    "            dif,indx=abs(val[k-1]-tup_),index\n",
    "    return test[indx]\n",
    "\n",
    "closest(test_list,tup,k)\n",
    "        "
   ]
  },
  {
   "cell_type": "code",
   "execution_count": 13,
   "id": "2fc82f6a",
   "metadata": {},
   "outputs": [
    {
     "data": {
      "text/plain": [
       "(5, 6, 7)"
      ]
     },
     "execution_count": 13,
     "metadata": {},
     "output_type": "execute_result"
    }
   ],
   "source": [
    "test_list = [(3, 4, 9), (5, 6, 7)] \n",
    "tup = (1, 2, 5) \n",
    "k= 3 \n",
    "#Output : (5, 6, 7)\n",
    "\n",
    "closest(test_list,tup,k)"
   ]
  },
  {
   "cell_type": "code",
   "execution_count": 14,
   "id": "0f25a9ec",
   "metadata": {},
   "outputs": [
    {
     "data": {
      "text/plain": [
       "(3, 4)"
      ]
     },
     "execution_count": 14,
     "metadata": {},
     "output_type": "execute_result"
    }
   ],
   "source": [
    "test_list = [(3, 4), (78, 76), (2, 223), (9, 228), (19, 225)] \n",
    "tup = (17, 23)  #tuple for which we need to find closest\n",
    "k = 2\n",
    "closest(test_list,tup,k)"
   ]
  },
  {
   "cell_type": "code",
   "execution_count": 15,
   "id": "be051236",
   "metadata": {},
   "outputs": [
    {
     "data": {
      "text/plain": [
       "(3, 4)"
      ]
     },
     "execution_count": 15,
     "metadata": {},
     "output_type": "execute_result"
    }
   ],
   "source": [
    "#using min\n",
    "\n",
    "def close_pair(test_list,tup,k):\n",
    "    return min(test_list,key=lambda x: abs(x[k-1]-tup[k-1]))\n",
    "\n",
    "close_pair(test_list,tup,k)"
   ]
  },
  {
   "cell_type": "code",
   "execution_count": 16,
   "id": "19ec1143",
   "metadata": {},
   "outputs": [
    {
     "data": {
      "text/plain": [
       "(19, 25)"
      ]
     },
     "execution_count": 16,
     "metadata": {},
     "output_type": "execute_result"
    }
   ],
   "source": [
    "test_list = [(3, 4), (78, 76), (2, 3), (9, 8), (19, 25)] \n",
    "tup = (17, 23)  \n",
    "k = 2  \n",
    "\n",
    "close_pair(test_list,tup,k)"
   ]
  },
  {
   "cell_type": "code",
   "execution_count": null,
   "id": "9a35d283",
   "metadata": {},
   "outputs": [],
   "source": []
  },
  {
   "cell_type": "code",
   "execution_count": 21,
   "id": "59e554b1",
   "metadata": {},
   "outputs": [
    {
     "data": {
      "text/plain": [
       "[(19, 25)]"
      ]
     },
     "execution_count": 21,
     "metadata": {},
     "output_type": "execute_result"
    }
   ],
   "source": [
    "#using heapq\n",
    "test_list = [(3, 4), (78, 76), (2, 3), (9, 8), (19, 25)] \n",
    "tup = (17, 23)  \n",
    "k = 2 \n",
    "\n",
    "\n",
    "import heapq\n",
    "\n",
    "heapq.nsmallest(1,test_list,key=lambda x:abs(x[k-1]-tup[k-1]))"
   ]
  },
  {
   "cell_type": "code",
   "execution_count": null,
   "id": "f521c62c",
   "metadata": {},
   "outputs": [],
   "source": []
  },
  {
   "cell_type": "code",
   "execution_count": 24,
   "id": "e5077836",
   "metadata": {},
   "outputs": [
    {
     "data": {
      "text/plain": [
       "(19, 25)"
      ]
     },
     "execution_count": 24,
     "metadata": {},
     "output_type": "execute_result"
    }
   ],
   "source": [
    "# using sorted\n",
    "\n",
    "def min_(inpt):\n",
    "    return abs(inpt[k-1]-tup[k-1])\n",
    "sorted(test_list,key=lambda x:min_(x))[0]"
   ]
  },
  {
   "cell_type": "code",
   "execution_count": null,
   "id": "32e18952",
   "metadata": {},
   "outputs": [],
   "source": []
  },
  {
   "cell_type": "markdown",
   "id": "d72f7187",
   "metadata": {},
   "source": [
    "####  Join Tuples if similar initial element"
   ]
  },
  {
   "cell_type": "code",
   "execution_count": 25,
   "id": "ac9e3dcb",
   "metadata": {},
   "outputs": [],
   "source": [
    "test_list = [(5, 6), (5, 7), (5, 8), (6, 10), (7, 13)]   #input\n",
    "\n",
    "#Output : [(5, 6, 7, 8), (6, 10), (7, 13)] "
   ]
  },
  {
   "cell_type": "code",
   "execution_count": 32,
   "id": "a7e53429",
   "metadata": {},
   "outputs": [
    {
     "data": {
      "text/plain": [
       "[(5, 6, 7, 8), (6, 10), (7, 13)]"
      ]
     },
     "execution_count": 32,
     "metadata": {},
     "output_type": "execute_result"
    }
   ],
   "source": [
    "def join(inpt):\n",
    "    out=[]\n",
    "    first=[]\n",
    "    for ind,i in enumerate(test_list):\n",
    "        if i[0] not in first:\n",
    "            first.append(i[0])\n",
    "            temp=i\n",
    "            for j in test_list[ind+1:]:\n",
    "                if i[0]==j[0]:\n",
    "                    temp+=j[1:]\n",
    "            out.append(temp)\n",
    "    return out\n",
    "\n",
    "join(test_list)\n",
    "            "
   ]
  },
  {
   "cell_type": "code",
   "execution_count": null,
   "id": "ec09c280",
   "metadata": {},
   "outputs": [],
   "source": []
  },
  {
   "cell_type": "code",
   "execution_count": 33,
   "id": "78467db5",
   "metadata": {},
   "outputs": [
    {
     "data": {
      "text/plain": [
       "[(6, 3, 7, 8, 10), (5, 6), (7, 13)]"
      ]
     },
     "execution_count": 33,
     "metadata": {},
     "output_type": "execute_result"
    }
   ],
   "source": [
    "test_list = [(6,3),(5, 6), (6, 7), (6, 8), (6, 10), (7, 13)] \n",
    "#Output : [(6,3, 7, 8, 10), (5, 6),  (7, 13)]\n",
    "\n",
    "join(test_list)\n"
   ]
  },
  {
   "cell_type": "code",
   "execution_count": null,
   "id": "ce59fd71",
   "metadata": {},
   "outputs": [],
   "source": []
  },
  {
   "cell_type": "code",
   "execution_count": 24,
   "id": "13499744",
   "metadata": {},
   "outputs": [
    {
     "data": {
      "text/plain": [
       "[(6, 3, 7, 8, 10), (5, 10, 6), (7, 13)]"
      ]
     },
     "execution_count": 24,
     "metadata": {},
     "output_type": "execute_result"
    }
   ],
   "source": [
    "#using dictionary method\n",
    "from collections import defaultdict\n",
    "\n",
    "def join_(inpt):\n",
    "    out=defaultdict(list)\n",
    "    for i in inpt:\n",
    "        out[i[0]].extend(i[1:])\n",
    "    return [(key,*val) for key , val in out.items()]\n",
    "\n",
    "\n",
    "test_list = [(6,3),(5,10, 6), (6, 7), (6, 8), (6, 10), (7, 13)] \n",
    "#Output : [(6,3, 7, 8, 10), (5,10, 6),  (7, 13)]\n",
    "\n",
    "join_(test_list)"
   ]
  },
  {
   "cell_type": "code",
   "execution_count": 20,
   "id": "6f293c59",
   "metadata": {},
   "outputs": [
    {
     "data": {
      "text/plain": [
       "[(6, 3, 7, 8, 10), (5, 10, 6), (7, 13)]"
      ]
     },
     "execution_count": 20,
     "metadata": {},
     "output_type": "execute_result"
    }
   ],
   "source": [
    "def join_tuple(inpt):\n",
    "    out={}\n",
    "    for i in inpt:\n",
    "        if i[0] not in out:\n",
    "            out[i[0]]=[*i[1:]]\n",
    "        else:\n",
    "            out[i[0]].extend(list(i[1:]))\n",
    "    return [(key,*val) for key,val in out.items()]\n",
    "\n",
    "join_tuple(test_list)"
   ]
  },
  {
   "cell_type": "code",
   "execution_count": null,
   "id": "19992935",
   "metadata": {},
   "outputs": [],
   "source": []
  },
  {
   "cell_type": "markdown",
   "id": "554cdad8",
   "metadata": {},
   "source": [
    "####  Extract digits from Tuple list."
   ]
  },
  {
   "cell_type": "code",
   "execution_count": 28,
   "id": "55907db3",
   "metadata": {},
   "outputs": [],
   "source": [
    "test_list1 = [(15, 3), (3, 9)] \n",
    "\n",
    "#Output : [9, 5, 3, 1]\n",
    "\n",
    "test_list2 = [(15, 3)] \n",
    "\n",
    "#Output : [5, 3, 1] \n"
   ]
  },
  {
   "cell_type": "code",
   "execution_count": 33,
   "id": "d0adcc3a",
   "metadata": {},
   "outputs": [
    {
     "data": {
      "text/plain": [
       "[9, 5, 3, 1]"
      ]
     },
     "execution_count": 33,
     "metadata": {},
     "output_type": "execute_result"
    }
   ],
   "source": [
    "#using regex\n",
    "import regex as re\n",
    "\n",
    "def extract(inpt):\n",
    "    list_=list(map(str,inpt))\n",
    "    string=\"\".join(list_)\n",
    "    digits=re.findall('\\d',string)\n",
    "    return sorted(list(set(map(int,digits))),reverse=True)\n",
    "\n",
    "extract(test_list1)\n"
   ]
  },
  {
   "cell_type": "code",
   "execution_count": 34,
   "id": "484290f9",
   "metadata": {},
   "outputs": [
    {
     "data": {
      "text/plain": [
       "[5, 3, 1]"
      ]
     },
     "execution_count": 34,
     "metadata": {},
     "output_type": "execute_result"
    }
   ],
   "source": [
    "extract(test_list2)"
   ]
  },
  {
   "cell_type": "code",
   "execution_count": 45,
   "id": "acbb6316",
   "metadata": {},
   "outputs": [
    {
     "data": {
      "text/plain": [
       "[9, 5, 3, 1]"
      ]
     },
     "execution_count": 45,
     "metadata": {},
     "output_type": "execute_result"
    }
   ],
   "source": [
    "#using itertools chain\n",
    "\n",
    "from itertools import chain\n",
    "\n",
    "def extract(inpt):\n",
    "    flatened=map(str,chain.from_iterable(inpt))\n",
    "    set_=set()\n",
    "    for i in flatened:\n",
    "        for j in i:\n",
    "            set_.add(j)\n",
    "    return sorted(list(map(int,set_)),reverse=True)\n",
    "\n",
    "extract(test_list1)"
   ]
  },
  {
   "cell_type": "code",
   "execution_count": 46,
   "id": "937e6d5c",
   "metadata": {},
   "outputs": [
    {
     "data": {
      "text/plain": [
       "[5, 3, 1]"
      ]
     },
     "execution_count": 46,
     "metadata": {},
     "output_type": "execute_result"
    }
   ],
   "source": [
    "extract(test_list2)"
   ]
  },
  {
   "cell_type": "code",
   "execution_count": 53,
   "id": "03e3f2e2",
   "metadata": {},
   "outputs": [
    {
     "data": {
      "text/plain": [
       "[9, 5, 3, 1]"
      ]
     },
     "execution_count": 53,
     "metadata": {},
     "output_type": "execute_result"
    }
   ],
   "source": [
    "test_list1 = [(15, 3), (3, 9)] \n",
    "\n",
    "#Output : [9, 5, 3, 1]\n",
    "\n",
    "x=\"\"\n",
    "for i in test_list1:\n",
    "    for j in i:\n",
    "        x+=str(j)\n",
    "        \n",
    "sorted(list(map(int,set(x))) , reverse=True)\n"
   ]
  },
  {
   "cell_type": "code",
   "execution_count": null,
   "id": "5af89c21",
   "metadata": {},
   "outputs": [],
   "source": []
  },
  {
   "cell_type": "code",
   "execution_count": 64,
   "id": "6f1c5ba7",
   "metadata": {},
   "outputs": [
    {
     "data": {
      "text/plain": [
       "{'1', '3', '5', '9'}"
      ]
     },
     "execution_count": 64,
     "metadata": {},
     "output_type": "execute_result"
    }
   ],
   "source": [
    "#using reduce\n",
    "\n",
    "test_list1 = [(15, 3), (3, 9)] \n",
    "\n",
    "#Output : [9, 5, 3, 1]\n",
    "\n",
    "from functools import reduce\n",
    "\n",
    "a=set(reduce(lambda a,b: str(a)+str(b),tup) for tup in test_list1)\n",
    "set(i for j in a for i in j)"
   ]
  },
  {
   "cell_type": "code",
   "execution_count": null,
   "id": "af3a2ffe",
   "metadata": {},
   "outputs": [],
   "source": []
  },
  {
   "cell_type": "markdown",
   "id": "610e0942",
   "metadata": {},
   "source": [
    "####  All pair combinations of 2 tuples"
   ]
  },
  {
   "cell_type": "code",
   "execution_count": 65,
   "id": "e399f150",
   "metadata": {},
   "outputs": [],
   "source": [
    "test_tuple1 = (9, 2)\n",
    "test_tuple2 = (7, 8) \n",
    "# Output : [(9, 7), (9, 8), (2, 7), (2, 8), (7, 9), (7, 2), (8, 9), (8, 2)]"
   ]
  },
  {
   "cell_type": "code",
   "execution_count": 67,
   "id": "0c4a1e53",
   "metadata": {},
   "outputs": [
    {
     "data": {
      "text/plain": [
       "[(9, 7), (9, 8), (2, 7), (2, 8), (7, 9), (7, 2), (8, 9), (8, 2)]"
      ]
     },
     "execution_count": 67,
     "metadata": {},
     "output_type": "execute_result"
    }
   ],
   "source": [
    "def all_combination(inpt1,inpt2):\n",
    "    out=[]\n",
    "    for i in inpt1:\n",
    "        for j in inpt2:\n",
    "            out.append((i,j))\n",
    "            \n",
    "    for j in inpt2:\n",
    "        for i in inpt1:\n",
    "            out.append((j,i))\n",
    "            \n",
    "    return out\n",
    "\n",
    "all_combination(test_tuple1,test_tuple2)\n",
    "    "
   ]
  },
  {
   "cell_type": "code",
   "execution_count": null,
   "id": "27a7ad5f",
   "metadata": {},
   "outputs": [],
   "source": []
  },
  {
   "cell_type": "markdown",
   "id": "86e9b1a9",
   "metadata": {},
   "source": [
    "#### remove tuple of length k"
   ]
  },
  {
   "cell_type": "code",
   "execution_count": 69,
   "id": "a1e95ae6",
   "metadata": {},
   "outputs": [],
   "source": [
    "inpt=[(7,8,9,1),(1,),(2,3),(4,5,6)]\n",
    "k=4\n",
    "#output [(1,),(2,3),(4,5,6)]"
   ]
  },
  {
   "cell_type": "code",
   "execution_count": 71,
   "id": "560e60d0",
   "metadata": {},
   "outputs": [
    {
     "data": {
      "text/plain": [
       "[(1,), (2, 3), (4, 5, 6)]"
      ]
     },
     "execution_count": 71,
     "metadata": {},
     "output_type": "execute_result"
    }
   ],
   "source": [
    "def remove_(inpt,k):\n",
    "    for i in inpt:\n",
    "        if len(i)==k:\n",
    "            inpt.remove(i)\n",
    "    return inpt\n",
    "\n",
    "remove_(inpt,k)"
   ]
  },
  {
   "cell_type": "code",
   "execution_count": 73,
   "id": "d3ca464a",
   "metadata": {},
   "outputs": [
    {
     "data": {
      "text/plain": [
       "[(7, 8, 9, 1), (1,), (2, 3)]"
      ]
     },
     "execution_count": 73,
     "metadata": {},
     "output_type": "execute_result"
    }
   ],
   "source": [
    "inpt=[(7,8,9,1),(1,),(2,3),(4,5,6)]\n",
    "k=3\n",
    "remove_(inpt,k)"
   ]
  },
  {
   "cell_type": "code",
   "execution_count": 74,
   "id": "7d31b6a7",
   "metadata": {},
   "outputs": [
    {
     "data": {
      "text/plain": [
       "[(7, 8, 9, 1), (1,), (2, 3)]"
      ]
     },
     "execution_count": 74,
     "metadata": {},
     "output_type": "execute_result"
    }
   ],
   "source": [
    "#using filter\n",
    "inpt=[(7,8,9,1),(1,),(2,3),(4,5,6)]\n",
    "k=3\n",
    "list(filter(lambda x:len(x)!=k,inpt))"
   ]
  },
  {
   "cell_type": "code",
   "execution_count": null,
   "id": "731f151f",
   "metadata": {},
   "outputs": [],
   "source": []
  },
  {
   "cell_type": "markdown",
   "id": "46b15e14",
   "metadata": {},
   "source": [
    "#### Python program to sort a list of tuples by second Item."
   ]
  },
  {
   "cell_type": "code",
   "execution_count": 75,
   "id": "a56a241b",
   "metadata": {},
   "outputs": [],
   "source": [
    "inpt=[('for', 24), ('Ghee', 8), ('Ghee', 30)] \n",
    "\n",
    "#output [('Ghee', 8), ('for', 24), ('Ghee', 30)]"
   ]
  },
  {
   "cell_type": "code",
   "execution_count": 76,
   "id": "c2fd8214",
   "metadata": {},
   "outputs": [
    {
     "data": {
      "text/plain": [
       "[('Ghee', 8), ('for', 24), ('Ghee', 30)]"
      ]
     },
     "execution_count": 76,
     "metadata": {},
     "output_type": "execute_result"
    }
   ],
   "source": [
    "# using sort with key\n",
    "\n",
    "def sort_(inpt):\n",
    "    return sorted(inpt, key=lambda x:x[1])\n",
    "sort_(inpt)"
   ]
  },
  {
   "cell_type": "code",
   "execution_count": 79,
   "id": "ec1c2036",
   "metadata": {},
   "outputs": [
    {
     "data": {
      "text/plain": [
       "[('Ghee', 8), ('for', 24), ('Ghee', 30)]"
      ]
     },
     "execution_count": 79,
     "metadata": {},
     "output_type": "execute_result"
    }
   ],
   "source": [
    "def sorting(inpt):\n",
    "    out=[]\n",
    "    for len_ in range(len(inpt)):\n",
    "        min_i=inpt[0][0]\n",
    "        min_j=inpt[0][1]\n",
    "        for i,j in inpt:\n",
    "               if j<=min_j:\n",
    "                        min_j=j\n",
    "                        min_i=i\n",
    "        out.append((min_i,min_j))\n",
    "        inpt.remove((min_i,min_j))\n",
    "    return out\n",
    "\n",
    "inpt=[('for', 24), ('Ghee', 8), ('Ghee', 30)] \n",
    "\n",
    "#output [('Ghee', 8), ('for', 24), ('Ghee', 30)]\n",
    "\n",
    "sorting(inpt)"
   ]
  },
  {
   "cell_type": "code",
   "execution_count": null,
   "id": "78b6c1aa",
   "metadata": {},
   "outputs": [],
   "source": []
  },
  {
   "cell_type": "code",
   "execution_count": 82,
   "id": "b9ec4f66",
   "metadata": {},
   "outputs": [
    {
     "data": {
      "text/plain": [
       "[('Ghee', 8), ('for', 24), ('Ghee', 30)]"
      ]
     },
     "execution_count": 82,
     "metadata": {},
     "output_type": "execute_result"
    }
   ],
   "source": [
    "inpt=[('for', 24), ('Ghee', 8), ('Ghee', 30)] \n",
    "\n",
    "#output [('Ghee', 8), ('for', 24), ('Ghee', 30)]\n",
    "\n",
    "inpt.sort(key=lambda x:x[1])\n",
    "inpt"
   ]
  },
  {
   "cell_type": "code",
   "execution_count": null,
   "id": "23ae64e0",
   "metadata": {},
   "outputs": [],
   "source": []
  },
  {
   "cell_type": "markdown",
   "id": "d9557b47",
   "metadata": {},
   "source": [
    "#### Order tuple by list"
   ]
  },
  {
   "cell_type": "code",
   "execution_count": 84,
   "id": "863a23e3",
   "metadata": {},
   "outputs": [],
   "source": [
    "test_list = [('Gfg', 3), ('best', 9), ('CS', 10), ('Geeks', 2)]\n",
    "\n",
    "ord_list = ['Geeks', 'best', 'CS', 'Gfg']\n",
    "\n",
    "#output [('Geeks', 2), ('best', 9), ('CS', 10), ('Gfg', 3)]"
   ]
  },
  {
   "cell_type": "code",
   "execution_count": 85,
   "id": "20c39211",
   "metadata": {},
   "outputs": [
    {
     "data": {
      "text/plain": [
       "[('Geeks', 2), ('best', 9), ('CS', 10), ('Gfg', 3)]"
      ]
     },
     "execution_count": 85,
     "metadata": {},
     "output_type": "execute_result"
    }
   ],
   "source": [
    "def order_tuple(inpt,ord_list):\n",
    "    inpt_dict=dict(inpt)\n",
    "    out={}\n",
    "    for i in ord_list:\n",
    "        out[i]=inpt_dict[i]\n",
    "    return [(key,val) for key,val in out.items()]\n",
    "\n",
    "order_tuple(test_list,ord_list)"
   ]
  },
  {
   "cell_type": "code",
   "execution_count": 86,
   "id": "9b860046",
   "metadata": {},
   "outputs": [
    {
     "data": {
      "text/plain": [
       "[('Geeks', 2), ('best', 9), ('CS', 10), ('Gfg', 3)]"
      ]
     },
     "execution_count": 86,
     "metadata": {},
     "output_type": "execute_result"
    }
   ],
   "source": [
    "def order(inpt,ord_list):\n",
    "    inpt_dict=dict(inpt)\n",
    "    return [(i,inpt_dict[i]) for i in ord_list]\n",
    "order(test_list,ord_list)"
   ]
  },
  {
   "cell_type": "code",
   "execution_count": 89,
   "id": "4d784542",
   "metadata": {},
   "outputs": [
    {
     "data": {
      "text/plain": [
       "[('Geeks', 2), ('best', 9), ('CS', 10), ('Gfg', 3)]"
      ]
     },
     "execution_count": 89,
     "metadata": {},
     "output_type": "execute_result"
    }
   ],
   "source": [
    "#using for loop and index() method\n",
    "\n",
    "def order_by_list(inpt,ord_list):\n",
    "    inp=[]\n",
    "    out=[]\n",
    "    for i in inpt:\n",
    "        inp.append(i[0])\n",
    "    for j in ord_list:\n",
    "        if j in inp:\n",
    "            out.append(inpt[inp.index(j)])\n",
    "            \n",
    "    return out\n",
    "\n",
    "test_list = [('Gfg', 3), ('best', 9), ('CS', 10), ('Geeks', 2)]\n",
    "\n",
    "ord_list = ['Geeks', 'best', 'CS', 'Gfg']\n",
    "\n",
    "#output [('Geeks', 2), ('best', 9), ('CS', 10), ('Gfg', 3)]\n",
    "order_by_list(test_list,ord_list)"
   ]
  },
  {
   "cell_type": "code",
   "execution_count": null,
   "id": "40fac98a",
   "metadata": {},
   "outputs": [],
   "source": []
  },
  {
   "cell_type": "code",
   "execution_count": null,
   "id": "cfd2da07",
   "metadata": {},
   "outputs": [],
   "source": []
  },
  {
   "cell_type": "code",
   "execution_count": 120,
   "id": "fb5ab1d4",
   "metadata": {},
   "outputs": [],
   "source": [
    "test_tuple = ([5], [6], [3], [8]) \n",
    "#Output : (5, 6, 3, 8) \n",
    "    \n",
    "test_tuple1 = ([5, 7, 8]) \n",
    "#Output : (5, 7, 8)    "
   ]
  },
  {
   "cell_type": "code",
   "execution_count": 129,
   "id": "72e8dd9f",
   "metadata": {},
   "outputs": [
    {
     "data": {
      "text/plain": [
       "(5, 6, 3, 8)"
      ]
     },
     "execution_count": 129,
     "metadata": {},
     "output_type": "execute_result"
    }
   ],
   "source": [
    "def tuple_(inpt):\n",
    "    out=tuple()\n",
    "    for i in inpt:\n",
    "        if type(i)==list:\n",
    "              out=out+tuple(i)\n",
    "        else:\n",
    "            out=out+tuple([i])\n",
    "    return out\n",
    "\n",
    "tuple_(test_tuple)"
   ]
  },
  {
   "cell_type": "code",
   "execution_count": 130,
   "id": "e8700286",
   "metadata": {},
   "outputs": [
    {
     "data": {
      "text/plain": [
       "(5, 7, 8)"
      ]
     },
     "execution_count": 130,
     "metadata": {},
     "output_type": "execute_result"
    }
   ],
   "source": [
    "tuple_(test_tuple1)"
   ]
  },
  {
   "cell_type": "code",
   "execution_count": 131,
   "id": "216103e7",
   "metadata": {},
   "outputs": [
    {
     "data": {
      "text/plain": [
       "(5, 6, 6, 7, 8, 9, 3)"
      ]
     },
     "execution_count": 131,
     "metadata": {},
     "output_type": "execute_result"
    }
   ],
   "source": [
    "tuple_(([5, 6], [6, 7, 8, 9], [3]))"
   ]
  },
  {
   "cell_type": "code",
   "execution_count": null,
   "id": "4e8a988e",
   "metadata": {},
   "outputs": [],
   "source": []
  },
  {
   "cell_type": "code",
   "execution_count": null,
   "id": "68733d57",
   "metadata": {},
   "outputs": [],
   "source": []
  }
 ],
 "metadata": {
  "kernelspec": {
   "display_name": "Python 3 (ipykernel)",
   "language": "python",
   "name": "python3"
  },
  "language_info": {
   "codemirror_mode": {
    "name": "ipython",
    "version": 3
   },
   "file_extension": ".py",
   "mimetype": "text/x-python",
   "name": "python",
   "nbconvert_exporter": "python",
   "pygments_lexer": "ipython3",
   "version": "3.9.7"
  }
 },
 "nbformat": 4,
 "nbformat_minor": 5
}
