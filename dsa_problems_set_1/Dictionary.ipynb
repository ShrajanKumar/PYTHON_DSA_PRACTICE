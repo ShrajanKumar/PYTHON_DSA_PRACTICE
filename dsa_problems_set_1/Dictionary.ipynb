{
 "cells": [
  {
   "cell_type": "markdown",
   "id": "0f39a2de",
   "metadata": {},
   "source": [
    "#### Extract Unique values dictionary values."
   ]
  },
  {
   "cell_type": "code",
   "execution_count": 1,
   "id": "7165a88c",
   "metadata": {},
   "outputs": [],
   "source": [
    "#input\n",
    "\n",
    "test_dict = {'gfg': [5, 6, 7, 8],\n",
    "             'is': [10, 11, 7, 5],\n",
    "             'best': [6, 12, 10, 8],\n",
    "             'for': [1, 2, 5]}\n",
    "\n",
    "#output   The unique values list is : [1, 2, 5, 6, 7, 8, 10, 11, 12]"
   ]
  },
  {
   "cell_type": "code",
   "execution_count": 14,
   "id": "dde53731",
   "metadata": {},
   "outputs": [
    {
     "data": {
      "text/plain": [
       "[1, 2, 5, 6, 7, 8, 10, 11, 12]"
      ]
     },
     "execution_count": 14,
     "metadata": {},
     "output_type": "execute_result"
    }
   ],
   "source": [
    "def unique(test_dict):\n",
    "    unique_val=[]\n",
    "    for i in test_dict.values():\n",
    "        for j in i:\n",
    "            if j not in unique_val:\n",
    "                unique_val.append(j)\n",
    "                \n",
    "    return sorted(unique_val)\n",
    "\n",
    "unique(test_dict)\n",
    "    \n",
    "    \n"
   ]
  },
  {
   "cell_type": "code",
   "execution_count": 15,
   "id": "f6d0468c",
   "metadata": {},
   "outputs": [
    {
     "data": {
      "text/plain": [
       "[1, 2, 5, 6, 7, 8, 10, 11, 12]"
      ]
     },
     "execution_count": 15,
     "metadata": {},
     "output_type": "execute_result"
    }
   ],
   "source": [
    "def unique(test_dict):\n",
    "    values={ele for val in test_dict.values() for ele in val}\n",
    "    return list(values)\n",
    "\n",
    "unique(test_dict)"
   ]
  },
  {
   "cell_type": "code",
   "execution_count": 33,
   "id": "c48e88f0",
   "metadata": {},
   "outputs": [
    {
     "data": {
      "text/plain": [
       "[1, 2, 5, 6, 7, 8, 10, 11, 12]"
      ]
     },
     "execution_count": 33,
     "metadata": {},
     "output_type": "execute_result"
    }
   ],
   "source": [
    "a=[]\n",
    "for i, j in test_dict.items():\n",
    "    a.extend(j)\n",
    "    \n",
    "sorted(list(set(a)))   "
   ]
  },
  {
   "cell_type": "code",
   "execution_count": 34,
   "id": "2f0eaed5",
   "metadata": {},
   "outputs": [
    {
     "data": {
      "text/plain": [
       "[1, 2, 5, 6, 7, 8, 10, 11, 12]"
      ]
     },
     "execution_count": 34,
     "metadata": {},
     "output_type": "execute_result"
    }
   ],
   "source": [
    "a=[]\n",
    "for i,j in test_dict.items():\n",
    "    for h in j:\n",
    "        a.append(h)\n",
    "list(sorted(set(a)))        "
   ]
  },
  {
   "cell_type": "code",
   "execution_count": 43,
   "id": "9c1dda73",
   "metadata": {},
   "outputs": [
    {
     "data": {
      "text/plain": [
       "[1, 2, 5, 6, 7, 8, 10, 11, 12]"
      ]
     },
     "execution_count": 43,
     "metadata": {},
     "output_type": "execute_result"
    }
   ],
   "source": [
    "#using itertools aand chain\n",
    "from itertools import chain\n",
    "\n",
    "sorted((list(set(chain(*test_dict.values())))))"
   ]
  },
  {
   "cell_type": "code",
   "execution_count": 48,
   "id": "294112f9",
   "metadata": {},
   "outputs": [
    {
     "data": {
      "text/plain": [
       "[1, 2, 5, 6, 7, 8, 10, 11, 12]"
      ]
     },
     "execution_count": 48,
     "metadata": {},
     "output_type": "execute_result"
    }
   ],
   "source": [
    "def unique(inpt):\n",
    "    a=inpt.values()\n",
    "    unique_=set(chain(*a))\n",
    "    return list(unique_)\n",
    "\n",
    "unique(test_dict)"
   ]
  },
  {
   "cell_type": "code",
   "execution_count": null,
   "id": "7db92cf1",
   "metadata": {},
   "outputs": [],
   "source": []
  },
  {
   "cell_type": "markdown",
   "id": "d748de39",
   "metadata": {},
   "source": [
    "#### Python program to find the sum of all items in a dictionary."
   ]
  },
  {
   "cell_type": "code",
   "execution_count": 53,
   "id": "15029691",
   "metadata": {},
   "outputs": [],
   "source": [
    "Input={'x': 25, 'y':18, 'z':45}\n",
    "#Output : 88"
   ]
  },
  {
   "cell_type": "code",
   "execution_count": 54,
   "id": "1fe563c4",
   "metadata": {},
   "outputs": [
    {
     "data": {
      "text/plain": [
       "88"
      ]
     },
     "execution_count": 54,
     "metadata": {},
     "output_type": "execute_result"
    }
   ],
   "source": [
    "sum(Input.values())"
   ]
  },
  {
   "cell_type": "code",
   "execution_count": 55,
   "id": "b351e7ea",
   "metadata": {},
   "outputs": [
    {
     "data": {
      "text/plain": [
       "88"
      ]
     },
     "execution_count": 55,
     "metadata": {},
     "output_type": "execute_result"
    }
   ],
   "source": [
    "sum_=0\n",
    "for i in  Input.values():\n",
    "    sum_+=i\n",
    "    \n",
    "sum_    "
   ]
  },
  {
   "cell_type": "code",
   "execution_count": 56,
   "id": "8e710fca",
   "metadata": {},
   "outputs": [
    {
     "data": {
      "text/plain": [
       "88"
      ]
     },
     "execution_count": 56,
     "metadata": {},
     "output_type": "execute_result"
    }
   ],
   "source": [
    "a=[]\n",
    "\n",
    "for i in Input.values():\n",
    "    for j in range(i):\n",
    "        a.append(1)\n",
    "        \n",
    "a.count(1)"
   ]
  },
  {
   "cell_type": "code",
   "execution_count": 63,
   "id": "7fb7ee45",
   "metadata": {},
   "outputs": [
    {
     "data": {
      "text/plain": [
       "88"
      ]
     },
     "execution_count": 63,
     "metadata": {},
     "output_type": "execute_result"
    }
   ],
   "source": [
    "#using reduce\n",
    "from functools import reduce\n",
    "\n",
    "a=Input.values()\n",
    "\n",
    "reduce(lambda x,y: x+y,a)"
   ]
  },
  {
   "cell_type": "code",
   "execution_count": 66,
   "id": "26dfde47",
   "metadata": {},
   "outputs": [
    {
     "data": {
      "text/plain": [
       "88"
      ]
     },
     "execution_count": 66,
     "metadata": {},
     "output_type": "execute_result"
    }
   ],
   "source": [
    "from functools import reduce\n",
    "\n",
    "reduce(lambda x,y:x+Input[y],Input,0)"
   ]
  },
  {
   "cell_type": "code",
   "execution_count": 65,
   "id": "d00f5502",
   "metadata": {},
   "outputs": [
    {
     "data": {
      "text/plain": [
       "88"
      ]
     },
     "execution_count": 65,
     "metadata": {},
     "output_type": "execute_result"
    }
   ],
   "source": [
    "#using indexing and for loop\n",
    "\n",
    "a=[]\n",
    "\n",
    "for i in Input:\n",
    "    a.append(Input[i])\n",
    "sum(a)"
   ]
  },
  {
   "cell_type": "code",
   "execution_count": 60,
   "id": "9bd23a31",
   "metadata": {},
   "outputs": [
    {
     "data": {
      "text/plain": [
       "30"
      ]
     },
     "execution_count": 60,
     "metadata": {},
     "output_type": "execute_result"
    }
   ],
   "source": [
    "a=10 #input1\n",
    "b=20  #input2\n",
    "\n",
    "c=[a,b] #list containing inputs\n",
    "\n",
    "sum_=[] #dummy list \n",
    "\n",
    "for i in c:\n",
    "    for j in range(i):\n",
    "        sum_.append(1)\n",
    "    \n",
    "sum_.count(1)"
   ]
  },
  {
   "cell_type": "code",
   "execution_count": null,
   "id": "229f06f7",
   "metadata": {},
   "outputs": [],
   "source": []
  },
  {
   "cell_type": "markdown",
   "id": "c36120c4",
   "metadata": {},
   "source": [
    "#### Ways to remove a key from dictionary."
   ]
  },
  {
   "cell_type": "code",
   "execution_count": 71,
   "id": "a9c37de4",
   "metadata": {},
   "outputs": [],
   "source": [
    "input1={'Anuradha': 21, 'Haritha': 21, 'Arushi': 22, 'Mani': 21}  #input\n",
    "\n",
    "#key to remove \"Mani\"\n",
    "\n",
    "output={'Anuradha': 21, 'Haritha': 21, 'Arushi': 22}"
   ]
  },
  {
   "cell_type": "code",
   "execution_count": 72,
   "id": "08d68b2f",
   "metadata": {},
   "outputs": [
    {
     "data": {
      "text/plain": [
       "{'Anuradha': 21, 'Haritha': 21, 'Arushi': 22}"
      ]
     },
     "execution_count": 72,
     "metadata": {},
     "output_type": "execute_result"
    }
   ],
   "source": [
    "#using del\n",
    "\n",
    "del input1[\"Mani\"]\n",
    "\n",
    "input1"
   ]
  },
  {
   "cell_type": "code",
   "execution_count": 74,
   "id": "eb3ec438",
   "metadata": {},
   "outputs": [
    {
     "data": {
      "text/plain": [
       "{'Anuradha': 21, 'Haritha': 21, 'Arushi': 22}"
      ]
     },
     "execution_count": 74,
     "metadata": {},
     "output_type": "execute_result"
    }
   ],
   "source": [
    "input1={'Anuradha': 21, 'Haritha': 21, 'Arushi': 22, 'Mani': 21}\n",
    "\n",
    "input1.pop(\"Mani\")\n",
    "\n",
    "input1"
   ]
  },
  {
   "cell_type": "code",
   "execution_count": 80,
   "id": "3b5e4080",
   "metadata": {},
   "outputs": [
    {
     "data": {
      "text/plain": [
       "{'Anuradha': 21, 'Haritha': 21, 'Arushi': 22}"
      ]
     },
     "execution_count": 80,
     "metadata": {},
     "output_type": "execute_result"
    }
   ],
   "source": [
    "#using item method\n",
    "\n",
    "{key:val for key,val in input1.items() if key!=\"Mani\"}\n"
   ]
  },
  {
   "cell_type": "code",
   "execution_count": 83,
   "id": "640df856",
   "metadata": {},
   "outputs": [
    {
     "data": {
      "text/plain": [
       "{'Anuradha': 21, 'Haritha': 21, 'Arushi': 22}"
      ]
     },
     "execution_count": 83,
     "metadata": {},
     "output_type": "execute_result"
    }
   ],
   "source": [
    "{key:input1[key] for key in input1.keys() if key!='Mani'}"
   ]
  },
  {
   "cell_type": "code",
   "execution_count": 77,
   "id": "aa5584de",
   "metadata": {},
   "outputs": [
    {
     "data": {
      "text/plain": [
       "{'Anuradha': 21, 'Haritha': 21, 'Arushi': 22}"
      ]
     },
     "execution_count": 77,
     "metadata": {},
     "output_type": "execute_result"
    }
   ],
   "source": [
    "#using loop\n",
    "input1={'Anuradha': 21, 'Haritha': 21, 'Arushi': 22, 'Mani': 21}\n",
    "\n",
    "def remove(inpt,key):\n",
    "    new_inpt={}\n",
    "    for i in inpt:\n",
    "        if i!=key:\n",
    "            new_inpt[i]=inpt[i]\n",
    "    return new_inpt\n",
    "\n",
    "remove(input1,'Mani')"
   ]
  },
  {
   "cell_type": "code",
   "execution_count": null,
   "id": "5d9e31f5",
   "metadata": {},
   "outputs": [],
   "source": []
  },
  {
   "cell_type": "markdown",
   "id": "88c586b2",
   "metadata": {},
   "source": [
    "#### Ways to sort list of dictionaries by values in Python – Using itemgetter"
   ]
  },
  {
   "cell_type": "code",
   "execution_count": 102,
   "id": "11116330",
   "metadata": {},
   "outputs": [
    {
     "data": {
      "text/plain": [
       "[{'name': 'Nikhil', 'age': 19},\n",
       " {'name': 'Nandini', 'age': 20},\n",
       " {'name': 'Manjeet', 'age': 20}]"
      ]
     },
     "execution_count": 102,
     "metadata": {},
     "output_type": "execute_result"
    }
   ],
   "source": [
    "from operator import itemgetter\n",
    "list1 = [{\"name\": \"Nandini\", \"age\": 20},\n",
    "       {\"name\": \"Manjeet\", \"age\": 20},\n",
    "       {\"name\": \"Nikhil\", \"age\": 19}]\n",
    "\n",
    "sorted(list1,key=itemgetter('age'))"
   ]
  },
  {
   "cell_type": "code",
   "execution_count": 106,
   "id": "6206bd0d",
   "metadata": {},
   "outputs": [
    {
     "data": {
      "text/plain": [
       "[{'name': 'Nikhil', 'age': 19},\n",
       " {'name': 'Manjeet', 'age': 20},\n",
       " {'name': 'Nandini', 'age': 20}]"
      ]
     },
     "execution_count": 106,
     "metadata": {},
     "output_type": "execute_result"
    }
   ],
   "source": [
    "sorted(list1,key=itemgetter('age','name'))"
   ]
  },
  {
   "cell_type": "code",
   "execution_count": 107,
   "id": "11da31ec",
   "metadata": {},
   "outputs": [
    {
     "data": {
      "text/plain": [
       "[{'name': 'Nikhil', 'age': 19},\n",
       " {'name': 'Nandini', 'age': 20},\n",
       " {'name': 'Manjeet', 'age': 20}]"
      ]
     },
     "execution_count": 107,
     "metadata": {},
     "output_type": "execute_result"
    }
   ],
   "source": [
    "#using lambda\n",
    "list1 = [{\"name\": \"Nandini\", \"age\": 20},\n",
    "       {\"name\": \"Manjeet\", \"age\": 20},\n",
    "       {\"name\": \"Nikhil\", \"age\": 19}]\n",
    "\n",
    "sorted(list1,key=lambda i:i['age'])"
   ]
  },
  {
   "cell_type": "code",
   "execution_count": 109,
   "id": "524a86c7",
   "metadata": {},
   "outputs": [
    {
     "data": {
      "text/plain": [
       "[{'name': 'Nikhil', 'age': 19},\n",
       " {'name': 'Manjeet', 'age': 20},\n",
       " {'name': 'Nandini', 'age': 20}]"
      ]
     },
     "execution_count": 109,
     "metadata": {},
     "output_type": "execute_result"
    }
   ],
   "source": [
    "sorted(list1,key=lambda i:(i['age'],i['name']))"
   ]
  },
  {
   "cell_type": "code",
   "execution_count": 113,
   "id": "5ef760b8",
   "metadata": {},
   "outputs": [
    {
     "data": {
      "text/plain": [
       "['j', 'h', 'l', 'k']"
      ]
     },
     "execution_count": 113,
     "metadata": {},
     "output_type": "execute_result"
    }
   ],
   "source": [
    "a={'h':2,'j':1,'k':4,'l':3}\n",
    "\n",
    "sorted(a,key=lambda i:a.get(i))"
   ]
  },
  {
   "cell_type": "code",
   "execution_count": null,
   "id": "ad1f6cf5",
   "metadata": {},
   "outputs": [],
   "source": []
  },
  {
   "cell_type": "code",
   "execution_count": 115,
   "id": "9f7ae6fe",
   "metadata": {},
   "outputs": [
    {
     "data": {
      "text/plain": [
       "{'j': 1, 'h': 2, 'l': 3, 'k': 4}"
      ]
     },
     "execution_count": 115,
     "metadata": {},
     "output_type": "execute_result"
    }
   ],
   "source": [
    "a={'h':2,'j':1,'k':4,'l':3}\n",
    "srtd={}\n",
    "keys=sorted(a,key=lambda i:a.get(i))\n",
    "\n",
    "for key in keys :\n",
    "    srtd[key]=a[key]\n",
    "    \n",
    "srtd"
   ]
  },
  {
   "cell_type": "code",
   "execution_count": null,
   "id": "51831a5d",
   "metadata": {},
   "outputs": [],
   "source": []
  },
  {
   "cell_type": "markdown",
   "id": "5e9ba5f7",
   "metadata": {},
   "source": [
    "#### Merging two Dictionaries."
   ]
  },
  {
   "cell_type": "code",
   "execution_count": 9,
   "id": "a95546bb",
   "metadata": {},
   "outputs": [],
   "source": [
    "dict1 = {'a': 10, 'b': 8}\n",
    "dict2 = {'d': 6, 'c': 4}    #inputs\n",
    "\n",
    "#output {'c': 4, 'a': 10, 'b': 8, 'd': 6}\n"
   ]
  },
  {
   "cell_type": "code",
   "execution_count": 10,
   "id": "5748bfef",
   "metadata": {},
   "outputs": [
    {
     "data": {
      "text/plain": [
       "{'a': 10, 'b': 8, 'd': 6, 'c': 4}"
      ]
     },
     "execution_count": 10,
     "metadata": {},
     "output_type": "execute_result"
    }
   ],
   "source": [
    "#using update\n",
    "\n",
    "dict1.update(dict2)\n",
    "\n",
    "dict1"
   ]
  },
  {
   "cell_type": "code",
   "execution_count": null,
   "id": "ddcfef8f",
   "metadata": {},
   "outputs": [],
   "source": []
  },
  {
   "cell_type": "code",
   "execution_count": 16,
   "id": "f378ced1",
   "metadata": {},
   "outputs": [
    {
     "data": {
      "text/plain": [
       "{'a': 10, 'b': 8, 'd': 6, 'c': 4}"
      ]
     },
     "execution_count": 16,
     "metadata": {},
     "output_type": "execute_result"
    }
   ],
   "source": [
    "dict1 = {'a': 10, 'b': 8}\n",
    "dict2 = {'d': 6, 'c': 4}    #inputs\n",
    "\n",
    "#output {'c': 4, 'a': 10, 'b': 8, 'd': 6}\n",
    "def merge(dict1,dict2):\n",
    "    for i in dict2:\n",
    "        dict1[i]=dict2[i]\n",
    "        \n",
    "    return dict1\n",
    "\n",
    "merge(dict1,dict2)\n"
   ]
  },
  {
   "cell_type": "code",
   "execution_count": 19,
   "id": "243424cf",
   "metadata": {},
   "outputs": [
    {
     "data": {
      "text/plain": [
       "{'a': 10, 'b': 8, 'd': 6, 'c': 4}"
      ]
     },
     "execution_count": 19,
     "metadata": {},
     "output_type": "execute_result"
    }
   ],
   "source": [
    "dict1 = {'a': 10, 'b': 8}\n",
    "dict2 = {'d': 6, 'c': 4}    #inputs\n",
    "\n",
    "#output {'c': 4, 'a': 10, 'b': 8, 'd': 6}\n",
    "\n",
    "def merge(dict1,dict2):\n",
    "    for i in dict2:\n",
    "        dict1.update({i:dict2[i]})\n",
    "        \n",
    "    return dict1\n",
    "\n",
    "merge(dict1,dict2)"
   ]
  },
  {
   "cell_type": "code",
   "execution_count": 21,
   "id": "627c68f9",
   "metadata": {},
   "outputs": [
    {
     "data": {
      "text/plain": [
       "{'a': 10, 'b': 8, 'd': 6, 'c': 4}"
      ]
     },
     "execution_count": 21,
     "metadata": {},
     "output_type": "execute_result"
    }
   ],
   "source": [
    "dict1 = {'a': 10, 'b': 8}\n",
    "dict2 = {'d': 6, 'c': 4}    #inputs\n",
    "\n",
    "#output {'c': 4, 'a': 10, 'b': 8, 'd': 6}\n",
    "\n",
    "def merge(dict1,dict2):\n",
    "    dic={}\n",
    "    for i in [dict1,dict2]:\n",
    "        for j in i:\n",
    "            dic[j]=i[j]\n",
    "            \n",
    "    return dic\n",
    "\n",
    "merge(dict1,dict2)"
   ]
  },
  {
   "cell_type": "code",
   "execution_count": 27,
   "id": "ed4a27bc",
   "metadata": {},
   "outputs": [
    {
     "data": {
      "text/plain": [
       "{'a': 10, 'b': 8, 'd': 6, 'c': 4}"
      ]
     },
     "execution_count": 27,
     "metadata": {},
     "output_type": "execute_result"
    }
   ],
   "source": [
    "{**dict1,**dict2}"
   ]
  },
  {
   "cell_type": "code",
   "execution_count": 28,
   "id": "e65a529c",
   "metadata": {},
   "outputs": [
    {
     "data": {
      "text/plain": [
       "{'a': 10, 'b': 8, 'd': 6, 'c': 4}"
      ]
     },
     "execution_count": 28,
     "metadata": {},
     "output_type": "execute_result"
    }
   ],
   "source": [
    "dict1|dict2"
   ]
  },
  {
   "cell_type": "code",
   "execution_count": null,
   "id": "decc0b58",
   "metadata": {},
   "outputs": [],
   "source": []
  },
  {
   "cell_type": "code",
   "execution_count": 32,
   "id": "618324f8",
   "metadata": {},
   "outputs": [
    {
     "data": {
      "text/plain": [
       "{'d': 6, 'a': 10, 'c': 4, 'b': 8}"
      ]
     },
     "execution_count": 32,
     "metadata": {},
     "output_type": "execute_result"
    }
   ],
   "source": [
    "dict(dict1.items()|dict2.items())"
   ]
  },
  {
   "cell_type": "code",
   "execution_count": null,
   "id": "d6355ea8",
   "metadata": {},
   "outputs": [],
   "source": []
  },
  {
   "cell_type": "code",
   "execution_count": 40,
   "id": "6f95c450",
   "metadata": {},
   "outputs": [
    {
     "data": {
      "text/plain": [
       "{'a': 10, 'b': 8, 'd': 6, 'c': 4, 'e': 10, 'f': 13}"
      ]
     },
     "execution_count": 40,
     "metadata": {},
     "output_type": "execute_result"
    }
   ],
   "source": [
    "#using reduce\n",
    "dict1 = {'a': 10, 'b': 8}\n",
    "dict2 = {'d': 6, 'c': 4} \n",
    "dict3={'e':10,'f':13}\n",
    "\n",
    "def merge(inpt1,inpt2):\n",
    "    merged=inpt1.copy()\n",
    "    merged.update(inpt2)\n",
    "    return merged\n",
    "\n",
    "from functools import reduce\n",
    "reduce(merge,[dict1,dict2,dict3])"
   ]
  },
  {
   "cell_type": "code",
   "execution_count": null,
   "id": "e2991cbb",
   "metadata": {},
   "outputs": [],
   "source": []
  },
  {
   "cell_type": "markdown",
   "id": "6bffd45b",
   "metadata": {},
   "source": [
    "#### Convert key-values list to flat dictionary."
   ]
  },
  {
   "cell_type": "code",
   "execution_count": 41,
   "id": "d0a91f41",
   "metadata": {},
   "outputs": [],
   "source": [
    "test_dict = {'month' : [1, 2, 3],\n",
    "             'name' : ['Jan', 'Feb', 'March']}   #input\n",
    "\n",
    "\n",
    "#output {1: ‘Jan’, 2: ‘Feb’, 3: ‘March’}"
   ]
  },
  {
   "cell_type": "code",
   "execution_count": 45,
   "id": "2717c9b2",
   "metadata": {},
   "outputs": [
    {
     "data": {
      "text/plain": [
       "{1: 'Jan', 2: 'Feb', 3: 'March'}"
      ]
     },
     "execution_count": 45,
     "metadata": {},
     "output_type": "execute_result"
    }
   ],
   "source": [
    "def flatten(inpt):\n",
    "    return dict(zip(inpt['month'],test_dict['name']))\n",
    "\n",
    "flatten(test_dict)"
   ]
  },
  {
   "cell_type": "code",
   "execution_count": null,
   "id": "ca1b49f5",
   "metadata": {},
   "outputs": [],
   "source": []
  },
  {
   "cell_type": "code",
   "execution_count": 51,
   "id": "1eac8f91",
   "metadata": {},
   "outputs": [
    {
     "data": {
      "text/plain": [
       "{1: 'Jan', 2: 'Feb', 3: 'March'}"
      ]
     },
     "execution_count": 51,
     "metadata": {},
     "output_type": "execute_result"
    }
   ],
   "source": [
    "# using keys\n",
    "def flat(inpt):\n",
    "    a=list(inpt.values())[0]\n",
    "    b=list(inpt.values())[1]\n",
    "    out=dict()\n",
    "    for i in range(len(b)):\n",
    "        out[a[i]]=b[i]\n",
    "    \n",
    "    return out\n",
    "\n",
    "flat(test_dict)\n",
    "    "
   ]
  },
  {
   "cell_type": "code",
   "execution_count": 55,
   "id": "a8c35029",
   "metadata": {},
   "outputs": [],
   "source": [
    "#dictionary comprehension\n",
    "\n",
    "a={test_dict['month'][i]:test_dict['name'][i] for i in range(len(test_dict['month']))}"
   ]
  },
  {
   "cell_type": "code",
   "execution_count": null,
   "id": "9a787fb7",
   "metadata": {},
   "outputs": [],
   "source": []
  },
  {
   "cell_type": "markdown",
   "id": "30c8e7f3",
   "metadata": {},
   "source": [
    "#### Insertion at the beginning in OrderedDict."
   ]
  },
  {
   "cell_type": "code",
   "execution_count": 59,
   "id": "0187300e",
   "metadata": {},
   "outputs": [],
   "source": [
    "dict1 = {'a':1, 'b':2}   #original_dict\n",
    "\n",
    "insert =('c', 3)    #item to be inserted\n",
    "\n",
    "#Output:  {'c':3, 'a':1, 'b':2}"
   ]
  },
  {
   "cell_type": "code",
   "execution_count": 65,
   "id": "97ec7328",
   "metadata": {},
   "outputs": [
    {
     "data": {
      "text/plain": [
       "{'c': 3, 'a': 1, 'b': 2}"
      ]
     },
     "execution_count": 65,
     "metadata": {},
     "output_type": "execute_result"
    }
   ],
   "source": [
    "a=dict([insert]).copy()\n",
    "a.update(dict1)\n",
    "a"
   ]
  },
  {
   "cell_type": "code",
   "execution_count": 66,
   "id": "6df3d902",
   "metadata": {},
   "outputs": [
    {
     "data": {
      "text/plain": [
       "2"
      ]
     },
     "execution_count": 66,
     "metadata": {},
     "output_type": "execute_result"
    }
   ],
   "source": []
  },
  {
   "cell_type": "code",
   "execution_count": 69,
   "id": "39de21cd",
   "metadata": {},
   "outputs": [
    {
     "data": {
      "text/plain": [
       "{'c': 3, 'a': 1, 'b': 2}"
      ]
     },
     "execution_count": 69,
     "metadata": {},
     "output_type": "execute_result"
    }
   ],
   "source": [
    "#using list\n",
    "\n",
    "def insertion(dict1,insert):\n",
    "    keys=list(dict1.keys())\n",
    "    values=list(dict1.values())\n",
    "    keys.insert(0,insert[0])\n",
    "    values.insert(0,insert[1])\n",
    "    \n",
    "    return dict(zip(keys,values))\n",
    "\n",
    "insertion(dict1,insert)"
   ]
  },
  {
   "cell_type": "code",
   "execution_count": 79,
   "id": "eeab5dc4",
   "metadata": {},
   "outputs": [
    {
     "data": {
      "text/plain": [
       "OrderedDict([('c', 3), ('a', 1), ('b', 2)])"
      ]
     },
     "execution_count": 79,
     "metadata": {},
     "output_type": "execute_result"
    }
   ],
   "source": [
    "#using move to end\n",
    "from collections import OrderedDict\n",
    "\n",
    "dict1 = {'a':1, 'b':2}   #original_dict\n",
    "\n",
    "insert =('c', 3)    #item to be inserted\n",
    "\n",
    "#Output:  {'c':3, 'a':1, 'b':2}\n",
    "\n",
    "temp=OrderedDict(dict1.copy())\n",
    "temp.update(dict([insert]))\n",
    "temp.move_to_end('c' ,last=False)\n",
    "temp"
   ]
  },
  {
   "cell_type": "code",
   "execution_count": 82,
   "id": "f478bac4",
   "metadata": {},
   "outputs": [
    {
     "data": {
      "text/plain": [
       "OrderedDict([(1, 2), (3, 4)])"
      ]
     },
     "execution_count": 82,
     "metadata": {},
     "output_type": "execute_result"
    }
   ],
   "source": [
    "a=OrderedDict([(1,2),(3,4)])\n",
    "a"
   ]
  },
  {
   "cell_type": "code",
   "execution_count": null,
   "id": "349e77ac",
   "metadata": {},
   "outputs": [],
   "source": []
  },
  {
   "cell_type": "markdown",
   "id": "2610fac4",
   "metadata": {},
   "source": [
    "#### Check order of character in string using OrderedDict( )"
   ]
  },
  {
   "cell_type": "markdown",
   "id": "46e7f924",
   "metadata": {},
   "source": [
    "Given an input string and a pattern, check if characters in the input string follows the same order as determined by characters present in the pattern. Assume there won’t be any duplicate characters in the pattern."
   ]
  },
  {
   "cell_type": "code",
   "execution_count": 63,
   "id": "6f5daddf",
   "metadata": {},
   "outputs": [],
   "source": [
    "input1 = \"engineers rock\"\n",
    "pattern=\"er\"\n",
    "#output=True\n",
    "\n"
   ]
  },
  {
   "cell_type": "code",
   "execution_count": 64,
   "id": "0f095d19",
   "metadata": {},
   "outputs": [
    {
     "data": {
      "text/plain": [
       "True"
      ]
     },
     "execution_count": 64,
     "metadata": {},
     "output_type": "execute_result"
    }
   ],
   "source": [
    "from collections import OrderedDict\n",
    "\n",
    "def pattern_match(inpt,patrn):\n",
    "    dictn=OrderedDict.fromkeys(inpt)\n",
    "    ptrnlen=0\n",
    "    \n",
    "    for key,val in dictn.items():\n",
    "        if (key==patrn[ptrnlen]):\n",
    "            ptrnlen+=1\n",
    "        if ptrnlen==len(patrn):\n",
    "            return True\n",
    "        \n",
    "    return False\n",
    "\n",
    "pattern_match(input1,pattern)"
   ]
  },
  {
   "cell_type": "code",
   "execution_count": 65,
   "id": "c51386a1",
   "metadata": {},
   "outputs": [
    {
     "data": {
      "text/plain": [
       "False"
      ]
     },
     "execution_count": 65,
     "metadata": {},
     "output_type": "execute_result"
    }
   ],
   "source": [
    "string = \"engineers rock\"\n",
    "pattern2=\"gsr\"\n",
    "\n",
    "pattern_match(string,pattern2)"
   ]
  },
  {
   "cell_type": "code",
   "execution_count": 66,
   "id": "8dcd2775",
   "metadata": {},
   "outputs": [
    {
     "data": {
      "text/plain": [
       "True"
      ]
     },
     "execution_count": 66,
     "metadata": {},
     "output_type": "execute_result"
    }
   ],
   "source": [
    "def ptrn(inpt,pattern):\n",
    "    a=[]\n",
    "    \n",
    "    for i in inpt:\n",
    "        if i in pattern and i not in a:\n",
    "            a.append(i)\n",
    "            \n",
    "    return \"\".join(a)==pattern\n",
    "ptrn(input1,pattern)"
   ]
  },
  {
   "cell_type": "code",
   "execution_count": 67,
   "id": "70b1d215",
   "metadata": {},
   "outputs": [
    {
     "data": {
      "text/plain": [
       "False"
      ]
     },
     "execution_count": 67,
     "metadata": {},
     "output_type": "execute_result"
    }
   ],
   "source": [
    "ptrn(string,pattern2)"
   ]
  },
  {
   "cell_type": "code",
   "execution_count": 68,
   "id": "f97a92a0",
   "metadata": {},
   "outputs": [
    {
     "data": {
      "text/plain": [
       "True"
      ]
     },
     "execution_count": 68,
     "metadata": {},
     "output_type": "execute_result"
    }
   ],
   "source": [
    "ptrn(input1,pattern)"
   ]
  },
  {
   "cell_type": "code",
   "execution_count": null,
   "id": "5dfd20b6",
   "metadata": {},
   "outputs": [],
   "source": []
  },
  {
   "cell_type": "markdown",
   "id": "42c09cd2",
   "metadata": {},
   "source": [
    "#### Dictionary and counter in Python to find winner of election."
   ]
  },
  {
   "cell_type": "markdown",
   "id": "cef2a13b",
   "metadata": {},
   "source": [
    "Given an array of names of candidates in an election. A candidate name in the array represents a vote cast to the candidate. Print the name of candidates received Max vote. If there is tie, print a lexicographically smaller name."
   ]
  },
  {
   "cell_type": "code",
   "execution_count": 134,
   "id": "5c340a97",
   "metadata": {},
   "outputs": [],
   "source": [
    "vote=[ \"johnny\",\"john\", \"jackie\", \n",
    "\"johnny\", \"john\", \"jackie\", \n",
    "\"jamie\", \"jamie\", \"john\",\n",
    "\"johnny\", \"jamie\", \"johnny\", \n",
    "\"john\"]\n",
    "\n",
    "#output john  (john and johnny have tie but based on len wiineer is john)\n",
    "\n"
   ]
  },
  {
   "cell_type": "code",
   "execution_count": 103,
   "id": "ca387677",
   "metadata": {},
   "outputs": [
    {
     "data": {
      "text/plain": [
       "('Winner is : ', 'john')"
      ]
     },
     "execution_count": 103,
     "metadata": {},
     "output_type": "execute_result"
    }
   ],
   "source": [
    "from collections import Counter\n",
    "def winner(vote):\n",
    "    dict_count= Counter(vote)\n",
    "    max_=max(dict_count.values())\n",
    "    name=[]\n",
    "    for i,j in dict_count.items():\n",
    "        if j==max_:\n",
    "            name.append(i)\n",
    "    return('Winner is : ' ,sorted(name)[0])\n",
    "winner(vote) "
   ]
  },
  {
   "cell_type": "code",
   "execution_count": 107,
   "id": "0fed4e07",
   "metadata": {},
   "outputs": [
    {
     "data": {
      "text/plain": [
       "'john'"
      ]
     },
     "execution_count": 107,
     "metadata": {},
     "output_type": "execute_result"
    }
   ],
   "source": [
    "from collections import Counter\n",
    "def winner_(vote):\n",
    "    dict_count=Counter(vote)\n",
    "    max_voted=[i for i in dict_count.keys() if dict_count[i]==max(dict_count.values())]\n",
    "    \n",
    "    return sorted(max_voted)[0]\n",
    "\n",
    "winner_(vote)"
   ]
  },
  {
   "cell_type": "code",
   "execution_count": 106,
   "id": "d9b16b49",
   "metadata": {},
   "outputs": [
    {
     "data": {
      "text/plain": [
       "('Winner is : ', 'john')"
      ]
     },
     "execution_count": 106,
     "metadata": {},
     "output_type": "execute_result"
    }
   ],
   "source": [
    "def winner1(vote):\n",
    "    dict_count=Counter(vote)\n",
    "    dict_votes={}\n",
    "    for key,value in dict_count.items():\n",
    "        dict_votes[value]=[]\n",
    "    for key,value in dict_count.items():\n",
    "        dict_votes[value].append(key)\n",
    "        \n",
    "    max_vote=max(dict_votes)\n",
    "    if len(dict_votes[max_vote])>1:\n",
    "            return sorted(dict_votes[max_vote],reverse=False)[0]\n",
    "    else:\n",
    "        return dict_votes[max_vote][0]\n",
    "    \n",
    "winner(vote)"
   ]
  },
  {
   "cell_type": "code",
   "execution_count": null,
   "id": "7568fe8a",
   "metadata": {},
   "outputs": [],
   "source": []
  },
  {
   "cell_type": "markdown",
   "id": "cd5599ce",
   "metadata": {},
   "source": [
    "#### Append Dictionary Keys and Values ( In order ) in dictionary."
   ]
  },
  {
   "cell_type": "code",
   "execution_count": 110,
   "id": "bc0416e7",
   "metadata": {},
   "outputs": [],
   "source": [
    "input1={'link':1,'social':2,'media':3}\n",
    "\n",
    "#output ['link','social','media',1,2,3]"
   ]
  },
  {
   "cell_type": "code",
   "execution_count": 118,
   "id": "e220accf",
   "metadata": {},
   "outputs": [
    {
     "data": {
      "text/plain": [
       "['link', 'social', 'media', 1, 2, 3]"
      ]
     },
     "execution_count": 118,
     "metadata": {},
     "output_type": "execute_result"
    }
   ],
   "source": [
    "def list_(inpt):\n",
    "    a=list(inpt.keys())\n",
    "    b=list(inpt.values())\n",
    "    a.extend(b)\n",
    "    return a\n",
    "list_(input1)"
   ]
  },
  {
   "cell_type": "code",
   "execution_count": 119,
   "id": "d863e109",
   "metadata": {},
   "outputs": [
    {
     "data": {
      "text/plain": [
       "['link', 'social', 'media', 1, 2, 3]"
      ]
     },
     "execution_count": 119,
     "metadata": {},
     "output_type": "execute_result"
    }
   ],
   "source": [
    "def list1(inpt):\n",
    "    key=[i for i in inpt]\n",
    "    value=[inpt[i] for i in inpt]\n",
    "    out=[]\n",
    "    for i in ([key,value]):\n",
    "        for j in i:\n",
    "            out.append(j)\n",
    "    return out\n",
    "list1(input1)"
   ]
  },
  {
   "cell_type": "code",
   "execution_count": 123,
   "id": "e2b43c8b",
   "metadata": {},
   "outputs": [
    {
     "data": {
      "text/plain": [
       "['link', 'social', 'media', 1, 2, 3]"
      ]
     },
     "execution_count": 123,
     "metadata": {},
     "output_type": "execute_result"
    }
   ],
   "source": [
    "from itertools import chain\n",
    "def list1(inpt):\n",
    "    key=[i for i in inpt]\n",
    "    value=[inpt[i] for i in inpt]\n",
    "    return list(chain(key,value))\n",
    "list1(input1)"
   ]
  },
  {
   "cell_type": "code",
   "execution_count": null,
   "id": "c92fa2a9",
   "metadata": {},
   "outputs": [],
   "source": []
  },
  {
   "cell_type": "markdown",
   "id": "52fd1fc7",
   "metadata": {},
   "source": [
    "### Sort Python Dictionaries by Key or Value."
   ]
  },
  {
   "cell_type": "code",
   "execution_count": 124,
   "id": "c821a153",
   "metadata": {},
   "outputs": [],
   "source": [
    "Input1 ={'ravi': 10, 'rajnish': 9, 'sanjeev': 15, 'yash': 2, 'suraj': 32}\n",
    "\n",
    "#Output {'rajnish': 9, 'ravi': 10, 'sanjeev': 15, 'suraj': 32, 'yash': 2}"
   ]
  },
  {
   "cell_type": "code",
   "execution_count": 137,
   "id": "c27d4cd5",
   "metadata": {},
   "outputs": [
    {
     "data": {
      "text/plain": [
       "{'rajnish': 9, 'ravi': 10, 'sanjeev': 15, 'suraj': 32, 'yash': 2}"
      ]
     },
     "execution_count": 137,
     "metadata": {},
     "output_type": "execute_result"
    }
   ],
   "source": [
    "# eg 1 sorting dictionary by key\n",
    "\n",
    "def sort_by_key(inpt):\n",
    "    keys=sorted(inpt)\n",
    "    return {key:inpt[key] for key in keys}\n",
    "\n",
    "sort_by_key(Input1)"
   ]
  },
  {
   "cell_type": "code",
   "execution_count": 139,
   "id": "f10d6526",
   "metadata": {},
   "outputs": [
    {
     "data": {
      "text/plain": [
       "OrderedDict([('rajnish', 9),\n",
       "             ('ravi', 10),\n",
       "             ('sanjeev', 15),\n",
       "             ('suraj', 32),\n",
       "             ('yash', 2)])"
      ]
     },
     "execution_count": 139,
     "metadata": {},
     "output_type": "execute_result"
    }
   ],
   "source": [
    "\n",
    "#output = [('rajnish', '9'), ('ravi', '10'), ('sanjeev', '15'), ('suraj', '32'), ('yash', '2')]\n",
    "\n",
    "def sort_(inpt):\n",
    "    item=inpt.items()\n",
    "    return OrderedDict(sorted(item))\n",
    "\n",
    "sort_(Input1)"
   ]
  },
  {
   "cell_type": "code",
   "execution_count": 158,
   "id": "e0ffa47a",
   "metadata": {},
   "outputs": [
    {
     "data": {
      "text/plain": [
       "{'yash': 2, 'rajnish': 9, 'ravi': 10, 'sanjeev': 15, 'suraj': 32}"
      ]
     },
     "execution_count": 158,
     "metadata": {},
     "output_type": "execute_result"
    }
   ],
   "source": [
    "#order by values\n",
    "\n",
    "#output {'ravi': 2, 'rajnish': 9, 'sanjeev': 10, 'yash': 15, 'suraj': 32}\n",
    "\n",
    "def order_(inpt):\n",
    "    keys_sorted=sorted(inpt,key=lambda x: inpt[x])\n",
    "    return {key:inpt[key] for key in keys_sorted}\n",
    "order_(Input1)"
   ]
  },
  {
   "cell_type": "code",
   "execution_count": 160,
   "id": "115f1f6e",
   "metadata": {},
   "outputs": [
    {
     "data": {
      "text/plain": [
       "{'yash': 2, 'rajnish': 9, 'ravi': 10, 'sanjeev': 15, 'suraj': 32}"
      ]
     },
     "execution_count": 160,
     "metadata": {},
     "output_type": "execute_result"
    }
   ],
   "source": [
    "\n",
    "dict(sorted(Input1.items(),key=lambda i:i[1]))"
   ]
  },
  {
   "cell_type": "code",
   "execution_count": null,
   "id": "dbcbfc2a",
   "metadata": {},
   "outputs": [],
   "source": []
  },
  {
   "cell_type": "markdown",
   "id": "0a2b9f54",
   "metadata": {},
   "source": [
    "#### Sort Dictionary key and values List"
   ]
  },
  {
   "cell_type": "code",
   "execution_count": 1,
   "id": "cfdea924",
   "metadata": {},
   "outputs": [],
   "source": [
    "input1= {'c': [3], 'b': [12, 10],'a': [19, 4]} \n",
    "\n",
    "#Output : {‘a’: [4, 19], ‘b’: [10, 12], ‘c’: [3]}"
   ]
  },
  {
   "cell_type": "code",
   "execution_count": 2,
   "id": "fb952c48",
   "metadata": {},
   "outputs": [
    {
     "data": {
      "text/plain": [
       "{'a': [4, 19], 'b': [10, 12], 'c': [3]}"
      ]
     },
     "execution_count": 2,
     "metadata": {},
     "output_type": "execute_result"
    }
   ],
   "source": [
    "def sort_(inpt):\n",
    "    key_sort=sorted(inpt)\n",
    "    return {key:list(sorted(inpt[key])) for key in key_sort}\n",
    "sort_(input1)"
   ]
  },
  {
   "cell_type": "code",
   "execution_count": 3,
   "id": "8ef2e89f",
   "metadata": {},
   "outputs": [
    {
     "data": {
      "text/plain": [
       "{'a': [4, 19], 'b': [10, 12], 'c': [3]}"
      ]
     },
     "execution_count": 3,
     "metadata": {},
     "output_type": "execute_result"
    }
   ],
   "source": [
    "#dictionary comprehension\n",
    "{key:sorted(input1[key]) for key in sorted(input1)}"
   ]
  },
  {
   "cell_type": "code",
   "execution_count": 14,
   "id": "532f81d9",
   "metadata": {},
   "outputs": [
    {
     "data": {
      "text/plain": [
       "{'a': [4, 19], 'b': [10, 12], 'c': [3]}"
      ]
     },
     "execution_count": 14,
     "metadata": {},
     "output_type": "execute_result"
    }
   ],
   "source": [
    "#using lambda\n",
    "\n",
    "def sorting(input1):\n",
    "    input1=dict(sorted(input1.items(),key=lambda x:x[0]))\n",
    "    return {key:sorted(value) for key,value in input1.items()}\n",
    "sorting(input1)\n",
    "    \n",
    "    \n",
    "    "
   ]
  },
  {
   "cell_type": "code",
   "execution_count": null,
   "id": "a6f00326",
   "metadata": {},
   "outputs": [],
   "source": []
  },
  {
   "cell_type": "markdown",
   "id": "d63f23ad",
   "metadata": {},
   "source": [
    "#### Handling missing keys in Python dictionaries"
   ]
  },
  {
   "cell_type": "code",
   "execution_count": 15,
   "id": "e9a19515",
   "metadata": {},
   "outputs": [],
   "source": [
    "# basic if else method\n",
    "\n",
    "inpt={'a':1,'b':3}\n",
    "\n",
    "user_key='c'"
   ]
  },
  {
   "cell_type": "code",
   "execution_count": 16,
   "id": "986c3b07",
   "metadata": {},
   "outputs": [
    {
     "name": "stdout",
     "output_type": "stream",
     "text": [
      "Given key not found\n"
     ]
    }
   ],
   "source": [
    "if user_key in inpt:\n",
    "    print(inpt[user_key])\n",
    "else:\n",
    "    print('Given key not found')"
   ]
  },
  {
   "cell_type": "code",
   "execution_count": 22,
   "id": "0b0f1a56",
   "metadata": {},
   "outputs": [
    {
     "data": {
      "text/plain": [
       "'Not Found'"
      ]
     },
     "execution_count": 22,
     "metadata": {},
     "output_type": "execute_result"
    }
   ],
   "source": [
    "#using get\n",
    "inpt.get('c', \"Not Found\")"
   ]
  },
  {
   "cell_type": "code",
   "execution_count": null,
   "id": "106697ef",
   "metadata": {},
   "outputs": [],
   "source": []
  },
  {
   "cell_type": "code",
   "execution_count": 27,
   "id": "89d9e329",
   "metadata": {},
   "outputs": [
    {
     "name": "stdout",
     "output_type": "stream",
     "text": [
      "inpt after applying set default :  {'a': 1, 'b': 3, 'c': 'not found'}\n",
      "\n",
      "c in inpt :  not found\n"
     ]
    }
   ],
   "source": [
    "#using setdefault\n",
    "\n",
    "inpt.setdefault('c','not found')\n",
    "\n",
    "print('inpt after applying set default : ',inpt)\n",
    "print()\n",
    "print('c in inpt : ' ,inpt['c'])"
   ]
  },
  {
   "cell_type": "code",
   "execution_count": null,
   "id": "e1001e9e",
   "metadata": {},
   "outputs": [],
   "source": []
  },
  {
   "cell_type": "code",
   "execution_count": 36,
   "id": "2ff636da",
   "metadata": {},
   "outputs": [
    {
     "data": {
      "text/plain": [
       "'Not found'"
      ]
     },
     "execution_count": 36,
     "metadata": {},
     "output_type": "execute_result"
    }
   ],
   "source": [
    "import collections\n",
    "\n",
    "dctnry=collections.defaultdict(lambda : 'Not found')\n",
    "\n",
    "dctnry['a']=1\n",
    "dctnry['b']=2\n",
    "dctnry['a']\n",
    "dctnry['c']"
   ]
  },
  {
   "cell_type": "code",
   "execution_count": null,
   "id": "90c2f65a",
   "metadata": {},
   "outputs": [],
   "source": []
  },
  {
   "cell_type": "markdown",
   "id": "fbf0a82d",
   "metadata": {},
   "source": [
    "##### Python dictionary with keys having multiple inputs."
   ]
  },
  {
   "cell_type": "code",
   "execution_count": 40,
   "id": "e1a5d6e8",
   "metadata": {},
   "outputs": [
    {
     "name": "stdout",
     "output_type": "stream",
     "text": [
      "[\"19.07'53.2\", \"28.33'34.1\"]\n",
      "\n",
      "[\"72.54'51.0\", \"77.06'16.6\"]\n",
      "\n",
      "['Mumbai', 'Delhi']\n"
     ]
    }
   ],
   "source": [
    "places = {(\"19.07'53.2\", \"72.54'51.0\"):\"Mumbai\", (\"28.33'34.1\", \"77.06'16.6\"):\"Delhi\"}\n",
    "\n",
    "#has lat and longitude detail as key and palce name as value\n",
    "\n",
    "long=[]\n",
    "lat=[]\n",
    "city=[]\n",
    "for i in places:\n",
    "    lat.append(i[0])\n",
    "    long.append(i[1])\n",
    "    city.append(places[i])\n",
    "    \n",
    "print(lat)\n",
    "\n",
    "print()\n",
    "\n",
    "print(long)\n",
    "\n",
    "print()\n",
    "\n",
    "print(city)\n"
   ]
  },
  {
   "cell_type": "code",
   "execution_count": null,
   "id": "ce5b84f5",
   "metadata": {},
   "outputs": [],
   "source": []
  },
  {
   "cell_type": "code",
   "execution_count": 50,
   "id": "c974fd80",
   "metadata": {},
   "outputs": [
    {
     "data": {
      "text/plain": [
       "{('b', 'c'): (3, 4), ('d', 'e'): [5, 6]}"
      ]
     },
     "execution_count": 50,
     "metadata": {},
     "output_type": "execute_result"
    }
   ],
   "source": [
    "a=dict()\n",
    "a['b','c']=3,4\n",
    "a['d','e']=[5,6]\n",
    "a"
   ]
  },
  {
   "cell_type": "code",
   "execution_count": 51,
   "id": "c6c3c8b6",
   "metadata": {},
   "outputs": [
    {
     "name": "stdout",
     "output_type": "stream",
     "text": [
      "3\n",
      "5\n"
     ]
    }
   ],
   "source": [
    "for i in a:\n",
    "    print(a[i][0])"
   ]
  },
  {
   "cell_type": "code",
   "execution_count": 53,
   "id": "2d510a64",
   "metadata": {},
   "outputs": [
    {
     "name": "stdout",
     "output_type": "stream",
     "text": [
      "b\n",
      "d\n"
     ]
    }
   ],
   "source": [
    "for i in a:\n",
    "    print(i[0])"
   ]
  },
  {
   "cell_type": "code",
   "execution_count": null,
   "id": "fbb6fec9",
   "metadata": {},
   "outputs": [],
   "source": []
  },
  {
   "cell_type": "code",
   "execution_count": 54,
   "id": "e4c2ce0a",
   "metadata": {},
   "outputs": [],
   "source": [
    "data = {\n",
    "    (1, \"John\", \"Doe\"): {\"a\": \"geeks\", \"b\": \"software\", \"c\": 75000},\n",
    "    (2, \"Jane\", \"Smith\"): {\"e\": 30, \"f\": \"for\", \"g\": 90000},\n",
    "    (3, \"Bob\", \"Johnson\"): {\"h\": 35, \"i\": \"project\", \"j\": \"geeks\"},\n",
    "    (4, \"Alice\", \"Lee\"): {\"k\": 40, \"l\": \"marketing\", \"m\": 100000}\n",
    "}"
   ]
  },
  {
   "cell_type": "code",
   "execution_count": 58,
   "id": "2f90ce84",
   "metadata": {},
   "outputs": [
    {
     "name": "stdout",
     "output_type": "stream",
     "text": [
      "geeks\n",
      "for\n",
      "geeks\n"
     ]
    }
   ],
   "source": [
    "print(data[(1,'John','Doe')]['a'])\n",
    "print(data[(2,'Jane','Smith')]['f'])\n",
    "print(data[(3,'Bob','Johnson')]['j'])"
   ]
  },
  {
   "cell_type": "code",
   "execution_count": 61,
   "id": "d6633fad",
   "metadata": {},
   "outputs": [
    {
     "data": {
      "text/plain": [
       "{'a': 'Geeks', 'b': 'Data', 'c': 10}"
      ]
     },
     "execution_count": 61,
     "metadata": {},
     "output_type": "execute_result"
    }
   ],
   "source": [
    "inpt=['Geeks','Data',10]\n",
    "for i in data[(1,'John','Doe')]:\n",
    "    if i=='a':\n",
    "        data[(1,'John','Doe')][i]=inpt[0]\n",
    "    elif i=='b':\n",
    "        data[(1,'John','Doe')][i]=inpt[1]\n",
    "    else:\n",
    "        data[(1,'John','Doe')][i]=inpt[2]\n",
    "        \n",
    "data[(1,'John','Doe')]"
   ]
  },
  {
   "cell_type": "code",
   "execution_count": null,
   "id": "8d04a735",
   "metadata": {},
   "outputs": [],
   "source": []
  },
  {
   "cell_type": "markdown",
   "id": "ecd0aeff",
   "metadata": {},
   "source": [
    "#### Print anagrams together in Python using List and Dictionary"
   ]
  },
  {
   "cell_type": "code",
   "execution_count": 68,
   "id": "01ce8aba",
   "metadata": {},
   "outputs": [],
   "source": [
    "arr = ['cat','dog', 'tac', 'god', 'act']  #Input\n",
    "\n",
    "#Output: ‘cat tac act dog god’"
   ]
  },
  {
   "cell_type": "code",
   "execution_count": 71,
   "id": "e52eac21",
   "metadata": {},
   "outputs": [
    {
     "data": {
      "text/plain": [
       "'cat tac act dog god'"
      ]
     },
     "execution_count": 71,
     "metadata": {},
     "output_type": "execute_result"
    }
   ],
   "source": [
    "def anagram(inpt):\n",
    "    out=[]\n",
    "    for i in inpt:\n",
    "        if i not in out:\n",
    "            out.append(i)\n",
    "            for j in inpt:\n",
    "                if j!=i:\n",
    "                    len_=0\n",
    "                    for h in j:\n",
    "                          if h in i:\n",
    "                                len_+=1\n",
    "                    if len_==len(j)  :\n",
    "                         out.append(j)\n",
    "        \n",
    "        \n",
    "    return \" \".join(out)\n",
    "\n",
    "anagram(arr)\n",
    "            \n",
    "            "
   ]
  },
  {
   "cell_type": "code",
   "execution_count": null,
   "id": "a15c2a0c",
   "metadata": {},
   "outputs": [],
   "source": []
  },
  {
   "cell_type": "code",
   "execution_count": 79,
   "id": "696a0674",
   "metadata": {},
   "outputs": [
    {
     "data": {
      "text/plain": [
       "'cat tac act cat god dog'"
      ]
     },
     "execution_count": 79,
     "metadata": {},
     "output_type": "execute_result"
    }
   ],
   "source": [
    "arr = ['cat','dog', 'tac', 'god', 'act','cat']  #Input\n",
    "\n",
    "#Output: ‘cat tac act cat dog god’\n",
    "\n",
    "def anagram1(inpt):\n",
    "    out=[]\n",
    "    for i in inpt:\n",
    "        if i not in out:\n",
    "            out.append(i)\n",
    "            compare=i\n",
    "            inpt.remove(i)\n",
    "            for j in inpt:\n",
    "                len_=0\n",
    "                for  h in j:\n",
    "                    if h in compare:\n",
    "                        len_+=1\n",
    "                if len_==len(j):\n",
    "                      out.append(j)\n",
    "    return  \" \".join(out)\n",
    "\n",
    "anagram1(arr)"
   ]
  },
  {
   "cell_type": "markdown",
   "id": "b9c92db0",
   "metadata": {},
   "source": [
    "### Imp using dict"
   ]
  },
  {
   "cell_type": "code",
   "execution_count": 109,
   "id": "fa88a407",
   "metadata": {},
   "outputs": [
    {
     "data": {
      "text/plain": [
       "'cat tac act dog god'"
      ]
     },
     "execution_count": 109,
     "metadata": {},
     "output_type": "execute_result"
    }
   ],
   "source": [
    "from itertools import chain\n",
    "arr = ['cat','dog', 'tac', 'god', 'act']\n",
    "\n",
    "def anagram2(inpt):\n",
    "    out={}\n",
    "    for val in arr:\n",
    "        \n",
    "        key=\"\".join(sorted(val))\n",
    "        \n",
    "        if key in out.keys():\n",
    "            out[key].append(val)\n",
    "            \n",
    "        else:\n",
    "            out[key]=[]\n",
    "            out[key].append(val)\n",
    "            \n",
    "    value=list(chain(*out.values()))\n",
    "    return \" \".join(value)\n",
    "\n",
    "anagram2(arr)"
   ]
  },
  {
   "cell_type": "code",
   "execution_count": 110,
   "id": "5bdaeb1c",
   "metadata": {},
   "outputs": [
    {
     "data": {
      "text/plain": [
       "'cat tac act dog god'"
      ]
     },
     "execution_count": 110,
     "metadata": {},
     "output_type": "execute_result"
    }
   ],
   "source": [
    "def anagram2(inpt):\n",
    "    out={}\n",
    "    for val in arr:\n",
    "        \n",
    "        key=\"\".join(sorted(val))\n",
    "        \n",
    "        if key in out.keys():\n",
    "            out[key].append(val)\n",
    "            \n",
    "        else:\n",
    "            out[key]=[]\n",
    "            out[key].append(val)\n",
    "    output=\"\"\n",
    "    for key,val in out.items():\n",
    "        if output:\n",
    "            output=output+\" \"+\" \".join(val)\n",
    "        else:\n",
    "            output=\" \".join(val)\n",
    "    return output\n",
    "\n",
    "anagram2(arr)"
   ]
  },
  {
   "cell_type": "code",
   "execution_count": null,
   "id": "ff36fb1c",
   "metadata": {},
   "outputs": [],
   "source": []
  },
  {
   "cell_type": "markdown",
   "id": "18959953",
   "metadata": {},
   "source": [
    "#### K’th Non-repeating Character in Python using List Comprehension and OrderedDict"
   ]
  },
  {
   "cell_type": "code",
   "execution_count": 112,
   "id": "2520b1c5",
   "metadata": {},
   "outputs": [],
   "source": [
    "inpt = 'geeksforgeeks'\n",
    "k = 3\n",
    "#Output : r"
   ]
  },
  {
   "cell_type": "code",
   "execution_count": 116,
   "id": "fbfaa982",
   "metadata": {},
   "outputs": [
    {
     "data": {
      "text/plain": [
       "'r'"
      ]
     },
     "execution_count": 116,
     "metadata": {},
     "output_type": "execute_result"
    }
   ],
   "source": [
    "from collections import Counter\n",
    "def kth (inpt,k):\n",
    "    dictn=Counter(inpt)\n",
    "    non_rptng=[key for key , value in dictn.items() if value==1]\n",
    "    return non_rptng[k-1]\n",
    "kth(inpt,k)  "
   ]
  },
  {
   "cell_type": "code",
   "execution_count": 121,
   "id": "ba549d1a",
   "metadata": {},
   "outputs": [
    {
     "data": {
      "text/plain": [
       "'r'"
      ]
     },
     "execution_count": 121,
     "metadata": {},
     "output_type": "execute_result"
    }
   ],
   "source": [
    "def kth_non(inpt,k):\n",
    "    dictn={}\n",
    "    for i in inpt:\n",
    "        dictn[i]=dictn.get(i,0)+1\n",
    "    return [key for key,value in dictn.items() if value==1][k-1]\n",
    "\n",
    "kth_non(inpt,k)"
   ]
  },
  {
   "cell_type": "code",
   "execution_count": 125,
   "id": "4d582aa9",
   "metadata": {},
   "outputs": [
    {
     "data": {
      "text/plain": [
       "'r'"
      ]
     },
     "execution_count": 125,
     "metadata": {},
     "output_type": "execute_result"
    }
   ],
   "source": [
    "#using ordered dict and fromkeys\n",
    "from collections import OrderedDict\n",
    "def kth_(inpt,k):\n",
    "    dictn=OrderedDict.fromkeys(inpt,0)\n",
    "    for i in inpt:\n",
    "        dictn[i]=dictn[i]+1\n",
    "    return [key for key,value in dictn.items() if value==1][k-1]\n",
    "\n",
    "kth_(inpt,k)"
   ]
  },
  {
   "cell_type": "code",
   "execution_count": null,
   "id": "db817a2b",
   "metadata": {},
   "outputs": [],
   "source": []
  },
  {
   "cell_type": "markdown",
   "id": "9050ee59",
   "metadata": {},
   "source": [
    "#### Python Counter to find the size of largest subset of anagram words"
   ]
  },
  {
   "cell_type": "code",
   "execution_count": 126,
   "id": "5fef2e9a",
   "metadata": {},
   "outputs": [],
   "source": [
    "Input='ant magenta magnate tan gnamate'\n",
    "\n",
    "#output 3 \n"
   ]
  },
  {
   "cell_type": "code",
   "execution_count": 129,
   "id": "accac558",
   "metadata": {},
   "outputs": [
    {
     "data": {
      "text/plain": [
       "3"
      ]
     },
     "execution_count": 129,
     "metadata": {},
     "output_type": "execute_result"
    }
   ],
   "source": [
    "def large_len(inpt):\n",
    "    lst_words=inpt.split()\n",
    "    dictn=dict()\n",
    "    for val in lst_words:\n",
    "        key=\"\".join(sorted(val))\n",
    "        if key in dictn.keys():\n",
    "                dictn[key].append(val)\n",
    "            \n",
    "        else:\n",
    "            dictn[key]=[]\n",
    "            dictn[key].append(val)\n",
    "            \n",
    "    return max([len(val) for val in dictn.values()])\n",
    "\n",
    "large_len(Input)"
   ]
  },
  {
   "cell_type": "code",
   "execution_count": 130,
   "id": "6759b1f9",
   "metadata": {},
   "outputs": [
    {
     "data": {
      "text/plain": [
       "2"
      ]
     },
     "execution_count": 130,
     "metadata": {},
     "output_type": "execute_result"
    }
   ],
   "source": [
    "Input=\"cars bikes arcs steer\"\n",
    "\n",
    "large_len(Input)"
   ]
  },
  {
   "cell_type": "code",
   "execution_count": null,
   "id": "7712b410",
   "metadata": {},
   "outputs": [],
   "source": []
  },
  {
   "cell_type": "markdown",
   "id": "85389d8e",
   "metadata": {},
   "source": [
    "#### Remove all duplicates words from a given sentence."
   ]
  },
  {
   "cell_type": "code",
   "execution_count": 2,
   "id": "ac842d04",
   "metadata": {},
   "outputs": [],
   "source": [
    "Input = 'Geeks for Geeks'\n",
    "# Geeks for\n"
   ]
  },
  {
   "cell_type": "code",
   "execution_count": 4,
   "id": "025ad593",
   "metadata": {},
   "outputs": [
    {
     "data": {
      "text/plain": [
       "'Geeks for'"
      ]
     },
     "execution_count": 4,
     "metadata": {},
     "output_type": "execute_result"
    }
   ],
   "source": [
    "def remove_dup(Input):\n",
    "    dictn=dict()\n",
    "    list_=Input.split()\n",
    "    \n",
    "    for i in list_:\n",
    "            dictn[i]=dictn.get(i,0)+1\n",
    "            \n",
    "    return \" \".join(list(dictn.keys()))\n",
    "\n",
    "remove_dup(Input)"
   ]
  },
  {
   "cell_type": "code",
   "execution_count": 8,
   "id": "ff65cbff",
   "metadata": {},
   "outputs": [
    {
     "data": {
      "text/plain": [
       "'Geeks for'"
      ]
     },
     "execution_count": 8,
     "metadata": {},
     "output_type": "execute_result"
    }
   ],
   "source": [
    "from collections import OrderedDict\n",
    "\n",
    "def remove_dup1(Input):\n",
    "    dictn=OrderedDict.fromkeys(Input.split())\n",
    "    return \" \".join(list(dictn.keys()))\n",
    "\n",
    "remove_dup1(Input)"
   ]
  },
  {
   "cell_type": "code",
   "execution_count": 12,
   "id": "32b8eff0",
   "metadata": {},
   "outputs": [
    {
     "data": {
      "text/plain": [
       "'Python is great and Java also'"
      ]
     },
     "execution_count": 12,
     "metadata": {},
     "output_type": "execute_result"
    }
   ],
   "source": [
    "Input='Python is great and Java is also great'\n",
    "\n",
    "remove_dup1(Input)"
   ]
  },
  {
   "cell_type": "code",
   "execution_count": null,
   "id": "96a7ddc7",
   "metadata": {},
   "outputs": [],
   "source": []
  },
  {
   "cell_type": "code",
   "execution_count": 18,
   "id": "f9e8688d",
   "metadata": {},
   "outputs": [
    {
     "data": {
      "text/plain": [
       "'Python is great and Java also'"
      ]
     },
     "execution_count": 18,
     "metadata": {},
     "output_type": "execute_result"
    }
   ],
   "source": [
    "def split_dup(Input):\n",
    "    a=Input.split()\n",
    "    b=[]\n",
    "    for i in a:\n",
    "        if i not in b:\n",
    "            b.append(i)\n",
    "    return \" \".join(b)\n",
    "\n",
    "Input='Python is great and Java is also great'\n",
    "split_dup(Input)"
   ]
  },
  {
   "cell_type": "code",
   "execution_count": 19,
   "id": "f55c222e",
   "metadata": {},
   "outputs": [
    {
     "data": {
      "text/plain": [
       "'Geeks for'"
      ]
     },
     "execution_count": 19,
     "metadata": {},
     "output_type": "execute_result"
    }
   ],
   "source": [
    "split_dup(\"Geeks for Geeks\")"
   ]
  },
  {
   "cell_type": "code",
   "execution_count": 21,
   "id": "3b72a48a",
   "metadata": {},
   "outputs": [
    {
     "data": {
      "text/plain": [
       "'also and is Java great Python'"
      ]
     },
     "execution_count": 21,
     "metadata": {},
     "output_type": "execute_result"
    }
   ],
   "source": [
    "\" \".join(set(Input.split()))"
   ]
  },
  {
   "cell_type": "code",
   "execution_count": null,
   "id": "bd4c29ac",
   "metadata": {},
   "outputs": [],
   "source": []
  },
  {
   "cell_type": "code",
   "execution_count": 24,
   "id": "fe190af9",
   "metadata": {},
   "outputs": [
    {
     "data": {
      "text/plain": [
       "'Python is great and Java also'"
      ]
     },
     "execution_count": 24,
     "metadata": {},
     "output_type": "execute_result"
    }
   ],
   "source": [
    "#using reduce\n",
    "from functools import reduce\n",
    "\n",
    "def remv_dup(Input):\n",
    "    lst_=Input.split()\n",
    "    result=reduce(lambda x,y:x+[y] if y not in x else x ,lst_,[] )\n",
    "    \n",
    "    return \" \".join(result)\n",
    "\n",
    "remv_dup(Input)"
   ]
  },
  {
   "cell_type": "code",
   "execution_count": 26,
   "id": "02f63b1d",
   "metadata": {},
   "outputs": [
    {
     "data": {
      "text/plain": [
       "'Geeks for'"
      ]
     },
     "execution_count": 26,
     "metadata": {},
     "output_type": "execute_result"
    }
   ],
   "source": [
    "remv_dup(\"Geeks for Geeks\")"
   ]
  },
  {
   "cell_type": "code",
   "execution_count": null,
   "id": "32a0e11b",
   "metadata": {},
   "outputs": [],
   "source": []
  },
  {
   "cell_type": "code",
   "execution_count": 30,
   "id": "35eaaf87",
   "metadata": {},
   "outputs": [
    {
     "name": "stdout",
     "output_type": "stream",
     "text": [
      "Python and Java is also great \n",
      "\n",
      "For Geeks \n"
     ]
    }
   ],
   "source": [
    "#using recursion \n",
    "\n",
    "def recrse(Input):\n",
    "    lst_=Input.split()\n",
    "    if lst_:\n",
    "        if lst_[0] in lst_[1:]:\n",
    "            return recrse(\" \".join(lst_[1:]))\n",
    "        else :\n",
    "            return lst_[0]+\" \"+recrse(\" \".join(lst_[1:]))\n",
    "    else:\n",
    "        return \"\"\n",
    "\n",
    "print(recrse(Input))\n",
    "\n",
    "print()\n",
    "\n",
    "print(recrse(\"Geeks For Geeks\"))"
   ]
  },
  {
   "cell_type": "code",
   "execution_count": null,
   "id": "48fe0bde",
   "metadata": {},
   "outputs": [],
   "source": []
  },
  {
   "cell_type": "markdown",
   "id": "c8b6f35c",
   "metadata": {},
   "source": [
    "#### Python Dictionary to find mirror characters in a string"
   ]
  },
  {
   "cell_type": "markdown",
   "id": "ec26d5ef",
   "metadata": {},
   "source": [
    "Given a string and a number N, we need to mirror the characters from the N-th position up to the length of the string in alphabetical order. In mirror operation, we change ‘a’ to ‘z’, ‘b’ to ‘y’, and so on."
   ]
  },
  {
   "cell_type": "code",
   "execution_count": 32,
   "id": "153d8545",
   "metadata": {},
   "outputs": [],
   "source": [
    "Input='paradox'\n",
    "n=3\n",
    "#output paizwlc"
   ]
  },
  {
   "cell_type": "code",
   "execution_count": 35,
   "id": "394ab164",
   "metadata": {},
   "outputs": [],
   "source": [
    "pre='abcdefghijklmnopqrstuvwxyz'\n",
    "\n",
    "miror=\"\".join(sorted(pre,reverse=True))"
   ]
  },
  {
   "cell_type": "code",
   "execution_count": 46,
   "id": "0d301d7a",
   "metadata": {},
   "outputs": [
    {
     "data": {
      "text/plain": [
       "'pneumlmrz'"
      ]
     },
     "execution_count": 46,
     "metadata": {},
     "output_type": "execute_result"
    }
   ],
   "source": [
    "def mirrored(Input,k):\n",
    "    global pre\n",
    "    global miror\n",
    "    pre_mir=dict(zip(pre,miror))\n",
    "    Input_dict={i:Input[i] for i in range(len(Input))}\n",
    "    for i in range(k-1,len(Input)):\n",
    "        Input_dict[i]=pre_mir[Input_dict[i]]\n",
    "        \n",
    "    return \"\".join(list(Input_dict.values()))\n",
    "mirrored(Input,n)        "
   ]
  },
  {
   "cell_type": "code",
   "execution_count": 47,
   "id": "2046eb04",
   "metadata": {},
   "outputs": [
    {
     "data": {
      "text/plain": [
       "'pneumlmrz'"
      ]
     },
     "execution_count": 47,
     "metadata": {},
     "output_type": "execute_result"
    }
   ],
   "source": [
    "Input='pneumonia'\n",
    "n= 6\n",
    "#out_put pneumlmrz\n",
    "\n",
    "mirrored(Input,n)"
   ]
  },
  {
   "cell_type": "code",
   "execution_count": 52,
   "id": "56feeab4",
   "metadata": {},
   "outputs": [
    {
     "data": {
      "text/plain": [
       "'pneumlmrz'"
      ]
     },
     "execution_count": 52,
     "metadata": {},
     "output_type": "execute_result"
    }
   ],
   "source": [
    "def mirrored(Input,k):\n",
    "    pre='abcdefghijklmnopqrstuvwxyz'\n",
    "    suf=\"\".join(list(sorted(pre,reverse=True)))\n",
    "    dicn=dict(zip(pre,suf))\n",
    "    \n",
    "    \n",
    "    prefix=Input[:k-1]\n",
    "    suffix=Input[k-1:]\n",
    "    \n",
    "    miror=''\n",
    "    for i in range(len(suffix)):\n",
    "        miror=miror+dicn[suffix[i]]\n",
    "    \n",
    "    return prefix+miror\n",
    "\n",
    "mirrored(Input,n)"
   ]
  },
  {
   "cell_type": "code",
   "execution_count": null,
   "id": "618727ae",
   "metadata": {},
   "outputs": [],
   "source": []
  },
  {
   "cell_type": "markdown",
   "id": "82c6b33d",
   "metadata": {},
   "source": [
    "#### Counting the frequencies in a list using dictionary in Python"
   ]
  },
  {
   "cell_type": "code",
   "execution_count": 53,
   "id": "47d33560",
   "metadata": {},
   "outputs": [],
   "source": [
    "Input=[1, 1, 1, 5, 5, 3, 1, 3, 3, 1,4, 4, 4, 2, 2, 2, 2]\n",
    "\n",
    "#output ({1: 5, 5: 2, 3: 3, 4: 3, 2: 4}"
   ]
  },
  {
   "cell_type": "code",
   "execution_count": 58,
   "id": "854f1d1e",
   "metadata": {},
   "outputs": [
    {
     "data": {
      "text/plain": [
       "{1: 5, 5: 2, 3: 3, 4: 3, 2: 4}"
      ]
     },
     "execution_count": 58,
     "metadata": {},
     "output_type": "execute_result"
    }
   ],
   "source": [
    "\n",
    "def count_(Input):\n",
    "    counts=dict.fromkeys(Input,0)\n",
    "    for i in Input:\n",
    "        counts[i]=counts.get(i)+1\n",
    "    return counts\n",
    "\n",
    "count_(Input) "
   ]
  },
  {
   "cell_type": "code",
   "execution_count": 61,
   "id": "dedf69c5",
   "metadata": {},
   "outputs": [
    {
     "data": {
      "text/plain": [
       "{1: 5, 2: 4, 3: 3, 4: 3, 5: 2}"
      ]
     },
     "execution_count": 61,
     "metadata": {},
     "output_type": "execute_result"
    }
   ],
   "source": [
    "sortd=list(set(Input))\n",
    "{i:Input.count(i) for i in sortd}"
   ]
  },
  {
   "cell_type": "code",
   "execution_count": null,
   "id": "b1f1f282",
   "metadata": {},
   "outputs": [],
   "source": []
  },
  {
   "cell_type": "markdown",
   "id": "2f6f2e43",
   "metadata": {},
   "source": [
    "#### Convert a list of Tuples into Dictionary."
   ]
  },
  {
   "cell_type": "code",
   "execution_count": 62,
   "id": "794512f9",
   "metadata": {},
   "outputs": [],
   "source": [
    "Input=[(\"akash\", 10), (\"gaurav\", 12), (\"anand\", 14),(\"suraj\", 20), (\"akhil\", 25), (\"ashish\", 30)]\n",
    "\n",
    "#out {'akash': [10], 'gaurav': [12], 'anand': [14], 'ashish': [30], 'akhil': [25], 'suraj': [20]}"
   ]
  },
  {
   "cell_type": "code",
   "execution_count": 63,
   "id": "495305c0",
   "metadata": {},
   "outputs": [
    {
     "data": {
      "text/plain": [
       "{'akash': [10],\n",
       " 'gaurav': [12],\n",
       " 'anand': [14],\n",
       " 'suraj': [20],\n",
       " 'akhil': [25],\n",
       " 'ashish': [30]}"
      ]
     },
     "execution_count": 63,
     "metadata": {},
     "output_type": "execute_result"
    }
   ],
   "source": [
    "def dictn(Input):\n",
    "    output=[(i,[j]) for i, j in Input]\n",
    "    return dict( output)\n",
    "dictn(Input)"
   ]
  },
  {
   "cell_type": "code",
   "execution_count": 67,
   "id": "270c0ef7",
   "metadata": {},
   "outputs": [
    {
     "data": {
      "text/plain": [
       "{'akash': [10],\n",
       " 'gaurav': [12],\n",
       " 'anand': [14],\n",
       " 'suraj': [20],\n",
       " 'akhil': [25],\n",
       " 'ashish': [30]}"
      ]
     },
     "execution_count": 67,
     "metadata": {},
     "output_type": "execute_result"
    }
   ],
   "source": [
    "def dictn1(inpt):\n",
    "    out_={}\n",
    "    for i ,j in inpt:\n",
    "        out_.setdefault(i,[j])\n",
    "        \n",
    "    return out_\n",
    "dictn1(Input)"
   ]
  },
  {
   "cell_type": "code",
   "execution_count": null,
   "id": "f106137b",
   "metadata": {},
   "outputs": [],
   "source": []
  },
  {
   "cell_type": "markdown",
   "id": "06f2b081",
   "metadata": {},
   "source": [
    "##### Python counter and dictionary intersection example."
   ]
  },
  {
   "cell_type": "markdown",
   "id": "c9dc5a93",
   "metadata": {},
   "source": [
    "Given two strings, find if we can make first string from second by deleting some characters from second and rearranging remaining characters. "
   ]
  },
  {
   "cell_type": "code",
   "execution_count": 70,
   "id": "6d201802",
   "metadata": {},
   "outputs": [],
   "source": [
    "s1='ABHISHEKsinGH'\n",
    "s2 ='gfhfBHkooIHnfndSHEKsiAnG'\n",
    "#output Posible\n"
   ]
  },
  {
   "cell_type": "code",
   "execution_count": 73,
   "id": "8e69ae91",
   "metadata": {},
   "outputs": [
    {
     "name": "stdout",
     "output_type": "stream",
     "text": [
      "Possible\n"
     ]
    }
   ],
   "source": [
    "from collections import Counter\n",
    "def possible_or_not(inpt1,inpt2):\n",
    "    dict1=Counter(inpt1)\n",
    "    dict2=Counter(inpt2)\n",
    "    len_=0\n",
    "    for i in dict1:\n",
    "        if i in dict2 and dict2[i]>=dict1[i]:\n",
    "            len_+=1\n",
    "    print('Possible') if len_==len(list(dict1.keys())) else print(\"not possible\")\n",
    "    \n",
    "possible_or_not(s1,s2)    "
   ]
  },
  {
   "cell_type": "code",
   "execution_count": 75,
   "id": "89c0b25d",
   "metadata": {},
   "outputs": [
    {
     "name": "stdout",
     "output_type": "stream",
     "text": [
      "not possible\n"
     ]
    }
   ],
   "source": [
    "possible_or_not('Hello' ,'LinkedIn')"
   ]
  },
  {
   "cell_type": "code",
   "execution_count": null,
   "id": "35d42d12",
   "metadata": {},
   "outputs": [],
   "source": []
  },
  {
   "cell_type": "markdown",
   "id": "85da51c1",
   "metadata": {},
   "source": [
    "#### Python dictionary, set and counter to check if frequencies can become same."
   ]
  },
  {
   "cell_type": "code",
   "execution_count": 1,
   "id": "3543d0c5",
   "metadata": {},
   "outputs": [],
   "source": [
    "inpt='xyyz'\n",
    "#output Possible\n",
    "\n",
    "inpt2='xyyzz'\n",
    "#out Possible\n",
    "\n",
    "inpt3='xxxxyyzz'\n",
    "#out Not possible"
   ]
  },
  {
   "cell_type": "code",
   "execution_count": 92,
   "id": "eb0d6f5a",
   "metadata": {},
   "outputs": [
    {
     "name": "stdout",
     "output_type": "stream",
     "text": [
      "Possible\n"
     ]
    }
   ],
   "source": [
    "def can_not(inpt):\n",
    "    count_=Counter(inpt)\n",
    "    possibility=[]\n",
    "    for i in count_:\n",
    "        flag=0\n",
    "        for j in count_:\n",
    "            if count_[j]!= count_[i] and count_[j]-1 != count_[i] and count_[j]-1!=0:\n",
    "                flag=1\n",
    "                break\n",
    "        if flag==1:\n",
    "            possibility.append(False)\n",
    "        else:\n",
    "            possibility.append(True)\n",
    "    print(\"Possible\") if any(possibility)  else  print('Not possible')\n",
    "    \n",
    "can_not(inpt)    "
   ]
  },
  {
   "cell_type": "code",
   "execution_count": 93,
   "id": "2936ce8c",
   "metadata": {},
   "outputs": [
    {
     "name": "stdout",
     "output_type": "stream",
     "text": [
      "Possible\n"
     ]
    }
   ],
   "source": [
    "inpt2='xyyzz'\n",
    "#out Possible\n",
    "can_not(inpt2)"
   ]
  },
  {
   "cell_type": "code",
   "execution_count": 94,
   "id": "76e63b1e",
   "metadata": {},
   "outputs": [
    {
     "name": "stdout",
     "output_type": "stream",
     "text": [
      "Not possible\n"
     ]
    }
   ],
   "source": [
    "inpt3='xxxxyyzz'\n",
    "#out Not possible\n",
    "can_not(inpt3)"
   ]
  },
  {
   "cell_type": "code",
   "execution_count": null,
   "id": "121fa157",
   "metadata": {},
   "outputs": [],
   "source": []
  },
  {
   "cell_type": "code",
   "execution_count": 3,
   "id": "d3a1e707",
   "metadata": {},
   "outputs": [
    {
     "name": "stdout",
     "output_type": "stream",
     "text": [
      "Possible\n"
     ]
    }
   ],
   "source": [
    "#atmost one element is allowed to remove \n",
    "from collections import Counter\n",
    "def same(inpt1):\n",
    "    dictn=Counter(inpt1)\n",
    "    values=list(set(dictn.values()))\n",
    "    if len(values)>2:\n",
    "        print('Not possible')\n",
    "    elif len(values)==2 and values[1]-values[0]>1:\n",
    "        print(\"Not possible\")\n",
    "        \n",
    "    else:\n",
    "        print(\"Possible\")\n",
    "        \n",
    "same(inpt)"
   ]
  },
  {
   "cell_type": "code",
   "execution_count": 4,
   "id": "9dc8fd6d",
   "metadata": {},
   "outputs": [
    {
     "name": "stdout",
     "output_type": "stream",
     "text": [
      "Not possible\n"
     ]
    }
   ],
   "source": [
    "same(inpt3)"
   ]
  },
  {
   "cell_type": "code",
   "execution_count": null,
   "id": "1945db36",
   "metadata": {},
   "outputs": [],
   "source": []
  },
  {
   "cell_type": "markdown",
   "id": "25a589fc",
   "metadata": {},
   "source": [
    "#### Possible Words using given characters in Python."
   ]
  },
  {
   "cell_type": "code",
   "execution_count": 20,
   "id": "4ca6ee16",
   "metadata": {},
   "outputs": [],
   "source": [
    "Dict = [\"go\",\"bat\",\"me\",\"eat\",\"goal\",\"boy\", \"run\"]\n",
    "arr = ['e','o','b', 'a','m','g', 'l']\n",
    "#Output : go, me, goal. "
   ]
  },
  {
   "cell_type": "code",
   "execution_count": 18,
   "id": "811d51d8",
   "metadata": {},
   "outputs": [
    {
     "name": "stdout",
     "output_type": "stream",
     "text": [
      "goo, me, goal, "
     ]
    }
   ],
   "source": [
    "#using no dict method \n",
    "\n",
    "def possible_words(list1,sublist):\n",
    "    possible=[]\n",
    "    for i in list1:\n",
    "        len_=0\n",
    "        for j in i:\n",
    "            if j in sublist:\n",
    "                len_+=1\n",
    "        if len_==len(i):\n",
    "            print(i,end=\", \")\n",
    "            \n",
    "    \n",
    "    \n",
    "possible_words(Dict , arr)    "
   ]
  },
  {
   "cell_type": "code",
   "execution_count": 21,
   "id": "0ebaf3b3",
   "metadata": {},
   "outputs": [
    {
     "name": "stdout",
     "output_type": "stream",
     "text": [
      "me, goal, "
     ]
    }
   ],
   "source": [
    "Dict = [\"goo\",\"bat\",\"me\",\"eat\",\"goal\",\"boy\", \"run\"]\n",
    "arr = ['e','o','b', 'a','m','g', 'l']\n",
    "#Output : me, goal. \n",
    "\n",
    "def word_count(word):\n",
    "    dictn={}\n",
    "    for i in word:\n",
    "        dictn[i]=dictn.get(i,0)+1\n",
    "    return dictn\n",
    "\n",
    "def words_possible(inpt,charset):\n",
    "    for word in inpt:\n",
    "        dict_word=word_count(word)\n",
    "        flag=0\n",
    "        for key in dict_word.keys():\n",
    "            if key not in charset:\n",
    "                flag=1\n",
    "                break\n",
    "            elif charset.count(key)<dict_word[key]:\n",
    "                flag=1\n",
    "                break\n",
    "            else:\n",
    "                flag=0\n",
    "        print(word,end=\", \") if flag==0 else None       \n",
    "        \n",
    "        \n",
    "words_possible(Dict , arr)        \n",
    "        "
   ]
  },
  {
   "cell_type": "code",
   "execution_count": null,
   "id": "6d208724",
   "metadata": {},
   "outputs": [],
   "source": []
  },
  {
   "cell_type": "markdown",
   "id": "744b4159",
   "metadata": {},
   "source": [
    "#### Python – Keys associated with Values in Dictionary"
   ]
  },
  {
   "cell_type": "code",
   "execution_count": 24,
   "id": "c3d09607",
   "metadata": {},
   "outputs": [],
   "source": [
    "test_dict = {'abc' : [10, 30], 'bcd' : [30, 40, 10]} \n",
    "#Output : {10: [‘abc’, ‘bcd’], 30: [‘abc’, ‘bcd’], 40: [‘bcd’]}"
   ]
  },
  {
   "cell_type": "code",
   "execution_count": 32,
   "id": "32eb069b",
   "metadata": {},
   "outputs": [
    {
     "data": {
      "text/plain": [
       "{10: ['abc', 'bcd'], 30: ['abc', 'bcd'], 40: ['bcd']}"
      ]
     },
     "execution_count": 32,
     "metadata": {},
     "output_type": "execute_result"
    }
   ],
   "source": [
    "def function(inpt):\n",
    "    dictn={}\n",
    "    for key , value in (inpt.items()):\n",
    "        for i in (value):\n",
    "            if i in dictn:\n",
    "                dictn[i].append(key)\n",
    "            else:\n",
    "                dictn[i]=[]\n",
    "                dictn[i].append(key)\n",
    "    return dictn\n",
    "function(test_dict)"
   ]
  },
  {
   "cell_type": "code",
   "execution_count": null,
   "id": "33ceafc9",
   "metadata": {},
   "outputs": [],
   "source": []
  }
 ],
 "metadata": {
  "kernelspec": {
   "display_name": "Python 3 (ipykernel)",
   "language": "python",
   "name": "python3"
  },
  "language_info": {
   "codemirror_mode": {
    "name": "ipython",
    "version": 3
   },
   "file_extension": ".py",
   "mimetype": "text/x-python",
   "name": "python",
   "nbconvert_exporter": "python",
   "pygments_lexer": "ipython3",
   "version": "3.9.7"
  }
 },
 "nbformat": 4,
 "nbformat_minor": 5
}
