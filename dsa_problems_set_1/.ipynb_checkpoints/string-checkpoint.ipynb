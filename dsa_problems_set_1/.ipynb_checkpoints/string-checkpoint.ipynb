{
 "cells": [
  {
   "cell_type": "markdown",
   "id": "a2d063fb",
   "metadata": {},
   "source": [
    "# String"
   ]
  },
  {
   "cell_type": "markdown",
   "id": "4511c3d1",
   "metadata": {},
   "source": [
    "###### 1. Python Program to Check if a String is Palindrome or Not"
   ]
  },
  {
   "cell_type": "markdown",
   "id": "4a1517c7",
   "metadata": {},
   "source": [
    "A string is said to be a palindrome if the reverse of the string is the same as the string"
   ]
  },
  {
   "cell_type": "code",
   "execution_count": 2,
   "id": "b14eb4fd",
   "metadata": {},
   "outputs": [],
   "source": [
    "input1='coding'       #False\n",
    "input2='malayalam'    #True"
   ]
  },
  {
   "cell_type": "code",
   "execution_count": 2,
   "id": "1116115b",
   "metadata": {},
   "outputs": [
    {
     "data": {
      "text/plain": [
       "False"
      ]
     },
     "execution_count": 2,
     "metadata": {},
     "output_type": "execute_result"
    }
   ],
   "source": [
    "#for loop\n",
    "\n",
    "def palindrome(inpt):\n",
    "    inpt=inpt.lower()\n",
    "    a=[]\n",
    "    for i in range(len(inpt)//2):\n",
    "        a.append(True) if inpt[i]==inpt[-i-1] else a.append(False)\n",
    "    return all(a)\n",
    "\n",
    "palindrome(input1)\n",
    "        \n",
    "    "
   ]
  },
  {
   "cell_type": "code",
   "execution_count": 3,
   "id": "670f6953",
   "metadata": {},
   "outputs": [
    {
     "data": {
      "text/plain": [
       "True"
      ]
     },
     "execution_count": 3,
     "metadata": {},
     "output_type": "execute_result"
    }
   ],
   "source": [
    "palindrome(input2)"
   ]
  },
  {
   "cell_type": "code",
   "execution_count": 8,
   "id": "5af60eec",
   "metadata": {},
   "outputs": [
    {
     "name": "stdout",
     "output_type": "stream",
     "text": [
      "input1 :  Not palindrome\n",
      "\n",
      "input2 :  Palindrome\n"
     ]
    }
   ],
   "source": [
    "#while loop and flag method\n",
    "\n",
    "def palindrome1(inpt):\n",
    "    inpt=inpt.lower()\n",
    "    i=0\n",
    "    flag=0\n",
    "    while i<len(inpt)//2:\n",
    "        if inpt[i]!=inpt[-i-1]:\n",
    "                flag=1\n",
    "                break\n",
    "        \n",
    "        i+=1\n",
    "    return 'Palindrome' if flag==0 else \"Not palindrome\"\n",
    "print('input1 : ' ,palindrome1(input1))\n",
    "print()\n",
    "print('input2 : ',palindrome1(input2))"
   ]
  },
  {
   "cell_type": "code",
   "execution_count": 5,
   "id": "da9ff44d",
   "metadata": {},
   "outputs": [
    {
     "name": "stdout",
     "output_type": "stream",
     "text": [
      "False\n",
      "True\n"
     ]
    }
   ],
   "source": [
    "#reverse indexing\n",
    "def palindrome2(strng):\n",
    "    strng=strng.lower()\n",
    "    return strng==strng[::-1]\n",
    "print(palindrome2(input1))\n",
    "print(palindrome2(input2))"
   ]
  },
  {
   "cell_type": "code",
   "execution_count": 6,
   "id": "6ba917ab",
   "metadata": {},
   "outputs": [
    {
     "name": "stdout",
     "output_type": "stream",
     "text": [
      "False\n",
      "True\n"
     ]
    }
   ],
   "source": [
    "#using join and reversed\n",
    "def plndrm(strng):\n",
    "    strng=strng.lower()\n",
    "    new=\"\".join(reversed(strng))\n",
    "    return new==strng\n",
    "\n",
    "print(plndrm(input1))\n",
    "print(plndrm(input2))"
   ]
  },
  {
   "cell_type": "code",
   "execution_count": 7,
   "id": "b241beee",
   "metadata": {},
   "outputs": [
    {
     "name": "stdout",
     "output_type": "stream",
     "text": [
      "False\n",
      "True\n"
     ]
    }
   ],
   "source": [
    "#Addition property of string\n",
    "\n",
    "def plnd(strng):\n",
    "    strng=strng.lower()\n",
    "    w=''\n",
    "    for i in range(len(strng)):\n",
    "        w+=strng[-i-1]\n",
    "    return w==strng\n",
    "\n",
    "print(plnd(input1))\n",
    "print(plnd(input2))"
   ]
  },
  {
   "cell_type": "code",
   "execution_count": 3,
   "id": "0dcbd418",
   "metadata": {},
   "outputs": [
    {
     "data": {
      "text/plain": [
       "True"
      ]
     },
     "execution_count": 3,
     "metadata": {},
     "output_type": "execute_result"
    }
   ],
   "source": [
    "#recursion\n",
    "def pln(strng):\n",
    "    strng=strng.lower()\n",
    "    l=len(strng)\n",
    "    if l<2:         \n",
    "        return True\n",
    "    if strng[0]==strng[l-1]:\n",
    "        return pln(strng[1:l-1])\n",
    "    else :\n",
    "         return False\n",
    "pln(input2)    "
   ]
  },
  {
   "cell_type": "code",
   "execution_count": 9,
   "id": "5c94ca3b",
   "metadata": {},
   "outputs": [
    {
     "data": {
      "text/plain": [
       "False"
      ]
     },
     "execution_count": 9,
     "metadata": {},
     "output_type": "execute_result"
    }
   ],
   "source": [
    "pln(input1)"
   ]
  },
  {
   "cell_type": "code",
   "execution_count": null,
   "id": "d9b426ad",
   "metadata": {},
   "outputs": [],
   "source": []
  },
  {
   "cell_type": "markdown",
   "id": "883a00c9",
   "metadata": {},
   "source": [
    "###### 2. Python program to check whether the string is Symmetrical or Palindrome"
   ]
  },
  {
   "cell_type": "markdown",
   "id": "2b332644",
   "metadata": {},
   "source": [
    "A string is said to be symmetrical if both the halves of the string are the same."
   ]
  },
  {
   "cell_type": "code",
   "execution_count": 6,
   "id": "9d99feaa",
   "metadata": {},
   "outputs": [],
   "source": [
    "inpt1='Momo'     #symmetric not plndrm\n",
    "inpt2='amaama'   #symtrc and palindrme"
   ]
  },
  {
   "cell_type": "code",
   "execution_count": 19,
   "id": "0aec9e46",
   "metadata": {},
   "outputs": [
    {
     "name": "stdout",
     "output_type": "stream",
     "text": [
      "For inpt1 :\n",
      "Symmetric\n",
      "Not palindrome\n",
      "------------------------------\n",
      "-------------------------------\n",
      "For inpt2 :\n",
      "Symmetric\n",
      "Palindrom\n"
     ]
    }
   ],
   "source": [
    "#using for loop\n",
    "def sym_palindrome(a):\n",
    "    a=a.lower()\n",
    "    sym=0\n",
    "    pali=0\n",
    "    #sym or not\n",
    "    if len(a)%2!=0:\n",
    "        sym=1\n",
    "    elif a[:len(a)//2]!=a[len(a)//2:]:\n",
    "        sym=1\n",
    "    \n",
    "    #pal or not\n",
    "    for i in range(len(a)//2):\n",
    "        if a[i]!=a[-i-1]:\n",
    "            pali=1\n",
    "    print(\"Symmetric\") if sym==0 else print(\"Not symmetric\")\n",
    "    print('Palindrom') if pali==0 else print(\"Not palindrome\")\n",
    "    \n",
    "    \n",
    "#checking our function    \n",
    "print('For inpt1 :')\n",
    "sym_palindrome(inpt1)\n",
    "\n",
    "print('------------------------------\\n-------------------------------')\n",
    "\n",
    "print('For inpt2 :')\n",
    "sym_palindrome(inpt2)"
   ]
  },
  {
   "cell_type": "code",
   "execution_count": 7,
   "id": "e6feea1e",
   "metadata": {},
   "outputs": [],
   "source": [
    "#using while\n",
    "def sym_pal(inpt):\n",
    "    inpt=inpt.lower()\n",
    "    symtric=0\n",
    "    plndrm=0\n",
    "    i=0\n",
    "    j=len(inpt)//2\n",
    "    #To check symmetry\n",
    "    while i<len(inpt)//2:\n",
    "        if  inpt[i]!=inpt[j]:\n",
    "            symtric=1\n",
    "            break\n",
    "        else:\n",
    "            i+=1\n",
    "            j+=1\n",
    "    #to check palindrome or not        \n",
    "    a=0\n",
    "    while a <len(inpt)//2:\n",
    "        if inpt[a]!=inpt[-a-1]:\n",
    "            plndrm=1\n",
    "            break\n",
    "        else : a+=1\n",
    "    print(\"Yes its symmetric\") if symtric==0 else print(\"Not its not symmetric\")\n",
    "    print(\"Yes its palndrm\") if plndrm==0 else print(\"No its not palindrome\")\n"
   ]
  },
  {
   "cell_type": "code",
   "execution_count": 8,
   "id": "765fe4ac",
   "metadata": {},
   "outputs": [
    {
     "name": "stdout",
     "output_type": "stream",
     "text": [
      "Yes its symmetric\n",
      "No its not palindrome\n"
     ]
    }
   ],
   "source": [
    "sym_pal(inpt1)"
   ]
  },
  {
   "cell_type": "code",
   "execution_count": 9,
   "id": "995d5b1a",
   "metadata": {},
   "outputs": [
    {
     "name": "stdout",
     "output_type": "stream",
     "text": [
      "Yes its symmetric\n",
      "Yes its palndrm\n"
     ]
    }
   ],
   "source": [
    "sym_pal(inpt2)"
   ]
  },
  {
   "cell_type": "code",
   "execution_count": 14,
   "id": "fa137ccf",
   "metadata": {},
   "outputs": [
    {
     "name": "stdout",
     "output_type": "stream",
     "text": [
      "Symmetric\n",
      "Not a palindrome\n"
     ]
    }
   ],
   "source": [
    "#Using slicing\n",
    "def check(inpt):\n",
    "    inpt=inpt.lower()\n",
    "    frst=inpt[:len(inpt)//2]\n",
    "    scnd=inpt[len(inpt)//2:]\n",
    "    print(\"Symmetric\") if frst==scnd else print(\"Not symmetric\")\n",
    "    print(\"Palindrome\") if inpt==inpt[::-1] else print(\"Not a palindrome\")\n",
    "check(inpt1)"
   ]
  },
  {
   "cell_type": "code",
   "execution_count": 15,
   "id": "11d58bca",
   "metadata": {
    "scrolled": true
   },
   "outputs": [
    {
     "name": "stdout",
     "output_type": "stream",
     "text": [
      "Symmetric\n",
      "Palindrome\n"
     ]
    }
   ],
   "source": [
    "check(inpt2)"
   ]
  },
  {
   "cell_type": "code",
   "execution_count": null,
   "id": "db96c9cf",
   "metadata": {},
   "outputs": [],
   "source": []
  },
  {
   "cell_type": "markdown",
   "id": "e7b789ac",
   "metadata": {},
   "source": [
    "###### 3. Reverse Words in a Given String in Python"
   ]
  },
  {
   "cell_type": "code",
   "execution_count": 20,
   "id": "a16447a0",
   "metadata": {},
   "outputs": [],
   "source": [
    "inpt= \"Iam iron man and attack is my plan\"\n",
    "\n",
    "#out put = 'plan my is attack and man iron Iam'\n"
   ]
  },
  {
   "cell_type": "code",
   "execution_count": 13,
   "id": "b52e50a1",
   "metadata": {},
   "outputs": [
    {
     "data": {
      "text/plain": [
       "'plan my is attack and man iron Iam'"
      ]
     },
     "execution_count": 13,
     "metadata": {},
     "output_type": "execute_result"
    }
   ],
   "source": [
    "#Manually\n",
    "\n",
    "w=\"\"\n",
    "rvrs=[]\n",
    "\n",
    "for i in range(len(inpt)):\n",
    "    if inpt[-i-1] !=\" \":\n",
    "        w+=inpt[-i-1]\n",
    "    else:\n",
    "        rvrs.append(w[::-1])\n",
    "        \n",
    "        w=\"\"\n",
    "rvrs.append(w[::-1])\n",
    "    \n",
    "\" \".join(rvrs)"
   ]
  },
  {
   "cell_type": "code",
   "execution_count": null,
   "id": "6b2a745f",
   "metadata": {},
   "outputs": [],
   "source": []
  },
  {
   "cell_type": "code",
   "execution_count": 17,
   "id": "c95a9a4d",
   "metadata": {},
   "outputs": [
    {
     "data": {
      "text/plain": [
       "'plan my is attack and man iron Iam'"
      ]
     },
     "execution_count": 17,
     "metadata": {},
     "output_type": "execute_result"
    }
   ],
   "source": [
    "#Using split and join\n",
    "def rvrs(inpt):\n",
    "    lst=inpt.split()\n",
    "    return \" \".join(lst[::-1])\n",
    "rvrs(inpt)"
   ]
  },
  {
   "cell_type": "code",
   "execution_count": 18,
   "id": "534416fe",
   "metadata": {},
   "outputs": [
    {
     "data": {
      "text/plain": [
       "'plan my is attack and man iron Iam'"
      ]
     },
     "execution_count": 18,
     "metadata": {},
     "output_type": "execute_result"
    }
   ],
   "source": [
    "#Using negative indexing\n",
    "def rvrs(inpt):\n",
    "    lst=inpt.split()\n",
    "    otpt=\"\"\n",
    "    for i in range(len(lst)):\n",
    "        if i==0:\n",
    "             otpt+=lst[-i-1]\n",
    "        else:\n",
    "            otpt=otpt+\" \"+lst[-i-1]\n",
    "    return otpt\n",
    "rvrs(inpt)"
   ]
  },
  {
   "cell_type": "code",
   "execution_count": 19,
   "id": "17c6fa12",
   "metadata": {},
   "outputs": [
    {
     "data": {
      "text/plain": [
       "'plan my is attack and man iron Iam'"
      ]
     },
     "execution_count": 19,
     "metadata": {},
     "output_type": "execute_result"
    }
   ],
   "source": [
    "#split and reversed method\n",
    "\n",
    "def rvrs(inpt):\n",
    "    lst=reversed(inpt.split())\n",
    "    return \" \".join(lst)\n",
    "rvrs(inpt)"
   ]
  },
  {
   "cell_type": "code",
   "execution_count": 21,
   "id": "01f8be73",
   "metadata": {},
   "outputs": [
    {
     "data": {
      "text/plain": [
       "'plan my is attack and man iron Iam'"
      ]
     },
     "execution_count": 21,
     "metadata": {},
     "output_type": "execute_result"
    }
   ],
   "source": [
    "#using regex\n",
    "\n",
    "import regex as re\n",
    "def rvrs(inpt):\n",
    "    lst=re.findall(\"\\w+\",inpt)\n",
    "    return \" \".join([lst[i] for i in range(len(lst)-1,-1,-1)])\n",
    "rvrs(inpt)"
   ]
  },
  {
   "cell_type": "code",
   "execution_count": 21,
   "id": "978470d8",
   "metadata": {},
   "outputs": [
    {
     "data": {
      "text/plain": [
       "'plan my is attack and man iron Iam'"
      ]
     },
     "execution_count": 21,
     "metadata": {},
     "output_type": "execute_result"
    }
   ],
   "source": [
    "#Above fn simplified\n",
    "def rvrs(inpt):\n",
    "    lst=re.findall(\"\\w+\",inpt)  #splits the string and gives list of words\n",
    "    lst1=[]                     #dummy list for which we will add wrds frm lst in reverse order\n",
    "    for i in range(len(lst)-1,-1,-1):   #i goes in renverse order\n",
    "        lst1.append(lst[i])\n",
    "    return \" \".join(lst1)    #Joins all element in lst1 add keeps space in btwn each word (\" \")\n",
    "rvrs(inpt)"
   ]
  },
  {
   "cell_type": "code",
   "execution_count": 22,
   "id": "5f7fd8f4",
   "metadata": {},
   "outputs": [
    {
     "data": {
      "text/plain": [
       "'plan my is attack and man iron Iam'"
      ]
     },
     "execution_count": 22,
     "metadata": {},
     "output_type": "execute_result"
    }
   ],
   "source": [
    "#Using pop\n",
    "def rvrs1(inpt):\n",
    "    strn=[]\n",
    "    lst=inpt.split()\n",
    "    while lst:\n",
    "        strn.append(lst.pop())\n",
    "    return \" \".join(strn)\n",
    "rvrs1(inpt)\n",
    "        "
   ]
  },
  {
   "cell_type": "code",
   "execution_count": 23,
   "id": "77e37f0c",
   "metadata": {},
   "outputs": [
    {
     "data": {
      "text/plain": [
       "'plan my is attack and man iron Iam'"
      ]
     },
     "execution_count": 23,
     "metadata": {},
     "output_type": "execute_result"
    }
   ],
   "source": [
    "#Two pointer aproach\n",
    "lst=inpt.split()\n",
    "i=0\n",
    "j=len(lst)-1\n",
    "while i <len(lst)//2:\n",
    "    lst[i],lst[j]=lst[j],lst[i]\n",
    "    i+=1\n",
    "    j-=1\n",
    "\" \".join(lst)"
   ]
  },
  {
   "cell_type": "code",
   "execution_count": null,
   "id": "0588aa90",
   "metadata": {},
   "outputs": [],
   "source": []
  },
  {
   "cell_type": "markdown",
   "id": "efdc7f03",
   "metadata": {},
   "source": [
    "###### 4. How to Remove Letters From a String in Python"
   ]
  },
  {
   "cell_type": "markdown",
   "id": "9d2876fd",
   "metadata": {},
   "source": [
    "Methods can be used\n",
    "\n",
    "Using str.replace()\n",
    "\n",
    "Using translate()\n",
    "\n",
    "Using recursion\n",
    "\n",
    "Using Native Method\n",
    "\n",
    "Using slice + concatenation\n",
    "\n",
    "Using str.join()\n",
    "\n",
    "Using bytearray\n",
    "\n",
    "Using removeprefix()\n"
   ]
  },
  {
   "cell_type": "code",
   "execution_count": 29,
   "id": "51bbf5e3",
   "metadata": {},
   "outputs": [],
   "source": [
    "inpt='Hifolks@123 welcome to 123'\n",
    "#remove 123"
   ]
  },
  {
   "cell_type": "code",
   "execution_count": 30,
   "id": "aa202e6c",
   "metadata": {},
   "outputs": [
    {
     "data": {
      "text/plain": [
       "'Hifolks@ welcome to '"
      ]
     },
     "execution_count": 30,
     "metadata": {},
     "output_type": "execute_result"
    }
   ],
   "source": [
    "def rmv(inpt,remove):\n",
    "    return inpt.replace(remove,\"\")\n",
    "rmv(inpt,\"123\")"
   ]
  },
  {
   "cell_type": "code",
   "execution_count": 28,
   "id": "485a4fa2",
   "metadata": {},
   "outputs": [
    {
     "data": {
      "text/plain": [
       "'Hi folks @  welcome to 123'"
      ]
     },
     "execution_count": 28,
     "metadata": {},
     "output_type": "execute_result"
    }
   ],
   "source": [
    "inpt.replace(\"123\",\"\",1)  #Only first appeaarance will be removed"
   ]
  },
  {
   "cell_type": "code",
   "execution_count": 33,
   "id": "559a2337",
   "metadata": {},
   "outputs": [],
   "source": [
    "inpt=\"Thank123you123\""
   ]
  },
  {
   "cell_type": "code",
   "execution_count": 37,
   "id": "d7a0910d",
   "metadata": {},
   "outputs": [
    {
     "data": {
      "text/plain": [
       "'Thankyou'"
      ]
     },
     "execution_count": 37,
     "metadata": {},
     "output_type": "execute_result"
    }
   ],
   "source": [
    "#Using translate\n",
    "inpt.translate({ord(i):None for i in '123'})"
   ]
  },
  {
   "cell_type": "code",
   "execution_count": 39,
   "id": "669999b3",
   "metadata": {},
   "outputs": [
    {
     "data": {
      "text/plain": [
       "'Linedin'"
      ]
     },
     "execution_count": 39,
     "metadata": {},
     "output_type": "execute_result"
    }
   ],
   "source": [
    "#recursion\n",
    "def rmv(inpt,index):\n",
    "    if index==0:\n",
    "        return inpt[1:]\n",
    "    else:\n",
    "        return inpt[0]+rmv(inpt[1:],index-1)\n",
    "rmv(\"Linkedin\",3)   #should remove k \n"
   ]
  },
  {
   "cell_type": "code",
   "execution_count": 44,
   "id": "2ee81df6",
   "metadata": {},
   "outputs": [
    {
     "data": {
      "text/plain": [
       "'Thank2you2'"
      ]
     },
     "execution_count": 44,
     "metadata": {},
     "output_type": "execute_result"
    }
   ],
   "source": [
    "#Use for loop\n",
    "inpt=\"Thank123you123\" #remove 1 and 3\n",
    "def rmv (inpt,remove):\n",
    "    \"remove must be list conataining things to be removed\"\n",
    "    for i in remove:\n",
    "        if i in inpt:\n",
    "            inpt=inpt.replace(i,\"\")\n",
    "    return inpt\n",
    "rmv(inpt,['1','3'])"
   ]
  },
  {
   "cell_type": "code",
   "execution_count": 60,
   "id": "28078228",
   "metadata": {},
   "outputs": [
    {
     "data": {
      "text/plain": [
       "'Thank  you '"
      ]
     },
     "execution_count": 60,
     "metadata": {},
     "output_type": "execute_result"
    }
   ],
   "source": [
    "#using String addition property\n",
    "def rmv (inpt,remove):\n",
    "    w=''\n",
    "    for i in inpt:\n",
    "        if i not in remove:\n",
    "            w+=i\n",
    "    return w\n",
    "inpt=\"Thank 123 you 123\"\n",
    "rmv(inpt,['1','2','3'])"
   ]
  },
  {
   "cell_type": "code",
   "execution_count": null,
   "id": "78e8d8bc",
   "metadata": {},
   "outputs": [],
   "source": []
  },
  {
   "cell_type": "code",
   "execution_count": 46,
   "id": "3f92745c",
   "metadata": {},
   "outputs": [
    {
     "data": {
      "text/plain": [
       "'LinedIn'"
      ]
     },
     "execution_count": 46,
     "metadata": {},
     "output_type": "execute_result"
    }
   ],
   "source": [
    "#String concatenation\n",
    "def rmv(inpt , index) : #Mention index of element which u need to remove\n",
    "    return inpt[:index] + inpt[index+1:]\n",
    "rmv(\"LinkedIn\",3)"
   ]
  },
  {
   "cell_type": "code",
   "execution_count": 47,
   "id": "a1605d46",
   "metadata": {},
   "outputs": [
    {
     "data": {
      "text/plain": [
       "'Lined IN'"
      ]
     },
     "execution_count": 47,
     "metadata": {},
     "output_type": "execute_result"
    }
   ],
   "source": [
    "#Join\n",
    "def rmv(inpt,index):\n",
    "    new_list=[inpt[i] for i in range(len(inpt)) if i!=index]\n",
    "    return \"\".join(new_list)\n",
    "rmv(\"Linked IN\",3)"
   ]
  },
  {
   "cell_type": "code",
   "execution_count": 49,
   "id": "18758559",
   "metadata": {},
   "outputs": [
    {
     "data": {
      "text/plain": [
       "'hank ou Linked in'"
      ]
     },
     "execution_count": 49,
     "metadata": {},
     "output_type": "execute_result"
    }
   ],
   "source": [
    "#Using remove prefix\n",
    "inpt='Thank you Linked in'\n",
    "inpt[:6].removeprefix(\"T\")+inpt[7:].removeprefix('y')\n"
   ]
  },
  {
   "cell_type": "code",
   "execution_count": 15,
   "id": "f82fc418",
   "metadata": {},
   "outputs": [
    {
     "data": {
      "text/plain": [
       "'hi@students'"
      ]
     },
     "execution_count": 15,
     "metadata": {},
     "output_type": "execute_result"
    }
   ],
   "source": [
    "input1='hi@123students123'\n",
    "remove='123'\n",
    "\n",
    "def remove_(input_,remove):\n",
    "    \n",
    "    out_=''\n",
    "    i=0\n",
    "    while i<len(input_):\n",
    "                \n",
    "                if input_[i]==remove[0] and input_[i+1]==remove[1] and input_[i+2]==remove[2]:\n",
    "                                   i+=3\n",
    "                else:\n",
    "                        out_+=input_[i]\n",
    "                        i+=1\n",
    "    return out_\n",
    "                        \n",
    "remove_(input1,remove)                    "
   ]
  },
  {
   "cell_type": "code",
   "execution_count": null,
   "id": "51bf416d",
   "metadata": {},
   "outputs": [],
   "source": []
  },
  {
   "cell_type": "markdown",
   "id": "238f882f",
   "metadata": {},
   "source": [
    "###### 5. Check if String Contains Substring in Python"
   ]
  },
  {
   "cell_type": "code",
   "execution_count": 57,
   "id": "9e934174",
   "metadata": {},
   "outputs": [],
   "source": [
    "#Inputs\n",
    "Main=\"Hi linked in Family\"  #Main string\n",
    "#Sub strings to be checked\n",
    "sub2='Family'  \n",
    "sub='Gym'\n",
    "sub3='inke'"
   ]
  },
  {
   "cell_type": "code",
   "execution_count": 58,
   "id": "aac7cd5d",
   "metadata": {},
   "outputs": [
    {
     "name": "stdout",
     "output_type": "stream",
     "text": [
      "Yes substrng present in main\n",
      "No substrng not present in main\n",
      "Yes substrng present in main\n"
     ]
    }
   ],
   "source": [
    "#using in operator\n",
    "def chck(Main,sub2):\n",
    "    print(\"Yes substrng present in main\") if sub2 in Main else print(\"No substrng not present in main\")\n",
    "\n",
    "chck(Main,sub2)\n",
    "chck(Main,sub)\n",
    "chck(Main,sub3)"
   ]
  },
  {
   "cell_type": "code",
   "execution_count": 76,
   "id": "f143a242",
   "metadata": {},
   "outputs": [
    {
     "name": "stdout",
     "output_type": "stream",
     "text": [
      "Yes substrng present in main\n"
     ]
    }
   ],
   "source": [
    "chck(Main,'itate') "
   ]
  },
  {
   "cell_type": "code",
   "execution_count": 59,
   "id": "928567fa",
   "metadata": {},
   "outputs": [
    {
     "data": {
      "text/plain": [
       "'Yes substring present'"
      ]
     },
     "execution_count": 59,
     "metadata": {},
     "output_type": "execute_result"
    }
   ],
   "source": [
    "#Using recursion\n",
    "\n",
    "#Inputs\n",
    "Main=\"Monks meditate\"\n",
    "sub='Monks'  #output yes\n",
    "sub2='Monk'    #out put yes\n",
    "\n",
    "#Defining function\n",
    "\n",
    "def mtch(Main,sub):\n",
    "    if len(Main)<len(sub):\n",
    "        return \"No substring is not present\"\n",
    "    if Main[:len(sub)]==sub:\n",
    "        return \"Yes substring present\"\n",
    "    else: return mtch(Main[1:],sub) \n",
    "    \n",
    "#Checking results     \n",
    "mtch(Main,sub2)"
   ]
  },
  {
   "cell_type": "code",
   "execution_count": 53,
   "id": "60d11803",
   "metadata": {},
   "outputs": [
    {
     "data": {
      "text/plain": [
       "'No substring is not present'"
      ]
     },
     "execution_count": 53,
     "metadata": {},
     "output_type": "execute_result"
    }
   ],
   "source": [
    "mtch(Main,sub)"
   ]
  },
  {
   "cell_type": "code",
   "execution_count": 44,
   "id": "bafa04c1",
   "metadata": {},
   "outputs": [
    {
     "data": {
      "text/plain": [
       "'No substring is not present'"
      ]
     },
     "execution_count": 44,
     "metadata": {},
     "output_type": "execute_result"
    }
   ],
   "source": [
    "mtch(Main,\"Than\")"
   ]
  },
  {
   "cell_type": "code",
   "execution_count": 45,
   "id": "6d41dfd3",
   "metadata": {},
   "outputs": [
    {
     "data": {
      "text/plain": [
       "'Yes substring present'"
      ]
     },
     "execution_count": 45,
     "metadata": {},
     "output_type": "execute_result"
    }
   ],
   "source": [
    "mtch(Main,\" \")"
   ]
  },
  {
   "cell_type": "code",
   "execution_count": 69,
   "id": "d914c54c",
   "metadata": {},
   "outputs": [
    {
     "name": "stdout",
     "output_type": "stream",
     "text": [
      "Yes given substring is present in main string\n",
      "\n",
      "Given substring is not present in main string\n"
     ]
    }
   ],
   "source": [
    "#Using Find Method\n",
    "\n",
    "#Input\n",
    "Main=\"Monks meditate\"\n",
    "sub1='Monk'\n",
    "sub2='Fun'\n",
    "\n",
    "def prsnt(main,sub):\n",
    "    if Main.find(sub)==-1:\n",
    "        return \"Given substring is not present in main string\"\n",
    "    else :\n",
    "        return \"Yes given substring is present in main string\"\n",
    "    \n",
    "#checking oour fucntion\n",
    "\n",
    "print(prsnt(Main,sub1))\n",
    "print()\n",
    "print(prsnt(Main,sub2))"
   ]
  },
  {
   "cell_type": "code",
   "execution_count": 23,
   "id": "7c94d58d",
   "metadata": {},
   "outputs": [
    {
     "name": "stdout",
     "output_type": "stream",
     "text": [
      "Yes it is present\n"
     ]
    }
   ],
   "source": [
    "#Using count method\n",
    "#Input\n",
    "Main=\"Monks meditate\"\n",
    "sub1='Monk'\n",
    "sub2='Fun'\n",
    "\n",
    "def count_(Main,sub):\n",
    "    print(\"Yes it is present\") if Main.count(sub)>0 else print(\"No it is not present\")\n",
    "    \n",
    "count_(Main,sub1)"
   ]
  },
  {
   "cell_type": "code",
   "execution_count": 79,
   "id": "d429a577",
   "metadata": {},
   "outputs": [
    {
     "name": "stdout",
     "output_type": "stream",
     "text": [
      "No it is not present\n"
     ]
    }
   ],
   "source": [
    "count_(Main,sub2)"
   ]
  },
  {
   "cell_type": "code",
   "execution_count": 88,
   "id": "e378763a",
   "metadata": {},
   "outputs": [
    {
     "data": {
      "text/plain": [
       "0"
      ]
     },
     "execution_count": 88,
     "metadata": {},
     "output_type": "execute_result"
    }
   ],
   "source": [
    "#using index method\n",
    "#Input\n",
    "Main=\"Monks meditate\"\n",
    "sub1='Monk'\n",
    "sub2='Fun'\n",
    "\n",
    "\n",
    "def prsnt(main,sub):\n",
    "    return main.index(sub)\n",
    "#If the given substring is not present in main string it throws an value error else returns index of \n",
    "#first appearance\n",
    "\n",
    "prsnt(Main,sub1)"
   ]
  },
  {
   "cell_type": "code",
   "execution_count": 90,
   "id": "5b881d6e",
   "metadata": {},
   "outputs": [
    {
     "ename": "ValueError",
     "evalue": "substring not found",
     "output_type": "error",
     "traceback": [
      "\u001b[1;31m---------------------------------------------------------------------------\u001b[0m",
      "\u001b[1;31mValueError\u001b[0m                                Traceback (most recent call last)",
      "\u001b[1;32m~\\AppData\\Local\\Temp/ipykernel_4312/3884656752.py\u001b[0m in \u001b[0;36m<module>\u001b[1;34m\u001b[0m\n\u001b[1;32m----> 1\u001b[1;33m \u001b[0mprsnt\u001b[0m\u001b[1;33m(\u001b[0m\u001b[0mMain\u001b[0m\u001b[1;33m,\u001b[0m\u001b[0msub2\u001b[0m\u001b[1;33m)\u001b[0m \u001b[1;31m#you will get an value error\u001b[0m\u001b[1;33m\u001b[0m\u001b[1;33m\u001b[0m\u001b[0m\n\u001b[0m",
      "\u001b[1;32m~\\AppData\\Local\\Temp/ipykernel_4312/4100252083.py\u001b[0m in \u001b[0;36mprsnt\u001b[1;34m(main, sub)\u001b[0m\n\u001b[0;32m      7\u001b[0m \u001b[1;33m\u001b[0m\u001b[0m\n\u001b[0;32m      8\u001b[0m \u001b[1;32mdef\u001b[0m \u001b[0mprsnt\u001b[0m\u001b[1;33m(\u001b[0m\u001b[0mmain\u001b[0m\u001b[1;33m,\u001b[0m\u001b[0msub\u001b[0m\u001b[1;33m)\u001b[0m\u001b[1;33m:\u001b[0m\u001b[1;33m\u001b[0m\u001b[1;33m\u001b[0m\u001b[0m\n\u001b[1;32m----> 9\u001b[1;33m     \u001b[1;32mreturn\u001b[0m \u001b[0mmain\u001b[0m\u001b[1;33m.\u001b[0m\u001b[0mindex\u001b[0m\u001b[1;33m(\u001b[0m\u001b[0msub\u001b[0m\u001b[1;33m)\u001b[0m\u001b[1;33m\u001b[0m\u001b[1;33m\u001b[0m\u001b[0m\n\u001b[0m\u001b[0;32m     10\u001b[0m \u001b[1;31m#If the given substring is not present in main string it throws an value error else returns index of\u001b[0m\u001b[1;33m\u001b[0m\u001b[1;33m\u001b[0m\u001b[0m\n\u001b[0;32m     11\u001b[0m \u001b[1;31m#first appearance\u001b[0m\u001b[1;33m\u001b[0m\u001b[1;33m\u001b[0m\u001b[0m\n",
      "\u001b[1;31mValueError\u001b[0m: substring not found"
     ]
    }
   ],
   "source": [
    "prsnt(Main,sub2) #you will get an value error"
   ]
  },
  {
   "cell_type": "markdown",
   "id": "70f96709",
   "metadata": {},
   "source": [
    "Well we have got value error because sub2 is not present in main string"
   ]
  },
  {
   "cell_type": "code",
   "execution_count": 92,
   "id": "a99141fe",
   "metadata": {},
   "outputs": [
    {
     "name": "stdout",
     "output_type": "stream",
     "text": [
      "Yes present\n"
     ]
    }
   ],
   "source": [
    "#Using lambda and filter method\n",
    "\n",
    "#Input\n",
    "Main=\"Monks meditate\"\n",
    "sub1='Monk'\n",
    "sub2='Fun'\n",
    "\n",
    "#function\n",
    "def prsnt(Main,sub):\n",
    "    x=list(filter(lambda x:sub in x,Main.split()))\n",
    "    print(\"Yes present\") if x else print(\"No not present\")\n",
    "\n",
    "#checking sub1 \n",
    "prsnt(Main,sub1)"
   ]
  },
  {
   "cell_type": "code",
   "execution_count": null,
   "id": "1963b84d",
   "metadata": {},
   "outputs": [],
   "source": []
  },
  {
   "cell_type": "code",
   "execution_count": 93,
   "id": "e965b5fc",
   "metadata": {},
   "outputs": [
    {
     "name": "stdout",
     "output_type": "stream",
     "text": [
      "No not present\n"
     ]
    }
   ],
   "source": [
    "prsnt(Main,sub2)"
   ]
  },
  {
   "cell_type": "code",
   "execution_count": 1,
   "id": "50e78b34",
   "metadata": {},
   "outputs": [
    {
     "name": "stdout",
     "output_type": "stream",
     "text": [
      "yes\n"
     ]
    }
   ],
   "source": [
    "#Using regular expresion\n",
    "\n",
    "import regex as re\n",
    "\n",
    "#define function\n",
    "def prsnt(Main,sub):\n",
    "    if re.search(sub,Main):\n",
    "        print(\"yes\")\n",
    "    else:print(\"No\")\n",
    "\n",
    "#Testing our function\n",
    "prsnt(\"Iam good\" , 'good')\n"
   ]
  },
  {
   "cell_type": "code",
   "execution_count": null,
   "id": "14369da3",
   "metadata": {},
   "outputs": [],
   "source": []
  },
  {
   "cell_type": "markdown",
   "id": "7a9a539b",
   "metadata": {},
   "source": [
    "###### 6. Finding frequency of words in string"
   ]
  },
  {
   "cell_type": "code",
   "execution_count": 5,
   "id": "8aa4ca81",
   "metadata": {},
   "outputs": [
    {
     "data": {
      "text/plain": [
       "{'India': 2, 'pm': 1, 'returned': 1, 'to': 1}"
      ]
     },
     "execution_count": 5,
     "metadata": {},
     "output_type": "execute_result"
    }
   ],
   "source": [
    "#input\n",
    "inpt=\"India pm returned to India\"\n",
    "\n",
    "#out put\n",
    "{\"India\":2 ,\"pm\":1,\"returned\":1,'to':1}"
   ]
  },
  {
   "cell_type": "code",
   "execution_count": 108,
   "id": "8250a8de",
   "metadata": {},
   "outputs": [
    {
     "data": {
      "text/plain": [
       "{'India': 2, 'pm': 1, 'returned': 1, 'to': 1}"
      ]
     },
     "execution_count": 108,
     "metadata": {},
     "output_type": "execute_result"
    }
   ],
   "source": [
    "#Using count method\n",
    "\n",
    "import regex as re #re to find all words in string\n",
    "\n",
    "def freq(inpt):\n",
    "    lst=re.findall('\\w+',inpt)\n",
    "    frequency={}\n",
    "    for i in lst:\n",
    "        frequency[i]=lst.count(i)\n",
    "    return frequency\n",
    "freq(inpt)\n",
    "    "
   ]
  },
  {
   "cell_type": "code",
   "execution_count": 111,
   "id": "8c9c9a49",
   "metadata": {},
   "outputs": [
    {
     "data": {
      "text/plain": [
       "{'India': 2, 'pm': 1, 'returned': 1, 'to': 1}"
      ]
     },
     "execution_count": 111,
     "metadata": {},
     "output_type": "execute_result"
    }
   ],
   "source": [
    "#one can use split in above method\n",
    "def freq(inpt):\n",
    "    return {i:inpt.split().count(i) for i in inpt.split()}\n",
    "freq(inpt)"
   ]
  },
  {
   "cell_type": "code",
   "execution_count": 120,
   "id": "c9bb0f31",
   "metadata": {},
   "outputs": [
    {
     "data": {
      "text/plain": [
       "Counter({'India': 2, 'pm': 1, 'returned': 1, 'to': 1})"
      ]
     },
     "execution_count": 120,
     "metadata": {},
     "output_type": "execute_result"
    }
   ],
   "source": [
    "#using counter method\n",
    "from collections import Counter\n",
    "\n",
    "def freq1(inpt):\n",
    "    return Counter(inpt.split())\n",
    "\n",
    "freq1(inpt)"
   ]
  },
  {
   "cell_type": "code",
   "execution_count": 122,
   "id": "8c11fb65",
   "metadata": {},
   "outputs": [
    {
     "data": {
      "text/plain": [
       "{'pm': 1, 'returned': 1, 'India': 2, 'to': 1}"
      ]
     },
     "execution_count": 122,
     "metadata": {},
     "output_type": "execute_result"
    }
   ],
   "source": [
    "#one can use set after spliting to iterate\n",
    "def freq(inpt):\n",
    "    return {i:inpt.count(i) for i in set(inpt.split())}\n",
    "freq(inpt)"
   ]
  },
  {
   "cell_type": "code",
   "execution_count": 6,
   "id": "7838f8b3",
   "metadata": {},
   "outputs": [
    {
     "data": {
      "text/plain": [
       "{'India': 2, 'pm': 1, 'returned': 1, 'to': 1}"
      ]
     },
     "execution_count": 6,
     "metadata": {},
     "output_type": "execute_result"
    }
   ],
   "source": [
    "#using for loop\n",
    "def cnt(a):\n",
    "    dctn=dict()\n",
    "    lst=inpt.split()\n",
    "    for i in lst:\n",
    "        count=0\n",
    "        if i not in dctn:\n",
    "            for j in lst:\n",
    "                if i==j:\n",
    "                    count+=1\n",
    "            dctn[i]=count\n",
    "    return dctn\n",
    "cnt(inpt)\n",
    "                    "
   ]
  },
  {
   "cell_type": "code",
   "execution_count": null,
   "id": "89060133",
   "metadata": {},
   "outputs": [],
   "source": []
  },
  {
   "cell_type": "markdown",
   "id": "bf6f0a63",
   "metadata": {},
   "source": [
    "###### 7. Convert Snake case to Pascal case"
   ]
  },
  {
   "cell_type": "code",
   "execution_count": 8,
   "id": "798df9c9",
   "metadata": {},
   "outputs": [],
   "source": [
    "inpt=\"Linked_in_job_portal\"\n",
    "#output 'LinkedInJobPortal'"
   ]
  },
  {
   "cell_type": "code",
   "execution_count": 9,
   "id": "a89ba1a5",
   "metadata": {},
   "outputs": [
    {
     "data": {
      "text/plain": [
       "'LinkedInJobPortal'"
      ]
     },
     "execution_count": 9,
     "metadata": {},
     "output_type": "execute_result"
    }
   ],
   "source": [
    "#using title and repalce\n",
    "def case(inpt):\n",
    "    return inpt.replace(\"_\",\" \").title().replace(\" \",\"\")\n",
    "case(inpt)   "
   ]
  },
  {
   "cell_type": "code",
   "execution_count": 10,
   "id": "02f83188",
   "metadata": {},
   "outputs": [
    {
     "data": {
      "text/plain": [
       "'Linked_In_Job_Portal'"
      ]
     },
     "execution_count": 10,
     "metadata": {},
     "output_type": "execute_result"
    }
   ],
   "source": [
    "inpt.replace(\"_\",\" \").title().replace(\" \",\"_\")  #ignore this block"
   ]
  },
  {
   "cell_type": "code",
   "execution_count": 11,
   "id": "d467805e",
   "metadata": {},
   "outputs": [
    {
     "data": {
      "text/plain": [
       "'LinkedInJobPortal'"
      ]
     },
     "execution_count": 11,
     "metadata": {},
     "output_type": "execute_result"
    }
   ],
   "source": [
    "#Using string library\n",
    "\n",
    "import string\n",
    "string.capwords(inpt.replace(\"_\",\" \")).replace(\" \",\"\")"
   ]
  },
  {
   "cell_type": "code",
   "execution_count": 12,
   "id": "5f81b431",
   "metadata": {},
   "outputs": [
    {
     "data": {
      "text/plain": [
       "'LinkedInJobPortal'"
      ]
     },
     "execution_count": 12,
     "metadata": {},
     "output_type": "execute_result"
    }
   ],
   "source": [
    "#using split replace and title\n",
    "\n",
    "#input\n",
    "inpt=\"Linked_in_job_portal\"\n",
    "\n",
    "def title_(inpt):\n",
    "    a=inpt.split(\"_\")\n",
    "    return \" \".join(a).title().replace(\" \",\"\")    #title this capitalizes each letter after a whitespace\n",
    "\n",
    "title_(inpt)"
   ]
  },
  {
   "cell_type": "code",
   "execution_count": 13,
   "id": "12ec2377",
   "metadata": {},
   "outputs": [
    {
     "data": {
      "text/plain": [
       "'LinkedInJobPortal'"
      ]
     },
     "execution_count": 13,
     "metadata": {},
     "output_type": "execute_result"
    }
   ],
   "source": [
    "#Using capitalize\n",
    "\n",
    "#input\n",
    "inpt=\"Linked_in_job_portal\"\n",
    "\n",
    "a=inpt.split(\"_\")\n",
    "\"\".join([i.capitalize() for i in a])"
   ]
  },
  {
   "cell_type": "code",
   "execution_count": 14,
   "id": "b4fc613e",
   "metadata": {},
   "outputs": [
    {
     "data": {
      "text/plain": [
       "'Linked in job portal'"
      ]
     },
     "execution_count": 14,
     "metadata": {},
     "output_type": "execute_result"
    }
   ],
   "source": [
    "inpt.replace(\"_\",\" \").capitalize()  #capitalize capitalizes only first word of string"
   ]
  },
  {
   "cell_type": "code",
   "execution_count": 15,
   "id": "82d2a1c7",
   "metadata": {},
   "outputs": [
    {
     "data": {
      "text/plain": [
       "'LinkedInJobPortal'"
      ]
     },
     "execution_count": 15,
     "metadata": {},
     "output_type": "execute_result"
    }
   ],
   "source": [
    "#reduce function and title\n",
    "import functools\n",
    "\n",
    "inpt=\"Linked_in_job_portal\"\n",
    "\n",
    "def capt(inpt):\n",
    "    return  functools.reduce(lambda a,b:a+b.title() ,inpt.split(\"_\"),\"\")\n",
    "capt(inpt)"
   ]
  },
  {
   "cell_type": "code",
   "execution_count": 16,
   "id": "404b5e97",
   "metadata": {},
   "outputs": [
    {
     "data": {
      "text/plain": [
       "'LinkedInJobPortal'"
      ]
     },
     "execution_count": 16,
     "metadata": {},
     "output_type": "execute_result"
    }
   ],
   "source": [
    "#Manually without using any functions\n",
    "\n",
    "def capt_(inpt):\n",
    "    strng=\"\"    #initialising dummy string\n",
    "    capital_next_letter=True #Flag\n",
    "    for i in inpt:\n",
    "        if i==\"_\":\n",
    "            capital_next_letter=True\n",
    "        elif capital_next_letter:\n",
    "            strng+=i.upper()\n",
    "            capital_next_letter=False\n",
    "        else:\n",
    "            strng+=i\n",
    "        \n",
    "    return strng\n",
    "\n",
    "capt_(inpt)\n",
    "            "
   ]
  },
  {
   "cell_type": "code",
   "execution_count": null,
   "id": "56c7a864",
   "metadata": {},
   "outputs": [],
   "source": []
  },
  {
   "cell_type": "markdown",
   "id": "4b550b08",
   "metadata": {},
   "source": [
    "###### 8. Find the lenght of a string"
   ]
  },
  {
   "cell_type": "code",
   "execution_count": 2,
   "id": "dc5d8a68",
   "metadata": {},
   "outputs": [],
   "source": [
    "#inputs\n",
    "strng='Hello world'\n",
    "#output=11\n",
    "strng1='a b c'\n",
    "#output=5"
   ]
  },
  {
   "cell_type": "code",
   "execution_count": 3,
   "id": "12e0c9c7",
   "metadata": {},
   "outputs": [
    {
     "data": {
      "text/plain": [
       "11"
      ]
     },
     "execution_count": 3,
     "metadata": {},
     "output_type": "execute_result"
    }
   ],
   "source": [
    "#Direct method\n",
    "len(strng)"
   ]
  },
  {
   "cell_type": "code",
   "execution_count": 12,
   "id": "ad27dc0c",
   "metadata": {},
   "outputs": [
    {
     "name": "stdout",
     "output_type": "stream",
     "text": [
      "Length of Hello world is 11\n",
      "Length of a b c is 5\n"
     ]
    }
   ],
   "source": [
    "#Using loop and in operator\n",
    "\n",
    "def len_(inpt):\n",
    "    length_=0\n",
    "    for i in inpt:\n",
    "        length_+=1\n",
    "    print(\"Length of {} is {}\".format(inpt , length_))\n",
    "len_(strng)\n",
    "len_(strng1)"
   ]
  },
  {
   "cell_type": "code",
   "execution_count": 16,
   "id": "7afac9ea",
   "metadata": {},
   "outputs": [
    {
     "data": {
      "text/plain": [
       "('length of given string is', 5)"
      ]
     },
     "execution_count": 16,
     "metadata": {},
     "output_type": "execute_result"
    }
   ],
   "source": [
    "#Using while and slicing\n",
    "def len_(inpt):\n",
    "    count=0\n",
    "    while inpt:\n",
    "        count+=1\n",
    "        inpt=inpt[1:]\n",
    "    return 'length of given string is' ,count\n",
    "len_(strng1)"
   ]
  },
  {
   "cell_type": "code",
   "execution_count": 19,
   "id": "07941b2c",
   "metadata": {},
   "outputs": [
    {
     "data": {
      "text/plain": [
       "11"
      ]
     },
     "execution_count": 19,
     "metadata": {},
     "output_type": "execute_result"
    }
   ],
   "source": [
    "#Recursion\n",
    "\n",
    "def len1(inpt):\n",
    "    if inpt:\n",
    "        return 1+len1(inpt[1:])\n",
    "    else:\n",
    "        return 0\n",
    "len1(strng)"
   ]
  },
  {
   "cell_type": "code",
   "execution_count": 20,
   "id": "ed81a79e",
   "metadata": {},
   "outputs": [
    {
     "data": {
      "text/plain": [
       "5"
      ]
     },
     "execution_count": 20,
     "metadata": {},
     "output_type": "execute_result"
    }
   ],
   "source": [
    "len1(strng1)"
   ]
  },
  {
   "cell_type": "code",
   "execution_count": 38,
   "id": "06414635",
   "metadata": {},
   "outputs": [
    {
     "data": {
      "text/plain": [
       "11"
      ]
     },
     "execution_count": 38,
     "metadata": {},
     "output_type": "execute_result"
    }
   ],
   "source": [
    "#Using reduce function\n",
    "import functools\n",
    "def len2(inpt):\n",
    "       return functools.reduce(lambda a,b:a+1,inpt,0)\n",
    "len2(strng)"
   ]
  },
  {
   "cell_type": "code",
   "execution_count": null,
   "id": "e75573e5",
   "metadata": {},
   "outputs": [],
   "source": []
  },
  {
   "cell_type": "markdown",
   "id": "babd905d",
   "metadata": {},
   "source": [
    "###### 9. Python program to print even length words in a string."
   ]
  },
  {
   "cell_type": "code",
   "execution_count": 43,
   "id": "3d76a46f",
   "metadata": {},
   "outputs": [],
   "source": [
    "inpt1='i am groot'  #Input\n",
    "#out put = am\n",
    "\n",
    "inpt2='i love data'  \n",
    "#output = 'love data'"
   ]
  },
  {
   "cell_type": "code",
   "execution_count": 44,
   "id": "4d5498d8",
   "metadata": {},
   "outputs": [
    {
     "name": "stdout",
     "output_type": "stream",
     "text": [
      "am\n",
      "love data\n"
     ]
    }
   ],
   "source": [
    "#Using for loop and if condition and len() function\n",
    "\n",
    "def evn(inpt):\n",
    "    temp=[]   #temporary list ot store even len element\n",
    "    for i in inpt.split():        #looping \n",
    "        if len(i)%2==0:\n",
    "            temp.append(i)\n",
    "    print(\" \".join(temp))\n",
    "    \n",
    "evn(inpt1)\n",
    "evn(inpt2)"
   ]
  },
  {
   "cell_type": "code",
   "execution_count": 52,
   "id": "0468a6be",
   "metadata": {},
   "outputs": [
    {
     "data": {
      "text/plain": [
       "'love data'"
      ]
     },
     "execution_count": 52,
     "metadata": {},
     "output_type": "execute_result"
    }
   ],
   "source": [
    "#Using filter function\n",
    "\n",
    "def evn(inpt):\n",
    "        return \" \".join(filter(lambda x: len(x)%2==0,inpt.split()))\n",
    "evn(inpt2)"
   ]
  },
  {
   "cell_type": "code",
   "execution_count": 11,
   "id": "47e1d459",
   "metadata": {},
   "outputs": [
    {
     "data": {
      "text/plain": [
       "'love data '"
      ]
     },
     "execution_count": 11,
     "metadata": {},
     "output_type": "execute_result"
    }
   ],
   "source": [
    "#Recursion\n",
    "#input\n",
    "inpt2='i love data'  \n",
    "#function \n",
    "def evn_(iterate,inpt):\n",
    "    \"\"\"Iterate is the position of word(0 1 2....)\n",
    "    from where u want to start testing for even length words\"\"\"\n",
    "    inpt=inpt.split()\n",
    "    if iterate==len(inpt):\n",
    "        return \"\"\n",
    "    if len(inpt[iterate])%2==0:\n",
    "        return inpt[iterate]+\" \"+evn_(iterate+1,\" \".join(inpt))\n",
    "    else:\n",
    "         return evn_(iterate+1,\" \".join(inpt))\n",
    "        \n",
    "#Testing\n",
    "evn_(0,inpt2)    #This code adds space at end to avoid space at end use below code"
   ]
  },
  {
   "cell_type": "code",
   "execution_count": 15,
   "id": "0be64736",
   "metadata": {},
   "outputs": [
    {
     "data": {
      "text/plain": [
       "'love data'"
      ]
     },
     "execution_count": 15,
     "metadata": {},
     "output_type": "execute_result"
    }
   ],
   "source": [
    "#recursion now in output at end we dont get empty white space\n",
    "def evn_(start,inpt):\n",
    "    inpt=inpt.split()\n",
    "    space=\" \" if start<len(inpt)-1 else \"\"\n",
    "    if start==len(inpt):\n",
    "        return \"\"\n",
    "    if len(inpt[start])%2==0:\n",
    "        return  inpt[start]+space+evn_(start+1,\" \".join(inpt))\n",
    "    else:\n",
    "        return evn_(start+1,\" \".join(inpt))\n",
    "    \n",
    "#testing \n",
    "\n",
    "evn_(0,inpt2)"
   ]
  },
  {
   "cell_type": "code",
   "execution_count": 25,
   "id": "32bd1ab0",
   "metadata": {},
   "outputs": [
    {
     "data": {
      "text/plain": [
       "'love my work'"
      ]
     },
     "execution_count": 25,
     "metadata": {},
     "output_type": "execute_result"
    }
   ],
   "source": [
    "#Parsing character by character\n",
    "input1='i love my work'\n",
    "input2='i.like_to,eat'\n",
    "\n",
    "def even(inpt):\n",
    "    w=''   #temporary holder  for letters\n",
    "    finl=[]     #list to hold string of even length\n",
    "    for i in inpt:\n",
    "        if i not in ([\" \",\"_\",\",\",\".\"]):  #if letter is not in given list it added to w\n",
    "            w+=i\n",
    "        elif i in ([\" \",\"_\",\",\",\".\"]):\n",
    "            if len(w)%2==0:\n",
    "                finl.append(w)\n",
    "            w=\"\"\n",
    "    if len(w)%2==0:\n",
    "        finl.append(w)\n",
    "    return \" \".join(finl)\n",
    "\n",
    "even(input1)"
   ]
  },
  {
   "cell_type": "code",
   "execution_count": 26,
   "id": "e00c0385",
   "metadata": {},
   "outputs": [
    {
     "data": {
      "text/plain": [
       "'like to'"
      ]
     },
     "execution_count": 26,
     "metadata": {},
     "output_type": "execute_result"
    }
   ],
   "source": [
    "even(input2)"
   ]
  },
  {
   "cell_type": "code",
   "execution_count": 10,
   "id": "0a122512",
   "metadata": {},
   "outputs": [
    {
     "data": {
      "text/plain": [
       "'love my work'"
      ]
     },
     "execution_count": 10,
     "metadata": {},
     "output_type": "execute_result"
    }
   ],
   "source": [
    "#Parsing word by word\n",
    "input1='i love my work'\n",
    "\n",
    "def rtrn(inpt):\n",
    "    start=0\n",
    "    end=0\n",
    "    temp=[]\n",
    "    word=\"\"\n",
    "    for i in inpt:\n",
    "        if i!=\" \":\n",
    "            end+=1\n",
    "        else:\n",
    "            word=inpt[start:end]\n",
    "            temp.append(word) if len(word)%2==0 else None\n",
    "            word=\"\"\n",
    "            start=end+1\n",
    "            end+=1\n",
    "    word=inpt[start:end]\n",
    "    temp.append(word) if len(word)%2==0   else None\n",
    "    return \" \".join(temp)\n",
    "    \n",
    "rtrn(input1)         "
   ]
  },
  {
   "cell_type": "markdown",
   "id": "d63291f4",
   "metadata": {},
   "source": [
    "###### 10. Python Program to Accept the Strings Which Contains all Vowels"
   ]
  },
  {
   "cell_type": "markdown",
   "id": "7393465e",
   "metadata": {},
   "source": [
    "Given a string, the task is to check if every vowel is present or not. We consider a vowel to be present if it is present in upper case or lower case. i.e. ‘a’, ‘e’, ‘i’.’o’, ‘u’ or ‘A’, ‘E’, ‘I’, ‘O’, ‘U’ ."
   ]
  },
  {
   "cell_type": "code",
   "execution_count": 31,
   "id": "d49ce142",
   "metadata": {},
   "outputs": [],
   "source": [
    "input1=\"Git hub\"  #out put not accepted\n",
    "input2='AeIoU'   #out put accepted"
   ]
  },
  {
   "cell_type": "code",
   "execution_count": 32,
   "id": "5ba465fd",
   "metadata": {},
   "outputs": [
    {
     "name": "stdout",
     "output_type": "stream",
     "text": [
      "Not accepted\n",
      "\n",
      "Accepted\n"
     ]
    }
   ],
   "source": [
    "#using lower() or upper() with simple for loop on list of vowels and comprng with input\n",
    "\n",
    "#function\n",
    "def check(inpt):\n",
    "    inpt=inpt.lower()  #because we accept any lower or upper case vowels \n",
    "    vwls=['a','e','i','o','u']\n",
    "    flag=0\n",
    "    for i in vwls :\n",
    "        if i not in inpt:\n",
    "            flag+=1\n",
    "            break\n",
    "    print(\"Not accepted\") if flag==1 else print(\"Accepted\")\n",
    "\n",
    "#checking our code\n",
    "check(input1)\n",
    "print()\n",
    "check(input2)"
   ]
  },
  {
   "cell_type": "code",
   "execution_count": 43,
   "id": "0048262a",
   "metadata": {},
   "outputs": [
    {
     "name": "stdout",
     "output_type": "stream",
     "text": [
      "input1  False\n",
      "input2  True\n"
     ]
    }
   ],
   "source": [
    "#using filter and set\n",
    "def vwl(inpt):\n",
    "    vowels=['a','e','i','o','u']\n",
    "    inpt=inpt.lower()\n",
    "    vowels_in_input=set(filter(lambda x:x in ['a','e','i','o','u'],inpt))\n",
    "    return len(vowels)==len(vowels_in_input)\n",
    "print(\"input1 \" ,vwl(input1))\n",
    "print(\"input2 \" ,vwl(input2))"
   ]
  },
  {
   "cell_type": "markdown",
   "id": "97bfe8a1",
   "metadata": {},
   "source": [
    "###### 11. Count the Number of matching characters in a pair of string."
   ]
  },
  {
   "cell_type": "markdown",
   "id": "7eb221bb",
   "metadata": {},
   "source": [
    "Given a pair of non-empty strings. Count the number of matching characters in those strings (consider the single count for the character which have duplicates in the strings). "
   ]
  },
  {
   "cell_type": "code",
   "execution_count": 44,
   "id": "970e5114",
   "metadata": {},
   "outputs": [],
   "source": [
    "#input\n",
    "str1='aabc1@23'\n",
    "str2='ab3@S'\n",
    "\n",
    "#output= 4\n",
    "#matching characters are (a,b,3,@)"
   ]
  },
  {
   "cell_type": "code",
   "execution_count": 52,
   "id": "b1abae97",
   "metadata": {},
   "outputs": [
    {
     "data": {
      "text/plain": [
       "4"
      ]
     },
     "execution_count": 52,
     "metadata": {},
     "output_type": "execute_result"
    }
   ],
   "source": [
    "#using set and for loop\n",
    "def cnt(str1,str2):\n",
    "    a=set(str1)\n",
    "    b=set(str2)\n",
    "    return sum([1 for i in a if i in b]) \n",
    "    \n",
    "cnt(str1,str2)"
   ]
  },
  {
   "cell_type": "code",
   "execution_count": 60,
   "id": "138be059",
   "metadata": {},
   "outputs": [
    {
     "data": {
      "text/plain": [
       "5"
      ]
     },
     "execution_count": 60,
     "metadata": {},
     "output_type": "execute_result"
    }
   ],
   "source": [
    "#without using built in set\n",
    "\n",
    "str1='aa bc1@23'\n",
    "str2='ab3@ S'    #we have added one empty space in both\n",
    "\n",
    "\n",
    "def cnt(str1,str2):\n",
    "    #first make a set of inputs without built in\n",
    "    \n",
    "    #creating list with unique items in str1\n",
    "    a=[]\n",
    "    for i in str1:\n",
    "        a.append(i) if i not in a else None\n",
    "    #Creating list with unique element in b\n",
    "    b=[]\n",
    "    for i in str2:\n",
    "        b.append(i) if i not in b else None\n",
    "    return sum([1 for i in a if i in b])\n",
    "\n",
    "cnt(str1,str2)\n",
    "        "
   ]
  },
  {
   "cell_type": "code",
   "execution_count": 62,
   "id": "f03867e3",
   "metadata": {},
   "outputs": [
    {
     "data": {
      "text/plain": [
       "5"
      ]
     },
     "execution_count": 62,
     "metadata": {},
     "output_type": "execute_result"
    }
   ],
   "source": [
    "def cnt1(str1,str2):\n",
    "    return len(set(str1).intersection(set(str2)))\n",
    "cnt1(str1,str2)"
   ]
  },
  {
   "cell_type": "markdown",
   "id": "acce5f23",
   "metadata": {},
   "source": [
    "###### 12. Remove all duplicates from a given string in Python"
   ]
  },
  {
   "cell_type": "code",
   "execution_count": 65,
   "id": "1f0fabdc",
   "metadata": {},
   "outputs": [],
   "source": [
    "inpt='good bad 11'\n",
    "\n",
    "#output \"god ba1\""
   ]
  },
  {
   "cell_type": "code",
   "execution_count": 67,
   "id": "cf3e2637",
   "metadata": {},
   "outputs": [
    {
     "data": {
      "text/plain": [
       "'1odgba '"
      ]
     },
     "execution_count": 67,
     "metadata": {},
     "output_type": "execute_result"
    }
   ],
   "source": [
    "def rmv(inpt):\n",
    "    return \"\".join(set(inpt))\n",
    "rmv(inpt) #THIS REMOVES DUPLICATES BUT DOESnt maintains ORDER"
   ]
  },
  {
   "cell_type": "code",
   "execution_count": 69,
   "id": "747a00b7",
   "metadata": {},
   "outputs": [
    {
     "data": {
      "text/plain": [
       "'god ba1'"
      ]
     },
     "execution_count": 69,
     "metadata": {},
     "output_type": "execute_result"
    }
   ],
   "source": [
    "\n",
    "def rmv(inpt):  \n",
    "    unique=[]   \n",
    "    for i in inpt:       \n",
    "        if i not in unique:   #creating list which contains first apearance of element in input string\n",
    "            unique.append(i)\n",
    "    return \"\".join(unique) \n",
    "\n",
    "rmv(inpt)"
   ]
  },
  {
   "cell_type": "code",
   "execution_count": 70,
   "id": "2bd7e07f",
   "metadata": {},
   "outputs": [
    {
     "data": {
      "text/plain": [
       "'god ba1'"
      ]
     },
     "execution_count": 70,
     "metadata": {},
     "output_type": "execute_result"
    }
   ],
   "source": [
    "#Using string addition\n",
    "inpt='good bad 11'\n",
    "\n",
    "w=\"\"    #dummy string for which we will aadd first apearnce of element\n",
    "for i in inpt:\n",
    "    if i not in w :\n",
    "        w+=i\n",
    "w"
   ]
  },
  {
   "cell_type": "code",
   "execution_count": null,
   "id": "221eb3e0",
   "metadata": {},
   "outputs": [],
   "source": []
  },
  {
   "cell_type": "markdown",
   "id": "1cba4214",
   "metadata": {},
   "source": [
    "###### 13. Least frequent character"
   ]
  },
  {
   "cell_type": "code",
   "execution_count": 1,
   "id": "072f1fa9",
   "metadata": {},
   "outputs": [],
   "source": [
    "inpt='Linked in ked'\n",
    "\n",
    "#output= 'L'"
   ]
  },
  {
   "cell_type": "code",
   "execution_count": 17,
   "id": "397057e4",
   "metadata": {},
   "outputs": [
    {
     "data": {
      "text/plain": [
       "'L'"
      ]
     },
     "execution_count": 17,
     "metadata": {},
     "output_type": "execute_result"
    }
   ],
   "source": [
    "#Using dictionary to store character as key and no of apearnce as  it's value\n",
    "\n",
    "def least_(inpt):\n",
    "    \n",
    "    freq={}\n",
    "    for i in inpt:\n",
    "        if i not in freq:\n",
    "            freq[i]=1\n",
    "        else :\n",
    "            freq[i]+=1\n",
    "    return min(freq , key=freq.get)\n",
    "        \n",
    "least_(inpt)"
   ]
  },
  {
   "cell_type": "code",
   "execution_count": null,
   "id": "07cc119d",
   "metadata": {},
   "outputs": [],
   "source": []
  },
  {
   "cell_type": "code",
   "execution_count": 57,
   "id": "ea23e19a",
   "metadata": {},
   "outputs": [
    {
     "data": {
      "text/plain": [
       "'L'"
      ]
     },
     "execution_count": 57,
     "metadata": {},
     "output_type": "execute_result"
    }
   ],
   "source": [
    "# Counter method with min()\n",
    "\n",
    "inpt='Linked in kd'\n",
    "\n",
    "from collections import Counter\n",
    "counts=Counter(inpt)\n",
    "\n",
    "min(counts , key=counts.get) #there are two keys with minimum value e and L but only L given in output\n",
    "\n",
    "#that is the backdrop"
   ]
  },
  {
   "cell_type": "code",
   "execution_count": null,
   "id": "09548aa8",
   "metadata": {},
   "outputs": [],
   "source": []
  },
  {
   "cell_type": "code",
   "execution_count": 59,
   "id": "6606f56c",
   "metadata": {},
   "outputs": [
    {
     "name": "stdout",
     "output_type": "stream",
     "text": [
      "L e\n"
     ]
    }
   ],
   "source": [
    "def min_(inpt):\n",
    "    freq={i:inpt.count(i) for i in inpt}\n",
    "    \n",
    "    min_freq=min(freq.values())\n",
    "    \n",
    "    a=[i for i in freq if freq[i]==min_freq]\n",
    "    \n",
    "    print(*a)\n",
    "\n",
    "min_(inpt)"
   ]
  },
  {
   "cell_type": "code",
   "execution_count": null,
   "id": "dcaec318",
   "metadata": {},
   "outputs": [],
   "source": []
  },
  {
   "cell_type": "markdown",
   "id": "fa471570",
   "metadata": {},
   "source": [
    "###### 14. Maximum character string"
   ]
  },
  {
   "cell_type": "code",
   "execution_count": 2,
   "id": "aa9faf4f",
   "metadata": {},
   "outputs": [],
   "source": [
    "inpt=\"Good morning students\"\n",
    "\n",
    "#out put 'o'  and 'n'"
   ]
  },
  {
   "cell_type": "code",
   "execution_count": 3,
   "id": "577b1b56",
   "metadata": {},
   "outputs": [
    {
     "name": "stdout",
     "output_type": "stream",
     "text": [
      "o n\n"
     ]
    }
   ],
   "source": [
    "def max_(inpt):\n",
    "    freq={i:inpt.count(i) for i in inpt}\n",
    "    \n",
    "    max_freq=max(freq.values())\n",
    "    \n",
    "    a=[i for i in freq if freq[i]==max_freq]\n",
    "    \n",
    "    print(*a)\n",
    "\n",
    "max_(inpt)"
   ]
  },
  {
   "cell_type": "code",
   "execution_count": null,
   "id": "615a283f",
   "metadata": {},
   "outputs": [],
   "source": []
  },
  {
   "cell_type": "code",
   "execution_count": 5,
   "id": "007346c8",
   "metadata": {},
   "outputs": [
    {
     "data": {
      "text/plain": [
       "['o', 'n']"
      ]
     },
     "execution_count": 5,
     "metadata": {},
     "output_type": "execute_result"
    }
   ],
   "source": [
    "inpt=\"Good morning students\"\n",
    "\n",
    "def max_(inpt):\n",
    "    freq={}\n",
    "    \n",
    "    for i in inpt:\n",
    "        if i not in freq:\n",
    "            freq[i]=1\n",
    "        else:\n",
    "            freq[i]+=1\n",
    "            \n",
    "    max_freq=0\n",
    "    \n",
    "    for i in freq.values():\n",
    "        if i>max_freq:\n",
    "            max_freq=i\n",
    "            \n",
    "    character_max=[i for i in freq if freq[i]==max_freq]\n",
    "    \n",
    "    return character_max\n",
    "\n",
    "max_(inpt)\n",
    "    "
   ]
  },
  {
   "cell_type": "code",
   "execution_count": null,
   "id": "05e4a2ef",
   "metadata": {},
   "outputs": [],
   "source": []
  },
  {
   "cell_type": "markdown",
   "id": "7c733c83",
   "metadata": {},
   "source": [
    "###### 15. Program to check if a string contains any special character"
   ]
  },
  {
   "cell_type": "code",
   "execution_count": 24,
   "id": "876c6d35",
   "metadata": {},
   "outputs": [
    {
     "name": "stdout",
     "output_type": "stream",
     "text": [
      "Input is Accepted\n",
      "Input is Not Accepted\n"
     ]
    }
   ],
   "source": [
    "inpt1='Linked in'\n",
    "\n",
    "inpt2='linked@in$()'\n",
    "\n",
    "\n",
    "#using regex search and compile\n",
    "\n",
    "import regex as re\n",
    "def accept_(inpt):\n",
    "    rgx=re.compile('[@_!#$%^&*()<>?/\\|}{~:\\[\\]]')\n",
    "    \n",
    "    if rgx.search(inpt):\n",
    "        print(\"Input is Not Accepted\")\n",
    "        \n",
    "    else:\n",
    "        print(\"Input is Accepted\")\n",
    "        \n",
    "        \n",
    "accept_(inpt1) #accpted\n",
    "\n",
    "accept_(inpt2)   #Not"
   ]
  },
  {
   "cell_type": "code",
   "execution_count": null,
   "id": "0c781e46",
   "metadata": {},
   "outputs": [],
   "source": []
  },
  {
   "cell_type": "code",
   "execution_count": null,
   "id": "770d5b9a",
   "metadata": {},
   "outputs": [],
   "source": []
  },
  {
   "cell_type": "code",
   "execution_count": 34,
   "id": "0f65e0bb",
   "metadata": {},
   "outputs": [
    {
     "name": "stdout",
     "output_type": "stream",
     "text": [
      "Accepted\n",
      "Not accpeted\n"
     ]
    }
   ],
   "source": [
    "#defining functions\n",
    "\n",
    "def not_acpt(inpt):\n",
    "    s='[@_!#$%^&*()<>?/\\|}{~:\\[\\]]'\n",
    "    flag=0\n",
    "    for i in inpt:\n",
    "        if i in s:\n",
    "            flag+=1\n",
    "            break\n",
    "    if flag==1:\n",
    "        print(\"Not accpeted\")\n",
    "    else:\n",
    "        print(\"Accepted\")\n",
    "        \n",
    "        \n",
    " #inputs       \n",
    "inpt1='Linked in'\n",
    "\n",
    "inpt2='linked@in$()'\n",
    "\n",
    "#verification\n",
    "not_acpt(inpt1)\n",
    "\n",
    "not_acpt(inpt2)"
   ]
  },
  {
   "cell_type": "code",
   "execution_count": null,
   "id": "9658f7a6",
   "metadata": {},
   "outputs": [],
   "source": []
  },
  {
   "cell_type": "code",
   "execution_count": 37,
   "id": "44d786fb",
   "metadata": {},
   "outputs": [
    {
     "name": "stdout",
     "output_type": "stream",
     "text": [
      "input is accepted\n",
      "Input is not accpted\n"
     ]
    }
   ],
   "source": [
    "#using string module\n",
    "\n",
    "import string\n",
    "\n",
    "def accept_(inpt):\n",
    "    flag=0\n",
    "    for i in inpt:\n",
    "        if i in string.punctuation:\n",
    "            flag+=1\n",
    "            break\n",
    "    print(\"Input is not accpted\") if flag else print(\"input is accepted\")\n",
    "    \n",
    "#verification\n",
    "\n",
    "inpt1='Linked in'\n",
    "\n",
    "inpt2='linked@in$()'\n",
    "\n",
    "accept_(inpt1)\n",
    "\n",
    "accept_(inpt2)"
   ]
  },
  {
   "cell_type": "code",
   "execution_count": null,
   "id": "60ffdb8c",
   "metadata": {},
   "outputs": [],
   "source": []
  },
  {
   "cell_type": "markdown",
   "id": "1ec8040f",
   "metadata": {},
   "source": [
    "###### 16 . Find words which are greater than given length k"
   ]
  },
  {
   "cell_type": "code",
   "execution_count": 38,
   "id": "494aff82",
   "metadata": {},
   "outputs": [],
   "source": [
    "input1=\"hello linked in is a job search portal\"\n",
    "\n",
    "k=3\n",
    "\n",
    "#output= hello linked search portal"
   ]
  },
  {
   "cell_type": "code",
   "execution_count": 40,
   "id": "16a6dbd3",
   "metadata": {},
   "outputs": [
    {
     "data": {
      "text/plain": [
       "'hello linked search portal'"
      ]
     },
     "execution_count": 40,
     "metadata": {},
     "output_type": "execute_result"
    }
   ],
   "source": [
    "#using split and len\n",
    "\n",
    "def greater(inpt , k):\n",
    "    temp=[] #temporary list to hold  words with length greater than k\n",
    "    \n",
    "    words=inpt.split()  #spliting string\n",
    "    \n",
    "    for word in words:\n",
    "        if len(word)>k:\n",
    "            temp.append(word)\n",
    "            \n",
    "    return \" \".join(temp)\n",
    "\n",
    "greater(input1 , k)"
   ]
  },
  {
   "cell_type": "code",
   "execution_count": null,
   "id": "a5d587d8",
   "metadata": {},
   "outputs": [],
   "source": []
  },
  {
   "cell_type": "code",
   "execution_count": 42,
   "id": "653b695f",
   "metadata": {},
   "outputs": [
    {
     "data": {
      "text/plain": [
       "'hello linked search portal'"
      ]
     },
     "execution_count": 42,
     "metadata": {},
     "output_type": "execute_result"
    }
   ],
   "source": [
    "#Manually searching for words and then filtering out\n",
    "\n",
    "def filter_(inpt , k):\n",
    "    \n",
    "    #first we will search for all words\n",
    "    \n",
    "    words=[] #list to hold all words in string\n",
    "    \n",
    "    w=''  #temporary word holder\n",
    "    \n",
    "    for i in inpt:\n",
    "        if i!=\" \":\n",
    "            w+=i\n",
    "        else:\n",
    "            words.append(w)\n",
    "            w=\"\"\n",
    "    words.append(w)\n",
    "            \n",
    "    #now we will search for words with lenght > k        \n",
    "    out_put=[]  #temporary list to hold words with length>k    \n",
    "    \n",
    "    for word in words:\n",
    "        if len(word)>k:\n",
    "            out_put.append(word)\n",
    "            \n",
    "    return \" \".join(out_put)\n",
    "\n",
    "#inputs\n",
    "input1=\"hello linked in is a job search portal\"\n",
    "\n",
    "k=3\n",
    "\n",
    "#output= hello linked search portal\n",
    "\n",
    "filter_(input1,k)"
   ]
  },
  {
   "cell_type": "code",
   "execution_count": null,
   "id": "35c8e6e2",
   "metadata": {},
   "outputs": [],
   "source": []
  },
  {
   "cell_type": "code",
   "execution_count": 1,
   "id": "4242c9cf",
   "metadata": {},
   "outputs": [
    {
     "data": {
      "text/plain": [
       "'hello_linked search portal'"
      ]
     },
     "execution_count": 1,
     "metadata": {},
     "output_type": "execute_result"
    }
   ],
   "source": [
    "#using regex\n",
    "\n",
    "import regex as re\n",
    "\n",
    "#input\n",
    "input1=\"hello linked in is a job search portal\"\n",
    "\n",
    "k=3\n",
    "\n",
    "#output= hello linked search portal\n",
    "\n",
    "def filtr_(inpt,k):\n",
    "    words=re.findall('\\w+',inpt)\n",
    "    \n",
    "    return \" \".join([i for i in words if len(i)>k ])\n",
    "\n",
    "filtr_(input1,k)"
   ]
  },
  {
   "cell_type": "code",
   "execution_count": null,
   "id": "0c72665c",
   "metadata": {},
   "outputs": [],
   "source": []
  },
  {
   "cell_type": "code",
   "execution_count": 55,
   "id": "c688cd39",
   "metadata": {},
   "outputs": [
    {
     "data": {
      "text/plain": [
       "['hello', 'linked', 'search', 'portal']"
      ]
     },
     "execution_count": 55,
     "metadata": {},
     "output_type": "execute_result"
    }
   ],
   "source": [
    "#first iterate words to find words then go for checking length\n",
    "\n",
    "def fltr_(inpt ,k):\n",
    "    out=[]\n",
    "    start=0\n",
    "    end=0\n",
    "    \n",
    "    for i in inpt:\n",
    "        if i!=\" \":\n",
    "            end+=1\n",
    "        else:\n",
    "            if len(inpt[start:end])>k:\n",
    "                out.append(inpt[start:end])\n",
    "                start=end+1\n",
    "                end+=1\n",
    "            else:\n",
    "                start=end+1\n",
    "                end+=1\n",
    "                \n",
    "    if len(inpt[start:end])>k:\n",
    "        out.append(inpt[start:end])\n",
    "        \n",
    "    return out\n",
    "\n",
    "\n",
    "fltr_(input1,k)\n",
    "                \n",
    "    "
   ]
  },
  {
   "cell_type": "code",
   "execution_count": null,
   "id": "3e471713",
   "metadata": {},
   "outputs": [],
   "source": []
  },
  {
   "cell_type": "code",
   "execution_count": 56,
   "id": "3c18dd67",
   "metadata": {},
   "outputs": [
    {
     "data": {
      "text/plain": [
       "'hello linked search portal'"
      ]
     },
     "execution_count": 56,
     "metadata": {},
     "output_type": "execute_result"
    }
   ],
   "source": [
    "#using inbuilt filter function\n",
    "\n",
    "def filter_(inpt,k):\n",
    "     return \" \".join(list(filter(lambda x: len(x)>k , inpt.split())))\n",
    "    \n",
    "filter_(input1,k)\n",
    "    "
   ]
  },
  {
   "cell_type": "code",
   "execution_count": null,
   "id": "16ecdcd2",
   "metadata": {},
   "outputs": [],
   "source": []
  },
  {
   "cell_type": "markdown",
   "id": "9295f37e",
   "metadata": {},
   "source": [
    "###### 17. To remove ith (indexed) character from a string."
   ]
  },
  {
   "cell_type": "code",
   "execution_count": 1,
   "id": "c9bdfddb",
   "metadata": {},
   "outputs": [],
   "source": [
    "input1='Linked in family'\n",
    "\n",
    "i=5\n",
    "\n",
    "#outpu='Linke in family'"
   ]
  },
  {
   "cell_type": "code",
   "execution_count": 5,
   "id": "77eb3883",
   "metadata": {},
   "outputs": [
    {
     "data": {
      "text/plain": [
       "'Linke in family'"
      ]
     },
     "execution_count": 5,
     "metadata": {},
     "output_type": "execute_result"
    }
   ],
   "source": [
    "#using slicing\n",
    "\n",
    "def fnctn(inpt,i):\n",
    "    return inpt[:i]+inpt[i+1:]\n",
    "\n",
    "fnctn(input1,i)"
   ]
  },
  {
   "cell_type": "code",
   "execution_count": null,
   "id": "25d7e7a1",
   "metadata": {},
   "outputs": [],
   "source": []
  },
  {
   "cell_type": "code",
   "execution_count": 10,
   "id": "5863c364",
   "metadata": {},
   "outputs": [
    {
     "data": {
      "text/plain": [
       "'Linked in famil'"
      ]
     },
     "execution_count": 10,
     "metadata": {},
     "output_type": "execute_result"
    }
   ],
   "source": [
    "#using recursion\n",
    "\n",
    "def fnctn(inpt,index):\n",
    "    if index==0:\n",
    "        return inpt[1:]\n",
    "    else:\n",
    "        return inpt[0]+fnctn(inpt[1:],index-1)\n",
    "\n",
    "fnctn(input1,len(input1)-1)"
   ]
  },
  {
   "cell_type": "code",
   "execution_count": null,
   "id": "d03a9617",
   "metadata": {},
   "outputs": [],
   "source": []
  },
  {
   "cell_type": "code",
   "execution_count": 18,
   "id": "db08ef2d",
   "metadata": {},
   "outputs": [
    {
     "data": {
      "text/plain": [
       "'Linke in family'"
      ]
     },
     "execution_count": 18,
     "metadata": {},
     "output_type": "execute_result"
    }
   ],
   "source": [
    "#using list() pop() join()\n",
    "\n",
    "input1='Linked in family'\n",
    "\n",
    "i=5\n",
    "\n",
    "#outpu='Linke in family'\n",
    "\n",
    "#function\n",
    "\n",
    "def remove_(inpt,index):\n",
    "    lst=list(inpt)  #creating list of input string\n",
    "    lst.pop(index)  #poping out character with given index\n",
    "    \n",
    "    return \"\".join(lst)\n",
    "\n",
    "remove_(input1,i)"
   ]
  },
  {
   "cell_type": "code",
   "execution_count": null,
   "id": "7113c939",
   "metadata": {},
   "outputs": [],
   "source": []
  },
  {
   "cell_type": "markdown",
   "id": "52070180",
   "metadata": {},
   "source": [
    "17. split and join the string"
   ]
  },
  {
   "cell_type": "code",
   "execution_count": 19,
   "id": "4c383a5d",
   "metadata": {},
   "outputs": [
    {
     "data": {
      "text/plain": [
       "'Linked_in_F@mily'"
      ]
     },
     "execution_count": 19,
     "metadata": {},
     "output_type": "execute_result"
    }
   ],
   "source": [
    "#direct method\n",
    "\n",
    "inpt='Linked in F@mily'\n",
    "\n",
    "#output='Linked_in_F@mily'\n",
    "\n",
    "\"_\".join(inpt.split())\n"
   ]
  },
  {
   "cell_type": "code",
   "execution_count": null,
   "id": "97bda1a2",
   "metadata": {},
   "outputs": [],
   "source": []
  },
  {
   "cell_type": "code",
   "execution_count": 25,
   "id": "69dbac4d",
   "metadata": {},
   "outputs": [
    {
     "data": {
      "text/plain": [
       "'Linked_in_Family'"
      ]
     },
     "execution_count": 25,
     "metadata": {},
     "output_type": "execute_result"
    }
   ],
   "source": [
    "#Using regex to look for words and for loop to join\n",
    "\n",
    "inpt='Linked in Family'\n",
    "\n",
    "#output='Linked_in_Family'\n",
    "\n",
    "import regex as re\n",
    "\n",
    "def Split_Join(inpt):\n",
    "    list_of_words=re.findall('\\w+' , inpt)\n",
    "    out_put=''\n",
    "    for i in range(len(list_of_words)):\n",
    "        joiner='' if i==0 else '_'\n",
    "        out_put+=joiner+list_of_words[i]\n",
    "    return out_put\n",
    "\n",
    "Split_Join(inpt)\n"
   ]
  },
  {
   "cell_type": "code",
   "execution_count": null,
   "id": "b75c5643",
   "metadata": {},
   "outputs": [],
   "source": []
  },
  {
   "cell_type": "code",
   "execution_count": 51,
   "id": "6fc168e7",
   "metadata": {},
   "outputs": [
    {
     "data": {
      "text/plain": [
       "['hi', 'monk']"
      ]
     },
     "execution_count": 51,
     "metadata": {},
     "output_type": "execute_result"
    }
   ],
   "source": [
    "re.split('\\s+' , 'hi   monk')"
   ]
  },
  {
   "cell_type": "code",
   "execution_count": 52,
   "id": "5042371a",
   "metadata": {},
   "outputs": [
    {
     "data": {
      "text/plain": [
       "['hi_monk123', 'j']"
      ]
     },
     "execution_count": 52,
     "metadata": {},
     "output_type": "execute_result"
    }
   ],
   "source": [
    "re.findall('\\w+' , 'hi_monk123 j')"
   ]
  },
  {
   "cell_type": "code",
   "execution_count": 59,
   "id": "c23a71cd",
   "metadata": {},
   "outputs": [
    {
     "data": {
      "text/plain": [
       "['hi', 'Monk']"
      ]
     },
     "execution_count": 59,
     "metadata": {},
     "output_type": "execute_result"
    }
   ],
   "source": [
    "re.findall('[a-zA-z]+', 'hi Monk')"
   ]
  },
  {
   "cell_type": "code",
   "execution_count": null,
   "id": "0cb0c2bc",
   "metadata": {},
   "outputs": [],
   "source": []
  },
  {
   "cell_type": "markdown",
   "id": "0117763f",
   "metadata": {},
   "source": [
    "18. check if a string is binary or not."
   ]
  },
  {
   "cell_type": "code",
   "execution_count": 60,
   "id": "d072e2b5",
   "metadata": {},
   "outputs": [],
   "source": [
    "input1='1001010001010'\n",
    "\n",
    "#output = 'yes'\n",
    "\n",
    "input2='string1001'\n",
    "\n",
    "#output 'no'"
   ]
  },
  {
   "cell_type": "code",
   "execution_count": 68,
   "id": "6c046353",
   "metadata": {},
   "outputs": [
    {
     "name": "stdout",
     "output_type": "stream",
     "text": [
      "Yes\n",
      "\n",
      "No\n"
     ]
    }
   ],
   "source": [
    "#using set\n",
    "\n",
    "def binary(inpt):\n",
    "    set1=set(inpt)\n",
    "    s={'0','1'}\n",
    "    \n",
    "    if set1==s or set1=={'0'} or set1=={'1'}:\n",
    "         print('Yes')\n",
    "        \n",
    "    else:\n",
    "        print(\"No\")\n",
    "        \n",
    "\n",
    "binary(input1)\n",
    "\n",
    "print()\n",
    "\n",
    "binary(input2)"
   ]
  },
  {
   "cell_type": "code",
   "execution_count": 72,
   "id": "deca777a",
   "metadata": {},
   "outputs": [
    {
     "name": "stdout",
     "output_type": "stream",
     "text": [
      "Yes its binary\n",
      "Not binary\n"
     ]
    }
   ],
   "source": [
    "#using for loop and list of binary\n",
    "input1='1001010001010'  #input1\n",
    "\n",
    "#output = 'yes'\n",
    "\n",
    "input2='string1001' #input2\n",
    "\n",
    "#output 'no'\n",
    "\n",
    "#\n",
    "\n",
    "def binary_(inpt):\n",
    "    list1=['0','1']\n",
    "    flag=0\n",
    "    for i in inpt:\n",
    "        if i not in list1:\n",
    "            flag+=1\n",
    "            break\n",
    "           \n",
    "            \n",
    "    print(\"Not binary\") if flag==1 else print(\"Yes its binary\")\n",
    "    \n",
    "binary_(input1) #yes\n",
    "binary_(input2) #No"
   ]
  },
  {
   "cell_type": "code",
   "execution_count": null,
   "id": "4ccccbec",
   "metadata": {},
   "outputs": [],
   "source": []
  },
  {
   "cell_type": "code",
   "execution_count": 75,
   "id": "f2176101",
   "metadata": {},
   "outputs": [
    {
     "name": "stdout",
     "output_type": "stream",
     "text": [
      "Yes it is a binary\n"
     ]
    }
   ],
   "source": [
    "#using regex\n",
    "\n",
    "import regex as re\n",
    "\n",
    "def binary1(inpt):\n",
    "    list_of_non_binary=re.findall('[^0-1]',inpt)\n",
    "    print(\"Not binary\") if list_of_non_binary else print(\"Yes it is a binary\")\n",
    "        \n",
    "binary1(input1)        "
   ]
  },
  {
   "cell_type": "code",
   "execution_count": 76,
   "id": "325e8707",
   "metadata": {},
   "outputs": [
    {
     "name": "stdout",
     "output_type": "stream",
     "text": [
      "Not binary\n"
     ]
    }
   ],
   "source": [
    "binary1(input2)"
   ]
  },
  {
   "cell_type": "code",
   "execution_count": null,
   "id": "50ca5df1",
   "metadata": {},
   "outputs": [],
   "source": []
  },
  {
   "cell_type": "code",
   "execution_count": 81,
   "id": "3808ed81",
   "metadata": {},
   "outputs": [
    {
     "name": "stdout",
     "output_type": "stream",
     "text": [
      "yes\n"
     ]
    }
   ],
   "source": [
    "#Using while\n",
    "\n",
    "def binary2(inpt):\n",
    "    st=['0','1']\n",
    "    flag=0\n",
    "    \n",
    "    while inpt:\n",
    "        if inpt[0] in st:\n",
    "            inpt=inpt[1:]\n",
    "            \n",
    "        else:\n",
    "            flag+=1\n",
    "            break\n",
    "    print(\"yes\") if flag==0 else print('No')\n",
    "    \n",
    "binary2(input1)    "
   ]
  },
  {
   "cell_type": "code",
   "execution_count": 82,
   "id": "4454e48a",
   "metadata": {},
   "outputs": [
    {
     "name": "stdout",
     "output_type": "stream",
     "text": [
      "No\n"
     ]
    }
   ],
   "source": [
    "binary2(input2)"
   ]
  },
  {
   "cell_type": "code",
   "execution_count": 85,
   "id": "8f7ddd77",
   "metadata": {},
   "outputs": [
    {
     "name": "stdout",
     "output_type": "stream",
     "text": [
      "Yes\n",
      "\n",
      "No\n"
     ]
    }
   ],
   "source": [
    "#using filter:\n",
    "input1='1001010001010'\n",
    "\n",
    "#output = 'yes'\n",
    "\n",
    "input2='string1001'\n",
    "\n",
    "#output 'no'\n",
    "\n",
    "\n",
    "#function\n",
    "def bin_(inpt):\n",
    "    a=list(filter(lambda x: x not in ['0','1'] , inpt))\n",
    "    \n",
    "    print(\"No\") if a else print('Yes')\n",
    "    \n",
    "bin_(input1)\n",
    "print()\n",
    "bin_(input2)"
   ]
  },
  {
   "cell_type": "code",
   "execution_count": 92,
   "id": "dc8c540f",
   "metadata": {},
   "outputs": [
    {
     "data": {
      "text/plain": [
       "'binary'"
      ]
     },
     "execution_count": 92,
     "metadata": {},
     "output_type": "execute_result"
    }
   ],
   "source": [
    "#using recursion\n",
    "\n",
    "def recrsn(inpt):\n",
    "    if len(inpt)==0:\n",
    "        return 'binary'\n",
    "    if inpt[0] not in ['0','1']:\n",
    "        return 'Not a binary'\n",
    "    else:\n",
    "        return recrsn(inpt[1:])\n",
    "    \n",
    "recrsn(input1)"
   ]
  },
  {
   "cell_type": "code",
   "execution_count": 93,
   "id": "d0219113",
   "metadata": {},
   "outputs": [
    {
     "data": {
      "text/plain": [
       "'Not a binary'"
      ]
     },
     "execution_count": 93,
     "metadata": {},
     "output_type": "execute_result"
    }
   ],
   "source": [
    "recrsn(input2)"
   ]
  },
  {
   "cell_type": "code",
   "execution_count": null,
   "id": "f5658707",
   "metadata": {},
   "outputs": [],
   "source": []
  },
  {
   "cell_type": "code",
   "execution_count": 102,
   "id": "d7ced881",
   "metadata": {},
   "outputs": [
    {
     "name": "stdout",
     "output_type": "stream",
     "text": [
      "True\n",
      "\n",
      "False\n"
     ]
    }
   ],
   "source": [
    "#using count\n",
    "\n",
    "input1='1001010001010'\n",
    "\n",
    "#output = 'yes'\n",
    "\n",
    "input2='string1001'\n",
    "\n",
    "#output 'no'\n",
    "\n",
    "def binry(inpt):\n",
    "    a=inpt.count('0')+inpt.count('1')\n",
    "    return a==len(inpt)\n",
    "\n",
    "print(binry(input1))\n",
    "\n",
    "print()\n",
    "\n",
    "print(binry(input2))"
   ]
  },
  {
   "cell_type": "code",
   "execution_count": 103,
   "id": "32febd5c",
   "metadata": {},
   "outputs": [
    {
     "name": "stdout",
     "output_type": "stream",
     "text": [
      "True\n",
      "\n",
      "False\n"
     ]
    }
   ],
   "source": [
    "def binry1(inpt):\n",
    "    j='01'\n",
    "    a=[i in j for i in inpt]\n",
    "    \n",
    "    return all(a)\n",
    "\n",
    "print(binry1(input1))\n",
    "\n",
    "print()\n",
    "\n",
    "print(binry1(input2))"
   ]
  },
  {
   "cell_type": "code",
   "execution_count": 105,
   "id": "be1717d7",
   "metadata": {},
   "outputs": [
    {
     "name": "stdout",
     "output_type": "stream",
     "text": [
      "Binary\n",
      "Not binary\n"
     ]
    }
   ],
   "source": [
    "#using .replace()\n",
    "\n",
    "def bnry(inpt):\n",
    "    a='01'\n",
    "    for i in a:\n",
    "        inpt=inpt.replace(i,\"\")\n",
    "    print('Not binary') if inpt else print(\"Binary\")\n",
    "    \n",
    "bnry(input1)\n",
    "\n",
    "bnry(input2)"
   ]
  },
  {
   "cell_type": "code",
   "execution_count": null,
   "id": "c67e35f5",
   "metadata": {},
   "outputs": [],
   "source": []
  },
  {
   "cell_type": "markdown",
   "id": "70d66fd5",
   "metadata": {},
   "source": [
    "19. Python program to find uncommon words from two Strings."
   ]
  },
  {
   "cell_type": "markdown",
   "id": "ae7b1006",
   "metadata": {},
   "source": [
    "Given two sentences as strings A and B. The task is to return a list of all uncommon words. A word is uncommon if it appears exactly once in any one of the sentences, and does not appear in the other sentence. Note: A sentence is a string of space-separated words. Each word consists only of lowercase letters. "
   ]
  },
  {
   "cell_type": "code",
   "execution_count": null,
   "id": "4170e081",
   "metadata": {},
   "outputs": [],
   "source": []
  },
  {
   "cell_type": "code",
   "execution_count": 50,
   "id": "ba7fb43a",
   "metadata": {},
   "outputs": [
    {
     "data": {
      "text/plain": [
       "['water_melon', 'gua']"
      ]
     },
     "execution_count": 50,
     "metadata": {},
     "output_type": "execute_result"
    }
   ],
   "source": [
    "#searching for words manually and using while loop\n",
    "a='papaya water_melon mango'\n",
    "b='papaya fruit mango fruit gua'\n",
    "\n",
    "#output=['water_melon',gua]\n",
    "\n",
    "def uncmn(inpt1,inpt2):\n",
    "    words1=[]\n",
    "    word=''\n",
    "    for i in inpt1:\n",
    "        if i !=\" \" :\n",
    "            word+=i\n",
    "        else:\n",
    "            words1.append(word) \n",
    "            word=\"\"\n",
    "    words1.append(word)\n",
    "    \n",
    "    words2=[]\n",
    "    word=''\n",
    "    for i in inpt2:\n",
    "        if i!=\" \":\n",
    "            word+=i\n",
    "        else:\n",
    "            words2.append(word)\n",
    "            word=''\n",
    "            \n",
    "    words2.append(word)\n",
    "    uncommon=[]\n",
    "    for i in range(len(words1)):\n",
    "        if (words1[i] not in words2 ) and (words1[i] not in (words1[:i]+words1[i+1:])):\n",
    "            uncommon.append(words1[i])\n",
    "            \n",
    "    for j in range(len(words2)):\n",
    "        if (words2[j] not in words1) and (words2[j] not in (words2[:j]+words2[j+1:])):\n",
    "            uncommon.append(words2[j])\n",
    "    return uncommon\n",
    "\n",
    "uncmn(a,b)\n",
    "\n"
   ]
  },
  {
   "cell_type": "code",
   "execution_count": 51,
   "id": "cb164f3c",
   "metadata": {},
   "outputs": [
    {
     "data": {
      "text/plain": [
       "['water_melon', 'gua']"
      ]
     },
     "execution_count": 51,
     "metadata": {},
     "output_type": "execute_result"
    }
   ],
   "source": [
    "#using filter\n",
    "\n",
    "a='papaya water_melon mango'\n",
    "b='papaya fruit mango fruit gua'\n",
    "\n",
    "#output=['water_melon',gua]\n",
    "\n",
    "def uncmn(inpt1,inpt2):\n",
    "    A=inpt1.split()\n",
    "    B=inpt2.split()\n",
    "    uncommon=list(filter(lambda x: x not in B and A.count(x)==1 ,A))+list(filter(\n",
    "    lambda y: y not in A and B.count(y)==1, B))\n",
    "    return list(set(uncommon))\n",
    "\n",
    "uncmn(a,b)"
   ]
  },
  {
   "cell_type": "code",
   "execution_count": null,
   "id": "d06b6a88",
   "metadata": {},
   "outputs": [],
   "source": []
  },
  {
   "cell_type": "code",
   "execution_count": 42,
   "id": "b2b55564",
   "metadata": {},
   "outputs": [
    {
     "data": {
      "text/plain": [
       "['water_melon', 'gua']"
      ]
     },
     "execution_count": 42,
     "metadata": {},
     "output_type": "execute_result"
    }
   ],
   "source": [
    "#using dictionary and get method\n",
    "\n",
    "a='papaya water_melon mango'\n",
    "b='papaya fruit mango fruit gua'\n",
    "\n",
    "def uncmmn(inpt1 , input2):\n",
    "    count={}\n",
    "    for i in inpt1.split():\n",
    "        count[i]=count.get(i,0)+1\n",
    "\n",
    "    for j in input2.split():\n",
    "        count[j]=count.get(j,0)+1\n",
    "        \n",
    "    return [i for i in count if count[i]==1]\n",
    "uncmmn(a,b)\n",
    "        "
   ]
  },
  {
   "cell_type": "code",
   "execution_count": 53,
   "id": "a5a62a3e",
   "metadata": {},
   "outputs": [
    {
     "data": {
      "text/plain": [
       "['water_melon', 'gua']"
      ]
     },
     "execution_count": 53,
     "metadata": {},
     "output_type": "execute_result"
    }
   ],
   "source": [
    "def uncmn_(inpt1,inpt2):\n",
    "    count={}\n",
    "    for i in inpt1.split():\n",
    "        if i not in count.keys():\n",
    "            count[i]=1\n",
    "        else:\n",
    "            count[i]+=1\n",
    "    for j in inpt2.split():\n",
    "        if j not in count.keys():\n",
    "            count[j]=1\n",
    "            \n",
    "        else:\n",
    "            count[j]+=1\n",
    "            \n",
    "    return[ i for i in count if count[i]==1]\n",
    "\n",
    "uncmn_(a,b)"
   ]
  },
  {
   "cell_type": "code",
   "execution_count": null,
   "id": "9c5a6630",
   "metadata": {},
   "outputs": [],
   "source": []
  },
  {
   "cell_type": "markdown",
   "id": "39391145",
   "metadata": {},
   "source": [
    "###### 20. Replace duplicate Occurrence in String."
   ]
  },
  {
   "cell_type": "markdown",
   "id": "c44af709",
   "metadata": {},
   "source": [
    "The original string is : Gfg is best . Gfg also has Classes now. Classes help understand better . \n",
    "\n",
    "The string after replacing : Gfg is best . It also has Classes now. They help understand better ."
   ]
  },
  {
   "cell_type": "code",
   "execution_count": 65,
   "id": "c125c010",
   "metadata": {},
   "outputs": [
    {
     "data": {
      "text/plain": [
       "'Gfg is best . It also has Classes now. They help understand better'"
      ]
     },
     "execution_count": 65,
     "metadata": {},
     "output_type": "execute_result"
    }
   ],
   "source": [
    "input1= 'Gfg is best . Gfg also has Classes now. Classes help understand better '\n",
    "output1='Gfg is best . It also has Classes now. They help understand better'\n",
    "\n",
    "to_replace={'Gfg':'It','Classes':'They'}\n",
    "\n",
    "\n",
    "def replce_(input1,to_replace):\n",
    "    z=input1.split()\n",
    "    for i in range(len(input1.split())):\n",
    "        if z[i] in to_replace and z[i] in z[:i]:\n",
    "            z[i]=to_replace.get(z[i])\n",
    "               \n",
    "    return \" \".join(z)\n",
    "\n",
    "replce_(input1,to_replace)"
   ]
  },
  {
   "cell_type": "code",
   "execution_count": null,
   "id": "2cae2b12",
   "metadata": {},
   "outputs": [],
   "source": []
  },
  {
   "cell_type": "code",
   "execution_count": 67,
   "id": "a7ef7e9d",
   "metadata": {},
   "outputs": [
    {
     "data": {
      "text/plain": [
       "'Gfg is best . It also has Classes now. They help understand better'"
      ]
     },
     "execution_count": 67,
     "metadata": {},
     "output_type": "execute_result"
    }
   ],
   "source": [
    "input1= 'Gfg is best . Gfg also has Classes now. Classes help understand better '\n",
    "output1='Gfg is best . It also has Classes now. They help understand better'\n",
    "\n",
    "to_replace=['Gfg','Classes']\n",
    "replace_with=['It','They']\n",
    "\n",
    "\n",
    "def replce_(input1,to_replace,replace_with):\n",
    "    z=input1.split()\n",
    "    for i in range(len(input1.split())):\n",
    "        if z[i] in to_replace and z[i] in z[:i]:\n",
    "            for x,y in zip(to_replace,replace_with):\n",
    "                if x==z[i]:\n",
    "                    z[i]=y\n",
    "               \n",
    "    return \" \".join(z)\n",
    "\n",
    "replce_(input1,to_replace,replace_with)"
   ]
  },
  {
   "cell_type": "code",
   "execution_count": 6,
   "id": "b48d1539",
   "metadata": {},
   "outputs": [
    {
     "data": {
      "text/plain": [
       "'Gfg is best . It also has Classes now. They help understand better'"
      ]
     },
     "execution_count": 6,
     "metadata": {},
     "output_type": "execute_result"
    }
   ],
   "source": [
    "#using dict and get\n",
    "\n",
    "input1= 'Gfg is best . Gfg also has Classes now. Classes help understand better'\n",
    "to_replace={'Gfg':'It','Classes':'They'}\n",
    "\n",
    "\n",
    "def replace_(inpt,dict_):\n",
    "    set_=[]\n",
    "    output=[]\n",
    "    for i in inpt.split():\n",
    "        if i in dict_ and i in set_:\n",
    "            output.append(dict_.get(i))\n",
    "        elif i in dict_ and i not in set_:\n",
    "            set_.append(i)\n",
    "            output.append(i)\n",
    "            \n",
    "        else :output.append(i)\n",
    "        \n",
    "    return \" \".join(output)\n",
    "\n",
    "replace_(input1 , to_replace)\n",
    "    "
   ]
  },
  {
   "cell_type": "code",
   "execution_count": 9,
   "id": "684c0af6",
   "metadata": {},
   "outputs": [
    {
     "data": {
      "text/plain": [
       "'Gfg is best . It also has Classes now. They help understand better'"
      ]
     },
     "execution_count": 9,
     "metadata": {},
     "output_type": "execute_result"
    }
   ],
   "source": [
    "#using enumerate\n",
    "\n",
    "def replace1(inpt,dict_):\n",
    "    a=inpt.split()\n",
    "    output=[]\n",
    "    \n",
    "    for ind ,val in enumerate(a):\n",
    "        if val in dict_ and a.index(val)!=ind:\n",
    "            output.append(dict_.get(val))\n",
    "        else:\n",
    "            output.append(val)\n",
    "    \n",
    "    return \" \".join(output)\n",
    "\n",
    "replace1(input1,to_replace)\n",
    "        "
   ]
  },
  {
   "cell_type": "code",
   "execution_count": null,
   "id": "9abd198f",
   "metadata": {},
   "outputs": [],
   "source": []
  },
  {
   "cell_type": "markdown",
   "id": "93a0ca44",
   "metadata": {},
   "source": [
    "###### 21. Replace multiple words with K"
   ]
  },
  {
   "cell_type": "code",
   "execution_count": 17,
   "id": "83d7778d",
   "metadata": {},
   "outputs": [],
   "source": [
    "#input\n",
    "input1= 'linked in is the place to improve your network in corporate'\n",
    "\n",
    "#words which need to be replaced\n",
    "to_replace=['corporate' , 'your']\n",
    "\n",
    "#word with which we replace\n",
    "word='world'\n",
    "\n",
    "#output\n",
    "output='linked in is the place to improve world network in world'"
   ]
  },
  {
   "cell_type": "code",
   "execution_count": 19,
   "id": "3e8d4f91",
   "metadata": {},
   "outputs": [
    {
     "data": {
      "text/plain": [
       "'linked in is the place to improve world network in world'"
      ]
     },
     "execution_count": 19,
     "metadata": {},
     "output_type": "execute_result"
    }
   ],
   "source": [
    "#simple loop with split\n",
    "\n",
    "def rplc(inpt,rplce,word):\n",
    "    a=inpt.split()\n",
    "    output=[]\n",
    "    i=0\n",
    "    while i <len(a):\n",
    "        if a[i] in rplce:\n",
    "            output.append(word)\n",
    "            \n",
    "        else:\n",
    "            output.append(a[i])\n",
    "        \n",
    "        i+=1\n",
    "    return \" \".join(output)\n",
    "\n",
    "rplc(input1,to_replace,word)\n",
    "            \n",
    "    "
   ]
  },
  {
   "cell_type": "code",
   "execution_count": 22,
   "id": "95efe037",
   "metadata": {},
   "outputs": [
    {
     "data": {
      "text/plain": [
       "'linked in is the place to improve world network in world'"
      ]
     },
     "execution_count": 22,
     "metadata": {},
     "output_type": "execute_result"
    }
   ],
   "source": [
    "\" \".join(['world' if i in to_replace else i for i in input1.split()])"
   ]
  },
  {
   "cell_type": "code",
   "execution_count": null,
   "id": "653fdb19",
   "metadata": {},
   "outputs": [],
   "source": []
  },
  {
   "cell_type": "code",
   "execution_count": 26,
   "id": "d5eeb08a",
   "metadata": {},
   "outputs": [
    {
     "data": {
      "text/plain": [
       "'linked in is the place to improve world network in world'"
      ]
     },
     "execution_count": 26,
     "metadata": {},
     "output_type": "execute_result"
    }
   ],
   "source": [
    "#using replace\n",
    "def replace_(input1,to_replace,word):\n",
    "    for i in to_replace:\n",
    "        input1=input1.replace(i,word)\n",
    "        \n",
    "    return input1\n",
    "\n",
    "replace_(input1,to_replace,word)"
   ]
  },
  {
   "cell_type": "code",
   "execution_count": null,
   "id": "6098d25f",
   "metadata": {},
   "outputs": [],
   "source": []
  },
  {
   "cell_type": "code",
   "execution_count": 28,
   "id": "364e32eb",
   "metadata": {},
   "outputs": [
    {
     "data": {
      "text/plain": [
       "'linked in is the place to improve world network in world'"
      ]
     },
     "execution_count": 28,
     "metadata": {},
     "output_type": "execute_result"
    }
   ],
   "source": [
    "#using regex.sub \n",
    "\n",
    "def replc(inpt,to,word):\n",
    "    to_place=\"|\".join(sorted(to,key=len,reverse=True))\n",
    "    return re.sub(to_place,word,inpt)\n",
    "    \n",
    "replc(input1,to_replace,word)\n",
    "    \n",
    "\n"
   ]
  },
  {
   "cell_type": "code",
   "execution_count": 29,
   "id": "4a4ef39b",
   "metadata": {},
   "outputs": [
    {
     "data": {
      "text/plain": [
       "'linked in is the place to improve world network in world'"
      ]
     },
     "execution_count": 29,
     "metadata": {},
     "output_type": "execute_result"
    }
   ],
   "source": [
    "#input\n",
    "input1= 'linked in is the place to improve your network in corporate'\n",
    "\n",
    "#words which need to be replaced\n",
    "to_replace=['corporate' , 'your']\n",
    "\n",
    "#word with which we replace\n",
    "word='world'\n",
    "\n",
    "#output\n",
    "output='linked in is the place to improve world network in world'\n",
    "from functools import reduce\n",
    "def replace_(input1,to,word):\n",
    "    functn=lambda x,y:x.replace(y,word)\n",
    "    return reduce(functn,to,input1)\n",
    "replace_(input1,to_replace,word)"
   ]
  },
  {
   "cell_type": "code",
   "execution_count": null,
   "id": "7c5c0194",
   "metadata": {},
   "outputs": [],
   "source": []
  },
  {
   "cell_type": "markdown",
   "id": "edfe0ba5",
   "metadata": {},
   "source": [
    "#### Generate permutation of strings"
   ]
  },
  {
   "cell_type": "code",
   "execution_count": 1,
   "id": "91b44323",
   "metadata": {},
   "outputs": [],
   "source": [
    "from itertools import permutations"
   ]
  },
  {
   "cell_type": "code",
   "execution_count": 4,
   "id": "e6ea8c4d",
   "metadata": {},
   "outputs": [
    {
     "name": "stdout",
     "output_type": "stream",
     "text": [
      "ACB\n",
      "ABC\n",
      "CAB\n",
      "CBA\n",
      "BAC\n",
      "BCA\n"
     ]
    }
   ],
   "source": [
    "for i in permutations(\"ACB\"):\n",
    "    print(\"\".join(i))"
   ]
  },
  {
   "cell_type": "code",
   "execution_count": null,
   "id": "c1048fc1",
   "metadata": {},
   "outputs": [],
   "source": []
  },
  {
   "cell_type": "markdown",
   "id": "04f1375b",
   "metadata": {},
   "source": [
    "#### Execute a String of Code in Python."
   ]
  },
  {
   "cell_type": "markdown",
   "id": "01382eba",
   "metadata": {},
   "source": [
    "Given few lines of code inside a string variable and execute the code inside the string. "
   ]
  },
  {
   "cell_type": "code",
   "execution_count": 25,
   "id": "3f0009eb",
   "metadata": {},
   "outputs": [],
   "source": [
    "code = \"\"\"b=5+4\n",
    "print(b)\"\"\"\n",
    "\n",
    "# Output:9"
   ]
  },
  {
   "cell_type": "code",
   "execution_count": 20,
   "id": "6070af20",
   "metadata": {},
   "outputs": [],
   "source": [
    "code2= \"\"\" \n",
    "def factorial(num):\n",
    "        fact=1\n",
    "        for i in range(1,num+1):\n",
    "                   fact = fact*i\n",
    "        return fact\n",
    "print(factorial(6))\"\"\"\n",
    "\n",
    "# Output:720\n"
   ]
  },
  {
   "cell_type": "code",
   "execution_count": 21,
   "id": "4fb1b636",
   "metadata": {},
   "outputs": [
    {
     "name": "stdout",
     "output_type": "stream",
     "text": [
      "9\n"
     ]
    }
   ],
   "source": [
    "#using exec\n",
    "\n",
    "exec(code)"
   ]
  },
  {
   "cell_type": "code",
   "execution_count": 22,
   "id": "4ca2ac73",
   "metadata": {},
   "outputs": [
    {
     "name": "stdout",
     "output_type": "stream",
     "text": [
      "720\n"
     ]
    }
   ],
   "source": [
    "exec(code2)"
   ]
  },
  {
   "cell_type": "code",
   "execution_count": null,
   "id": "e1ffc05e",
   "metadata": {},
   "outputs": [],
   "source": []
  },
  {
   "cell_type": "code",
   "execution_count": 23,
   "id": "f8808ea6",
   "metadata": {},
   "outputs": [],
   "source": [
    "## eval()"
   ]
  },
  {
   "cell_type": "code",
   "execution_count": 28,
   "id": "b0d1771b",
   "metadata": {},
   "outputs": [
    {
     "data": {
      "text/plain": [
       "9"
      ]
     },
     "execution_count": 28,
     "metadata": {},
     "output_type": "execute_result"
    }
   ],
   "source": [
    "\n",
    "eval('5+4')"
   ]
  },
  {
   "cell_type": "code",
   "execution_count": 29,
   "id": "b78b47b5",
   "metadata": {},
   "outputs": [
    {
     "data": {
      "text/plain": [
       "1"
      ]
     },
     "execution_count": 29,
     "metadata": {},
     "output_type": "execute_result"
    }
   ],
   "source": [
    "eval('[1,2,3,4][0]')"
   ]
  },
  {
   "cell_type": "code",
   "execution_count": null,
   "id": "5a897dab",
   "metadata": {},
   "outputs": [],
   "source": []
  },
  {
   "cell_type": "markdown",
   "id": "348a46d7",
   "metadata": {},
   "source": [
    "### String slicing in Python to Rotate a String"
   ]
  },
  {
   "cell_type": "markdown",
   "id": "f4abdbe2",
   "metadata": {},
   "source": [
    "Given a string of size n, write functions to perform following operations on string\n",
    ".\n",
    "\n",
    "Left (Or anticlockwise) rotate the given string by d elements (where d <= n).\n",
    "\n",
    "Right (Or clockwise) rotate the given string by d elements (where d <= n)."
   ]
  },
  {
   "cell_type": "code",
   "execution_count": 30,
   "id": "16b91615",
   "metadata": {},
   "outputs": [],
   "source": [
    "input1='Linked in is a job portal'\n",
    "d=2\n",
    "\n",
    "#output\n",
    "\n",
    "#leftrotate='nked in is a job portalLi'\n",
    "\n",
    "#rightrotate='alLinked in is a job port'"
   ]
  },
  {
   "cell_type": "code",
   "execution_count": 38,
   "id": "0785021f",
   "metadata": {},
   "outputs": [
    {
     "name": "stdout",
     "output_type": "stream",
     "text": [
      "nked in is a job portalLi\n",
      "\n",
      "alLinked in is a job port\n"
     ]
    }
   ],
   "source": [
    "def rotate1(inpt,step):\n",
    "    left_rotate=inpt[step:]+inpt[:step]\n",
    "    \n",
    "    right_rotate=inpt[-step:]+inpt[:-step]\n",
    "    print(left_rotate)\n",
    "    print()\n",
    "    print(right_rotate)\n",
    "    \n",
    "rotate1(input1,d)"
   ]
  },
  {
   "cell_type": "code",
   "execution_count": null,
   "id": "05dc4d0c",
   "metadata": {},
   "outputs": [],
   "source": []
  },
  {
   "cell_type": "code",
   "execution_count": 35,
   "id": "02d6920e",
   "metadata": {},
   "outputs": [
    {
     "name": "stdout",
     "output_type": "stream",
     "text": [
      "leftrotate =  nked in is a job portalLi\n",
      "\n",
      "rightrotate =  alLinked in is a job port\n"
     ]
    }
   ],
   "source": [
    "#using for loop\n",
    "def rotate_(inpt,step):\n",
    "    left_inpt=list(inpt)\n",
    "    for i in range(step):\n",
    "        temp=left_inpt[0]\n",
    "        for j in range(len(inpt)):\n",
    "            if j==len(inpt)-1:\n",
    "                left_inpt[j]=temp\n",
    "            else:\n",
    "                left_inpt[j]=left_inpt[j+1]\n",
    "                \n",
    "    right_inpt=list(inpt)\n",
    "    for i in range(step):\n",
    "        temp=right_inpt[-1]\n",
    "        for j in range(len(inpt)-1,-1,-1):\n",
    "            if j==0:\n",
    "                right_inpt[0]=temp\n",
    "            else:\n",
    "                right_inpt[j]=right_inpt[j-1]\n",
    "    print(\"leftrotate = \" , \"\".join(left_inpt))\n",
    "    print()\n",
    "    print('rightrotate = ', \"\".join(right_inpt))\n",
    "    \n",
    "    \n",
    "rotate_(input1,d)    \n",
    "                "
   ]
  },
  {
   "cell_type": "code",
   "execution_count": null,
   "id": "3037d1b8",
   "metadata": {},
   "outputs": [],
   "source": []
  },
  {
   "cell_type": "code",
   "execution_count": 45,
   "id": "7cd1fa28",
   "metadata": {},
   "outputs": [],
   "source": [
    "#using recursion\n",
    "\n",
    "input1='Linked in is a job portal'\n",
    "d=2\n",
    "\n",
    "#output\n",
    "\n",
    "#leftrotate='nked in is a job portalLi'\n",
    "\n",
    "#rightrotate='alLinked in is a job port'"
   ]
  },
  {
   "cell_type": "code",
   "execution_count": 47,
   "id": "9cc4b6ff",
   "metadata": {},
   "outputs": [
    {
     "name": "stdout",
     "output_type": "stream",
     "text": [
      "right_rotate is :  laLinked in is a job port\n",
      "\n",
      "left_rotate is :  nked in is a job portalLi\n"
     ]
    }
   ],
   "source": [
    "#first right code for right rotate\n",
    "def right_(inpt,step):\n",
    "    if step==0:\n",
    "        return inpt\n",
    "    else:\n",
    "        return inpt[-1]+right_(inpt[:-1],step-1)\n",
    "#function for left rotate    \n",
    "def left_(inpt,step):\n",
    "    if step==0:\n",
    "        return inpt\n",
    "    else:\n",
    "        return left_(inpt[1:]+inpt[0],step-1)\n",
    "def rotate_(inpt,step):\n",
    "    print('right_rotate is : ' ,right_(inpt,step))\n",
    "    print()\n",
    "    print('left_rotate is : ' ,left_(inpt,step))\n",
    "    \n",
    "    \n",
    "rotate_(input1,d)"
   ]
  },
  {
   "cell_type": "code",
   "execution_count": null,
   "id": "80f8dc4e",
   "metadata": {},
   "outputs": [],
   "source": []
  },
  {
   "cell_type": "markdown",
   "id": "bbca80cc",
   "metadata": {},
   "source": [
    "#### String slicing in Python to check if a string can become empty by recursive deletion."
   ]
  },
  {
   "cell_type": "markdown",
   "id": "57976647",
   "metadata": {},
   "source": [
    "Given a string “str” and another string “sub_str”. We are allowed to delete “sub_str” from “str” any number of times. It is also given that the “sub_str” appears only once at a time. The task is to find if “str” can become empty by removing “sub_str” again and again."
   ]
  },
  {
   "cell_type": "code",
   "execution_count": 1,
   "id": "284cd7b7",
   "metadata": {},
   "outputs": [],
   "source": [
    "#inputs or main string\n",
    "input1='LinLinkedked'\n",
    "input2='LinLinkedLinked'\n",
    "\n",
    "#substring\n",
    "sub='Linked'\n",
    "\n",
    "#output1 True\n",
    "#Output2 #False"
   ]
  },
  {
   "cell_type": "code",
   "execution_count": 5,
   "id": "e0665bab",
   "metadata": {},
   "outputs": [
    {
     "data": {
      "text/plain": [
       "True"
      ]
     },
     "execution_count": 5,
     "metadata": {},
     "output_type": "execute_result"
    }
   ],
   "source": [
    "def deletable(inpt,sub):\n",
    "    if len(inpt)==0 and len(sub)==0:\n",
    "        return True\n",
    "    elif len(inpt)!=0 and len(sub)==0:\n",
    "            return True\n",
    "        \n",
    "    while inpt:\n",
    "        index=inpt.find(sub)\n",
    "        if index==-1:\n",
    "            return False\n",
    "        else :inpt=inpt[:index]+inpt[index+len(sub):]\n",
    "        \n",
    "    return True\n",
    "\n",
    "deletable(input1,sub)"
   ]
  },
  {
   "cell_type": "code",
   "execution_count": 6,
   "id": "0fc54406",
   "metadata": {},
   "outputs": [
    {
     "data": {
      "text/plain": [
       "False"
      ]
     },
     "execution_count": 6,
     "metadata": {},
     "output_type": "execute_result"
    }
   ],
   "source": [
    "deletable(input2,sub)"
   ]
  },
  {
   "cell_type": "code",
   "execution_count": null,
   "id": "9126720d",
   "metadata": {},
   "outputs": [],
   "source": []
  },
  {
   "cell_type": "code",
   "execution_count": 7,
   "id": "c74157c2",
   "metadata": {},
   "outputs": [
    {
     "data": {
      "text/plain": [
       "True"
      ]
     },
     "execution_count": 7,
     "metadata": {},
     "output_type": "execute_result"
    }
   ],
   "source": [
    "def delete(inpt,sub):\n",
    "    while inpt:\n",
    "        if sub in inpt:\n",
    "            inpt=inpt.replace(sub,\"\")\n",
    "        else:\n",
    "            return False\n",
    "    return True\n",
    "\n",
    "delete(input1,sub)\n",
    "        "
   ]
  },
  {
   "cell_type": "code",
   "execution_count": 8,
   "id": "4caf3ff4",
   "metadata": {},
   "outputs": [
    {
     "data": {
      "text/plain": [
       "False"
      ]
     },
     "execution_count": 8,
     "metadata": {},
     "output_type": "execute_result"
    }
   ],
   "source": [
    "delete(input2,sub)"
   ]
  },
  {
   "cell_type": "code",
   "execution_count": null,
   "id": "722cdd04",
   "metadata": {},
   "outputs": [],
   "source": []
  },
  {
   "cell_type": "markdown",
   "id": "1b07f151",
   "metadata": {},
   "source": [
    "#### Find all duplicate characters."
   ]
  },
  {
   "cell_type": "code",
   "execution_count": null,
   "id": "acfc7260",
   "metadata": {},
   "outputs": [],
   "source": []
  },
  {
   "cell_type": "code",
   "execution_count": 13,
   "id": "650fda2c",
   "metadata": {},
   "outputs": [],
   "source": [
    "input1='Hi Linked in'\n",
    "#outpput=i n\n"
   ]
  },
  {
   "cell_type": "code",
   "execution_count": 17,
   "id": "f24010d0",
   "metadata": {},
   "outputs": [
    {
     "name": "stdout",
     "output_type": "stream",
     "text": [
      "i   n\n"
     ]
    }
   ],
   "source": [
    "#using for loop\n",
    "\n",
    "dup=[]\n",
    "set_=[]\n",
    "for i in input1:\n",
    "    if i in set_ and i not in dup:\n",
    "        dup.append(i)\n",
    "        \n",
    "    else:\n",
    "        set_.append(i)\n",
    "print(*dup)"
   ]
  },
  {
   "cell_type": "code",
   "execution_count": 19,
   "id": "ffd07df5",
   "metadata": {},
   "outputs": [
    {
     "name": "stdout",
     "output_type": "stream",
     "text": [
      "i   n\n"
     ]
    }
   ],
   "source": [
    "dup=[]\n",
    "set_=[]\n",
    "\n",
    "while input1:\n",
    "    if input1[0] in set_ and input1[0] not in dup:\n",
    "        dup.append(input1[0])\n",
    "        \n",
    "    else:\n",
    "        set_.append(input1[0])\n",
    "\n",
    "    input1=input1[1:]\n",
    "    \n",
    "print(*dup)\n",
    "        \n",
    "        "
   ]
  },
  {
   "cell_type": "code",
   "execution_count": 26,
   "id": "3e3f786f",
   "metadata": {},
   "outputs": [
    {
     "name": "stdout",
     "output_type": "stream",
     "text": [
      "i   n\n"
     ]
    }
   ],
   "source": [
    "#using dictionary\n",
    "\n",
    "input1='Hi Linked in'\n",
    "#outpput=i n\n",
    "\n",
    "def duplicate(inpt):\n",
    "    dic={}\n",
    "    for i in inpt:\n",
    "        dic[i]=dic.get(i,0)+1\n",
    "    print(*[i for i in dic if dic.get(i)>1])\n",
    "    \n",
    "duplicate(input1)  "
   ]
  },
  {
   "cell_type": "code",
   "execution_count": 29,
   "id": "e5059f0f",
   "metadata": {},
   "outputs": [
    {
     "name": "stdout",
     "output_type": "stream",
     "text": [
      "i   n "
     ]
    }
   ],
   "source": [
    "#using counter\n",
    "\n",
    "from collections import Counter\n",
    "\n",
    "counts=Counter(input1)\n",
    "\n",
    "for i  in counts:\n",
    "    if counts[i]>1:\n",
    "        print(i,end=\" \")"
   ]
  },
  {
   "cell_type": "code",
   "execution_count": 30,
   "id": "29d84910",
   "metadata": {},
   "outputs": [
    {
     "name": "stdout",
     "output_type": "stream",
     "text": [
      "i n   "
     ]
    }
   ],
   "source": [
    "#using count\n",
    "\n",
    "def dup(inpt):\n",
    "    set_=set(list(inpt))\n",
    "    for i in set_:\n",
    "        if inpt.count(i)>1:\n",
    "            print(i,end=\" \")\n",
    "            \n",
    "dup(input1)            \n",
    "        "
   ]
  },
  {
   "cell_type": "code",
   "execution_count": 31,
   "id": "b2621f81",
   "metadata": {},
   "outputs": [
    {
     "name": "stdout",
     "output_type": "stream",
     "text": [
      "i n  \n"
     ]
    }
   ],
   "source": [
    "#using filter\n",
    "def fltr(inpt):\n",
    "    a=list(filter(lambda x : inpt.count(x)>1 , inpt))\n",
    "    \n",
    "    print(* list(set(a)))\n",
    "    \n",
    "fltr(input1)    "
   ]
  },
  {
   "cell_type": "code",
   "execution_count": null,
   "id": "1f37fee9",
   "metadata": {},
   "outputs": [],
   "source": []
  }
 ],
 "metadata": {
  "kernelspec": {
   "display_name": "Python 3 (ipykernel)",
   "language": "python",
   "name": "python3"
  },
  "language_info": {
   "codemirror_mode": {
    "name": "ipython",
    "version": 3
   },
   "file_extension": ".py",
   "mimetype": "text/x-python",
   "name": "python",
   "nbconvert_exporter": "python",
   "pygments_lexer": "ipython3",
   "version": "3.9.18"
  }
 },
 "nbformat": 4,
 "nbformat_minor": 5
}
