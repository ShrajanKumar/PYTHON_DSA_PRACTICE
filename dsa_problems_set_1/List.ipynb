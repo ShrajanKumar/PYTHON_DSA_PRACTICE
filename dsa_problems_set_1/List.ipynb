{
 "cells": [
  {
   "cell_type": "markdown",
   "id": "7fe5e694",
   "metadata": {},
   "source": [
    "#### ARRAY\n"
   ]
  },
  {
   "cell_type": "markdown",
   "id": "e347bc5c",
   "metadata": {},
   "source": [
    "If builtn using python module array.array you canot directly remove element or add new element. You can reasign values by indexing."
   ]
  },
  {
   "cell_type": "markdown",
   "id": "d3d7383d",
   "metadata": {},
   "source": [
    "###### Find the sum"
   ]
  },
  {
   "cell_type": "code",
   "execution_count": 2,
   "id": "fea741e5",
   "metadata": {},
   "outputs": [
    {
     "data": {
      "text/plain": [
       "6"
      ]
     },
     "execution_count": 2,
     "metadata": {},
     "output_type": "execute_result"
    }
   ],
   "source": [
    "from array import array\n",
    "def sum_(arr):\n",
    "    sum1=0\n",
    "    for i in arr:\n",
    "        sum1+=i\n",
    "    return sum1\n",
    "a=array('i',[1,2,3])\n",
    "sum_(a)"
   ]
  },
  {
   "cell_type": "code",
   "execution_count": 4,
   "id": "4dec85b5",
   "metadata": {},
   "outputs": [
    {
     "data": {
      "text/plain": [
       "9"
      ]
     },
     "execution_count": 4,
     "metadata": {},
     "output_type": "execute_result"
    }
   ],
   "source": [
    "from functools import reduce\n",
    "def sum_(arr):\n",
    "    return reduce(lambda a ,b : a+b,arr)\n",
    "sum_(array('i',[2,3,4]))"
   ]
  },
  {
   "cell_type": "markdown",
   "id": "a6f37b6a",
   "metadata": {},
   "source": [
    "reduce(lambda a, b: a + b, arr), performs a cumulative operation on the elements of the given iterable (arr) using the specified lambda function (lambda a, b: a + b). Let's break down what happens at each step of this operation:\n",
    "\n",
    "First Step:\n",
    "\n",
    "a is the first element of the iterable (arr[0]).\n",
    "b is the second element of the iterable (arr[1]).\n",
    "The lambda function lambda a, b: a + b is applied to these two elements: a + b.\n",
    "The result of the lambda function becomes the new value of a.\n",
    "Second Step:\n",
    "\n",
    "a is now the result of the previous step (arr[0] + arr[1]).\n",
    "b is the third element of the iterable (arr[2]).\n",
    "The lambda function is applied again: (arr[0] + arr[1]) + arr[2].\n",
    "The result of the lambda function becomes the new value of a.\n",
    "Third Step:\n",
    "\n",
    "a is now the result of the previous step (arr[0] + arr[1] + arr[2]).\n",
    "b is the fourth element of the iterable (arr[3]).\n",
    "The lambda function is applied again: ((arr[0] + arr[1]) + arr[2]) + arr[3].\n",
    "The process continues until all elements in the iterable have been processed. At each step, the lambda function accumulates the result by adding the current element to the accumulated value (a).\n",
    "\n",
    "For example, let's consider the arr list as [12, 3, 4, 15]:\n",
    "\n",
    "First step: a = 12, b = 3, lambda a, b: a + b evaluates to 15, so a becomes 15.\n",
    "Second step: a = 15, b = 4, lambda a, b: a + b evaluates to 19, so a becomes 19.\n",
    "Third step: a = 19, b = 15, lambda a, b: a + b evaluates to 34.\n",
    "The final result, 34, is the sum of all elements in the array."
   ]
  },
  {
   "cell_type": "code",
   "execution_count": 24,
   "id": "1094f48e",
   "metadata": {},
   "outputs": [],
   "source": [
    "#recursion\n",
    "def sum_(arr,start):\n",
    "    if start==len(arr):\n",
    "            return 0\n",
    "    else :                             \n",
    "        return arr[start]+sum_(arr,start+1)   "
   ]
  },
  {
   "cell_type": "code",
   "execution_count": 17,
   "id": "e7fa3796",
   "metadata": {},
   "outputs": [
    {
     "data": {
      "text/plain": [
       "6"
      ]
     },
     "execution_count": 17,
     "metadata": {},
     "output_type": "execute_result"
    }
   ],
   "source": [
    "from array import array\n",
    "a=array('i',[1,2,3])\n",
    "sum_(a,0)"
   ]
  },
  {
   "cell_type": "code",
   "execution_count": 23,
   "id": "b3082dae",
   "metadata": {},
   "outputs": [
    {
     "data": {
      "text/plain": [
       "6"
      ]
     },
     "execution_count": 23,
     "metadata": {},
     "output_type": "execute_result"
    }
   ],
   "source": [
    "def sum_1(arr,start):\n",
    "    if start==len(arr):\n",
    "        return 0\n",
    "    if start<len(arr):\n",
    "        return arr[start]+sum_1(arr,start+1)\n",
    "sum_1(a,0)\n"
   ]
  },
  {
   "cell_type": "code",
   "execution_count": 2,
   "id": "8e6f3133",
   "metadata": {},
   "outputs": [
    {
     "data": {
      "text/plain": [
       "6"
      ]
     },
     "execution_count": 2,
     "metadata": {},
     "output_type": "execute_result"
    }
   ],
   "source": [
    "from array import array\n",
    "def sum_1(arr):\n",
    "    if arr :\n",
    "        return arr[0]+sum_1(arr[1:])\n",
    "    else:\n",
    "        return 0\n",
    "    \n",
    "    \n",
    "a=array('i',[1,2,3])    \n",
    "sum_1(a)"
   ]
  },
  {
   "cell_type": "markdown",
   "id": "71325fec",
   "metadata": {},
   "source": [
    "###### Largest in array"
   ]
  },
  {
   "cell_type": "code",
   "execution_count": 27,
   "id": "c85e7445",
   "metadata": {},
   "outputs": [
    {
     "data": {
      "text/plain": [
       "6"
      ]
     },
     "execution_count": 27,
     "metadata": {},
     "output_type": "execute_result"
    }
   ],
   "source": [
    "#FINDING LARGEST ELEMENT IN THE ARray\n",
    "import numpy as np\n",
    "from array import array\n",
    "#for loop\n",
    "a=array('i',[4,3,5,6,1])\n",
    "def largest(a):                 #note it doesnot work if all elemnets are -ve\n",
    "    large=a[0]\n",
    "    for i in a:\n",
    "        if i>large:\n",
    "            large=i\n",
    "    return large\n",
    "largest(a)\n"
   ]
  },
  {
   "cell_type": "code",
   "execution_count": 6,
   "id": "22ac0491",
   "metadata": {},
   "outputs": [
    {
     "data": {
      "text/plain": [
       "6"
      ]
     },
     "execution_count": 6,
     "metadata": {},
     "output_type": "execute_result"
    }
   ],
   "source": [
    "np.max(a)"
   ]
  },
  {
   "cell_type": "code",
   "execution_count": 9,
   "id": "0f9f4372",
   "metadata": {},
   "outputs": [
    {
     "data": {
      "text/plain": [
       "6"
      ]
     },
     "execution_count": 9,
     "metadata": {},
     "output_type": "execute_result"
    }
   ],
   "source": [
    "#while loop\n",
    "def largest1(a):\n",
    "    large=0\n",
    "    i=0\n",
    "    while i < len(a):\n",
    "        if a[i]>large:\n",
    "            large=a[i]\n",
    "        i+=1\n",
    "    return large\n",
    "largest1(a)\n",
    "        "
   ]
  },
  {
   "cell_type": "code",
   "execution_count": 16,
   "id": "8f39e194",
   "metadata": {},
   "outputs": [
    {
     "data": {
      "text/plain": [
       "6"
      ]
     },
     "execution_count": 16,
     "metadata": {},
     "output_type": "execute_result"
    }
   ],
   "source": [
    "a=array('i',[4,3,5,6,1])\n",
    "from functools import reduce\n",
    "reduce(lambda c,b : max(c,b),a)\n"
   ]
  },
  {
   "cell_type": "code",
   "execution_count": 2,
   "id": "9f1b587e",
   "metadata": {},
   "outputs": [
    {
     "data": {
      "text/plain": [
       "[1, 2, 3]"
      ]
     },
     "execution_count": 2,
     "metadata": {},
     "output_type": "execute_result"
    }
   ],
   "source": [
    "a=[1,2,3,[],()]\n",
    "list(filter(None,a))"
   ]
  },
  {
   "cell_type": "markdown",
   "id": "b20dbc08",
   "metadata": {},
   "source": [
    "###### Rotating array once"
   ]
  },
  {
   "cell_type": "code",
   "execution_count": 19,
   "id": "797a0e97",
   "metadata": {},
   "outputs": [
    {
     "data": {
      "text/plain": [
       "[2, 3, 4, 5, 6, 7, 8, 1]"
      ]
     },
     "execution_count": 19,
     "metadata": {},
     "output_type": "execute_result"
    }
   ],
   "source": [
    "#Array rotation once\n",
    "\n",
    "a=[1,2,3,4,5,6,7,8]\n",
    "#output=[2,3,4,5,6,7,8,1]\n",
    "\n",
    "#for loop\n",
    "def rotate(a):\n",
    "    a1=a[0]\n",
    "    for i in range(len(a)):\n",
    "        if i==len(a)-1:\n",
    "            a[i]=a1\n",
    "        else:\n",
    "            a[i]=a[i+1]\n",
    "    return a\n",
    "rotate(a)\n",
    "    \n"
   ]
  },
  {
   "cell_type": "code",
   "execution_count": 1,
   "id": "83372b9c",
   "metadata": {},
   "outputs": [
    {
     "data": {
      "text/plain": [
       "array('i', [2, 3, 4, 5, 1])"
      ]
     },
     "execution_count": 1,
     "metadata": {},
     "output_type": "execute_result"
    }
   ],
   "source": [
    "#for loop but skipping if\n",
    "from array import array\n",
    "a=array('i',[1,2,3,4,5])\n",
    "def rotate(a):\n",
    "    a1=a[0]\n",
    "    for i in range(len(a)-1):\n",
    "        a[i]=a[i+1]\n",
    "    a[-1]=a1\n",
    "    return a\n",
    "rotate(a)"
   ]
  },
  {
   "cell_type": "code",
   "execution_count": 13,
   "id": "8ece9f1e",
   "metadata": {},
   "outputs": [
    {
     "data": {
      "text/plain": [
       "array('i', [3, 4, 5, 1, 2])"
      ]
     },
     "execution_count": 13,
     "metadata": {},
     "output_type": "execute_result"
    }
   ],
   "source": [
    "#Rotating twice\n",
    "a= array('i',[1,2,3,4,5])\n",
    "for i in range(0,2):\n",
    "    a1=a[0]\n",
    "    for j in range(len(a)-1):\n",
    "        a[j]=a[j+1]\n",
    "    a[-1]=a1\n",
    "a"
   ]
  },
  {
   "cell_type": "code",
   "execution_count": 14,
   "id": "0fe61708",
   "metadata": {},
   "outputs": [
    {
     "data": {
      "text/plain": [
       "array('i', [3, 4, 5, 1, 2])"
      ]
     },
     "execution_count": 14,
     "metadata": {},
     "output_type": "execute_result"
    }
   ],
   "source": [
    "b=a[2:]+a[:2]\n",
    "a"
   ]
  },
  {
   "cell_type": "markdown",
   "id": "8c8cb260",
   "metadata": {},
   "source": [
    "###### FInd product of array then devide by given no and return remainder"
   ]
  },
  {
   "cell_type": "code",
   "execution_count": 4,
   "id": "e3699c30",
   "metadata": {},
   "outputs": [
    {
     "data": {
      "text/plain": [
       "9"
      ]
     },
     "execution_count": 4,
     "metadata": {},
     "output_type": "execute_result"
    }
   ],
   "source": [
    "#Array multiply devideby given number and return remainder\n",
    "arr = [100, 10, 5, 25, 35, 14]\n",
    "def rmndr(arr,n):\n",
    "    prdct=1        #for\n",
    "    for i in (arr):\n",
    "        prdct*=i\n",
    "    return prdct%n\n",
    "rmndr(arr,11)"
   ]
  },
  {
   "cell_type": "code",
   "execution_count": 5,
   "id": "82259abb",
   "metadata": {},
   "outputs": [
    {
     "data": {
      "text/plain": [
       "9"
      ]
     },
     "execution_count": 5,
     "metadata": {},
     "output_type": "execute_result"
    }
   ],
   "source": [
    "from functools import reduce  #reduce\n",
    "def rmndr(arr,n):\n",
    "    return reduce(lambda a,b: a*b , arr)%n\n",
    "rmndr(arr,11)"
   ]
  },
  {
   "cell_type": "code",
   "execution_count": 23,
   "id": "9a8896dc",
   "metadata": {},
   "outputs": [
    {
     "data": {
      "text/plain": [
       "9"
      ]
     },
     "execution_count": 23,
     "metadata": {},
     "output_type": "execute_result"
    }
   ],
   "source": [
    "#while\n",
    "def rmndr(arr,n):\n",
    "    i=0\n",
    "    prdct=1\n",
    "    while i <len(arr) :\n",
    "        prdct*=arr[i]\n",
    "        i+=1\n",
    "    return prdct%n\n",
    "rmndr(arr,11)"
   ]
  },
  {
   "cell_type": "markdown",
   "id": "0550238b",
   "metadata": {},
   "source": [
    "###### Monotone or not "
   ]
  },
  {
   "cell_type": "code",
   "execution_count": 31,
   "id": "9f831a83",
   "metadata": {},
   "outputs": [
    {
     "data": {
      "text/plain": [
       "True"
      ]
     },
     "execution_count": 31,
     "metadata": {},
     "output_type": "execute_result"
    }
   ],
   "source": [
    "#Monotone or not  #either strictly increasing or strictly decreasing\n",
    "arr=[5,10,15,20]\n",
    "def monotone(arr):\n",
    "    sum1=0\n",
    "    for i in range(len(arr)-1):\n",
    "        sum1+=arr[i]<=arr[i+1]\n",
    "    sum2=0\n",
    "    for i in range(len(arr)-1):\n",
    "        sum2+=arr[i]>=arr[i+1]\n",
    "    return sum1==len(arr)-1 or sum2==len(arr)-1\n",
    "monotone(arr)\n",
    "\n"
   ]
  },
  {
   "cell_type": "code",
   "execution_count": 25,
   "id": "5854bc26",
   "metadata": {},
   "outputs": [
    {
     "data": {
      "text/plain": [
       "True"
      ]
     },
     "execution_count": 25,
     "metadata": {},
     "output_type": "execute_result"
    }
   ],
   "source": [
    "arr=[10,9,8,7,6,6,5,5,5]\n",
    "monotone(arr)"
   ]
  },
  {
   "cell_type": "code",
   "execution_count": 26,
   "id": "3b7b22ae",
   "metadata": {},
   "outputs": [
    {
     "data": {
      "text/plain": [
       "False"
      ]
     },
     "execution_count": 26,
     "metadata": {},
     "output_type": "execute_result"
    }
   ],
   "source": [
    "arr=[10,34,56,32,9]\n",
    "monotone(arr)"
   ]
  },
  {
   "cell_type": "code",
   "execution_count": 34,
   "id": "eab7b8c1",
   "metadata": {},
   "outputs": [],
   "source": [
    "def monotone(arr):\n",
    "    return (all(arr[i]<=arr[i+1] for i in range(len(arr)-1)) or all(arr[i]>=arr[i+1] for i in range(len(arr)-1)))"
   ]
  },
  {
   "cell_type": "code",
   "execution_count": 35,
   "id": "b1953291",
   "metadata": {},
   "outputs": [
    {
     "data": {
      "text/plain": [
       "True"
      ]
     },
     "execution_count": 35,
     "metadata": {},
     "output_type": "execute_result"
    }
   ],
   "source": [
    "monotone(arr)"
   ]
  },
  {
   "cell_type": "markdown",
   "id": "b4136028",
   "metadata": {},
   "source": [
    "# LIST"
   ]
  },
  {
   "cell_type": "code",
   "execution_count": 2,
   "id": "9e517897",
   "metadata": {},
   "outputs": [
    {
     "data": {
      "text/plain": [
       "[5, 2, 3, 4, 1]"
      ]
     },
     "execution_count": 2,
     "metadata": {},
     "output_type": "execute_result"
    }
   ],
   "source": [
    "#Swap first and last element\n",
    "a=[1,2,3,4,5]\n",
    "def swap(a):\n",
    "    a[0],a[-1]=a[-1],a[0]\n",
    "    return a\n",
    "swap(a)"
   ]
  },
  {
   "cell_type": "code",
   "execution_count": 5,
   "id": "0f86925c",
   "metadata": {},
   "outputs": [
    {
     "data": {
      "text/plain": [
       "[6, 2, 3, 4, 5, 1]"
      ]
     },
     "execution_count": 5,
     "metadata": {},
     "output_type": "execute_result"
    }
   ],
   "source": [
    "a=[1,2,3,4,5,6]\n",
    "def swap1(a):\n",
    "    first=a[0]\n",
    "    last=a[-1]\n",
    "    a[0]=last\n",
    "    a[-1]=first\n",
    "    return a\n",
    "swap1(a)"
   ]
  },
  {
   "cell_type": "code",
   "execution_count": 16,
   "id": "85a22eca",
   "metadata": {},
   "outputs": [
    {
     "data": {
      "text/plain": [
       "[6, 2, 3, 4, 5, 1]"
      ]
     },
     "execution_count": 16,
     "metadata": {},
     "output_type": "execute_result"
    }
   ],
   "source": [
    "a=[1,2,3,4,5,6]\n",
    "a1=a[:1]\n",
    "a2=a[1:-1]\n",
    "a3=a[-1:]\n",
    "b=a3+a2+a1\n",
    "b"
   ]
  },
  {
   "cell_type": "code",
   "execution_count": 20,
   "id": "b865b54a",
   "metadata": {},
   "outputs": [
    {
     "data": {
      "text/plain": [
       "[5, 2, 3, 4, 1]"
      ]
     },
     "execution_count": 20,
     "metadata": {},
     "output_type": "execute_result"
    }
   ],
   "source": [
    "a=[1,2,3,4,5]\n",
    "first,*middle,last=a\n",
    "b=[last,*middle,first]\n",
    "b"
   ]
  },
  {
   "cell_type": "code",
   "execution_count": 24,
   "id": "10570532",
   "metadata": {},
   "outputs": [],
   "source": [
    "frst,mdle,last=a[:1],a[1:-1],a[-1:]"
   ]
  },
  {
   "cell_type": "code",
   "execution_count": 29,
   "id": "535957f1",
   "metadata": {},
   "outputs": [
    {
     "data": {
      "text/plain": [
       "[3, 2, 1, 4, 5, 6]"
      ]
     },
     "execution_count": 29,
     "metadata": {},
     "output_type": "execute_result"
    }
   ],
   "source": [
    "#Python Program to Swap Two Elements in a List\n",
    "\n",
    "a=[1,2,3,4,5,6]\n",
    "def swapany(arr,pos1,pos2):\n",
    "    arr[pos2-1],arr[pos1-1]=arr[pos1-1],arr[pos2-1]\n",
    "    return arr\n",
    "swapany(a,1,3)"
   ]
  },
  {
   "cell_type": "code",
   "execution_count": 2,
   "id": "281cc7bc",
   "metadata": {},
   "outputs": [
    {
     "data": {
      "text/plain": [
       "[3, 2, 1, 4, 5, 6]"
      ]
     },
     "execution_count": 2,
     "metadata": {},
     "output_type": "execute_result"
    }
   ],
   "source": [
    "a=[1,2,3,4,5,6]\n",
    "\n",
    "def swap(arr,pos1,pos2):\n",
    "    first=arr.pop(pos1-1)\n",
    "    second=arr.pop(pos2-2)\n",
    "    arr.insert(pos1-1,second)\n",
    "    arr.insert(pos2-1,first)\n",
    "    return arr\n",
    "swap(a,1,3)"
   ]
  },
  {
   "cell_type": "code",
   "execution_count": 3,
   "id": "8bd6ad78",
   "metadata": {},
   "outputs": [
    {
     "data": {
      "text/plain": [
       "6"
      ]
     },
     "execution_count": 3,
     "metadata": {},
     "output_type": "execute_result"
    }
   ],
   "source": [
    "# len of list\n",
    "len(a)"
   ]
  },
  {
   "cell_type": "code",
   "execution_count": 8,
   "id": "e4f62803",
   "metadata": {},
   "outputs": [
    {
     "data": {
      "text/plain": [
       "6"
      ]
     },
     "execution_count": 8,
     "metadata": {},
     "output_type": "execute_result"
    }
   ],
   "source": [
    "ln=0\n",
    "for i in a :\n",
    "    ln+=1\n",
    "ln"
   ]
  },
  {
   "cell_type": "code",
   "execution_count": 9,
   "id": "12c143c0",
   "metadata": {},
   "outputs": [
    {
     "data": {
      "text/plain": [
       "6"
      ]
     },
     "execution_count": 9,
     "metadata": {},
     "output_type": "execute_result"
    }
   ],
   "source": [
    "sum(1 for i in a)"
   ]
  },
  {
   "cell_type": "code",
   "execution_count": 27,
   "id": "52d438eb",
   "metadata": {},
   "outputs": [
    {
     "data": {
      "text/plain": [
       "True"
      ]
     },
     "execution_count": 27,
     "metadata": {},
     "output_type": "execute_result"
    }
   ],
   "source": [
    "#Check element exist in python or not\n",
    "a=[1,2,3,3,4,5,6]\n",
    "def exist(a,b):\n",
    "     return b in (a)\n",
    "exist(a,3)"
   ]
  },
  {
   "cell_type": "code",
   "execution_count": 3,
   "id": "2e6831bb",
   "metadata": {},
   "outputs": [
    {
     "data": {
      "text/plain": [
       "False"
      ]
     },
     "execution_count": 3,
     "metadata": {},
     "output_type": "execute_result"
    }
   ],
   "source": [
    "a=[1,2,3,4,5,6]\n",
    "b=7\n",
    "any([i==b for i in a])"
   ]
  },
  {
   "cell_type": "code",
   "execution_count": 7,
   "id": "5de0920f",
   "metadata": {},
   "outputs": [
    {
     "data": {
      "text/plain": [
       "False"
      ]
     },
     "execution_count": 7,
     "metadata": {},
     "output_type": "execute_result"
    }
   ],
   "source": [
    "def exist_(inpt,b):\n",
    "    for i in inpt:\n",
    "        if i==b:\n",
    "            return True\n",
    "    return False\n",
    "\n",
    "exist_(a,b)"
   ]
  },
  {
   "cell_type": "code",
   "execution_count": 9,
   "id": "0a64cc3d",
   "metadata": {},
   "outputs": [
    {
     "data": {
      "text/plain": [
       "True"
      ]
     },
     "execution_count": 9,
     "metadata": {},
     "output_type": "execute_result"
    }
   ],
   "source": [
    "exist_(a,4)"
   ]
  },
  {
   "cell_type": "code",
   "execution_count": 2,
   "id": "e6856d7e",
   "metadata": {},
   "outputs": [
    {
     "data": {
      "text/plain": [
       "[]"
      ]
     },
     "execution_count": 2,
     "metadata": {},
     "output_type": "execute_result"
    }
   ],
   "source": [
    "#Clear the list\n",
    "\n",
    "a=[1,2,3,4]\n",
    "a.clear()\n",
    "a"
   ]
  },
  {
   "cell_type": "code",
   "execution_count": 3,
   "id": "48af0aac",
   "metadata": {},
   "outputs": [
    {
     "data": {
      "text/plain": [
       "[]"
      ]
     },
     "execution_count": 3,
     "metadata": {},
     "output_type": "execute_result"
    }
   ],
   "source": [
    "#Reinitialising\n",
    "a=[1,2,3,4]\n",
    "a=[]\n",
    "a"
   ]
  },
  {
   "cell_type": "code",
   "execution_count": 28,
   "id": "7deacabd",
   "metadata": {},
   "outputs": [
    {
     "data": {
      "text/plain": [
       "[]"
      ]
     },
     "execution_count": 28,
     "metadata": {},
     "output_type": "execute_result"
    }
   ],
   "source": [
    "#Using pop\n",
    "a=[1,2,3,4]\n",
    "i=0\n",
    "while len(a)!=0:\n",
    "    a.pop(i)\n",
    "a"
   ]
  },
  {
   "cell_type": "code",
   "execution_count": 47,
   "id": "8013e163",
   "metadata": {},
   "outputs": [
    {
     "data": {
      "text/plain": [
       "[]"
      ]
     },
     "execution_count": 47,
     "metadata": {},
     "output_type": "execute_result"
    }
   ],
   "source": [
    "a=[1,2,3,4]\n",
    "b=a[:]\n",
    "for i in a:\n",
    "    b.remove(i)\n",
    "b"
   ]
  },
  {
   "cell_type": "code",
   "execution_count": 31,
   "id": "ed38391d",
   "metadata": {},
   "outputs": [
    {
     "data": {
      "text/plain": [
       "[]"
      ]
     },
     "execution_count": 31,
     "metadata": {},
     "output_type": "execute_result"
    }
   ],
   "source": [
    "a=[1,2,3,4]\n",
    "\n",
    "for i in range(len(a)):\n",
    "    a.pop(0)\n",
    "a"
   ]
  },
  {
   "cell_type": "code",
   "execution_count": 49,
   "id": "4d9c3a25",
   "metadata": {},
   "outputs": [
    {
     "data": {
      "text/plain": [
       "[5, 4, 3, 2, 1]"
      ]
     },
     "execution_count": 49,
     "metadata": {},
     "output_type": "execute_result"
    }
   ],
   "source": [
    "#Reversing list in python\n",
    "a=[1,2,3,4,5]\n",
    "a.reverse()\n",
    "a"
   ]
  },
  {
   "cell_type": "code",
   "execution_count": 58,
   "id": "5bb04e2c",
   "metadata": {},
   "outputs": [
    {
     "data": {
      "text/plain": [
       "[7, 6, 5, 4, 3, 2, 1]"
      ]
     },
     "execution_count": 58,
     "metadata": {},
     "output_type": "execute_result"
    }
   ],
   "source": [
    "a=[1,2,3,4,5,6,7]\n",
    "def reverse_(a):\n",
    "        i=0\n",
    "        j=len(a)-1\n",
    "        while i!=len(a)//2:\n",
    "            a[i],a[j]=a[j],a[i]\n",
    "            i+=1\n",
    "            j-=1\n",
    "        return a\n",
    "reverse_(a)"
   ]
  },
  {
   "cell_type": "code",
   "execution_count": 68,
   "id": "19ac8bb9",
   "metadata": {},
   "outputs": [
    {
     "data": {
      "text/plain": [
       "[4, 3, 2, 1]"
      ]
     },
     "execution_count": 68,
     "metadata": {},
     "output_type": "execute_result"
    }
   ],
   "source": [
    "a=[1,2,3,4]\n",
    "[i for i in reversed(a)]\n"
   ]
  },
  {
   "cell_type": "code",
   "execution_count": 70,
   "id": "e8cdad14",
   "metadata": {},
   "outputs": [
    {
     "data": {
      "text/plain": [
       "[4, 3, 2, 1]"
      ]
     },
     "execution_count": 70,
     "metadata": {},
     "output_type": "execute_result"
    }
   ],
   "source": [
    "a=[1,2,3,4]\n",
    "b=[]\n",
    "for i in a:\n",
    "    b.insert(0,i)\n",
    "b"
   ]
  },
  {
   "cell_type": "code",
   "execution_count": 71,
   "id": "9e76c7ab",
   "metadata": {},
   "outputs": [
    {
     "data": {
      "text/plain": [
       "[4, 3, 2, 1]"
      ]
     },
     "execution_count": 71,
     "metadata": {},
     "output_type": "execute_result"
    }
   ],
   "source": [
    "#list comprehension\n",
    "[a[len(a)-i] for i in range(1,len(a)+1)]"
   ]
  },
  {
   "cell_type": "code",
   "execution_count": 73,
   "id": "2a82c31d",
   "metadata": {},
   "outputs": [
    {
     "data": {
      "text/plain": [
       "[4, 3, 2, 1]"
      ]
     },
     "execution_count": 73,
     "metadata": {},
     "output_type": "execute_result"
    }
   ],
   "source": [
    "[a[len(a)-i-1] for i in range(len(a))]"
   ]
  },
  {
   "cell_type": "code",
   "execution_count": 74,
   "id": "5e9b22f1",
   "metadata": {},
   "outputs": [
    {
     "data": {
      "text/plain": [
       "24"
      ]
     },
     "execution_count": 74,
     "metadata": {},
     "output_type": "execute_result"
    }
   ],
   "source": [
    "#product\n",
    "a=[1,2,3,4]\n",
    "def prdct(ar):\n",
    "    return reduce(lambda a,b:a*b ,ar)\n",
    "prdct(a)"
   ]
  },
  {
   "cell_type": "code",
   "execution_count": 77,
   "id": "e06552bd",
   "metadata": {},
   "outputs": [
    {
     "data": {
      "text/plain": [
       "1"
      ]
     },
     "execution_count": 77,
     "metadata": {},
     "output_type": "execute_result"
    }
   ],
   "source": [
    "#Smallest number in list\n",
    "\n",
    "a=[2,3,1,4]\n",
    "min(a)"
   ]
  },
  {
   "cell_type": "code",
   "execution_count": 82,
   "id": "255ff9c7",
   "metadata": {},
   "outputs": [
    {
     "data": {
      "text/plain": [
       "1"
      ]
     },
     "execution_count": 82,
     "metadata": {},
     "output_type": "execute_result"
    }
   ],
   "source": [
    "def small(a):\n",
    "    sml=a[0]\n",
    "    for i in a:\n",
    "        if i <=sml:\n",
    "            sml=i\n",
    "        \n",
    "    return sml\n",
    "small(a)"
   ]
  },
  {
   "cell_type": "code",
   "execution_count": 80,
   "id": "2bc400a5",
   "metadata": {},
   "outputs": [
    {
     "data": {
      "text/plain": [
       "4"
      ]
     },
     "execution_count": 80,
     "metadata": {},
     "output_type": "execute_result"
    }
   ],
   "source": [
    "small([10, 20, 4])"
   ]
  },
  {
   "cell_type": "code",
   "execution_count": 83,
   "id": "734d3eb6",
   "metadata": {},
   "outputs": [
    {
     "data": {
      "text/plain": [
       "1"
      ]
     },
     "execution_count": 83,
     "metadata": {},
     "output_type": "execute_result"
    }
   ],
   "source": [
    "import numpy as np\n",
    "np.min(a)"
   ]
  },
  {
   "cell_type": "code",
   "execution_count": 89,
   "id": "40c72567",
   "metadata": {},
   "outputs": [
    {
     "data": {
      "text/plain": [
       "4"
      ]
     },
     "execution_count": 89,
     "metadata": {},
     "output_type": "execute_result"
    }
   ],
   "source": [
    "a=[10, 20, 4]\n",
    "sorted(a)[0]\n"
   ]
  },
  {
   "cell_type": "code",
   "execution_count": 90,
   "id": "c27052e5",
   "metadata": {},
   "outputs": [
    {
     "data": {
      "text/plain": [
       "4"
      ]
     },
     "execution_count": 90,
     "metadata": {},
     "output_type": "execute_result"
    }
   ],
   "source": [
    "a.sort()\n",
    "a[0]"
   ]
  },
  {
   "cell_type": "code",
   "execution_count": 91,
   "id": "0a18d9ed",
   "metadata": {},
   "outputs": [
    {
     "data": {
      "text/plain": [
       "4"
      ]
     },
     "execution_count": 91,
     "metadata": {},
     "output_type": "execute_result"
    }
   ],
   "source": [
    "a.sort(reverse=True)\n",
    "a[-1]"
   ]
  },
  {
   "cell_type": "code",
   "execution_count": 93,
   "id": "665424df",
   "metadata": {},
   "outputs": [
    {
     "data": {
      "text/plain": [
       "20"
      ]
     },
     "execution_count": 93,
     "metadata": {},
     "output_type": "execute_result"
    }
   ],
   "source": [
    "#Max element in list\n",
    "a=[10,20,4]\n",
    "max(a)"
   ]
  },
  {
   "cell_type": "code",
   "execution_count": 94,
   "id": "ea5bb374",
   "metadata": {},
   "outputs": [
    {
     "data": {
      "text/plain": [
       "20"
      ]
     },
     "execution_count": 94,
     "metadata": {},
     "output_type": "execute_result"
    }
   ],
   "source": [
    "sorted(a)[-1]"
   ]
  },
  {
   "cell_type": "code",
   "execution_count": 100,
   "id": "06d357f3",
   "metadata": {},
   "outputs": [
    {
     "data": {
      "text/plain": [
       "20"
      ]
     },
     "execution_count": 100,
     "metadata": {},
     "output_type": "execute_result"
    }
   ],
   "source": [
    "a.sort(reverse=True)\n",
    "a[0]"
   ]
  },
  {
   "cell_type": "code",
   "execution_count": 101,
   "id": "daf2a80b",
   "metadata": {},
   "outputs": [
    {
     "data": {
      "text/plain": [
       "20"
      ]
     },
     "execution_count": 101,
     "metadata": {},
     "output_type": "execute_result"
    }
   ],
   "source": [
    "np.max(a)"
   ]
  },
  {
   "cell_type": "code",
   "execution_count": 103,
   "id": "8a07e295",
   "metadata": {},
   "outputs": [
    {
     "data": {
      "text/plain": [
       "99"
      ]
     },
     "execution_count": 103,
     "metadata": {},
     "output_type": "execute_result"
    }
   ],
   "source": [
    "a=[10, 20, 4, 45, 99]\n",
    "b=a[0]\n",
    "i=1\n",
    "while i <len(a):\n",
    "    if a[i]>b:\n",
    "        b=a[i]\n",
    "    i+=1\n",
    "b"
   ]
  },
  {
   "cell_type": "code",
   "execution_count": 111,
   "id": "aba8abe4",
   "metadata": {},
   "outputs": [],
   "source": [
    "#Second largest numbedr\n",
    "a=[10, 20, 4, 45,45,35,35,99, 99]\n",
    "def scnd_large(a):\n",
    "    if len(a)==1:\n",
    "        return a[0]\n",
    "    elif len(a)==2:\n",
    "        return min(a)\n",
    "    else:\n",
    "        mx1=max(a[0],a[1])\n",
    "        mx2=min(a[0],a[1])\n",
    "        for i in range(2,len(a)):\n",
    "            if a[i]>mx1:\n",
    "                mx2=mx1\n",
    "                mx1=a[i]\n",
    "            elif a[i]<mx1 and a[i]>mx2:\n",
    "                mx2=a[i]\n",
    "        return mx2"
   ]
  },
  {
   "cell_type": "code",
   "execution_count": 112,
   "id": "59b9ad48",
   "metadata": {},
   "outputs": [
    {
     "data": {
      "text/plain": [
       "45"
      ]
     },
     "execution_count": 112,
     "metadata": {},
     "output_type": "execute_result"
    }
   ],
   "source": [
    "scnd_large(a)"
   ]
  },
  {
   "cell_type": "code",
   "execution_count": 118,
   "id": "33767b54",
   "metadata": {},
   "outputs": [
    {
     "data": {
      "text/plain": [
       "45"
      ]
     },
     "execution_count": 118,
     "metadata": {},
     "output_type": "execute_result"
    }
   ],
   "source": [
    "b=list(set(a))  #becuse if there is rptn we get wrong output so we make set so no rptn\n",
    "b.sort\n",
    "b[-2]"
   ]
  },
  {
   "cell_type": "code",
   "execution_count": 119,
   "id": "c159eba0",
   "metadata": {},
   "outputs": [
    {
     "data": {
      "text/plain": [
       "99"
      ]
     },
     "execution_count": 119,
     "metadata": {},
     "output_type": "execute_result"
    }
   ],
   "source": [
    "a.sort(reverse=True)\n",
    "a[1]  #See actly 45 but wse get 99 due to reptetion "
   ]
  },
  {
   "cell_type": "code",
   "execution_count": 123,
   "id": "6a1ea37b",
   "metadata": {},
   "outputs": [
    {
     "data": {
      "text/plain": [
       "45"
      ]
     },
     "execution_count": 123,
     "metadata": {},
     "output_type": "execute_result"
    }
   ],
   "source": [
    "a=[10, 20, 4, 45,45,35,35,99, 99]\n",
    "b=[i for i in a if i< max(a)]\n",
    "max(b)"
   ]
  },
  {
   "cell_type": "code",
   "execution_count": 124,
   "id": "384e9758",
   "metadata": {},
   "outputs": [
    {
     "data": {
      "text/plain": [
       "[96, 81, 52]"
      ]
     },
     "execution_count": 124,
     "metadata": {},
     "output_type": "execute_result"
    }
   ],
   "source": [
    "#Find n largest number\n",
    "a=[81, 52, 45, 10, 3, 2, 96] \n",
    "def n_max(a,n):\n",
    "    a.sort(reverse=True)\n",
    "    return a[:n]\n",
    "n_max(a,3)"
   ]
  },
  {
   "cell_type": "code",
   "execution_count": 127,
   "id": "023c39b8",
   "metadata": {},
   "outputs": [
    {
     "data": {
      "text/plain": [
       "[52, 81, 96]"
      ]
     },
     "execution_count": 127,
     "metadata": {},
     "output_type": "execute_result"
    }
   ],
   "source": [
    "def max_n(a,n):\n",
    "    a.sort()\n",
    "    return a[-n:]\n",
    "max_n(a,3)"
   ]
  },
  {
   "cell_type": "code",
   "execution_count": 134,
   "id": "4391be46",
   "metadata": {},
   "outputs": [
    {
     "data": {
      "text/plain": [
       "[96, 81, 52]"
      ]
     },
     "execution_count": 134,
     "metadata": {},
     "output_type": "execute_result"
    }
   ],
   "source": [
    "def max1(a,n):\n",
    "    b=[]\n",
    "    for i in range(n):\n",
    "        b.append(max(a))\n",
    "        a.remove(max(a))\n",
    "    return b\n",
    " \n",
    "a=[81, 52, 45, 10, 3, 2, 96]\n",
    "max1(a,3)"
   ]
  },
  {
   "cell_type": "code",
   "execution_count": 138,
   "id": "8c64317d",
   "metadata": {},
   "outputs": [
    {
     "data": {
      "text/plain": [
       "array([52, 81, 96])"
      ]
     },
     "execution_count": 138,
     "metadata": {},
     "output_type": "execute_result"
    }
   ],
   "source": [
    "#Using numpy\n",
    "a=[81, 52, 45, 10, 3, 2, 96]\n",
    "ar=np.array(a)\n",
    "ar[ar.argsort()[-3:]]"
   ]
  },
  {
   "cell_type": "code",
   "execution_count": 148,
   "id": "5d133d1c",
   "metadata": {},
   "outputs": [
    {
     "data": {
      "text/plain": [
       "array([2])"
      ]
     },
     "execution_count": 148,
     "metadata": {},
     "output_type": "execute_result"
    }
   ],
   "source": [
    "#To get even numbers\n",
    "a=[1,2,3]\n",
    "a=np.array(a)\n",
    "a[[i%2==0 for i in a ]]"
   ]
  },
  {
   "cell_type": "code",
   "execution_count": 149,
   "id": "56abe3c8",
   "metadata": {},
   "outputs": [
    {
     "data": {
      "text/plain": [
       "[2]"
      ]
     },
     "execution_count": 149,
     "metadata": {},
     "output_type": "execute_result"
    }
   ],
   "source": [
    "[i for i in a if i%2==0]"
   ]
  },
  {
   "cell_type": "code",
   "execution_count": 1,
   "id": "59843037",
   "metadata": {},
   "outputs": [
    {
     "name": "stdout",
     "output_type": "stream",
     "text": [
      "Eneter starting point and end points (leave space between numbers)3 9\n",
      "3 5 7 9 "
     ]
    }
   ],
   "source": [
    "input_=input('Eneter starting point and end points (leave space between numbers)')\n",
    "start,end=map(int,input_.split())\n",
    "for i in range(start,end+1):\n",
    "     print(i,end=' ') if i%2!=0 else None\n",
    "                                            #imp"
   ]
  },
  {
   "cell_type": "markdown",
   "id": "4db635dd",
   "metadata": {},
   "source": [
    "Note if list consist of string you cant directly convert it into int u should loop it"
   ]
  },
  {
   "cell_type": "markdown",
   "id": "213c9ef2",
   "metadata": {},
   "source": [
    "The map() function in Python is used to apply a specified function to each item in an iterable (e.g., a list, tuple, or string) and return an iterable (usually a map object) containing the results. It's a way to transform or apply a function to every element of a sequence without explicitly writing a loop."
   ]
  },
  {
   "cell_type": "code",
   "execution_count": 11,
   "id": "da3a87d9",
   "metadata": {},
   "outputs": [
    {
     "data": {
      "text/plain": [
       "[3, 5, 7, 9]"
      ]
     },
     "execution_count": 11,
     "metadata": {},
     "output_type": "execute_result"
    }
   ],
   "source": [
    "def odds_(start,end):\n",
    "    li=[i for i in range(start,end+1)]\n",
    "    return list(filter(lambda a : a%2!=0 ,li))\n",
    "odds_(3,9)   \n",
    "    \n",
    "    "
   ]
  },
  {
   "cell_type": "code",
   "execution_count": 1,
   "id": "66668bea",
   "metadata": {},
   "outputs": [
    {
     "name": "stdout",
     "output_type": "stream",
     "text": [
      "12 5 64 "
     ]
    }
   ],
   "source": [
    "# Positive number\n",
    "a = [12, -7, 5, 64, -14]\n",
    "i=0\n",
    "while i<len(a):\n",
    "    print(a[i],end=\" \") if a[i]>0 else None\n",
    "    \n",
    "    i+=1\n",
    "    "
   ]
  },
  {
   "cell_type": "code",
   "execution_count": 14,
   "id": "48c4720f",
   "metadata": {},
   "outputs": [
    {
     "data": {
      "text/plain": [
       "[12, 5, 64]"
      ]
     },
     "execution_count": 14,
     "metadata": {},
     "output_type": "execute_result"
    }
   ],
   "source": [
    "a = [12, -7, 5, 64, -14]\n",
    "\n",
    "def pos(a):\n",
    "    return list(filter(lambda i: i>0 , a))\n",
    "pos(a)"
   ]
  },
  {
   "cell_type": "code",
   "execution_count": 8,
   "id": "296f6e40",
   "metadata": {},
   "outputs": [],
   "source": [
    "#recursion\n",
    "def pos1(start,list_):\n",
    "    if start==len(list_):\n",
    "        return\n",
    "    if list_[start]>0 :\n",
    "        print(list_[start],end=\" \")\n",
    "    pos1(start+1,list_)"
   ]
  },
  {
   "cell_type": "code",
   "execution_count": 9,
   "id": "f59fdbab",
   "metadata": {},
   "outputs": [
    {
     "name": "stdout",
     "output_type": "stream",
     "text": [
      "12 5 64 "
     ]
    }
   ],
   "source": [
    "a = [12, -7, 5, 64, -14]\n",
    "\n",
    "pos1(0,a)"
   ]
  },
  {
   "cell_type": "code",
   "execution_count": 10,
   "id": "5b361bbf",
   "metadata": {},
   "outputs": [
    {
     "data": {
      "text/plain": [
       "array([12,  5, 64])"
      ]
     },
     "execution_count": 10,
     "metadata": {},
     "output_type": "execute_result"
    }
   ],
   "source": [
    "#using numpy\n",
    "\n",
    "import numpy as np\n",
    "\n",
    "a = [12, -7, 5, 64, -14]\n",
    "\n",
    "a=np.array(a)\n",
    "a[a>0]"
   ]
  },
  {
   "cell_type": "code",
   "execution_count": 27,
   "id": "d0164b5e",
   "metadata": {},
   "outputs": [
    {
     "data": {
      "text/plain": [
       "[12, 5, 64]"
      ]
     },
     "execution_count": 27,
     "metadata": {},
     "output_type": "execute_result"
    }
   ],
   "source": [
    "#By using property of string\n",
    "\n",
    "a = [12, -7, 0, 5, 64, -14] \n",
    "\n",
    "def pos2(a):\n",
    "    b=list(map(str,a))\n",
    "    i=0\n",
    "    c=[]\n",
    "    while i < len(b) :\n",
    "        c.append(b[i]) if (not b[i].startswith('-') and b[i]!='0') else None\n",
    "        i+=1\n",
    "    return list(map(int,c))\n",
    "\n",
    "pos2(a)\n",
    "        "
   ]
  },
  {
   "cell_type": "code",
   "execution_count": 4,
   "id": "37f836bd",
   "metadata": {},
   "outputs": [
    {
     "name": "stdout",
     "output_type": "stream",
     "text": [
      "1 2 "
     ]
    }
   ],
   "source": [
    "#Python program to print all positive in a given range\n",
    "\n",
    "def pos(start,ending):\n",
    "    if start==ending:\n",
    "        return\n",
    "    if start>0:\n",
    "        print(start,end=\" \")\n",
    "    pos(start+1,ending)\n",
    "    return\n",
    "\n",
    "pos(-4,3)"
   ]
  },
  {
   "cell_type": "code",
   "execution_count": 7,
   "id": "e28fd7a5",
   "metadata": {},
   "outputs": [
    {
     "name": "stdout",
     "output_type": "stream",
     "text": [
      "enter the range-4 5\n",
      "1 2 3 4 "
     ]
    }
   ],
   "source": [
    "input_=input('enter the range')\n",
    "start,end=list(map(int,input_.split()))\n",
    "i=start\n",
    "while i  in range(start,end):\n",
    "    if i>0:\n",
    "        print (i,end=\" \")\n",
    "    i+=1"
   ]
  },
  {
   "cell_type": "code",
   "execution_count": 8,
   "id": "aadfea54",
   "metadata": {},
   "outputs": [
    {
     "name": "stdout",
     "output_type": "stream",
     "text": [
      "1 2 3 4 "
     ]
    }
   ],
   "source": [
    "def pos_(start , ending):\n",
    "    for i in range (start,ending):\n",
    "        print(i,end=\" \") if i >0 else None\n",
    "pos_(-4,5)       "
   ]
  },
  {
   "cell_type": "code",
   "execution_count": 10,
   "id": "9e70d413",
   "metadata": {},
   "outputs": [
    {
     "data": {
      "text/plain": [
       "[1, 2, 3]"
      ]
     },
     "execution_count": 10,
     "metadata": {},
     "output_type": "execute_result"
    }
   ],
   "source": [
    "def pos(a,b):\n",
    "    return [i for i in range(a,b) if i>0]\n",
    "pos(-2,4)"
   ]
  },
  {
   "cell_type": "code",
   "execution_count": 11,
   "id": "f866f03e",
   "metadata": {},
   "outputs": [
    {
     "data": {
      "text/plain": [
       "[1, 2]"
      ]
     },
     "execution_count": 11,
     "metadata": {},
     "output_type": "execute_result"
    }
   ],
   "source": [
    "a=-2\n",
    "b=3\n",
    "c=[i for i in range(a,b)]\n",
    "list(filter(lambda a : a>0,c))"
   ]
  },
  {
   "cell_type": "code",
   "execution_count": 12,
   "id": "4e668eb3",
   "metadata": {},
   "outputs": [
    {
     "data": {
      "text/plain": [
       "[1, 2]"
      ]
     },
     "execution_count": 12,
     "metadata": {},
     "output_type": "execute_result"
    }
   ],
   "source": [
    "list(filter(lambda a: a>0 ,range(a,b)))"
   ]
  },
  {
   "cell_type": "code",
   "execution_count": 19,
   "id": "46db5f82",
   "metadata": {},
   "outputs": [
    {
     "data": {
      "text/plain": [
       "[-7, -14]"
      ]
     },
     "execution_count": 19,
     "metadata": {},
     "output_type": "execute_result"
    }
   ],
   "source": [
    "# print negative number\n",
    "a = [12, -7, 5, 64, -14]\n",
    "neg=[i for i in a if i<0]\n",
    "neg"
   ]
  },
  {
   "cell_type": "code",
   "execution_count": 20,
   "id": "093ee217",
   "metadata": {},
   "outputs": [
    {
     "data": {
      "text/plain": [
       "[-7, -14]"
      ]
     },
     "execution_count": 20,
     "metadata": {},
     "output_type": "execute_result"
    }
   ],
   "source": [
    "neg=[]\n",
    "i=0\n",
    "while i <len(a):\n",
    "    neg.append(a[i]) if a[i] <0 else None\n",
    "    i+=1\n",
    "neg"
   ]
  },
  {
   "cell_type": "code",
   "execution_count": 22,
   "id": "b72d0dba",
   "metadata": {},
   "outputs": [
    {
     "data": {
      "text/plain": [
       "[-7, -14]"
      ]
     },
     "execution_count": 22,
     "metadata": {},
     "output_type": "execute_result"
    }
   ],
   "source": [
    "#using lambda and filter\n",
    "a = [12, -7, 5, 64, -14]\n",
    "list(filter(lambda i : i<0,a))"
   ]
  },
  {
   "cell_type": "code",
   "execution_count": 24,
   "id": "191e8032",
   "metadata": {},
   "outputs": [
    {
     "name": "stdout",
     "output_type": "stream",
     "text": [
      "-7 -14 "
     ]
    }
   ],
   "source": [
    "#recursion:\n",
    "def neg(a,start):  #note assing 0 to start while calling this function\n",
    "    if start==len(a):\n",
    "        return\n",
    "    if a[start]<0:\n",
    "        print(a[start],end=\" \")\n",
    "    neg(a,start+1)\n",
    "neg(a,0)   "
   ]
  },
  {
   "cell_type": "code",
   "execution_count": 31,
   "id": "a37cb669",
   "metadata": {},
   "outputs": [
    {
     "data": {
      "text/plain": [
       "[-7, -14]"
      ]
     },
     "execution_count": 31,
     "metadata": {},
     "output_type": "execute_result"
    }
   ],
   "source": [
    "#by making  elements as string \n",
    "a = [12, -7, 0, 5, 64, -14]\n",
    "def neg1(a):\n",
    "    b=list(map(str,a))\n",
    "    return list(map(int ,[i for i in b if i.startswith('-')]))\n",
    "neg1(a)"
   ]
  },
  {
   "cell_type": "code",
   "execution_count": 32,
   "id": "1ca4471c",
   "metadata": {},
   "outputs": [
    {
     "data": {
      "text/plain": [
       "array([ -7, -14])"
      ]
     },
     "execution_count": 32,
     "metadata": {},
     "output_type": "execute_result"
    }
   ],
   "source": [
    "# using numpy\n",
    "import numpy as np\n",
    "a=np.array(a)\n",
    "a[a<0]"
   ]
  },
  {
   "cell_type": "code",
   "execution_count": 34,
   "id": "b35b0ae5",
   "metadata": {},
   "outputs": [
    {
     "data": {
      "text/plain": [
       "array([ -7, -14])"
      ]
     },
     "execution_count": 34,
     "metadata": {},
     "output_type": "execute_result"
    }
   ],
   "source": [
    "a = [12, -7, 5, 64, -14]\n",
    "b=np.array(a)\n",
    "b[np.where(b<0)]"
   ]
  },
  {
   "cell_type": "code",
   "execution_count": 40,
   "id": "c75fa1eb",
   "metadata": {},
   "outputs": [
    {
     "data": {
      "text/plain": [
       "[-10, -21, -4, -66]"
      ]
     },
     "execution_count": 40,
     "metadata": {},
     "output_type": "execute_result"
    }
   ],
   "source": [
    "#reduce\n",
    "\n",
    "from functools import reduce\n",
    " \n",
    "list1 = [-10, -21, -4, 45, -66, 93]\n",
    "\n",
    "reduce(lambda a,b:a+[b] if b<0 else a ,list1,[])\n",
    "#append cant be useddirectlty in reduce i.e y we r using a+[b] list addition"
   ]
  },
  {
   "cell_type": "code",
   "execution_count": null,
   "id": "c140f62a",
   "metadata": {},
   "outputs": [],
   "source": []
  },
  {
   "cell_type": "code",
   "execution_count": 16,
   "id": "80e7f42e",
   "metadata": {},
   "outputs": [
    {
     "data": {
      "text/plain": [
       "[1, 3, 4, 6]"
      ]
     },
     "execution_count": 16,
     "metadata": {},
     "output_type": "execute_result"
    }
   ],
   "source": [
    "#Remove desired elemnt\n",
    "a=[1,2,3,2,4,5,6,7]\n",
    "unwanted=[2,5,7]\n",
    "a=[i for i in a if i not in unwanted]\n",
    "a"
   ]
  },
  {
   "cell_type": "code",
   "execution_count": 5,
   "id": "93956280",
   "metadata": {},
   "outputs": [
    {
     "data": {
      "text/plain": [
       "[1, 3, 4, 6]"
      ]
     },
     "execution_count": 5,
     "metadata": {},
     "output_type": "execute_result"
    }
   ],
   "source": [
    "a=[5,1,2,3,2,4,5,6,7]\n",
    "unwanted=[2,5,7]\n",
    "for  i in a :\n",
    "    if i in unwanted: a.remove(i)\n",
    "a"
   ]
  },
  {
   "cell_type": "code",
   "execution_count": 4,
   "id": "8f422b2e",
   "metadata": {},
   "outputs": [
    {
     "data": {
      "text/plain": [
       "[1, 3, 4, 6]"
      ]
     },
     "execution_count": 4,
     "metadata": {},
     "output_type": "execute_result"
    }
   ],
   "source": [
    "a=[5,1,2,3,2,4,5,6,7]\n",
    "unwanted=[2,5,7]\n",
    "for i in unwanted:\n",
    "    while i in a:\n",
    "        a.remove(i)\n",
    "a"
   ]
  },
  {
   "cell_type": "code",
   "execution_count": 42,
   "id": "ca6de65e",
   "metadata": {},
   "outputs": [
    {
     "data": {
      "text/plain": [
       "[1, 3, 4, 6]"
      ]
     },
     "execution_count": 42,
     "metadata": {},
     "output_type": "execute_result"
    }
   ],
   "source": [
    "i=0\n",
    "a=[1,2,3,2,4,5,6,7]\n",
    "unwanted=[2,5,7]\n",
    "while i <len(a):\n",
    "    if a[i] in unwanted:a.remove(a[i])\n",
    "    i+=1\n",
    "a"
   ]
  },
  {
   "cell_type": "markdown",
   "id": "6021fe24",
   "metadata": {},
   "source": [
    "# continue"
   ]
  },
  {
   "cell_type": "code",
   "execution_count": 1,
   "id": "b5f34192",
   "metadata": {},
   "outputs": [
    {
     "data": {
      "text/plain": [
       "[3, 95, 6]"
      ]
     },
     "execution_count": 1,
     "metadata": {},
     "output_type": "execute_result"
    }
   ],
   "source": [
    "# Remove empty List from List\n",
    "a = [ 3, [], [], 95, 6, []]\n",
    "#list comprehension\n",
    "a=[i for i in a if not i==[]]\n",
    "a"
   ]
  },
  {
   "cell_type": "code",
   "execution_count": 2,
   "id": "d7d09069",
   "metadata": {},
   "outputs": [
    {
     "data": {
      "text/plain": [
       "[3, 95, 6]"
      ]
     },
     "execution_count": 2,
     "metadata": {},
     "output_type": "execute_result"
    }
   ],
   "source": [
    "a = [ 3, [], [], 95, 6, []]\n",
    "#using filter\n",
    "a=list(filter(lambda a: a!=[],a))\n",
    "a"
   ]
  },
  {
   "cell_type": "code",
   "execution_count": 3,
   "id": "7b5da036",
   "metadata": {},
   "outputs": [
    {
     "data": {
      "text/plain": [
       "[3, 95, 6]"
      ]
     },
     "execution_count": 3,
     "metadata": {},
     "output_type": "execute_result"
    }
   ],
   "source": [
    "a = [ 3, [], [], 95, 6, []]\n",
    "while [] in a:\n",
    "    a.remove([])\n",
    "a"
   ]
  },
  {
   "cell_type": "code",
   "execution_count": 1,
   "id": "509dbf4b",
   "metadata": {},
   "outputs": [
    {
     "data": {
      "text/plain": [
       "[3, 9, 5, 6]"
      ]
     },
     "execution_count": 1,
     "metadata": {},
     "output_type": "execute_result"
    }
   ],
   "source": [
    "a = [ 3, [], [], 95, 6, []]\n",
    "b=list(map(str,a))\n",
    "b=\"\".join(b)\n",
    "b=b.replace('[]',\"\")\n",
    "b=list(map(int,b))\n",
    "b"
   ]
  },
  {
   "cell_type": "code",
   "execution_count": 2,
   "id": "670cbbf0",
   "metadata": {},
   "outputs": [
    {
     "data": {
      "text/plain": [
       "[3, 9, 5, 6]"
      ]
     },
     "execution_count": 2,
     "metadata": {},
     "output_type": "execute_result"
    }
   ],
   "source": [
    "a = [ 3, [], [], 9,5, 6, []]\n",
    "list(filter(None , a))"
   ]
  },
  {
   "cell_type": "code",
   "execution_count": 6,
   "id": "b2c90803",
   "metadata": {},
   "outputs": [
    {
     "data": {
      "text/plain": [
       "[3, 9, 5, 6]"
      ]
     },
     "execution_count": 6,
     "metadata": {},
     "output_type": "execute_result"
    }
   ],
   "source": [
    "#recursion\n",
    "def remove_(start,original,final):\n",
    "    if start==len(original):\n",
    "        return final\n",
    "    if original[start]!=[]:\n",
    "        final.append(original[start])\n",
    "    return remove_(start+1,original,final)\n",
    "a = [ 3, [], [], 9,5, 6, []]\n",
    "remove_(0,a,[])"
   ]
  },
  {
   "cell_type": "markdown",
   "id": "553e7657",
   "metadata": {},
   "source": [
    "###### Clonign the list"
   ]
  },
  {
   "cell_type": "code",
   "execution_count": 9,
   "id": "f1a3cfba",
   "metadata": {},
   "outputs": [
    {
     "data": {
      "text/plain": [
       "[1, 2, 3, 4, 5, 6]"
      ]
     },
     "execution_count": 9,
     "metadata": {},
     "output_type": "execute_result"
    }
   ],
   "source": [
    "a=[1,2,3,4,5,6]\n",
    "b=a[:]\n",
    "b"
   ]
  },
  {
   "cell_type": "code",
   "execution_count": 17,
   "id": "d303ec47",
   "metadata": {},
   "outputs": [
    {
     "name": "stdout",
     "output_type": "stream",
     "text": [
      "[100, 2, 3, 4, 5, 6]\n",
      "[100, 2, 3, 4, 5, 6]\n"
     ]
    }
   ],
   "source": [
    "b=a\n",
    "b[0]=100   #a also gets altered\n",
    "print(b)\n",
    "print(a)"
   ]
  },
  {
   "cell_type": "code",
   "execution_count": 15,
   "id": "1d8bdb6f",
   "metadata": {},
   "outputs": [
    {
     "data": {
      "text/plain": [
       "[1, 2, 3, 4, 5, 6]"
      ]
     },
     "execution_count": 15,
     "metadata": {},
     "output_type": "execute_result"
    }
   ],
   "source": [
    "d=[i for i in a]\n",
    "d[0]=100\n",
    "print(d)\n",
    "print(a)"
   ]
  },
  {
   "cell_type": "code",
   "execution_count": 14,
   "id": "09aa9367",
   "metadata": {},
   "outputs": [
    {
     "data": {
      "text/plain": [
       "[1, 2, 3, 4, 5, 6]"
      ]
     },
     "execution_count": 14,
     "metadata": {},
     "output_type": "execute_result"
    }
   ],
   "source": [
    "import copy\n",
    "c=copy.copy(a)\n",
    "c[0]=10\n",
    "a"
   ]
  },
  {
   "cell_type": "code",
   "execution_count": 20,
   "id": "a6b424a2",
   "metadata": {},
   "outputs": [
    {
     "data": {
      "text/plain": [
       "[100, 2, 3, 4, 5, 6]"
      ]
     },
     "execution_count": 20,
     "metadata": {},
     "output_type": "execute_result"
    }
   ],
   "source": [
    "f=a.copy()\n",
    "f[0]=1\n",
    "a"
   ]
  },
  {
   "cell_type": "markdown",
   "id": "db86736a",
   "metadata": {},
   "source": [
    "###### Given a list in Python and a number x, count the number of occurrences of x in the given list."
   ]
  },
  {
   "cell_type": "code",
   "execution_count": 29,
   "id": "bbcd126c",
   "metadata": {},
   "outputs": [
    {
     "data": {
      "text/plain": [
       "3"
      ]
     },
     "execution_count": 29,
     "metadata": {},
     "output_type": "execute_result"
    }
   ],
   "source": [
    "lst = [1,2,3,1,2,3,3,4,5]\n",
    "def count_(lst,x):\n",
    "    count=0\n",
    "    for i in lst:\n",
    "        count+=1 if i==x else 0\n",
    "    return count\n",
    "count_(lst,3)"
   ]
  },
  {
   "cell_type": "code",
   "execution_count": 111,
   "id": "3adc1dae",
   "metadata": {},
   "outputs": [
    {
     "data": {
      "text/plain": [
       "3"
      ]
     },
     "execution_count": 111,
     "metadata": {},
     "output_type": "execute_result"
    }
   ],
   "source": [
    "lst = [1,2,3,1,2,3,3,4,5]\n",
    "from functools import reduce\n",
    "def count_0(lst,x):\n",
    "    return reduce(lambda a,b:a+1 if b==x else a+0,lst,0)\n",
    "count_0(lst,3)"
   ]
  },
  {
   "cell_type": "code",
   "execution_count": 52,
   "id": "4586f592",
   "metadata": {},
   "outputs": [
    {
     "data": {
      "text/plain": [
       "3"
      ]
     },
     "execution_count": 52,
     "metadata": {},
     "output_type": "execute_result"
    }
   ],
   "source": [
    "def count_1(lst,x):\n",
    "    return sum(1 if i==x else 0 for i in lst)\n",
    "count_1(lst,3)    "
   ]
  },
  {
   "cell_type": "code",
   "execution_count": 41,
   "id": "18680f53",
   "metadata": {},
   "outputs": [
    {
     "data": {
      "text/plain": [
       "2"
      ]
     },
     "execution_count": 41,
     "metadata": {},
     "output_type": "execute_result"
    }
   ],
   "source": [
    "#using recursion\n",
    "def count_2(lst,x,start,count):\n",
    "    \"\"\" lst is list need to inspected\n",
    "    x is the values whose count you require\n",
    "    start is the index from which you need to start searching\n",
    "    count is empty lis []\"\"\"\n",
    "    if start==len(lst):\n",
    "        return sum(count)\n",
    "    if lst[start]==x:\n",
    "        count.append(1)\n",
    "    return count_2(lst,x,start+1,count)\n",
    "count_2(lst,1,0,[])"
   ]
  },
  {
   "cell_type": "code",
   "execution_count": 63,
   "id": "ce3a1a36",
   "metadata": {},
   "outputs": [
    {
     "data": {
      "text/plain": [
       "3"
      ]
     },
     "execution_count": 63,
     "metadata": {},
     "output_type": "execute_result"
    }
   ],
   "source": [
    "def count_3(lst,x,start,count):\n",
    "    \"start and count must be 0\"\n",
    "    if start==len(lst):\n",
    "        return count\n",
    "    if lst[start]==x:\n",
    "        count+=1\n",
    "    return count_3(lst,x,start+1,count)\n",
    "count_3(lst,3,0,0)"
   ]
  },
  {
   "cell_type": "code",
   "execution_count": 60,
   "id": "01aded14",
   "metadata": {},
   "outputs": [
    {
     "data": {
      "text/plain": [
       "1"
      ]
     },
     "execution_count": 60,
     "metadata": {},
     "output_type": "execute_result"
    }
   ],
   "source": [
    "a=[1,2,2,3,3,3,4]\n",
    "count_3(lst,4,0,0)"
   ]
  },
  {
   "cell_type": "code",
   "execution_count": 64,
   "id": "10a95f5b",
   "metadata": {},
   "outputs": [
    {
     "data": {
      "text/plain": [
       "2"
      ]
     },
     "execution_count": 64,
     "metadata": {},
     "output_type": "execute_result"
    }
   ],
   "source": [
    "#using count function\n",
    "a=[1,2,2,3,3,3,4]\n",
    "a.count(2)"
   ]
  },
  {
   "cell_type": "code",
   "execution_count": 67,
   "id": "05126e58",
   "metadata": {},
   "outputs": [
    {
     "data": {
      "text/plain": [
       "{1: 1, 2: 2, 3: 3, 4: 1}"
      ]
     },
     "execution_count": 67,
     "metadata": {},
     "output_type": "execute_result"
    }
   ],
   "source": [
    "#Dictionary comprehension\n",
    "a=[1,2,2,3,3,3,4]\n",
    "count={item:a.count(item) for item in a }\n",
    "count"
   ]
  },
  {
   "cell_type": "code",
   "execution_count": 69,
   "id": "6cbc9b55",
   "metadata": {},
   "outputs": [
    {
     "data": {
      "text/plain": [
       "4"
      ]
     },
     "execution_count": 69,
     "metadata": {},
     "output_type": "execute_result"
    }
   ],
   "source": [
    "lst = [1,2,3,1,2,3,3,4,5,3]\n",
    "\n",
    "def count_5(lst,x):\n",
    "    return len([i for i in lst if i==x])\n",
    "count_5(lst,3)"
   ]
  },
  {
   "cell_type": "code",
   "execution_count": 71,
   "id": "2639f6ca",
   "metadata": {},
   "outputs": [
    {
     "data": {
      "text/plain": [
       "Counter({1: 2, 2: 2, 3: 4, 4: 1, 5: 1})"
      ]
     },
     "execution_count": 71,
     "metadata": {},
     "output_type": "execute_result"
    }
   ],
   "source": [
    "from collections import Counter\n",
    "d=Counter(lst\n",
    "         )\n",
    "d"
   ]
  },
  {
   "cell_type": "code",
   "execution_count": 77,
   "id": "847b49db",
   "metadata": {},
   "outputs": [
    {
     "data": {
      "text/plain": [
       "4"
      ]
     },
     "execution_count": 77,
     "metadata": {},
     "output_type": "execute_result"
    }
   ],
   "source": [
    "lst = [1,2,3,1,2,3,3,4,5,3]\n",
    "def count_(lst,x):\n",
    "    def count_1(sublist):\n",
    "        if not sublist:\n",
    "            return 0\n",
    "        if sublist:\n",
    "            first,end=sublist[0],sublist[1:]\n",
    "        return (1 if first==x else 0)+ count_1(end)\n",
    "    return count_1(lst)\n",
    "count_(lst,3)"
   ]
  },
  {
   "cell_type": "markdown",
   "id": "7718836f",
   "metadata": {},
   "source": [
    "###### Remove empty tuples from a list"
   ]
  },
  {
   "cell_type": "code",
   "execution_count": 92,
   "id": "3f87d524",
   "metadata": {},
   "outputs": [],
   "source": [
    "lst=[(), ('ram','15','8'), (), ('laxman', 'sita'), ('krishna', 'akbar', '45'), (\",\"),()]"
   ]
  },
  {
   "cell_type": "code",
   "execution_count": 93,
   "id": "1e9f2ae1",
   "metadata": {},
   "outputs": [
    {
     "data": {
      "text/plain": [
       "[('ram', '15', '8'), ('laxman', 'sita'), ('krishna', 'akbar', '45'), ',']"
      ]
     },
     "execution_count": 93,
     "metadata": {},
     "output_type": "execute_result"
    }
   ],
   "source": [
    "def remove(lst):\n",
    "    return [i for i in lst if  not i==()]\n",
    "remove(lst)"
   ]
  },
  {
   "cell_type": "code",
   "execution_count": 95,
   "id": "1ed36092",
   "metadata": {},
   "outputs": [
    {
     "data": {
      "text/plain": [
       "[('ram', '15', '8'), ('laxman', 'sita'), ('krishna', 'akbar', '45'), ',']"
      ]
     },
     "execution_count": 95,
     "metadata": {},
     "output_type": "execute_result"
    }
   ],
   "source": [
    "#Recursion\n",
    "def remove_(lst,start,cleaned):\n",
    "    if start==len(lst):\n",
    "        return cleaned\n",
    "    if lst[start]:\n",
    "        cleaned.append(lst[start])\n",
    "    return remove_(lst,start+1,cleaned)\n",
    "remove_(lst,0,[])"
   ]
  },
  {
   "cell_type": "code",
   "execution_count": 107,
   "id": "5c9b3d55",
   "metadata": {},
   "outputs": [
    {
     "data": {
      "text/plain": [
       "[('ram', '15', '8'), ('laxman', 'sita'), ('krishna', 'akbar', '45'), ',']"
      ]
     },
     "execution_count": 107,
     "metadata": {},
     "output_type": "execute_result"
    }
   ],
   "source": [
    "#recursion #removes any empty either (  or [])\n",
    "lst=[(), ('ram','15','8'), (), ('laxman', 'sita'), ('krishna', 'akbar', '45'), (\",\"),(),[]]\n",
    "def remove_(lst):\n",
    "    if not lst:\n",
    "        return []\n",
    "    first,end=lst[0:1],lst[1:]\n",
    "    return (first if first[0] else [])+remove_(end)\n",
    "remove_(lst)"
   ]
  },
  {
   "cell_type": "code",
   "execution_count": 113,
   "id": "6db6e052",
   "metadata": {},
   "outputs": [
    {
     "data": {
      "text/plain": [
       "[('ram', '15', '8'), ('laxman', 'sita'), ('krishna', 'akbar', '45'), ',']"
      ]
     },
     "execution_count": 113,
     "metadata": {},
     "output_type": "execute_result"
    }
   ],
   "source": [
    "lst=[(), ('ram','15','8'), (), ('laxman', 'sita'), ('krishna', 'akbar', '45'), (\",\"),()]\n",
    "list(filter(None,lst))"
   ]
  },
  {
   "cell_type": "code",
   "execution_count": 11,
   "id": "52149b0e",
   "metadata": {},
   "outputs": [
    {
     "name": "stdout",
     "output_type": "stream",
     "text": [
      "10 200\n",
      "20 100\n"
     ]
    }
   ],
   "source": [
    "list1=[10,20]\n",
    "list2=[100,200]\n",
    "i=0\n",
    "j=-1\n",
    "while i<len(list1):\n",
    "    print(list1[i],list2[j])\n",
    "    i+=1\n",
    "    j-=1"
   ]
  },
  {
   "cell_type": "code",
   "execution_count": 15,
   "id": "38934c7a",
   "metadata": {},
   "outputs": [
    {
     "name": "stdout",
     "output_type": "stream",
     "text": [
      "10 200\n",
      "20 100\n"
     ]
    }
   ],
   "source": [
    "for i ,j in zip(list1,list2[::-1]):\n",
    "    print(i,j)"
   ]
  },
  {
   "cell_type": "code",
   "execution_count": 23,
   "id": "9d37fdc9",
   "metadata": {},
   "outputs": [
    {
     "name": "stdout",
     "output_type": "stream",
     "text": [
      "993"
     ]
    }
   ],
   "source": [
    "a=399\n",
    "for i in range(a):\n",
    "    print(a%10,end=\"\")\n",
    "    a=a//10\n",
    "    if a==0:\n",
    "        break"
   ]
  },
  {
   "cell_type": "code",
   "execution_count": 25,
   "id": "a67c5659",
   "metadata": {},
   "outputs": [
    {
     "data": {
      "text/plain": [
       "542"
      ]
     },
     "execution_count": 25,
     "metadata": {},
     "output_type": "execute_result"
    }
   ],
   "source": [
    "def revers(n):\n",
    "    rev=0\n",
    "    while n>0:\n",
    "        rev=rev*10+n%10\n",
    "        n=n//10\n",
    "    return rev\n",
    "revers(245)"
   ]
  },
  {
   "cell_type": "code",
   "execution_count": 2,
   "id": "50eed0eb",
   "metadata": {},
   "outputs": [
    {
     "data": {
      "text/plain": [
       "2"
      ]
     },
     "execution_count": 2,
     "metadata": {},
     "output_type": "execute_result"
    }
   ],
   "source": [
    "#Finding Mode\n",
    "\n",
    "a=[1,2,3,1,2,3,2,2]\n",
    "def mode(inpt):\n",
    "    Unique=[]\n",
    "    for i in a:\n",
    "        if i not in Unique:\n",
    "            Unique.append(i)\n",
    "            \n",
    "    mode=None\n",
    "    count=0\n",
    "    for i in Unique:\n",
    "        Temp_count=0\n",
    "        for j in inpt:\n",
    "            if i==j:\n",
    "                Temp_count+=1\n",
    "        if Temp_count>count:\n",
    "            count=Temp_count\n",
    "            mode=i\n",
    "    return mode\n",
    "mode(a)"
   ]
  },
  {
   "cell_type": "code",
   "execution_count": 10,
   "id": "e313d081",
   "metadata": {},
   "outputs": [
    {
     "name": "stdout",
     "output_type": "stream",
     "text": [
      "2 \n",
      "1 2 "
     ]
    }
   ],
   "source": [
    "def mode(inpt):\n",
    "    unique=[]\n",
    "    for i in inpt:\n",
    "        if i not in unique:\n",
    "            unique.append(i)\n",
    "    count=[]\n",
    "    for i in unique:\n",
    "        counter=0\n",
    "        for j in inpt:\n",
    "            if i==j:\n",
    "                counter+=1\n",
    "        count.append(counter)\n",
    "    for x,z in zip(unique,count):\n",
    "        if z==max(count):\n",
    "            print(x,end=\" \")\n",
    "\n",
    "a=[1,2,3,1,2,3,2,2] #mode 2\n",
    "b=[1,2,3,1,2,3,2,2,1,1]  #mode 1,2\n",
    "mode(a)\n",
    "print()   \n",
    "mode(b)"
   ]
  },
  {
   "cell_type": "code",
   "execution_count": 15,
   "id": "6bab40c2",
   "metadata": {},
   "outputs": [
    {
     "data": {
      "text/plain": [
       "1"
      ]
     },
     "execution_count": 15,
     "metadata": {},
     "output_type": "execute_result"
    }
   ],
   "source": [
    "a=[1,2,3,1,2,3,2,2,1,1]\n",
    "def md(a):\n",
    "    n=None\n",
    "    count=0\n",
    "    for i in set(a):\n",
    "        if a.count(i)>count:\n",
    "            count=a.count(i)\n",
    "            n=i\n",
    "    return n\n",
    "md(a)       "
   ]
  },
  {
   "cell_type": "code",
   "execution_count": null,
   "id": "2d159d26",
   "metadata": {},
   "outputs": [],
   "source": []
  },
  {
   "cell_type": "code",
   "execution_count": null,
   "id": "da86ca7a",
   "metadata": {},
   "outputs": [],
   "source": []
  }
 ],
 "metadata": {
  "kernelspec": {
   "display_name": "Python 3 (ipykernel)",
   "language": "python",
   "name": "python3"
  },
  "language_info": {
   "codemirror_mode": {
    "name": "ipython",
    "version": 3
   },
   "file_extension": ".py",
   "mimetype": "text/x-python",
   "name": "python",
   "nbconvert_exporter": "python",
   "pygments_lexer": "ipython3",
   "version": "3.9.7"
  }
 },
 "nbformat": 4,
 "nbformat_minor": 5
}
