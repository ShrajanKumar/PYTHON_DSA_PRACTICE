{
 "cells": [
  {
   "cell_type": "code",
   "execution_count": 19,
   "id": "797a0e97",
   "metadata": {},
   "outputs": [
    {
     "data": {
      "text/plain": [
       "[2, 3, 4, 5, 6, 7, 8, 1]"
      ]
     },
     "execution_count": 19,
     "metadata": {},
     "output_type": "execute_result"
    }
   ],
   "source": [
    "#Array rotation once\n",
    "\n",
    "a=[1,2,3,4,5,6,7,8]\n",
    "#output=[2,3,4,5,6,7,8,1]\n",
    "\n",
    "#for loop\n",
    "def rotate(a):\n",
    "    a1=a[0]\n",
    "    for i in range(len(a)):\n",
    "        if i==len(a)-1:\n",
    "            a[i]=a1\n",
    "        else:\n",
    "            a[i]=a[i+1]\n",
    "    return a\n",
    "rotate(a)\n",
    "    \n"
   ]
  },
  {
   "cell_type": "code",
   "execution_count": 1,
   "id": "83372b9c",
   "metadata": {},
   "outputs": [
    {
     "data": {
      "text/plain": [
       "array('i', [2, 3, 4, 5, 1])"
      ]
     },
     "execution_count": 1,
     "metadata": {},
     "output_type": "execute_result"
    }
   ],
   "source": [
    "#for loop but skipping if\n",
    "from array import array\n",
    "a=array('i',[1,2,3,4,5])\n",
    "def rotate(a):\n",
    "    a1=a[0]\n",
    "    for i in range(len(a)-1):\n",
    "        a[i]=a[i+1]\n",
    "    a[-1]=a1\n",
    "    return a\n",
    "rotate(a)"
   ]
  },
  {
   "cell_type": "code",
   "execution_count": 13,
   "id": "8ece9f1e",
   "metadata": {},
   "outputs": [
    {
     "data": {
      "text/plain": [
       "array('i', [3, 4, 5, 1, 2])"
      ]
     },
     "execution_count": 13,
     "metadata": {},
     "output_type": "execute_result"
    }
   ],
   "source": [
    "#Rotating twice\n",
    "a= array('i',[1,2,3,4,5])\n",
    "for i in range(0,2):\n",
    "    a1=a[0]\n",
    "    for j in range(len(a)-1):\n",
    "        a[j]=a[j+1]\n",
    "    a[-1]=a1\n",
    "a"
   ]
  },
  {
   "cell_type": "code",
   "execution_count": 14,
   "id": "0fe61708",
   "metadata": {},
   "outputs": [
    {
     "data": {
      "text/plain": [
       "array('i', [3, 4, 5, 1, 2])"
      ]
     },
     "execution_count": 14,
     "metadata": {},
     "output_type": "execute_result"
    }
   ],
   "source": [
    "b=a[2:]+a[:2]\n",
    "a"
   ]
  },
  {
   "cell_type": "markdown",
   "id": "0550238b",
   "metadata": {},
   "source": [
    "###### Monotone or not "
   ]
  },
  {
   "cell_type": "code",
   "execution_count": 31,
   "id": "9f831a83",
   "metadata": {},
   "outputs": [
    {
     "data": {
      "text/plain": [
       "True"
      ]
     },
     "execution_count": 31,
     "metadata": {},
     "output_type": "execute_result"
    }
   ],
   "source": [
    "#Monotone or not  #either strictly increasing or strictly decreasing\n",
    "arr=[5,10,15,20]\n",
    "def monotone(arr):\n",
    "    sum1=0\n",
    "    for i in range(len(arr)-1):\n",
    "        sum1+=arr[i]<=arr[i+1]\n",
    "    sum2=0\n",
    "    for i in range(len(arr)-1):\n",
    "        sum2+=arr[i]>=arr[i+1]\n",
    "    return sum1==len(arr)-1 or sum2==len(arr)-1\n",
    "monotone(arr)\n",
    "\n"
   ]
  },
  {
   "cell_type": "code",
   "execution_count": 25,
   "id": "5854bc26",
   "metadata": {},
   "outputs": [
    {
     "data": {
      "text/plain": [
       "True"
      ]
     },
     "execution_count": 25,
     "metadata": {},
     "output_type": "execute_result"
    }
   ],
   "source": [
    "arr=[10,9,8,7,6,6,5,5,5]\n",
    "monotone(arr)"
   ]
  },
  {
   "cell_type": "code",
   "execution_count": 26,
   "id": "3b7b22ae",
   "metadata": {},
   "outputs": [
    {
     "data": {
      "text/plain": [
       "False"
      ]
     },
     "execution_count": 26,
     "metadata": {},
     "output_type": "execute_result"
    }
   ],
   "source": [
    "arr=[10,34,56,32,9]\n",
    "monotone(arr)"
   ]
  },
  {
   "cell_type": "code",
   "execution_count": 34,
   "id": "eab7b8c1",
   "metadata": {},
   "outputs": [],
   "source": [
    "def monotone(arr):\n",
    "    return (all(arr[i]<=arr[i+1] for i in range(len(arr)-1)) or all(arr[i]>=arr[i+1] for i in range(len(arr)-1)))"
   ]
  },
  {
   "cell_type": "code",
   "execution_count": 35,
   "id": "b1953291",
   "metadata": {},
   "outputs": [
    {
     "data": {
      "text/plain": [
       "True"
      ]
     },
     "execution_count": 35,
     "metadata": {},
     "output_type": "execute_result"
    }
   ],
   "source": [
    "monotone(arr)"
   ]
  },
  {
   "cell_type": "markdown",
   "id": "b4136028",
   "metadata": {},
   "source": [
    "# LIST"
   ]
  },
  {
   "cell_type": "markdown",
   "id": "0234c25f",
   "metadata": {},
   "source": [
    "1 Swap first and last element"
   ]
  },
  {
   "cell_type": "code",
   "execution_count": 2,
   "id": "9e517897",
   "metadata": {},
   "outputs": [
    {
     "data": {
      "text/plain": [
       "[5, 2, 3, 4, 1]"
      ]
     },
     "execution_count": 2,
     "metadata": {},
     "output_type": "execute_result"
    }
   ],
   "source": [
    "#method1\n",
    "a=[1,2,3,4,5]\n",
    "def swap(a):\n",
    "    a[0],a[-1]=a[-1],a[0]\n",
    "    return a\n",
    "swap(a)"
   ]
  },
  {
   "cell_type": "code",
   "execution_count": 5,
   "id": "0f86925c",
   "metadata": {},
   "outputs": [
    {
     "data": {
      "text/plain": [
       "[6, 2, 3, 4, 5, 1]"
      ]
     },
     "execution_count": 5,
     "metadata": {},
     "output_type": "execute_result"
    }
   ],
   "source": [
    "#method 2\n",
    "a=[1,2,3,4,5,6]\n",
    "def swap1(a):\n",
    "    first=a[0]\n",
    "    last=a[-1]\n",
    "    a[0]=last\n",
    "    a[-1]=first\n",
    "    return a\n",
    "swap1(a)"
   ]
  },
  {
   "cell_type": "code",
   "execution_count": 16,
   "id": "85a22eca",
   "metadata": {},
   "outputs": [
    {
     "data": {
      "text/plain": [
       "[6, 2, 3, 4, 5, 1]"
      ]
     },
     "execution_count": 16,
     "metadata": {},
     "output_type": "execute_result"
    }
   ],
   "source": [
    "#method3\n",
    "a=[1,2,3,4,5,6]\n",
    "a1=a[:1]\n",
    "a2=a[1:-1]\n",
    "a3=a[-1:]\n",
    "b=a3+a2+a1\n",
    "b"
   ]
  },
  {
   "cell_type": "code",
   "execution_count": 20,
   "id": "b865b54a",
   "metadata": {},
   "outputs": [
    {
     "data": {
      "text/plain": [
       "[5, 2, 3, 4, 1]"
      ]
     },
     "execution_count": 20,
     "metadata": {},
     "output_type": "execute_result"
    }
   ],
   "source": [
    "#method4\n",
    "a=[1,2,3,4,5]\n",
    "first,*middle,last=a\n",
    "b=[last,*middle,first]\n",
    "b"
   ]
  },
  {
   "cell_type": "code",
   "execution_count": 24,
   "id": "10570532",
   "metadata": {},
   "outputs": [],
   "source": [
    "frst,mdle,last=a[:1],a[1:-1],a[-1:]"
   ]
  },
  {
   "cell_type": "code",
   "execution_count": null,
   "id": "00783465",
   "metadata": {},
   "outputs": [],
   "source": []
  },
  {
   "cell_type": "markdown",
   "id": "e7a42d86",
   "metadata": {},
   "source": [
    "2 Python Program to Swap Two Elements in a List\n"
   ]
  },
  {
   "cell_type": "code",
   "execution_count": 29,
   "id": "535957f1",
   "metadata": {},
   "outputs": [
    {
     "data": {
      "text/plain": [
       "[3, 2, 1, 4, 5, 6]"
      ]
     },
     "execution_count": 29,
     "metadata": {},
     "output_type": "execute_result"
    }
   ],
   "source": [
    "#method1\n",
    "a=[1,2,3,4,5,6]\n",
    "def swapany(arr,pos1,pos2):\n",
    "    #pos1 and pos2 takes position of elements need to swapped\n",
    "    arr[pos2-1],arr[pos1-1]=arr[pos1-1],arr[pos2-1]\n",
    "    return arr\n",
    "swapany(a,1,3)"
   ]
  },
  {
   "cell_type": "code",
   "execution_count": 1,
   "id": "281cc7bc",
   "metadata": {},
   "outputs": [
    {
     "data": {
      "text/plain": [
       "[3, 2, 1, 4, 5, 6]"
      ]
     },
     "execution_count": 1,
     "metadata": {},
     "output_type": "execute_result"
    }
   ],
   "source": [
    "#using pop and insert method\n",
    "a=[1,2,3,4,5,6]\n",
    "\n",
    "def swap(arr,pos1,pos2):\n",
    "    first=arr.pop(pos1-1)\n",
    "    second=arr.pop(pos2-2)\n",
    "    arr.insert(pos1-1,second)\n",
    "    arr.insert(pos2-1,first)\n",
    "    return arr\n",
    "swap(a,1,3)"
   ]
  },
  {
   "cell_type": "code",
   "execution_count": null,
   "id": "2ea489aa",
   "metadata": {},
   "outputs": [],
   "source": []
  },
  {
   "cell_type": "markdown",
   "id": "5be6660b",
   "metadata": {},
   "source": [
    "3 Check whether given element exist in list or not"
   ]
  },
  {
   "cell_type": "code",
   "execution_count": 2,
   "id": "52d438eb",
   "metadata": {},
   "outputs": [
    {
     "data": {
      "text/plain": [
       "True"
      ]
     },
     "execution_count": 2,
     "metadata": {},
     "output_type": "execute_result"
    }
   ],
   "source": [
    "#using in operator\n",
    "a=[1,2,3,3,4,5,6]\n",
    "def exist(a,b):\n",
    "     return b in (a)\n",
    "exist(a,3)"
   ]
  },
  {
   "cell_type": "code",
   "execution_count": 3,
   "id": "2e6831bb",
   "metadata": {},
   "outputs": [
    {
     "data": {
      "text/plain": [
       "False"
      ]
     },
     "execution_count": 3,
     "metadata": {},
     "output_type": "execute_result"
    }
   ],
   "source": [
    "#using any and lsit concatenation\n",
    "a=[1,2,3,4,5,6]\n",
    "b=7\n",
    "any([i==b for i in a])"
   ]
  },
  {
   "cell_type": "code",
   "execution_count": 7,
   "id": "5de0920f",
   "metadata": {},
   "outputs": [
    {
     "data": {
      "text/plain": [
       "False"
      ]
     },
     "execution_count": 7,
     "metadata": {},
     "output_type": "execute_result"
    }
   ],
   "source": [
    "#using iteration\n",
    "def exist_(inpt,b):\n",
    "    for i in inpt:\n",
    "        if i==b:\n",
    "            return True\n",
    "    return False\n",
    "\n",
    "exist_(a,b)"
   ]
  },
  {
   "cell_type": "code",
   "execution_count": 9,
   "id": "0a64cc3d",
   "metadata": {},
   "outputs": [
    {
     "data": {
      "text/plain": [
       "True"
      ]
     },
     "execution_count": 9,
     "metadata": {},
     "output_type": "execute_result"
    }
   ],
   "source": [
    "exist_(a,4)"
   ]
  },
  {
   "cell_type": "code",
   "execution_count": null,
   "id": "d43eeb67",
   "metadata": {},
   "outputs": [],
   "source": []
  },
  {
   "cell_type": "markdown",
   "id": "3ac6b4f7",
   "metadata": {},
   "source": [
    "4 Clear the list"
   ]
  },
  {
   "cell_type": "code",
   "execution_count": 3,
   "id": "e6856d7e",
   "metadata": {},
   "outputs": [
    {
     "data": {
      "text/plain": [
       "[]"
      ]
     },
     "execution_count": 3,
     "metadata": {},
     "output_type": "execute_result"
    }
   ],
   "source": [
    "#using clear method\n",
    "a=[1,2,3,4]\n",
    "a.clear()\n",
    "a"
   ]
  },
  {
   "cell_type": "code",
   "execution_count": 3,
   "id": "48af0aac",
   "metadata": {},
   "outputs": [
    {
     "data": {
      "text/plain": [
       "[]"
      ]
     },
     "execution_count": 3,
     "metadata": {},
     "output_type": "execute_result"
    }
   ],
   "source": [
    "#Reinitialising\n",
    "a=[1,2,3,4]\n",
    "a=[]\n",
    "a"
   ]
  },
  {
   "cell_type": "code",
   "execution_count": 28,
   "id": "7deacabd",
   "metadata": {},
   "outputs": [
    {
     "data": {
      "text/plain": [
       "[]"
      ]
     },
     "execution_count": 28,
     "metadata": {},
     "output_type": "execute_result"
    }
   ],
   "source": [
    "#Using pop\n",
    "a=[1,2,3,4]\n",
    "i=0\n",
    "while len(a)!=0:\n",
    "    a.pop(i)\n",
    "a"
   ]
  },
  {
   "cell_type": "code",
   "execution_count": 4,
   "id": "8013e163",
   "metadata": {},
   "outputs": [
    {
     "data": {
      "text/plain": [
       "[]"
      ]
     },
     "execution_count": 4,
     "metadata": {},
     "output_type": "execute_result"
    }
   ],
   "source": [
    "#using remove function\n",
    "a=[1,2,3,4]\n",
    "b=a[:]\n",
    "for i in b:\n",
    "    a.remove(i)\n",
    "a"
   ]
  },
  {
   "cell_type": "code",
   "execution_count": 31,
   "id": "ed38391d",
   "metadata": {},
   "outputs": [
    {
     "data": {
      "text/plain": [
       "[]"
      ]
     },
     "execution_count": 31,
     "metadata": {},
     "output_type": "execute_result"
    }
   ],
   "source": [
    "a=[1,2,3,4]\n",
    "\n",
    "for i in range(len(a)):\n",
    "    a.pop(0)\n",
    "a"
   ]
  },
  {
   "cell_type": "code",
   "execution_count": null,
   "id": "1b532caa",
   "metadata": {},
   "outputs": [],
   "source": []
  },
  {
   "cell_type": "markdown",
   "id": "a8ee9c5f",
   "metadata": {},
   "source": [
    "5 Reversing list in python"
   ]
  },
  {
   "cell_type": "code",
   "execution_count": 49,
   "id": "4d9c3a25",
   "metadata": {},
   "outputs": [
    {
     "data": {
      "text/plain": [
       "[5, 4, 3, 2, 1]"
      ]
     },
     "execution_count": 49,
     "metadata": {},
     "output_type": "execute_result"
    }
   ],
   "source": [
    "#using list.reverse\n",
    "a=[1,2,3,4,5]\n",
    "a.reverse()\n",
    "a"
   ]
  },
  {
   "cell_type": "code",
   "execution_count": 58,
   "id": "5bb04e2c",
   "metadata": {},
   "outputs": [
    {
     "data": {
      "text/plain": [
       "[7, 6, 5, 4, 3, 2, 1]"
      ]
     },
     "execution_count": 58,
     "metadata": {},
     "output_type": "execute_result"
    }
   ],
   "source": [
    "#using while\n",
    "a=[1,2,3,4,5,6,7]\n",
    "def reverse_(a):\n",
    "        i=0\n",
    "        j=len(a)-1\n",
    "        while i!=len(a)//2:\n",
    "            a[i],a[j]=a[j],a[i]\n",
    "            i+=1\n",
    "            j-=1\n",
    "        return a\n",
    "reverse_(a)"
   ]
  },
  {
   "cell_type": "code",
   "execution_count": 68,
   "id": "19ac8bb9",
   "metadata": {},
   "outputs": [
    {
     "data": {
      "text/plain": [
       "[4, 3, 2, 1]"
      ]
     },
     "execution_count": 68,
     "metadata": {},
     "output_type": "execute_result"
    }
   ],
   "source": [
    "#using reversed\n",
    "a=[1,2,3,4]\n",
    "[i for i in reversed(a)]\n"
   ]
  },
  {
   "cell_type": "code",
   "execution_count": 5,
   "id": "e8cdad14",
   "metadata": {},
   "outputs": [
    {
     "data": {
      "text/plain": [
       "[4, 3, 2, 1]"
      ]
     },
     "execution_count": 5,
     "metadata": {},
     "output_type": "execute_result"
    }
   ],
   "source": [
    "#using for loop and insert\n",
    "a=[1,2,3,4]\n",
    "b=[]\n",
    "for i in a:\n",
    "    b.insert(0,i)\n",
    "b"
   ]
  },
  {
   "cell_type": "code",
   "execution_count": 10,
   "id": "f8122402",
   "metadata": {},
   "outputs": [
    {
     "data": {
      "text/plain": [
       "[5, 4, 3, 2, 1]"
      ]
     },
     "execution_count": 10,
     "metadata": {},
     "output_type": "execute_result"
    }
   ],
   "source": [
    "#using for loop\n",
    "\n",
    "def revrse(a):\n",
    "    for i in range(len(a)//2):\n",
    "        a[i],a[-i-1]=a[-i-1],a[i]\n",
    "    return a\n",
    "revrse([1,2,3,4,5])"
   ]
  },
  {
   "cell_type": "code",
   "execution_count": 6,
   "id": "9e76c7ab",
   "metadata": {},
   "outputs": [
    {
     "data": {
      "text/plain": [
       "[4, 3, 2, 1]"
      ]
     },
     "execution_count": 6,
     "metadata": {},
     "output_type": "execute_result"
    }
   ],
   "source": [
    "#list comprehension\n",
    "a=[1,2,3,4]\n",
    "[a[len(a)-i] for i in range(1,len(a)+1)]"
   ]
  },
  {
   "cell_type": "code",
   "execution_count": 7,
   "id": "2a82c31d",
   "metadata": {},
   "outputs": [
    {
     "data": {
      "text/plain": [
       "[5, 4, 3, 2, 1]"
      ]
     },
     "execution_count": 7,
     "metadata": {},
     "output_type": "execute_result"
    }
   ],
   "source": [
    "#list comprehension 2\n",
    "a=[1,2,3,4,5]\n",
    "[a[len(a)-i-1] for i in range(len(a))]"
   ]
  },
  {
   "cell_type": "code",
   "execution_count": 9,
   "id": "34baaf6b",
   "metadata": {},
   "outputs": [
    {
     "data": {
      "text/plain": [
       "[5, 4, 3, 2, 1]"
      ]
     },
     "execution_count": 9,
     "metadata": {},
     "output_type": "execute_result"
    }
   ],
   "source": [
    "#comprehension 3\n",
    "[a[-i] for i in range(1,len(a)+1)]"
   ]
  },
  {
   "cell_type": "code",
   "execution_count": null,
   "id": "c7eed6e7",
   "metadata": {},
   "outputs": [],
   "source": []
  },
  {
   "cell_type": "markdown",
   "id": "45d88896",
   "metadata": {},
   "source": [
    "6 Find sum of element in list"
   ]
  },
  {
   "cell_type": "code",
   "execution_count": 16,
   "id": "a1589046",
   "metadata": {},
   "outputs": [],
   "source": [
    "a=[1,2,3,4,5]"
   ]
  },
  {
   "cell_type": "code",
   "execution_count": 17,
   "id": "3c82d03a",
   "metadata": {},
   "outputs": [
    {
     "data": {
      "text/plain": [
       "15"
      ]
     },
     "execution_count": 17,
     "metadata": {},
     "output_type": "execute_result"
    }
   ],
   "source": [
    "# using sum method\n",
    "sum(a)"
   ]
  },
  {
   "cell_type": "code",
   "execution_count": 18,
   "id": "63d1132b",
   "metadata": {},
   "outputs": [
    {
     "data": {
      "text/plain": [
       "15"
      ]
     },
     "execution_count": 18,
     "metadata": {},
     "output_type": "execute_result"
    }
   ],
   "source": [
    "#using reduce method\n",
    "from functools import reduce\n",
    "def sum_(list_):\n",
    "    return reduce(lambda a,b:a+b,list_)\n",
    "sum_(a)"
   ]
  },
  {
   "cell_type": "code",
   "execution_count": 19,
   "id": "2b91ab61",
   "metadata": {},
   "outputs": [
    {
     "data": {
      "text/plain": [
       "15"
      ]
     },
     "execution_count": 19,
     "metadata": {},
     "output_type": "execute_result"
    }
   ],
   "source": [
    "# using for loop\n",
    "sum_=0\n",
    "for i in a:\n",
    "    sum_+=i\n",
    "sum_\n",
    "    "
   ]
  },
  {
   "cell_type": "code",
   "execution_count": 2,
   "id": "006cba74",
   "metadata": {},
   "outputs": [
    {
     "data": {
      "text/plain": [
       "15"
      ]
     },
     "execution_count": 2,
     "metadata": {},
     "output_type": "execute_result"
    }
   ],
   "source": [
    "#using while loop:\n",
    "a=[1,2,3,4,5]\n",
    "i=0\n",
    "sum_=0\n",
    "while i <len(a):\n",
    "    sum_+=a[i]\n",
    "    i+=1\n",
    "sum_"
   ]
  },
  {
   "cell_type": "code",
   "execution_count": null,
   "id": "2f4b088d",
   "metadata": {},
   "outputs": [],
   "source": []
  },
  {
   "cell_type": "markdown",
   "id": "7cddbd8a",
   "metadata": {},
   "source": [
    "7 multiply all elements in the list."
   ]
  },
  {
   "cell_type": "code",
   "execution_count": 3,
   "id": "5e9b22f1",
   "metadata": {},
   "outputs": [
    {
     "data": {
      "text/plain": [
       "24"
      ]
     },
     "execution_count": 3,
     "metadata": {},
     "output_type": "execute_result"
    }
   ],
   "source": [
    "# using reduce\n",
    "from functools import reduce\n",
    "\n",
    "a=[1,2,3,4]\n",
    "def prdct(ar):\n",
    "    return reduce(lambda a,b:a*b ,ar)\n",
    "prdct(a)"
   ]
  },
  {
   "cell_type": "code",
   "execution_count": 4,
   "id": "b1eaf69a",
   "metadata": {},
   "outputs": [
    {
     "data": {
      "text/plain": [
       "24"
      ]
     },
     "execution_count": 4,
     "metadata": {},
     "output_type": "execute_result"
    }
   ],
   "source": [
    "#using for loop\n",
    "a=[1,2,3,4]\n",
    "prdct=1\n",
    "for i in a:\n",
    "    prdct*=i\n",
    "prdct\n",
    "  "
   ]
  },
  {
   "cell_type": "code",
   "execution_count": 1,
   "id": "f29743cd",
   "metadata": {},
   "outputs": [
    {
     "data": {
      "text/plain": [
       "24"
      ]
     },
     "execution_count": 1,
     "metadata": {},
     "output_type": "execute_result"
    }
   ],
   "source": [
    "#using while loop\n",
    "a=[1,2,3,4]\n",
    "\n",
    "i=0\n",
    "prdct=1\n",
    "while i <len(a):\n",
    "    prdct*=a[i]\n",
    "    i+=1\n",
    "prdct"
   ]
  },
  {
   "cell_type": "code",
   "execution_count": null,
   "id": "1c6cb376",
   "metadata": {},
   "outputs": [],
   "source": []
  },
  {
   "cell_type": "markdown",
   "id": "20768556",
   "metadata": {},
   "source": [
    "8 Find smallest element in given list."
   ]
  },
  {
   "cell_type": "code",
   "execution_count": 77,
   "id": "e06552bd",
   "metadata": {},
   "outputs": [
    {
     "data": {
      "text/plain": [
       "1"
      ]
     },
     "execution_count": 77,
     "metadata": {},
     "output_type": "execute_result"
    }
   ],
   "source": [
    "#using min\n",
    "\n",
    "a=[2,3,1,4]\n",
    "min(a)"
   ]
  },
  {
   "cell_type": "code",
   "execution_count": 82,
   "id": "255ff9c7",
   "metadata": {},
   "outputs": [
    {
     "data": {
      "text/plain": [
       "1"
      ]
     },
     "execution_count": 82,
     "metadata": {},
     "output_type": "execute_result"
    }
   ],
   "source": [
    "#using for loop\n",
    "\n",
    "def small(a):\n",
    "    sml=a[0]\n",
    "    for i in a:\n",
    "        if i <=sml:\n",
    "            sml=i\n",
    "        \n",
    "    return sml\n",
    "small(a)"
   ]
  },
  {
   "cell_type": "code",
   "execution_count": 80,
   "id": "2bc400a5",
   "metadata": {},
   "outputs": [
    {
     "data": {
      "text/plain": [
       "4"
      ]
     },
     "execution_count": 80,
     "metadata": {},
     "output_type": "execute_result"
    }
   ],
   "source": [
    "small([10, 20, 4])"
   ]
  },
  {
   "cell_type": "code",
   "execution_count": 83,
   "id": "734d3eb6",
   "metadata": {},
   "outputs": [
    {
     "data": {
      "text/plain": [
       "1"
      ]
     },
     "execution_count": 83,
     "metadata": {},
     "output_type": "execute_result"
    }
   ],
   "source": [
    "#using numpy\n",
    "import numpy as np\n",
    "np.min(a)"
   ]
  },
  {
   "cell_type": "code",
   "execution_count": 89,
   "id": "40c72567",
   "metadata": {},
   "outputs": [
    {
     "data": {
      "text/plain": [
       "4"
      ]
     },
     "execution_count": 89,
     "metadata": {},
     "output_type": "execute_result"
    }
   ],
   "source": [
    "#using sorted function\n",
    "a=[10, 20, 4]\n",
    "sorted(a)[0]\n"
   ]
  },
  {
   "cell_type": "code",
   "execution_count": 90,
   "id": "c27052e5",
   "metadata": {},
   "outputs": [
    {
     "data": {
      "text/plain": [
       "4"
      ]
     },
     "execution_count": 90,
     "metadata": {},
     "output_type": "execute_result"
    }
   ],
   "source": [
    "#using sort function\n",
    "a.sort()\n",
    "a[0]"
   ]
  },
  {
   "cell_type": "code",
   "execution_count": 91,
   "id": "0a18d9ed",
   "metadata": {},
   "outputs": [
    {
     "data": {
      "text/plain": [
       "4"
      ]
     },
     "execution_count": 91,
     "metadata": {},
     "output_type": "execute_result"
    }
   ],
   "source": [
    "#sort and reverse\n",
    "a.sort(reverse=True)\n",
    "a[-1]"
   ]
  },
  {
   "cell_type": "code",
   "execution_count": null,
   "id": "836e071b",
   "metadata": {},
   "outputs": [],
   "source": []
  },
  {
   "cell_type": "markdown",
   "id": "1032642c",
   "metadata": {},
   "source": [
    "9 Find maximum element in the given list."
   ]
  },
  {
   "cell_type": "code",
   "execution_count": 3,
   "id": "665424df",
   "metadata": {},
   "outputs": [
    {
     "data": {
      "text/plain": [
       "20"
      ]
     },
     "execution_count": 3,
     "metadata": {},
     "output_type": "execute_result"
    }
   ],
   "source": [
    "#Max element in list\n",
    "a=[10,20,4]\n",
    "max(a)"
   ]
  },
  {
   "cell_type": "code",
   "execution_count": 4,
   "id": "ea5bb374",
   "metadata": {},
   "outputs": [
    {
     "data": {
      "text/plain": [
       "20"
      ]
     },
     "execution_count": 4,
     "metadata": {},
     "output_type": "execute_result"
    }
   ],
   "source": [
    "sorted(a)[-1]"
   ]
  },
  {
   "cell_type": "code",
   "execution_count": 100,
   "id": "06d357f3",
   "metadata": {},
   "outputs": [
    {
     "data": {
      "text/plain": [
       "20"
      ]
     },
     "execution_count": 100,
     "metadata": {},
     "output_type": "execute_result"
    }
   ],
   "source": [
    "a.sort(reverse=True)\n",
    "a[0]"
   ]
  },
  {
   "cell_type": "code",
   "execution_count": 101,
   "id": "daf2a80b",
   "metadata": {},
   "outputs": [
    {
     "data": {
      "text/plain": [
       "20"
      ]
     },
     "execution_count": 101,
     "metadata": {},
     "output_type": "execute_result"
    }
   ],
   "source": [
    "np.max(a)"
   ]
  },
  {
   "cell_type": "code",
   "execution_count": 103,
   "id": "8a07e295",
   "metadata": {},
   "outputs": [
    {
     "data": {
      "text/plain": [
       "99"
      ]
     },
     "execution_count": 103,
     "metadata": {},
     "output_type": "execute_result"
    }
   ],
   "source": [
    "a=[10, 20, 4, 45, 99]\n",
    "b=a[0]\n",
    "i=1\n",
    "while i <len(a):\n",
    "    if a[i]>b:\n",
    "        b=a[i]\n",
    "    i+=1\n",
    "b"
   ]
  },
  {
   "cell_type": "markdown",
   "id": "eaaa54b7",
   "metadata": {},
   "source": [
    "10. Find Second largest number in given list"
   ]
  },
  {
   "cell_type": "code",
   "execution_count": 111,
   "id": "aba8abe4",
   "metadata": {},
   "outputs": [],
   "source": [
    "#method 1 \n",
    "a=[10, 20, 4, 45,45,35,35,99, 99]\n",
    "def scnd_large(a):\n",
    "    if len(a)==1:\n",
    "        return a[0]\n",
    "    elif len(a)==2:\n",
    "        return min(a)\n",
    "    else:\n",
    "        mx1=max(a[0],a[1])\n",
    "        mx2=min(a[0],a[1])\n",
    "        for i in range(2,len(a)):\n",
    "            if a[i]>mx1:\n",
    "                mx2=mx1\n",
    "                mx1=a[i]\n",
    "            elif a[i]<mx1 and a[i]>mx2:\n",
    "                mx2=a[i]\n",
    "        return mx2"
   ]
  },
  {
   "cell_type": "code",
   "execution_count": 112,
   "id": "59b9ad48",
   "metadata": {},
   "outputs": [
    {
     "data": {
      "text/plain": [
       "45"
      ]
     },
     "execution_count": 112,
     "metadata": {},
     "output_type": "execute_result"
    }
   ],
   "source": [
    "scnd_large(a)"
   ]
  },
  {
   "cell_type": "code",
   "execution_count": 9,
   "id": "37fbd3b9",
   "metadata": {},
   "outputs": [
    {
     "data": {
      "text/plain": [
       "2"
      ]
     },
     "execution_count": 9,
     "metadata": {},
     "output_type": "execute_result"
    }
   ],
   "source": [
    "#method 2\n",
    "a=[0,2,3,3]\n",
    "def scnd(a):\n",
    "    lrgst=a[0]\n",
    "    scndlrg=0\n",
    "    for i in range(1,len(a)):\n",
    "        if a[i]>lrgst and lrgst>scndlrg:\n",
    "            scndlrg=lrgst\n",
    "            lrgst=a[i]\n",
    "        elif a[i]>lrgst and lrgst<=scndlrg:\n",
    "            lrgst=a[i]\n",
    "        elif a[i]<lrgst and a[i]>scndlrg:\n",
    "            scndlrg=a[i]\n",
    "    return scndlrg\n",
    "    \n",
    "scnd(a)"
   ]
  },
  {
   "cell_type": "code",
   "execution_count": 8,
   "id": "047f9a5d",
   "metadata": {},
   "outputs": [
    {
     "data": {
      "text/plain": [
       "45"
      ]
     },
     "execution_count": 8,
     "metadata": {},
     "output_type": "execute_result"
    }
   ],
   "source": [
    "#method 3\n",
    "def scnd(a):\n",
    "    lrg=a[0]\n",
    "    for i in range(1,len(a)):\n",
    "        if a[i]>lrg:\n",
    "            lrg=a[i]\n",
    "    while lrg in a:\n",
    "        a.remove(lrg)\n",
    "    lrg=a[0]\n",
    "    for i in range(1,len(a)):\n",
    "        if a[i]>lrg:\n",
    "            lrg=a[i]\n",
    "    return lrg\n",
    "\n",
    "scnd([100,30,100,45,6])\n",
    "            "
   ]
  },
  {
   "cell_type": "code",
   "execution_count": 118,
   "id": "33767b54",
   "metadata": {},
   "outputs": [
    {
     "data": {
      "text/plain": [
       "45"
      ]
     },
     "execution_count": 118,
     "metadata": {},
     "output_type": "execute_result"
    }
   ],
   "source": [
    "b=list(set(a))  #becuse if there is rptn we get wrong output so we make set so no rptn\n",
    "b.sort\n",
    "b[-2]"
   ]
  },
  {
   "cell_type": "code",
   "execution_count": 123,
   "id": "6a1ea37b",
   "metadata": {},
   "outputs": [
    {
     "data": {
      "text/plain": [
       "45"
      ]
     },
     "execution_count": 123,
     "metadata": {},
     "output_type": "execute_result"
    }
   ],
   "source": [
    "a=[10, 20, 4, 45,45,35,35,99, 99]\n",
    "b=[i for i in a if i< max(a)]\n",
    "max(b)"
   ]
  },
  {
   "cell_type": "code",
   "execution_count": null,
   "id": "b4bf6f1b",
   "metadata": {},
   "outputs": [],
   "source": []
  },
  {
   "cell_type": "markdown",
   "id": "ff3e4bf9",
   "metadata": {},
   "source": [
    "11. Find n largest numbers in given list"
   ]
  },
  {
   "cell_type": "code",
   "execution_count": 1,
   "id": "5b784a82",
   "metadata": {},
   "outputs": [
    {
     "data": {
      "text/plain": [
       "[5, 4, 3]"
      ]
     },
     "execution_count": 1,
     "metadata": {},
     "output_type": "execute_result"
    }
   ],
   "source": [
    "#using for loop\n",
    "a=[5,1,4,3,2]\n",
    "\n",
    "def n_large(a,n):\n",
    "    n_largest=[]\n",
    "    b=a.copy()\n",
    "    for i in range(n):\n",
    "        mx=b[0]\n",
    "        for j in range(len(b)):\n",
    "            if b[j]>mx:\n",
    "                mx=b[j]\n",
    "        n_largest.append(mx)\n",
    "        b.remove(mx)\n",
    "    return n_largest\n",
    "n_large(a,3)"
   ]
  },
  {
   "cell_type": "code",
   "execution_count": 124,
   "id": "384e9758",
   "metadata": {},
   "outputs": [
    {
     "data": {
      "text/plain": [
       "[96, 81, 52]"
      ]
     },
     "execution_count": 124,
     "metadata": {},
     "output_type": "execute_result"
    }
   ],
   "source": [
    "#using sort\n",
    "a=[81, 52, 45, 10, 3, 2, 96] \n",
    "def n_max(a,n):\n",
    "    a.sort(reverse=True)\n",
    "    return a[:n]\n",
    "n_max(a,3)"
   ]
  },
  {
   "cell_type": "code",
   "execution_count": 127,
   "id": "023c39b8",
   "metadata": {},
   "outputs": [
    {
     "data": {
      "text/plain": [
       "[52, 81, 96]"
      ]
     },
     "execution_count": 127,
     "metadata": {},
     "output_type": "execute_result"
    }
   ],
   "source": [
    "def max_n(a,n):\n",
    "    a.sort()\n",
    "    return a[-n:]\n",
    "max_n(a,3)"
   ]
  },
  {
   "cell_type": "code",
   "execution_count": 134,
   "id": "4391be46",
   "metadata": {},
   "outputs": [
    {
     "data": {
      "text/plain": [
       "[96, 81, 52]"
      ]
     },
     "execution_count": 134,
     "metadata": {},
     "output_type": "execute_result"
    }
   ],
   "source": [
    "#using max\n",
    "def max1(a,n):\n",
    "    b=[]\n",
    "    for i in range(n):\n",
    "        b.append(max(a))\n",
    "        a.remove(max(a))\n",
    "    return b\n",
    " \n",
    "a=[81, 52, 45, 10, 3, 2, 96]\n",
    "max1(a,3)"
   ]
  },
  {
   "cell_type": "code",
   "execution_count": 138,
   "id": "8c64317d",
   "metadata": {},
   "outputs": [
    {
     "data": {
      "text/plain": [
       "array([52, 81, 96])"
      ]
     },
     "execution_count": 138,
     "metadata": {},
     "output_type": "execute_result"
    }
   ],
   "source": [
    "#Using numpy\n",
    "a=[81, 52, 45, 10, 3, 2, 96]\n",
    "ar=np.array(a)\n",
    "ar[ar.argsort()[-3:]]"
   ]
  },
  {
   "cell_type": "code",
   "execution_count": null,
   "id": "42b7c6bf",
   "metadata": {},
   "outputs": [],
   "source": []
  },
  {
   "cell_type": "markdown",
   "id": "fe03b264",
   "metadata": {},
   "source": [
    "12. Find even numbers in the given list."
   ]
  },
  {
   "cell_type": "code",
   "execution_count": 148,
   "id": "5d133d1c",
   "metadata": {},
   "outputs": [
    {
     "data": {
      "text/plain": [
       "array([2])"
      ]
     },
     "execution_count": 148,
     "metadata": {},
     "output_type": "execute_result"
    }
   ],
   "source": [
    "# True/Flase indexing\n",
    "a=[1,2,3]\n",
    "a=np.array(a)\n",
    "a[[i%2==0 for i in a ]]"
   ]
  },
  {
   "cell_type": "code",
   "execution_count": 149,
   "id": "56abe3c8",
   "metadata": {},
   "outputs": [
    {
     "data": {
      "text/plain": [
       "[2]"
      ]
     },
     "execution_count": 149,
     "metadata": {},
     "output_type": "execute_result"
    }
   ],
   "source": [
    "#List comprehension\n",
    "[i for i in a if i%2==0]"
   ]
  },
  {
   "cell_type": "code",
   "execution_count": null,
   "id": "58e0684d",
   "metadata": {},
   "outputs": [],
   "source": []
  },
  {
   "cell_type": "markdown",
   "id": "72a30529",
   "metadata": {},
   "source": [
    "13. Find odd numbers in the given range"
   ]
  },
  {
   "cell_type": "code",
   "execution_count": 2,
   "id": "59843037",
   "metadata": {},
   "outputs": [
    {
     "name": "stdout",
     "output_type": "stream",
     "text": [
      "Eneter starting point and end points (leave space between numbers)2 10\n",
      "3 5 7 9 "
     ]
    }
   ],
   "source": [
    "#using map and for loop\n",
    "input_=input('Eneter starting point and end points (leave space between numbers)')\n",
    "start,end=map(int,input_.split())\n",
    "for i in range(start,end+1):\n",
    "     print(i,end=' ') if i%2!=0 else None\n",
    "                                            "
   ]
  },
  {
   "cell_type": "code",
   "execution_count": null,
   "id": "fca62324",
   "metadata": {},
   "outputs": [],
   "source": []
  },
  {
   "cell_type": "markdown",
   "id": "213c9ef2",
   "metadata": {},
   "source": [
    "The map() function in Python is used to apply a specified function to each item in an iterable (e.g., a list, tuple, or string) and return an iterable (usually a map object) containing the results. It's a way to transform or apply a function to every element of a sequence without explicitly writing a loop."
   ]
  },
  {
   "cell_type": "code",
   "execution_count": null,
   "id": "9ac1b56c",
   "metadata": {},
   "outputs": [],
   "source": []
  },
  {
   "cell_type": "code",
   "execution_count": 11,
   "id": "da3a87d9",
   "metadata": {},
   "outputs": [
    {
     "data": {
      "text/plain": [
       "[3, 5, 7, 9]"
      ]
     },
     "execution_count": 11,
     "metadata": {},
     "output_type": "execute_result"
    }
   ],
   "source": [
    "#Using filter and lambda method\n",
    "def odds_(start,end):\n",
    "    li=[i for i in range(start,end+1)]\n",
    "    return list(filter(lambda a : a%2!=0 ,li))\n",
    "odds_(3,9)   \n",
    "    \n",
    "    "
   ]
  },
  {
   "cell_type": "code",
   "execution_count": null,
   "id": "11d602d5",
   "metadata": {},
   "outputs": [],
   "source": []
  },
  {
   "cell_type": "markdown",
   "id": "4420dae4",
   "metadata": {},
   "source": [
    "14. Find positive numbers in the given list"
   ]
  },
  {
   "cell_type": "code",
   "execution_count": 1,
   "id": "66668bea",
   "metadata": {},
   "outputs": [
    {
     "name": "stdout",
     "output_type": "stream",
     "text": [
      "12 5 64 "
     ]
    }
   ],
   "source": [
    "#using while loop\n",
    "a = [12, -7, 5, 64, -14]\n",
    "i=0\n",
    "while i<len(a):\n",
    "    print(a[i],end=\" \") if a[i]>0 else None\n",
    "    \n",
    "    i+=1\n",
    "    "
   ]
  },
  {
   "cell_type": "code",
   "execution_count": 14,
   "id": "48c4720f",
   "metadata": {},
   "outputs": [
    {
     "data": {
      "text/plain": [
       "[12, 5, 64]"
      ]
     },
     "execution_count": 14,
     "metadata": {},
     "output_type": "execute_result"
    }
   ],
   "source": [
    "#using filter function\n",
    "a = [12, -7, 5, 64, -14]\n",
    "\n",
    "def pos(a):\n",
    "    return list(filter(lambda i: i>0 , a))\n",
    "pos(a)"
   ]
  },
  {
   "cell_type": "code",
   "execution_count": 3,
   "id": "296f6e40",
   "metadata": {},
   "outputs": [],
   "source": [
    "#recursion\n",
    "def pos1(start,list_):\n",
    "    if start==len(list_):\n",
    "        return\n",
    "    if list_[start]>0 :\n",
    "        print(list_[start],end=\" \")\n",
    "    pos1(start+1,list_)"
   ]
  },
  {
   "cell_type": "code",
   "execution_count": 7,
   "id": "f59fdbab",
   "metadata": {},
   "outputs": [
    {
     "name": "stdout",
     "output_type": "stream",
     "text": [
      "12 5 64 "
     ]
    }
   ],
   "source": [
    "a = [12, -7, 5, 64, -14]\n",
    "\n",
    "j=pos1(0,a)\n"
   ]
  },
  {
   "cell_type": "code",
   "execution_count": 27,
   "id": "d0164b5e",
   "metadata": {},
   "outputs": [
    {
     "data": {
      "text/plain": [
       "[12, 5, 64]"
      ]
     },
     "execution_count": 27,
     "metadata": {},
     "output_type": "execute_result"
    }
   ],
   "source": [
    "#By using property of string\n",
    "\n",
    "a = [12, -7, 0, 5, 64, -14] \n",
    "\n",
    "def pos2(a):\n",
    "    b=list(map(str,a))\n",
    "    i=0\n",
    "    c=[]\n",
    "    while i < len(b) :\n",
    "        c.append(b[i]) if (not b[i].startswith('-') and b[i]!='0') else None\n",
    "        i+=1\n",
    "    return list(map(int,c))\n",
    "\n",
    "pos2(a)\n",
    "        "
   ]
  },
  {
   "cell_type": "code",
   "execution_count": 10,
   "id": "5b361bbf",
   "metadata": {},
   "outputs": [
    {
     "data": {
      "text/plain": [
       "array([12,  5, 64])"
      ]
     },
     "execution_count": 10,
     "metadata": {},
     "output_type": "execute_result"
    }
   ],
   "source": [
    "#using numpy\n",
    "\n",
    "import numpy as np\n",
    "\n",
    "a = [12, -7, 5, 64, -14]\n",
    "\n",
    "a=np.array(a)\n",
    "a[a>0]"
   ]
  },
  {
   "cell_type": "code",
   "execution_count": null,
   "id": "eb9d8212",
   "metadata": {},
   "outputs": [],
   "source": []
  },
  {
   "cell_type": "markdown",
   "id": "405276f7",
   "metadata": {},
   "source": [
    "15.  Python program to print all positive number in a given range"
   ]
  },
  {
   "cell_type": "code",
   "execution_count": 9,
   "id": "37f836bd",
   "metadata": {},
   "outputs": [
    {
     "name": "stdout",
     "output_type": "stream",
     "text": [
      "1 2 "
     ]
    }
   ],
   "source": [
    "# using recursion method\n",
    "def pos(start,ending):\n",
    "    if start==ending:\n",
    "        return\n",
    "    if start>0:\n",
    "        print(start,end=\" \")\n",
    "    pos(start+1,ending)\n",
    "    return\n",
    "\n",
    "pos(-4,3)"
   ]
  },
  {
   "cell_type": "code",
   "execution_count": 7,
   "id": "e28fd7a5",
   "metadata": {},
   "outputs": [
    {
     "name": "stdout",
     "output_type": "stream",
     "text": [
      "enter the range-4 5\n",
      "1 2 3 4 "
     ]
    }
   ],
   "source": [
    "# while loop\n",
    "input_=input('enter the range')\n",
    "start,end=list(map(int,input_.split()))\n",
    "i=start\n",
    "while i  in range(start,end):\n",
    "    if i>0:\n",
    "        print (i,end=\" \")\n",
    "    i+=1"
   ]
  },
  {
   "cell_type": "code",
   "execution_count": 8,
   "id": "aadfea54",
   "metadata": {},
   "outputs": [
    {
     "name": "stdout",
     "output_type": "stream",
     "text": [
      "1 2 3 4 "
     ]
    }
   ],
   "source": [
    "#for loop\n",
    "def pos_(start , ending):\n",
    "    for i in range (start,ending):\n",
    "        print(i,end=\" \") if i >0 else None\n",
    "pos_(-4,5)       "
   ]
  },
  {
   "cell_type": "code",
   "execution_count": 10,
   "id": "9e70d413",
   "metadata": {},
   "outputs": [
    {
     "data": {
      "text/plain": [
       "[1, 2, 3]"
      ]
     },
     "execution_count": 10,
     "metadata": {},
     "output_type": "execute_result"
    }
   ],
   "source": [
    "#list comprehension\n",
    "def pos(a,b):\n",
    "    return [i for i in range(a,b) if i>0]\n",
    "pos(-2,4)"
   ]
  },
  {
   "cell_type": "code",
   "execution_count": 11,
   "id": "f866f03e",
   "metadata": {},
   "outputs": [
    {
     "data": {
      "text/plain": [
       "[1, 2]"
      ]
     },
     "execution_count": 11,
     "metadata": {},
     "output_type": "execute_result"
    }
   ],
   "source": [
    "a=-2\n",
    "b=3\n",
    "c=[i for i in range(a,b)]\n",
    "list(filter(lambda a : a>0,c))"
   ]
  },
  {
   "cell_type": "code",
   "execution_count": 12,
   "id": "4e668eb3",
   "metadata": {},
   "outputs": [
    {
     "data": {
      "text/plain": [
       "[1, 2]"
      ]
     },
     "execution_count": 12,
     "metadata": {},
     "output_type": "execute_result"
    }
   ],
   "source": [
    "list(filter(lambda a: a>0 ,range(a,b)))"
   ]
  },
  {
   "cell_type": "code",
   "execution_count": null,
   "id": "ca2a4af6",
   "metadata": {},
   "outputs": [],
   "source": []
  },
  {
   "cell_type": "markdown",
   "id": "4cc1a9df",
   "metadata": {},
   "source": [
    "16. Find negative numbers."
   ]
  },
  {
   "cell_type": "code",
   "execution_count": 10,
   "id": "46db5f82",
   "metadata": {},
   "outputs": [
    {
     "data": {
      "text/plain": [
       "[-7, -14]"
      ]
     },
     "execution_count": 10,
     "metadata": {},
     "output_type": "execute_result"
    }
   ],
   "source": [
    "#list comprehension\n",
    "a = [12, -7, 5, 64, -14]\n",
    "neg=[i for i in a if i<0]\n",
    "neg"
   ]
  },
  {
   "cell_type": "code",
   "execution_count": 20,
   "id": "093ee217",
   "metadata": {},
   "outputs": [
    {
     "data": {
      "text/plain": [
       "[-7, -14]"
      ]
     },
     "execution_count": 20,
     "metadata": {},
     "output_type": "execute_result"
    }
   ],
   "source": [
    "#while loop\n",
    "neg=[]\n",
    "i=0\n",
    "while i <len(a):\n",
    "    neg.append(a[i]) if a[i] <0 else None\n",
    "    i+=1\n",
    "neg"
   ]
  },
  {
   "cell_type": "code",
   "execution_count": 22,
   "id": "b72d0dba",
   "metadata": {},
   "outputs": [
    {
     "data": {
      "text/plain": [
       "[-7, -14]"
      ]
     },
     "execution_count": 22,
     "metadata": {},
     "output_type": "execute_result"
    }
   ],
   "source": [
    "#using  filter\n",
    "a = [12, -7, 5, 64, -14]\n",
    "list(filter(lambda i : i<0,a))"
   ]
  },
  {
   "cell_type": "code",
   "execution_count": 24,
   "id": "191e8032",
   "metadata": {},
   "outputs": [
    {
     "name": "stdout",
     "output_type": "stream",
     "text": [
      "-7 -14 "
     ]
    }
   ],
   "source": [
    "#recursion:\n",
    "def neg(a,start):  #note assing 0 to start while calling this function\n",
    "    if start==len(a):\n",
    "        return\n",
    "    if a[start]<0:\n",
    "        print(a[start],end=\" \")\n",
    "    neg(a,start+1)\n",
    "neg(a,0)   "
   ]
  },
  {
   "cell_type": "code",
   "execution_count": 31,
   "id": "a37cb669",
   "metadata": {},
   "outputs": [
    {
     "data": {
      "text/plain": [
       "[-7, -14]"
      ]
     },
     "execution_count": 31,
     "metadata": {},
     "output_type": "execute_result"
    }
   ],
   "source": [
    "#by making  elements as string \n",
    "a = [12, -7, 0, 5, 64, -14]\n",
    "def neg1(a):\n",
    "    b=list(map(str,a))\n",
    "    return list(map(int ,[i for i in b if i.startswith('-')]))\n",
    "neg1(a)"
   ]
  },
  {
   "cell_type": "code",
   "execution_count": 32,
   "id": "1ca4471c",
   "metadata": {},
   "outputs": [
    {
     "data": {
      "text/plain": [
       "array([ -7, -14])"
      ]
     },
     "execution_count": 32,
     "metadata": {},
     "output_type": "execute_result"
    }
   ],
   "source": [
    "# using numpy\n",
    "import numpy as np\n",
    "a=np.array(a)\n",
    "a[a<0]"
   ]
  },
  {
   "cell_type": "code",
   "execution_count": 34,
   "id": "b35b0ae5",
   "metadata": {},
   "outputs": [
    {
     "data": {
      "text/plain": [
       "array([ -7, -14])"
      ]
     },
     "execution_count": 34,
     "metadata": {},
     "output_type": "execute_result"
    }
   ],
   "source": [
    "a = [12, -7, 5, 64, -14]\n",
    "b=np.array(a)\n",
    "b[np.where(b<0)]"
   ]
  },
  {
   "cell_type": "code",
   "execution_count": 40,
   "id": "c75fa1eb",
   "metadata": {},
   "outputs": [
    {
     "data": {
      "text/plain": [
       "[-10, -21, -4, -66]"
      ]
     },
     "execution_count": 40,
     "metadata": {},
     "output_type": "execute_result"
    }
   ],
   "source": [
    "#reduce\n",
    "\n",
    "from functools import reduce\n",
    " \n",
    "list1 = [-10, -21, -4, 45, -66, 93]\n",
    "\n",
    "reduce(lambda a,b:a+[b] if b<0 else a ,list1,[])\n",
    "#append cant be useddirectlty in reduce i.e y we r using a+[b] list addition"
   ]
  },
  {
   "cell_type": "code",
   "execution_count": null,
   "id": "c140f62a",
   "metadata": {},
   "outputs": [],
   "source": []
  },
  {
   "cell_type": "markdown",
   "id": "1fc8309d",
   "metadata": {},
   "source": [
    "17. Remove desired element from list."
   ]
  },
  {
   "cell_type": "code",
   "execution_count": 1,
   "id": "66413bca",
   "metadata": {},
   "outputs": [
    {
     "data": {
      "text/plain": [
       "[1, 2, 4]"
      ]
     },
     "execution_count": 1,
     "metadata": {},
     "output_type": "execute_result"
    }
   ],
   "source": [
    "#filter method\n",
    "\n",
    "a=[1,2,3,4,'hi']\n",
    "unwanted=[3,'hi']\n",
    "\n",
    "list(filter(lambda x : x not in unwanted,a))"
   ]
  },
  {
   "cell_type": "code",
   "execution_count": 16,
   "id": "80e7f42e",
   "metadata": {},
   "outputs": [
    {
     "data": {
      "text/plain": [
       "[1, 3, 4, 6]"
      ]
     },
     "execution_count": 16,
     "metadata": {},
     "output_type": "execute_result"
    }
   ],
   "source": [
    "# list comprehension\n",
    "\n",
    "a=[1,2,3,2,4,5,6,7]\n",
    "unwanted=[2,5,7]\n",
    "a=[i for i in a if i not in unwanted]\n",
    "a"
   ]
  },
  {
   "cell_type": "code",
   "execution_count": 5,
   "id": "93956280",
   "metadata": {},
   "outputs": [
    {
     "data": {
      "text/plain": [
       "[1, 3, 4, 6]"
      ]
     },
     "execution_count": 5,
     "metadata": {},
     "output_type": "execute_result"
    }
   ],
   "source": [
    "#for loop\n",
    "\n",
    "a=[5,1,2,3,2,4,5,6,7]\n",
    "unwanted=[2,5,7]\n",
    "for  i in a :\n",
    "    if i in unwanted: a.remove(i)\n",
    "a"
   ]
  },
  {
   "cell_type": "code",
   "execution_count": 4,
   "id": "8f422b2e",
   "metadata": {},
   "outputs": [
    {
     "data": {
      "text/plain": [
       "[1, 3, 4, 6]"
      ]
     },
     "execution_count": 4,
     "metadata": {},
     "output_type": "execute_result"
    }
   ],
   "source": [
    "# for and while\n",
    "\n",
    "a=[5,1,2,3,2,4,5,6,7]\n",
    "unwanted=[2,5,7]\n",
    "for i in unwanted:\n",
    "    while i in a:\n",
    "        a.remove(i)\n",
    "a"
   ]
  },
  {
   "cell_type": "code",
   "execution_count": 2,
   "id": "ca6de65e",
   "metadata": {},
   "outputs": [
    {
     "data": {
      "text/plain": [
       "[1, 3, 4, 6]"
      ]
     },
     "execution_count": 2,
     "metadata": {},
     "output_type": "execute_result"
    }
   ],
   "source": [
    "#while loop\n",
    "\n",
    "i=0\n",
    "a=[1,2,3,2,4,5,6,7]\n",
    "unwanted=[2,5,7]\n",
    "while i <len(a):\n",
    "    if a[i] in unwanted:a.remove(a[i])\n",
    "    i+=1\n",
    "a"
   ]
  },
  {
   "cell_type": "code",
   "execution_count": null,
   "id": "936e44d9",
   "metadata": {},
   "outputs": [],
   "source": []
  },
  {
   "cell_type": "markdown",
   "id": "a589e05c",
   "metadata": {},
   "source": [
    "18. Remove empty list from list"
   ]
  },
  {
   "cell_type": "code",
   "execution_count": 4,
   "id": "b5f34192",
   "metadata": {},
   "outputs": [
    {
     "data": {
      "text/plain": [
       "[3, 95, 6]"
      ]
     },
     "execution_count": 4,
     "metadata": {},
     "output_type": "execute_result"
    }
   ],
   "source": [
    "#list comprehension\n",
    "a = [ 3, [], [], 95, 6, []]\n",
    "\n",
    "a=[i for i in a if not i==[]]\n",
    "a"
   ]
  },
  {
   "cell_type": "code",
   "execution_count": 2,
   "id": "d7d09069",
   "metadata": {},
   "outputs": [
    {
     "data": {
      "text/plain": [
       "[3, 95, 6]"
      ]
     },
     "execution_count": 2,
     "metadata": {},
     "output_type": "execute_result"
    }
   ],
   "source": [
    "#using filter\n",
    "a = [ 3, [], [], 95, 6, []]\n",
    "\n",
    "a=list(filter(lambda a: a!=[],a))\n",
    "a"
   ]
  },
  {
   "cell_type": "code",
   "execution_count": 3,
   "id": "7b5da036",
   "metadata": {},
   "outputs": [
    {
     "data": {
      "text/plain": [
       "[3, 95, 6]"
      ]
     },
     "execution_count": 3,
     "metadata": {},
     "output_type": "execute_result"
    }
   ],
   "source": [
    "#using remove function\n",
    "a = [ 3, [], [], 95, 6, []]\n",
    "while [] in a:\n",
    "    a.remove([])\n",
    "a"
   ]
  },
  {
   "cell_type": "code",
   "execution_count": null,
   "id": "509dbf4b",
   "metadata": {},
   "outputs": [],
   "source": []
  },
  {
   "cell_type": "code",
   "execution_count": 2,
   "id": "670cbbf0",
   "metadata": {},
   "outputs": [
    {
     "data": {
      "text/plain": [
       "[3, 9, 5, 6]"
      ]
     },
     "execution_count": 2,
     "metadata": {},
     "output_type": "execute_result"
    }
   ],
   "source": [
    "#using filter method\n",
    "a = [ 3, [], [], 9,5, 6, []]\n",
    "list(filter(None , a))"
   ]
  },
  {
   "cell_type": "code",
   "execution_count": 6,
   "id": "b2c90803",
   "metadata": {},
   "outputs": [
    {
     "data": {
      "text/plain": [
       "[3, 9, 5, 6]"
      ]
     },
     "execution_count": 6,
     "metadata": {},
     "output_type": "execute_result"
    }
   ],
   "source": [
    "#recursion\n",
    "def remove_(start,original,final):\n",
    "    if start==len(original):\n",
    "        return final\n",
    "    if original[start]!=[]:\n",
    "        final.append(original[start])\n",
    "    return remove_(start+1,original,final)\n",
    "a = [ 3, [], [], 9,5, 6, []]\n",
    "remove_(0,a,[])"
   ]
  },
  {
   "cell_type": "markdown",
   "id": "553e7657",
   "metadata": {},
   "source": []
  },
  {
   "cell_type": "markdown",
   "id": "72de7f7e",
   "metadata": {},
   "source": [
    "19. Cloning or copying list"
   ]
  },
  {
   "cell_type": "code",
   "execution_count": 9,
   "id": "f1a3cfba",
   "metadata": {},
   "outputs": [
    {
     "data": {
      "text/plain": [
       "[1, 2, 3, 4, 5, 6]"
      ]
     },
     "execution_count": 9,
     "metadata": {},
     "output_type": "execute_result"
    }
   ],
   "source": [
    "a=[1,2,3,4,5,6]\n",
    "b=a[:]\n",
    "b"
   ]
  },
  {
   "cell_type": "code",
   "execution_count": null,
   "id": "d303ec47",
   "metadata": {},
   "outputs": [],
   "source": []
  },
  {
   "cell_type": "code",
   "execution_count": 10,
   "id": "1d8bdb6f",
   "metadata": {},
   "outputs": [
    {
     "name": "stdout",
     "output_type": "stream",
     "text": [
      "[100, 2, 3, 4, 5, 6]\n",
      "[1, 2, 3, 4, 5, 6]\n"
     ]
    }
   ],
   "source": [
    "d=[i for i in a]\n",
    "d[0]=100\n",
    "print(d)\n",
    "print(a)"
   ]
  },
  {
   "cell_type": "code",
   "execution_count": 11,
   "id": "09aa9367",
   "metadata": {},
   "outputs": [
    {
     "data": {
      "text/plain": [
       "[1, 2, 3, 4, 5, 6]"
      ]
     },
     "execution_count": 11,
     "metadata": {},
     "output_type": "execute_result"
    }
   ],
   "source": [
    "import copy\n",
    "c=copy.copy(a)\n",
    "c[0]=10\n",
    "a"
   ]
  },
  {
   "cell_type": "code",
   "execution_count": 12,
   "id": "a6b424a2",
   "metadata": {},
   "outputs": [
    {
     "data": {
      "text/plain": [
       "[1, 2, 3, 4, 5, 6]"
      ]
     },
     "execution_count": 12,
     "metadata": {},
     "output_type": "execute_result"
    }
   ],
   "source": [
    "f=a.copy()\n",
    "f[0]=1\n",
    "a"
   ]
  },
  {
   "cell_type": "code",
   "execution_count": null,
   "id": "6aad469f",
   "metadata": {},
   "outputs": [],
   "source": []
  },
  {
   "cell_type": "markdown",
   "id": "db86736a",
   "metadata": {},
   "source": [
    "20. Given a list in Python and a number x, count the number of occurrences of x in the given list."
   ]
  },
  {
   "cell_type": "code",
   "execution_count": 29,
   "id": "bbcd126c",
   "metadata": {},
   "outputs": [
    {
     "data": {
      "text/plain": [
       "3"
      ]
     },
     "execution_count": 29,
     "metadata": {},
     "output_type": "execute_result"
    }
   ],
   "source": [
    "lst = [1,2,3,1,2,3,3,4,5]\n",
    "def count_(lst,x):\n",
    "    count=0\n",
    "    for i in lst:\n",
    "        count+=1 if i==x else 0\n",
    "    return count\n",
    "count_(lst,3)"
   ]
  },
  {
   "cell_type": "code",
   "execution_count": 13,
   "id": "3adc1dae",
   "metadata": {},
   "outputs": [
    {
     "data": {
      "text/plain": [
       "3"
      ]
     },
     "execution_count": 13,
     "metadata": {},
     "output_type": "execute_result"
    }
   ],
   "source": [
    "lst = [1,2,3,1,2,3,3,4,5]\n",
    "from functools import reduce\n",
    "def count_0(lst,x):\n",
    "    return reduce(lambda a,b:a+1 if b==x else a+0,lst,0)\n",
    "count_0(lst,3)"
   ]
  },
  {
   "cell_type": "code",
   "execution_count": 52,
   "id": "4586f592",
   "metadata": {},
   "outputs": [
    {
     "data": {
      "text/plain": [
       "3"
      ]
     },
     "execution_count": 52,
     "metadata": {},
     "output_type": "execute_result"
    }
   ],
   "source": [
    "def count_1(lst,x):\n",
    "    return sum(1 if i==x else 0 for i in lst)\n",
    "count_1(lst,3)    "
   ]
  },
  {
   "cell_type": "code",
   "execution_count": 41,
   "id": "18680f53",
   "metadata": {},
   "outputs": [
    {
     "data": {
      "text/plain": [
       "2"
      ]
     },
     "execution_count": 41,
     "metadata": {},
     "output_type": "execute_result"
    }
   ],
   "source": [
    "#using recursion\n",
    "def count_2(lst,x,start,count):\n",
    "    \"\"\" lst is list need to inspected\n",
    "    x is the values whose count you require\n",
    "    start is the index from which you need to start searching\n",
    "    count is empty lis []\"\"\"\n",
    "    if start==len(lst):\n",
    "        return sum(count)\n",
    "    if lst[start]==x:\n",
    "        count.append(1)\n",
    "    return count_2(lst,x,start+1,count)\n",
    "count_2(lst,1,0,[])"
   ]
  },
  {
   "cell_type": "code",
   "execution_count": 16,
   "id": "ce3a1a36",
   "metadata": {},
   "outputs": [
    {
     "data": {
      "text/plain": [
       "9"
      ]
     },
     "execution_count": 16,
     "metadata": {},
     "output_type": "execute_result"
    }
   ],
   "source": [
    "def count_3(lst,x,count,start):\n",
    "    \"start and count must be 0\"\n",
    "    if start==len(lst):\n",
    "        return count\n",
    "    if lst[start]==x:\n",
    "        count+=1\n",
    "    return count_3(lst,x,start+1,count)\n",
    "count_3(lst,3,0,0)"
   ]
  },
  {
   "cell_type": "code",
   "execution_count": 60,
   "id": "01aded14",
   "metadata": {},
   "outputs": [
    {
     "data": {
      "text/plain": [
       "1"
      ]
     },
     "execution_count": 60,
     "metadata": {},
     "output_type": "execute_result"
    }
   ],
   "source": [
    "a=[1,2,2,3,3,3,4]\n",
    "count_3(lst,4,0,0)"
   ]
  },
  {
   "cell_type": "code",
   "execution_count": 64,
   "id": "10a95f5b",
   "metadata": {},
   "outputs": [
    {
     "data": {
      "text/plain": [
       "2"
      ]
     },
     "execution_count": 64,
     "metadata": {},
     "output_type": "execute_result"
    }
   ],
   "source": [
    "#using count function\n",
    "a=[1,2,2,3,3,3,4]\n",
    "a.count(2)"
   ]
  },
  {
   "cell_type": "code",
   "execution_count": 67,
   "id": "05126e58",
   "metadata": {},
   "outputs": [
    {
     "data": {
      "text/plain": [
       "{1: 1, 2: 2, 3: 3, 4: 1}"
      ]
     },
     "execution_count": 67,
     "metadata": {},
     "output_type": "execute_result"
    }
   ],
   "source": [
    "#Dictionary comprehension\n",
    "a=[1,2,2,3,3,3,4]\n",
    "count={item:a.count(item) for item in a }\n",
    "count"
   ]
  },
  {
   "cell_type": "code",
   "execution_count": 69,
   "id": "6cbc9b55",
   "metadata": {},
   "outputs": [
    {
     "data": {
      "text/plain": [
       "4"
      ]
     },
     "execution_count": 69,
     "metadata": {},
     "output_type": "execute_result"
    }
   ],
   "source": [
    "lst = [1,2,3,1,2,3,3,4,5,3]\n",
    "\n",
    "def count_5(lst,x):\n",
    "    return len([i for i in lst if i==x])\n",
    "count_5(lst,3)"
   ]
  },
  {
   "cell_type": "code",
   "execution_count": 71,
   "id": "2639f6ca",
   "metadata": {},
   "outputs": [
    {
     "data": {
      "text/plain": [
       "Counter({1: 2, 2: 2, 3: 4, 4: 1, 5: 1})"
      ]
     },
     "execution_count": 71,
     "metadata": {},
     "output_type": "execute_result"
    }
   ],
   "source": [
    "from collections import Counter\n",
    "d=Counter(lst\n",
    "         )\n",
    "d"
   ]
  },
  {
   "cell_type": "code",
   "execution_count": 77,
   "id": "847b49db",
   "metadata": {},
   "outputs": [
    {
     "data": {
      "text/plain": [
       "4"
      ]
     },
     "execution_count": 77,
     "metadata": {},
     "output_type": "execute_result"
    }
   ],
   "source": [
    "lst = [1,2,3,1,2,3,3,4,5,3]\n",
    "def count_(lst,x):\n",
    "    def count_1(sublist):\n",
    "        if not sublist:\n",
    "            return 0\n",
    "        if sublist:\n",
    "            first,end=sublist[0],sublist[1:]\n",
    "        return (1 if first==x else 0)+ count_1(end)\n",
    "    return count_1(lst)\n",
    "count_(lst,3)"
   ]
  },
  {
   "cell_type": "code",
   "execution_count": null,
   "id": "9d51a8e9",
   "metadata": {},
   "outputs": [],
   "source": []
  },
  {
   "cell_type": "markdown",
   "id": "7718836f",
   "metadata": {},
   "source": [
    "22. Remove empty tuples from a list."
   ]
  },
  {
   "cell_type": "code",
   "execution_count": 19,
   "id": "3f87d524",
   "metadata": {},
   "outputs": [],
   "source": [
    "lst=[(), ('ram','15','8'), (), ('laxman', 'sita'), ('krishna', 'akbar', '45'), (\",\"),()]"
   ]
  },
  {
   "cell_type": "code",
   "execution_count": 20,
   "id": "1e9f2ae1",
   "metadata": {},
   "outputs": [
    {
     "data": {
      "text/plain": [
       "[('ram', '15', '8'), ('laxman', 'sita'), ('krishna', 'akbar', '45'), ',']"
      ]
     },
     "execution_count": 20,
     "metadata": {},
     "output_type": "execute_result"
    }
   ],
   "source": [
    "#list comprehension    \n",
    "def remove(lst):\n",
    "    return [i for i in lst if  not i==()]\n",
    "remove(lst)"
   ]
  },
  {
   "cell_type": "code",
   "execution_count": 21,
   "id": "1ed36092",
   "metadata": {},
   "outputs": [
    {
     "data": {
      "text/plain": [
       "[('ram', '15', '8'), ('laxman', 'sita'), ('krishna', 'akbar', '45'), ',']"
      ]
     },
     "execution_count": 21,
     "metadata": {},
     "output_type": "execute_result"
    }
   ],
   "source": [
    "#Recursion\n",
    "def remove_(lst,start,cleaned):\n",
    "    if start==len(lst):\n",
    "        return cleaned\n",
    "    if lst[start]:\n",
    "        cleaned.append(lst[start])\n",
    "    return remove_(lst,start+1,cleaned)\n",
    "remove_(lst,0,[])"
   ]
  },
  {
   "cell_type": "code",
   "execution_count": 107,
   "id": "5c9b3d55",
   "metadata": {},
   "outputs": [
    {
     "data": {
      "text/plain": [
       "[('ram', '15', '8'), ('laxman', 'sita'), ('krishna', 'akbar', '45'), ',']"
      ]
     },
     "execution_count": 107,
     "metadata": {},
     "output_type": "execute_result"
    }
   ],
   "source": [
    "#recursion #removes any empty either (  or [])\n",
    "lst=[(), ('ram','15','8'), (), ('laxman', 'sita'), ('krishna', 'akbar', '45'), (\",\"),(),[]]\n",
    "def remove_(lst):\n",
    "    if not lst:\n",
    "        return []\n",
    "    first,end=lst[0:1],lst[1:]\n",
    "    return (first if first[0] else [])+remove_(end)\n",
    "remove_(lst)"
   ]
  },
  {
   "cell_type": "code",
   "execution_count": null,
   "id": "917a57c5",
   "metadata": {},
   "outputs": [],
   "source": []
  },
  {
   "cell_type": "code",
   "execution_count": 113,
   "id": "6db6e052",
   "metadata": {},
   "outputs": [
    {
     "data": {
      "text/plain": [
       "[('ram', '15', '8'), ('laxman', 'sita'), ('krishna', 'akbar', '45'), ',']"
      ]
     },
     "execution_count": 113,
     "metadata": {},
     "output_type": "execute_result"
    }
   ],
   "source": [
    "lst=[(), ('ram','15','8'), (), ('laxman', 'sita'), ('krishna', 'akbar', '45'), (\",\"),()]\n",
    "list(filter(None,lst))"
   ]
  },
  {
   "cell_type": "code",
   "execution_count": null,
   "id": "d9722bfd",
   "metadata": {},
   "outputs": [],
   "source": []
  },
  {
   "cell_type": "markdown",
   "id": "3999dfdd",
   "metadata": {},
   "source": [
    "23. write python code to obtain below given ouput  for the given input \n",
    "\n",
    "inputs :  list1=[x,  y] , list2=[z,  e]\n",
    "    \n",
    "output= list1=[x,  e]  list2=[y,  z]"
   ]
  },
  {
   "cell_type": "code",
   "execution_count": 11,
   "id": "52149b0e",
   "metadata": {},
   "outputs": [
    {
     "name": "stdout",
     "output_type": "stream",
     "text": [
      "10 200\n",
      "20 100\n"
     ]
    }
   ],
   "source": [
    "list1=[10,20]\n",
    "list2=[100,200]\n",
    "i=0\n",
    "j=-1\n",
    "while i<len(list1):\n",
    "    print(list1[i],list2[j])\n",
    "    i+=1\n",
    "    j-=1"
   ]
  },
  {
   "cell_type": "code",
   "execution_count": 15,
   "id": "38934c7a",
   "metadata": {},
   "outputs": [
    {
     "name": "stdout",
     "output_type": "stream",
     "text": [
      "10 200\n",
      "20 100\n"
     ]
    }
   ],
   "source": [
    "for i ,j in zip(list1,list2[::-1]):\n",
    "    print(i,j)"
   ]
  },
  {
   "cell_type": "code",
   "execution_count": null,
   "id": "9d37fdc9",
   "metadata": {},
   "outputs": [],
   "source": []
  },
  {
   "cell_type": "markdown",
   "id": "87b81fc8",
   "metadata": {},
   "source": [
    "24. Find the mode in given list"
   ]
  },
  {
   "cell_type": "code",
   "execution_count": 10,
   "id": "e313d081",
   "metadata": {},
   "outputs": [
    {
     "name": "stdout",
     "output_type": "stream",
     "text": [
      "2 \n",
      "1 2 "
     ]
    }
   ],
   "source": [
    "def mode(inpt):\n",
    "    unique=[]\n",
    "    for i in inpt:\n",
    "        if i not in unique:\n",
    "            unique.append(i)\n",
    "    count=[]\n",
    "    for i in unique:\n",
    "        counter=0\n",
    "        for j in inpt:\n",
    "            if i==j:\n",
    "                counter+=1\n",
    "        count.append(counter)\n",
    "    for x,z in zip(unique,count):\n",
    "        if z==max(count):\n",
    "            print(x,end=\" \")\n",
    "\n",
    "a=[1,2,3,1,2,3,2,2] #mode 2\n",
    "b=[1,2,3,1,2,3,2,2,1,1]  #mode 1,2\n",
    "mode(a)\n",
    "print()   \n",
    "mode(b)"
   ]
  },
  {
   "cell_type": "code",
   "execution_count": null,
   "id": "6bab40c2",
   "metadata": {},
   "outputs": [],
   "source": [
    "    "
   ]
  },
  {
   "cell_type": "code",
   "execution_count": null,
   "id": "2d159d26",
   "metadata": {},
   "outputs": [],
   "source": []
  },
  {
   "cell_type": "code",
   "execution_count": null,
   "id": "da86ca7a",
   "metadata": {},
   "outputs": [],
   "source": []
  }
 ],
 "metadata": {
  "kernelspec": {
   "display_name": "Python 3 (ipykernel)",
   "language": "python",
   "name": "python3"
  },
  "language_info": {
   "codemirror_mode": {
    "name": "ipython",
    "version": 3
   },
   "file_extension": ".py",
   "mimetype": "text/x-python",
   "name": "python",
   "nbconvert_exporter": "python",
   "pygments_lexer": "ipython3",
   "version": "3.9.18"
  }
 },
 "nbformat": 4,
 "nbformat_minor": 5
}
