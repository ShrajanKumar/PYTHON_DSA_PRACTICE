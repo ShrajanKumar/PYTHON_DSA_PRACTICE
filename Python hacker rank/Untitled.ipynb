{
 "cells": [
  {
   "cell_type": "markdown",
   "id": "6c805830",
   "metadata": {},
   "source": [
    "1\n",
    "\n",
    "Consider a list (list = []). You can perform the following commands:\n",
    "\n",
    "insert i e: Insert integer  at position .\n",
    "\n",
    "print: Print the list.\n",
    "\n",
    "remove e: Delete the first occurrence of integer .\n",
    "\n",
    "append e: Insert integer  at the end of the list.\n",
    "\n",
    "sort: Sort the list.\n",
    "\n",
    "pop: Pop the last element from the list.\n",
    "\n",
    "reverse: Reverse the list.\n",
    "\n",
    "Initialize your list and read in the value of  followed by  lines of commands where each command will be of the  types listed above. Iterate through each command in order and perform the corresponding operation on your list."
   ]
  },
  {
   "cell_type": "code",
   "execution_count": 2,
   "id": "0578e0c3",
   "metadata": {},
   "outputs": [
    {
     "name": "stdout",
     "output_type": "stream",
     "text": [
      "4\n",
      "append 2\n",
      "append 5\n",
      "reverse\n",
      "print\n",
      "[5, 2]\n"
     ]
    }
   ],
   "source": [
    "N = int(input())\n",
    "lst=[]\n",
    "for i in range(N):\n",
    "    a=str(input())\n",
    "    if a in (['reverse','sort','pop']):\n",
    "        if a=='reverse':\n",
    "            lst.reverse()\n",
    "        elif a=='sort':\n",
    "                lst.sort()\n",
    "        else :\n",
    "                lst.pop()\n",
    "    elif a=='print':\n",
    "            print(lst)\n",
    "    else:\n",
    "        a=a.split()\n",
    "        if a[0]=='insert':\n",
    "                lst.insert(int(a[1]),int(a[2]))\n",
    "        elif a[0]=='remove':\n",
    "                lst.remove(int(a[1]))\n",
    "        else: \n",
    "            lst.append(int(a[1]))"
   ]
  },
  {
   "cell_type": "code",
   "execution_count": null,
   "id": "afea7d15",
   "metadata": {},
   "outputs": [],
   "source": []
  }
 ],
 "metadata": {
  "kernelspec": {
   "display_name": "Python 3 (ipykernel)",
   "language": "python",
   "name": "python3"
  },
  "language_info": {
   "codemirror_mode": {
    "name": "ipython",
    "version": 3
   },
   "file_extension": ".py",
   "mimetype": "text/x-python",
   "name": "python",
   "nbconvert_exporter": "python",
   "pygments_lexer": "ipython3",
   "version": "3.9.18"
  }
 },
 "nbformat": 4,
 "nbformat_minor": 5
}
